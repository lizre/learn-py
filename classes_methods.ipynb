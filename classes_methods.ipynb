{
 "cells": [
  {
   "cell_type": "markdown",
   "id": "c9adf430",
   "metadata": {},
   "source": [
    "# Classes are a template/structure for a kind (or \"class\") of object. "
   ]
  },
  {
   "cell_type": "markdown",
   "id": "d30523f5",
   "metadata": {},
   "source": [
    "# Classes have _attributes_"
   ]
  },
  {
   "cell_type": "markdown",
   "id": "1daef9a3",
   "metadata": {},
   "source": [
    "`dog` class members have attributes `color`, `size`, and `leg_count`:\n"
   ]
  },
  {
   "cell_type": "code",
   "execution_count": 34,
   "id": "da4e9ba7",
   "metadata": {
    "scrolled": false
   },
   "outputs": [
    {
     "name": "stdout",
     "output_type": "stream",
     "text": [
      "{'colors': 'black', 'size': 'medium', 'leg_count': 4}\n"
     ]
    },
    {
     "data": {
      "text/plain": [
       "{'colors': 'black', 'size': 'medium', 'leg_count': 4}"
      ]
     },
     "execution_count": 34,
     "metadata": {},
     "output_type": "execute_result"
    }
   ],
   "source": [
    "class dog:\n",
    "    def __init__(self, colors, size):\n",
    "        self.colors = colors\n",
    "        self.size = size\n",
    "        self.leg_count = 4\n",
    "\n",
    "jobie_doginstance = dog(colors = \"black\", size = \"medium\")\n",
    "print(vars(jobie_doginstance))\n",
    "jobie_doginstance.__dict__ "
   ]
  },
  {
   "cell_type": "markdown",
   "id": "1f57d3b4",
   "metadata": {},
   "source": [
    "New instances of `dog` can vary `color` and `size`, but leg_count is always 4."
   ]
  },
  {
   "cell_type": "markdown",
   "id": "33486807",
   "metadata": {},
   "source": [
    "### _Type hints_ like `parameter: type` are used internally by developers and tools, but not enforced."
   ]
  },
  {
   "cell_type": "code",
   "execution_count": 39,
   "id": "65a4431b",
   "metadata": {},
   "outputs": [
    {
     "name": "stdout",
     "output_type": "stream",
     "text": [
      "{'colors': ['black', 'gray'], 'size': 14, 'leg_count': 4}\n"
     ]
    }
   ],
   "source": [
    "class dog:\n",
    "    def __init__(self, colors: list[str], size: str):\n",
    "        self.colors = colors\n",
    "        self.size = size\n",
    "        self.leg_count = 4\n",
    "        \n",
    "jobie_doginstance = dog(colors = [\"black\", \"gray\"], size = 14)\n",
    "print(vars(jobie_doginstance))"
   ]
  },
  {
   "cell_type": "markdown",
   "id": "c5421fb4",
   "metadata": {},
   "source": [
    "It lets me use size=14 even though I set the `size` type_hint to string."
   ]
  },
  {
   "cell_type": "markdown",
   "id": "8c68cfc6",
   "metadata": {},
   "source": [
    "# Classes have _methods_\n",
    "\n",
    "## `__init__` is a _special method_ that classes use to initialize new instances of the class \n",
    "\n",
    "- and defines scope of attributes as being the instance of the class\n",
    "\n"
   ]
  },
  {
   "cell_type": "markdown",
   "id": "595a519b",
   "metadata": {},
   "source": [
    "## `self` means \"this instance's\" \n",
    "- think of as \"my\": `self.size = size` is like the instance saying \"set my size to the value of size\"\n",
    "- When you define a method (like `__init__`), the first parameter is the object calling the method. This argument is usually called \"self\", but that's arbitrary!\n",
    "\n",
    "Change `self` to `instance`; it's identical:\n"
   ]
  },
  {
   "cell_type": "code",
   "execution_count": 27,
   "id": "06e2927d",
   "metadata": {},
   "outputs": [],
   "source": [
    "class dog:\n",
    "    def __init__(instance, color):   \n",
    "        instance.color = color"
   ]
  },
  {
   "cell_type": "markdown",
   "id": "27814c2d",
   "metadata": {},
   "source": [
    "Attributes and methods:"
   ]
  },
  {
   "cell_type": "markdown",
   "id": "033168ee",
   "metadata": {},
   "source": [
    "If we don't attach attributes to `self`:"
   ]
  },
  {
   "cell_type": "code",
   "execution_count": 16,
   "id": "bb38406a",
   "metadata": {},
   "outputs": [],
   "source": [
    "class dog:\n",
    "    def __init__(self, color, size):\n",
    "        color # instead of self.color\n",
    "        , size"
   ]
  },
  {
   "cell_type": "code",
   "execution_count": 17,
   "id": "bcd326d8",
   "metadata": {},
   "outputs": [],
   "source": [
    "doginstance = dog(color = \"black\", size = \"medium\")"
   ]
  },
  {
   "cell_type": "markdown",
   "id": "5a510dbb",
   "metadata": {},
   "source": [
    "The instance has no attributes, because `name` and `size` were not assigned to the instance:"
   ]
  },
  {
   "cell_type": "code",
   "execution_count": 18,
   "id": "6f51de8a",
   "metadata": {},
   "outputs": [
    {
     "data": {
      "text/plain": [
       "{}"
      ]
     },
     "execution_count": 18,
     "metadata": {},
     "output_type": "execute_result"
    }
   ],
   "source": [
    "doginstance.__dict__ "
   ]
  },
  {
   "cell_type": "markdown",
   "id": "fbdf6b1a",
   "metadata": {},
   "source": [
    "## methods always have the `self` parameter and sometimes have more"
   ]
  },
  {
   "cell_type": "markdown",
   "id": "63f7b3d2",
   "metadata": {},
   "source": [
    "`dogmethod_speak` method has `self`, `sound`, and `volume` parameters\n",
    "\n",
    "where `volume` is type hinted as string and defaults to \"quietly\"\n"
   ]
  },
  {
   "cell_type": "code",
   "execution_count": 55,
   "id": "77f9aa94",
   "metadata": {
    "scrolled": true
   },
   "outputs": [
    {
     "name": "stdout",
     "output_type": "stream",
     "text": [
      "black dog says woowoof loudly\n"
     ]
    }
   ],
   "source": [
    "class dog:\n",
    "    def __init__(self, colors):\n",
    "        self.colors = colors\n",
    "    def dogmethod_speak(self, sound, volume: str = \"quietly\"):\n",
    "        print(self.colors + \" dog says \" + sound +  \" \" + volume)\n",
    "    # you don't use self.sound because self means attribute of the class, while \"sound\" is a parameter\n",
    "    \n",
    "jobie_doginstance = dog(colors = \"black\")\n",
    "jobie_doginstance.dogmethod_speak(sound = \"woowoof\", volume = \"loudly\")"
   ]
  },
  {
   "cell_type": "markdown",
   "id": "01ab7acc",
   "metadata": {},
   "source": [
    "### _docstrings_ are docs for methods"
   ]
  },
  {
   "cell_type": "code",
   "execution_count": null,
   "id": "c607bb31",
   "metadata": {},
   "outputs": [],
   "source": [
    "class dog:\n",
    "    def __init__(self, colors):\n",
    "        self.colors = colors\n",
    "    def dogmethod_speak(self, sound, volume: str = \"quietly\"):\n",
    "        \"\"\"The dog speaks.\n",
    "        \n",
    "        param sound: what kind of sound\n",
    "        param volume: how loud\n",
    "        \"\"\"\n",
    "        print(self.colors + \" dog says \" + sound +  \" \" + volume)\n"
   ]
  },
  {
   "cell_type": "markdown",
   "id": "2c7a1874",
   "metadata": {},
   "source": [
    "## `__method__` double underscore / dunder methods\n",
    "reserved; e.g., `init'"
   ]
  },
  {
   "cell_type": "markdown",
   "id": "4cbdf512",
   "metadata": {},
   "source": [
    "## `_method` single leading underscores\n",
    "- private/internal\n",
    "- conventional / syntax hint; not enforced"
   ]
  },
  {
   "cell_type": "markdown",
   "id": "6b988153",
   "metadata": {},
   "source": [
    "# Classes allow object composition"
   ]
  },
  {
   "cell_type": "markdown",
   "id": "96586526",
   "metadata": {},
   "source": [
    "Create a class `person`, where all `person`s have an attribute for the `dog` they own, where `dog` is the class we just made."
   ]
  },
  {
   "cell_type": "code",
   "execution_count": 77,
   "id": "eaca6839",
   "metadata": {},
   "outputs": [],
   "source": [
    "class person:\n",
    "    def __init__(self, name, dog):\n",
    "        self.name = name\n",
    "        self.dog = dog(name = \"jobie\", size = \"medium\")"
   ]
  },
  {
   "cell_type": "code",
   "execution_count": 84,
   "id": "7f89dc06",
   "metadata": {},
   "outputs": [
    {
     "data": {
      "text/plain": [
       "{}"
      ]
     },
     "execution_count": 84,
     "metadata": {},
     "output_type": "execute_result"
    }
   ],
   "source": [
    "personinstance = person(name = \"Liz\", dog = dog)\n",
    "personinstance.__dict__\n",
    "personinstance.__dict__['dog'].__dict__"
   ]
  },
  {
   "cell_type": "markdown",
   "id": "a03dfed5",
   "metadata": {},
   "source": [
    "# Classes have Methods"
   ]
  },
  {
   "cell_type": "code",
   "execution_count": 17,
   "id": "d5f71f01",
   "metadata": {
    "scrolled": true
   },
   "outputs": [
    {
     "name": "stdout",
     "output_type": "stream",
     "text": [
      "Hello my name is jobie , woowoof\n",
      "jobie\n"
     ]
    }
   ],
   "source": [
    "class dog:\n",
    "    # attributes\n",
    "    def __init__(self, name, bark):         \n",
    "        self.name = name\n",
    "        self.sound = bark\n",
    "    # methods\n",
    "    def dogmethod_speak(self):\n",
    "        print(\"Hello my name is \" + self.name + \" , \" + self.sound)\n",
    "\n",
    "jobie = dog(name = \"jobie\", bark = \"woowoof\")\n",
    "jobie.dogmethod_speak()\n",
    "\n",
    "print(jobie.name)"
   ]
  },
  {
   "cell_type": "markdown",
   "id": "8e8b9351",
   "metadata": {},
   "source": [
    "### `__method__` double underscore / dunder methods\n",
    "reserved; e.g., `init'"
   ]
  },
  {
   "cell_type": "markdown",
   "id": "52ebe80b",
   "metadata": {},
   "source": [
    "### `_method` single leading underscores\n",
    "- private/internal\n",
    "- conventional / syntax hint; not enforced"
   ]
  },
  {
   "cell_type": "markdown",
   "id": "ed97dd35",
   "metadata": {},
   "source": [
    "## Methods and functions sometimes change object, sometimes don't"
   ]
  },
  {
   "cell_type": "markdown",
   "id": "004dcc8e",
   "metadata": {},
   "source": [
    "Calling a method directly changes the object:"
   ]
  },
  {
   "cell_type": "code",
   "execution_count": 2,
   "id": "3aba7fbc",
   "metadata": {},
   "outputs": [
    {
     "name": "stdout",
     "output_type": "stream",
     "text": [
      "['i', 'l', 'z']\n"
     ]
    }
   ],
   "source": [
    "letters=list('liz')\n",
    "letters.sort() \n",
    "print(letters)"
   ]
  },
  {
   "cell_type": "markdown",
   "id": "f1fc0009",
   "metadata": {},
   "source": [
    "Calling a method DOESN'T directly change the object:"
   ]
  },
  {
   "cell_type": "code",
   "execution_count": 4,
   "id": "94ab0c8a",
   "metadata": {},
   "outputs": [
    {
     "name": "stdout",
     "output_type": "stream",
     "text": [
      "string\n"
     ]
    }
   ],
   "source": [
    "string = \"string\"\n",
    "string.capitalize()\n",
    "print(string)"
   ]
  },
  {
   "cell_type": "markdown",
   "id": "cc8f8b16",
   "metadata": {},
   "source": [
    "## Docstring and Assertion"
   ]
  },
  {
   "cell_type": "code",
   "execution_count": 91,
   "id": "a3f1c4bb",
   "metadata": {
    "scrolled": false
   },
   "outputs": [],
   "source": [
    "class Annie2:\n",
    "    \"\"\"An animal.\"\"\"\n",
    "    def __init__(self, species, movementtype):\n",
    "        self.species = species\n",
    "        self.movementtype = movementtype\n",
    "        assert(isinstance(movementtype, str))\n",
    "    def move(self):\n",
    "        print(\"This animal is \" + self.movementtype + \"ing\")"
   ]
  },
  {
   "cell_type": "code",
   "execution_count": null,
   "id": "b2c6d83a",
   "metadata": {},
   "outputs": [],
   "source": []
  },
  {
   "cell_type": "markdown",
   "id": "43ead6d3",
   "metadata": {},
   "source": [
    "## Class attributes\n",
    "https://www.toptal.com/python/python-class-attributes-an-overly-thorough-guide"
   ]
  },
  {
   "cell_type": "code",
   "execution_count": 151,
   "id": "1de5d426",
   "metadata": {},
   "outputs": [],
   "source": [
    "class animal:\n",
    "    life = \"alive\" # set \"life\" attribute, so all animals have life\n",
    "    def sayhi(animal_instance):\n",
    "        print(\"hi\")"
   ]
  },
  {
   "cell_type": "code",
   "execution_count": 153,
   "id": "70ba5508",
   "metadata": {},
   "outputs": [],
   "source": [
    "doe = animal()"
   ]
  },
  {
   "cell_type": "markdown",
   "id": "2200211a",
   "metadata": {},
   "source": [
    "`life` and `sayhi` now both in list of attributes"
   ]
  },
  {
   "cell_type": "code",
   "execution_count": 156,
   "id": "82e4eaa2",
   "metadata": {
    "scrolled": true
   },
   "outputs": [
    {
     "name": "stdout",
     "output_type": "stream",
     "text": [
      "['__class__', '__delattr__', '__dict__', '__dir__', '__doc__', '__eq__', '__format__', '__ge__', '__getattribute__', '__gt__', '__hash__', '__init__', '__init_subclass__', '__le__', '__lt__', '__module__', '__ne__', '__new__', '__reduce__', '__reduce_ex__', '__repr__', '__setattr__', '__sizeof__', '__str__', '__subclasshook__', '__weakref__', 'life', 'sayhi']\n"
     ]
    }
   ],
   "source": [
    "print(dir(doe))"
   ]
  },
  {
   "cell_type": "markdown",
   "id": "920cfc9a",
   "metadata": {},
   "source": [
    "# Abstract base classes"
   ]
  },
  {
   "cell_type": "markdown",
   "id": "eeb19ccb",
   "metadata": {},
   "source": [
    "An abstract base class (ABC) is a class in Python that is meant to be subclassed but not instantiated on its own.\n",
    "\n",
    "They have `@abstractmethod`s that all subclasses must implement."
   ]
  },
  {
   "cell_type": "code",
   "execution_count": null,
   "id": "62e81ad9",
   "metadata": {},
   "outputs": [],
   "source": []
  }
 ],
 "metadata": {
  "kernelspec": {
   "display_name": "Python 3 (ipykernel)",
   "language": "python",
   "name": "python3"
  },
  "language_info": {
   "codemirror_mode": {
    "name": "ipython",
    "version": 3
   },
   "file_extension": ".py",
   "mimetype": "text/x-python",
   "name": "python",
   "nbconvert_exporter": "python",
   "pygments_lexer": "ipython3",
   "version": "3.7.0"
  }
 },
 "nbformat": 4,
 "nbformat_minor": 5
}
