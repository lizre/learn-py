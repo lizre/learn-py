{
 "cells": [
  {
   "cell_type": "markdown",
   "id": "41595abc",
   "metadata": {},
   "source": [
    "# Setup and get data"
   ]
  },
  {
   "cell_type": "code",
   "execution_count": 10,
   "id": "394f3e66",
   "metadata": {},
   "outputs": [],
   "source": [
    "import pandas as pd\n",
    "import numpy as np\n",
    "import sklearn\n",
    "from sklearn import datasets\n",
    "\n",
    "iris = sklearn.datasets.load_iris()\n",
    "# convert to pandas df\n",
    "iris = pd.DataFrame(np.concatenate((iris.data, np.array([iris.target]).T), axis=1), \n",
    "                    columns=iris.feature_names + ['target'])\n",
    "# clean col names\n",
    "iris.columns = [c.replace(' ', '_') for c in iris.columns]\n",
    "iris.rename(columns={'sepal_length_(cm)': 'sepal_length', \n",
    "                     'sepal_width_(cm)': 'sepal_width', \n",
    "                     'petal_length_(cm)':  'petal_length',\n",
    "                     'petal_width_(cm)': 'petal_width'}, inplace=True)"
   ]
  },
  {
   "cell_type": "markdown",
   "id": "ed97dd35",
   "metadata": {},
   "source": [
    "## Methods and functions sometimes change object, sometimes don't"
   ]
  },
  {
   "cell_type": "markdown",
   "id": "628bbc98",
   "metadata": {},
   "source": [
    "Calling a function does not change the object:"
   ]
  },
  {
   "cell_type": "code",
   "execution_count": 32,
   "id": "d8b94346",
   "metadata": {},
   "outputs": [
    {
     "name": "stdout",
     "output_type": "stream",
     "text": [
      "['l', 'i', 'z', 'z']\n"
     ]
    }
   ],
   "source": [
    "letters=list('liz')\n",
    "sorted(letters) #this version of sorting has to be saved as a result\n",
    "print(letters)"
   ]
  },
  {
   "cell_type": "markdown",
   "id": "f2070067",
   "metadata": {},
   "source": [
    "# Write function"
   ]
  },
  {
   "cell_type": "code",
   "execution_count": 52,
   "id": "52e5dfcd",
   "metadata": {},
   "outputs": [],
   "source": [
    "def add_three(input):\n",
    "    return input + 3"
   ]
  },
  {
   "cell_type": "code",
   "execution_count": 53,
   "id": "cd1c2cb9",
   "metadata": {
    "scrolled": true
   },
   "outputs": [
    {
     "data": {
      "text/plain": [
       "8"
      ]
     },
     "execution_count": 53,
     "metadata": {},
     "output_type": "execute_result"
    }
   ],
   "source": [
    "add_three(5)"
   ]
  },
  {
   "cell_type": "markdown",
   "id": "93724a9b",
   "metadata": {},
   "source": [
    "`input` is the **parameter**, `5` is the **argument**."
   ]
  },
  {
   "cell_type": "markdown",
   "id": "416b6563",
   "metadata": {},
   "source": [
    "### View properties of a function:"
   ]
  },
  {
   "cell_type": "code",
   "execution_count": 48,
   "id": "731b46b7",
   "metadata": {},
   "outputs": [
    {
     "data": {
      "text/plain": [
       "['__annotations__', '__call__', '__class__', '__closure__', '__code__']"
      ]
     },
     "execution_count": 48,
     "metadata": {},
     "output_type": "execute_result"
    }
   ],
   "source": [
    "dir(add_three)[0:5]"
   ]
  },
  {
   "cell_type": "markdown",
   "id": "8ebe4cff",
   "metadata": {},
   "source": [
    "# generic functions \n",
    "use diff methods on diff classes (_function overloading_)"
   ]
  },
  {
   "cell_type": "markdown",
   "id": "beba1835",
   "metadata": {},
   "source": [
    "`print()` uses one method for factor class:"
   ]
  },
  {
   "cell_type": "code",
   "execution_count": null,
   "id": "0e42cd99",
   "metadata": {},
   "outputs": [],
   "source": [
    "# this is in R\n",
    "\n",
    "print(f)\n",
    "#> [1] a b c\n",
    "#> Levels: a b c\n",
    "\n",
    "different method for integer class (i.e., for an factor stripped of its class):\n",
    "print(unclass(f))\n",
    "#> [1] 1 2 3"
   ]
  },
  {
   "cell_type": "markdown",
   "id": "465e5fbe",
   "metadata": {},
   "source": [
    "The class-specific methods are named `generic`.`class()` (eg, `print.factor()`)\n",
    "\n",
    "Methods have all the arguments of the generic, plus unique ones\n",
    "- print.Date adds max, print.factor adds levels\n",
    "\n",
    "generics find the right method for the class, via “method dispatch”\n",
    "- performed by UseMethod(), which every generic calls\n",
    "\n",
    "What methods avail for a generic?\n",
    "`methods(“print”)`\n",
    "What methods avail for a class?\n",
    "`methods(class = “factor”)`\n"
   ]
  },
  {
   "cell_type": "markdown",
   "id": "170faa7e",
   "metadata": {},
   "source": [
    "# Argument passing"
   ]
  },
  {
   "cell_type": "markdown",
   "id": "f8a18351",
   "metadata": {},
   "source": [
    "### Positional/required and default arguments"
   ]
  },
  {
   "cell_type": "code",
   "execution_count": 72,
   "id": "265740ba",
   "metadata": {},
   "outputs": [],
   "source": [
    "def print_cost(qty=5, item='eggs', price=15):\n",
    "    print(qty, item, f'cost ${price:.2f}') # without f string\n",
    "    print(f'{qty} {item} cost ${price:.2f}') # f string: another way to display var values\n"
   ]
  },
  {
   "cell_type": "code",
   "execution_count": 73,
   "id": "8f52113b",
   "metadata": {
    "scrolled": true
   },
   "outputs": [
    {
     "name": "stdout",
     "output_type": "stream",
     "text": [
      "5 eggs cost $15.00\n",
      "5 eggs cost $15.00\n"
     ]
    }
   ],
   "source": [
    "print_cost()"
   ]
  },
  {
   "cell_type": "markdown",
   "id": "9c9bc305",
   "metadata": {},
   "source": [
    "### Variables as arguments"
   ]
  },
  {
   "cell_type": "markdown",
   "id": "9513982e",
   "metadata": {},
   "source": [
    "Can pass **by value** : for ummutable objects: function cannot modify object in the calling environment."
   ]
  },
  {
   "cell_type": "code",
   "execution_count": 87,
   "id": "33182825",
   "metadata": {},
   "outputs": [],
   "source": [
    "def fxn(x):\n",
    "    print(\"input was\", x, \", identifier\", id(x))\n",
    "    x = 10\n",
    "    print(\"new value is\", x, \", identifier\", id(x))\n",
    "    "
   ]
  },
  {
   "cell_type": "code",
   "execution_count": 95,
   "id": "71afcaea",
   "metadata": {},
   "outputs": [
    {
     "name": "stdout",
     "output_type": "stream",
     "text": [
      "input was 5 , identifier 4459145552\n",
      "new value is 10 , identifier 4459145712\n",
      "5\n",
      "Identifier is different: new object was only created inside the function, and global x is unchanged.\n"
     ]
    }
   ],
   "source": [
    "x = 5\n",
    "fxn(x)\n",
    "print(x)\n",
    "print(\"Identifier is different: new object was only created inside the function, and global x is unchanged.\")"
   ]
  },
  {
   "cell_type": "markdown",
   "id": "4ac3d422",
   "metadata": {},
   "source": [
    "The variable was bound to an immutable object: an integer."
   ]
  },
  {
   "cell_type": "markdown",
   "id": "5f5adfc2",
   "metadata": {},
   "source": [
    "Another example:"
   ]
  },
  {
   "cell_type": "code",
   "execution_count": 42,
   "id": "38617b10",
   "metadata": {},
   "outputs": [],
   "source": [
    "def add_three_assign(x):\n",
    "    print(\"input was\", x)\n",
    "    x = x + 3\n",
    "    print(\"new value is\", x)"
   ]
  },
  {
   "cell_type": "markdown",
   "id": "97c07d61",
   "metadata": {},
   "source": [
    "`x` variable is printed as my_var + 3:"
   ]
  },
  {
   "cell_type": "code",
   "execution_count": 43,
   "id": "2a430740",
   "metadata": {},
   "outputs": [
    {
     "name": "stdout",
     "output_type": "stream",
     "text": [
      "input was 6\n",
      "new value is 9\n"
     ]
    }
   ],
   "source": [
    "my_var = 6\n",
    "add_three_assign(my_var)"
   ]
  },
  {
   "cell_type": "markdown",
   "id": "ee608cdc",
   "metadata": {},
   "source": [
    "but `my_var` is unchanged: "
   ]
  },
  {
   "cell_type": "code",
   "execution_count": 44,
   "id": "d2a8860e",
   "metadata": {},
   "outputs": [
    {
     "data": {
      "text/plain": [
       "6"
      ]
     },
     "execution_count": 44,
     "metadata": {},
     "output_type": "execute_result"
    }
   ],
   "source": [
    "my_var"
   ]
  },
  {
   "cell_type": "markdown",
   "id": "1a06b3e7",
   "metadata": {},
   "source": [
    "To change immutables, assign to a new variable outside the calling environment:"
   ]
  },
  {
   "cell_type": "code",
   "execution_count": 2,
   "id": "03df265f",
   "metadata": {},
   "outputs": [],
   "source": [
    "def add_three(input):\n",
    "    return input + 3"
   ]
  },
  {
   "cell_type": "code",
   "execution_count": 9,
   "id": "089172a0",
   "metadata": {
    "scrolled": true
   },
   "outputs": [
    {
     "data": {
      "text/plain": [
       "9"
      ]
     },
     "execution_count": 9,
     "metadata": {},
     "output_type": "execute_result"
    }
   ],
   "source": [
    "my_var = 6\n",
    "my_var = add_three(my_var)\n",
    "my_var"
   ]
  },
  {
   "cell_type": "markdown",
   "id": "bf03c5a4",
   "metadata": {},
   "source": [
    "**Pass by reference**: can modify"
   ]
  },
  {
   "cell_type": "markdown",
   "id": "8d5065a7",
   "metadata": {},
   "source": [
    "You CAN change the parameter when it's mutable:"
   ]
  },
  {
   "cell_type": "code",
   "execution_count": 85,
   "id": "8335078d",
   "metadata": {},
   "outputs": [],
   "source": [
    "def add_three_to_first(x):\n",
    "    print(\"input was\", x, \", identifier\", id(x))\n",
    "    x[0] = x[0] + 3\n",
    "    print(\"new value is\", x, \", identifier\", id(x))"
   ]
  },
  {
   "cell_type": "code",
   "execution_count": 86,
   "id": "c86c6e42",
   "metadata": {
    "scrolled": true
   },
   "outputs": [
    {
     "name": "stdout",
     "output_type": "stream",
     "text": [
      "input was [1, 2, 3] , identifier 4498282888\n",
      "new value is [4, 2, 3] , identifier 4498282888\n",
      "The identifier is the same. So `list` was modified.\n"
     ]
    }
   ],
   "source": [
    "list = [1,2,3]\n",
    "add_three_to_first(list)\n",
    "print(\"The identifier is the same. So `list` was modified.\")"
   ]
  },
  {
   "cell_type": "markdown",
   "id": "8727076f",
   "metadata": {},
   "source": [
    "This is considered a **side effect**: modifying its calling environment, like reassigning a parameter value.\n",
    "<br>No `return` is needed."
   ]
  },
  {
   "cell_type": "markdown",
   "id": "cddda130",
   "metadata": {},
   "source": [
    "# Return"
   ]
  },
  {
   "cell_type": "markdown",
   "id": "c7082b62",
   "metadata": {},
   "source": [
    "exit function and pass data back to calling environment"
   ]
  },
  {
   "cell_type": "code",
   "execution_count": null,
   "id": "deb06202",
   "metadata": {},
   "outputs": [],
   "source": [
    "def add_three(input):\n",
    "    return input + 3"
   ]
  },
  {
   "cell_type": "code",
   "execution_count": null,
   "id": "7785a822",
   "metadata": {},
   "outputs": [],
   "source": []
  },
  {
   "cell_type": "code",
   "execution_count": null,
   "id": "d9ddc6ab",
   "metadata": {},
   "outputs": [],
   "source": []
  },
  {
   "cell_type": "code",
   "execution_count": null,
   "id": "938597f9",
   "metadata": {},
   "outputs": [],
   "source": []
  },
  {
   "cell_type": "markdown",
   "id": "2deffc32",
   "metadata": {},
   "source": [
    "# `*args` and `**kwargs`\n"
   ]
  },
  {
   "cell_type": "markdown",
   "id": "76e0a585",
   "metadata": {},
   "source": [
    "variable-length arguments: let functions take an arbitrary number of keyword arguments (\"kwargs\" means \"keyword arguments\")\n"
   ]
  },
  {
   "cell_type": "markdown",
   "id": "514ebfb2",
   "metadata": {},
   "source": [
    "`*args`"
   ]
  },
  {
   "cell_type": "code",
   "execution_count": 69,
   "id": "da04b6dd",
   "metadata": {},
   "outputs": [
    {
     "name": "stdout",
     "output_type": "stream",
     "text": [
      "first normal arg: 1\n",
      "another arg through *arglist: 3\n",
      "another arg through *arglist: hi\n"
     ]
    }
   ],
   "source": [
    "def myFun(normal_arg, *arglist):\n",
    "    print(\"first normal arg:\", normal_arg)\n",
    "    for arg in arglist:\n",
    "        print(\"another arg through *arglist:\", arg)\n",
    "\n",
    "myFun('1', 3, 'hi')"
   ]
  },
  {
   "cell_type": "markdown",
   "id": "eb40313f",
   "metadata": {},
   "source": [
    "`*` \"unpacks\" the passed tuple (NOT a list)."
   ]
  },
  {
   "cell_type": "markdown",
   "id": "b729e83a",
   "metadata": {},
   "source": [
    "`**kwargs`"
   ]
  },
  {
   "cell_type": "code",
   "execution_count": 71,
   "id": "199b3535",
   "metadata": {},
   "outputs": [
    {
     "name": "stdout",
     "output_type": "stream",
     "text": [
      "('first', 'li')\n",
      "('mid', 're')\n",
      "('now', 5)\n"
     ]
    }
   ],
   "source": [
    "def myFun(**kwargs):\n",
    "    for key, value in kwargs.items():\n",
    "        print ((key, value))\n",
    " \n",
    "myFun(first ='li', mid ='re', now = 5)   "
   ]
  },
  {
   "cell_type": "markdown",
   "id": "a8dca990",
   "metadata": {},
   "source": [
    "Why?\n",
    "<br>https://stackoverflow.com/questions/1769403/what-is-the-purpose-and-use-of-kwargs\n",
    "<br>because ** unpacks dictionaries:\n"
   ]
  },
  {
   "cell_type": "markdown",
   "id": "ebb49ac3",
   "metadata": {},
   "source": [
    "the `myFun(first ='li', mid ='re', now = 5)` above\n",
    "<br> is the same as"
   ]
  },
  {
   "cell_type": "code",
   "execution_count": 74,
   "id": "8285179e",
   "metadata": {},
   "outputs": [
    {
     "name": "stdout",
     "output_type": "stream",
     "text": [
      "('first', 'li')\n",
      "('mid', 're')\n",
      "('now', 5)\n"
     ]
    }
   ],
   "source": [
    "args = {'first': 'li', 'mid': 're', 'now': 5}\n",
    "myFun(**args)"
   ]
  },
  {
   "cell_type": "code",
   "execution_count": null,
   "id": "07d68f21",
   "metadata": {},
   "outputs": [],
   "source": []
  },
  {
   "cell_type": "markdown",
   "id": "50ab7592",
   "metadata": {},
   "source": [
    "# Docstring"
   ]
  },
  {
   "cell_type": "code",
   "execution_count": 68,
   "id": "e4e84de0",
   "metadata": {},
   "outputs": [],
   "source": [
    "%run -i functions.py"
   ]
  },
  {
   "cell_type": "markdown",
   "id": "eed8fc5f",
   "metadata": {},
   "source": [
    "In functions.py:"
   ]
  },
  {
   "cell_type": "code",
   "execution_count": 39,
   "id": "ac2f9222",
   "metadata": {},
   "outputs": [],
   "source": [
    "def add_two(number):\n",
    "    \"\"\"one-line summary: add 2 to any number!\n",
    "\n",
    "    further elaboration would go here\n",
    "    this is how addition works\n",
    "    \"\"\"\n",
    "    \n",
    "    return number+2"
   ]
  },
  {
   "cell_type": "markdown",
   "id": "a972d75d",
   "metadata": {},
   "source": [
    "When view properties of add_two, ['__doc__'] dunder means it has a docstring:"
   ]
  },
  {
   "cell_type": "code",
   "execution_count": 69,
   "id": "83dd079e",
   "metadata": {},
   "outputs": [
    {
     "data": {
      "text/plain": [
       "['__defaults__', '__delattr__', '__dict__', '__dir__', '__doc__']"
      ]
     },
     "execution_count": 69,
     "metadata": {},
     "output_type": "execute_result"
    }
   ],
   "source": [
    "dir(add_two)[5:10]"
   ]
  },
  {
   "cell_type": "code",
   "execution_count": 70,
   "id": "8f678e42",
   "metadata": {},
   "outputs": [
    {
     "name": "stdout",
     "output_type": "stream",
     "text": [
      "one-line summary: add 2 to any number!\n",
      "\n",
      "    further elaboration would go here\n",
      "    this is how addition works\n",
      "    \n"
     ]
    }
   ],
   "source": [
    "print(add_two.__doc__)"
   ]
  },
  {
   "cell_type": "code",
   "execution_count": 71,
   "id": "f3389a84",
   "metadata": {},
   "outputs": [
    {
     "name": "stdout",
     "output_type": "stream",
     "text": [
      "Help on function add_two in module __main__:\n",
      "\n",
      "add_two(number)\n",
      "    one-line summary: add 2 to any number!\n",
      "    \n",
      "    further elaboration would go here\n",
      "    this is how addition works\n",
      "\n"
     ]
    }
   ],
   "source": [
    "help(add_two)"
   ]
  },
  {
   "cell_type": "markdown",
   "id": "2cd982cc",
   "metadata": {},
   "source": [
    "# lambda functions"
   ]
  },
  {
   "cell_type": "markdown",
   "id": "aabef62b",
   "metadata": {},
   "source": [
    "- single use, single line\n",
    "- named or anonymous"
   ]
  },
  {
   "cell_type": "markdown",
   "id": "46f88e7b",
   "metadata": {},
   "source": [
    "### **General form**"
   ]
  },
  {
   "cell_type": "markdown",
   "id": "87e65386",
   "metadata": {},
   "source": [
    "`lambda arguments: expression`"
   ]
  },
  {
   "cell_type": "code",
   "execution_count": 1,
   "id": "2a3e3539",
   "metadata": {
    "scrolled": true
   },
   "outputs": [
    {
     "data": {
      "text/plain": [
       "<function __main__.<lambda>(input)>"
      ]
     },
     "execution_count": 1,
     "metadata": {},
     "output_type": "execute_result"
    }
   ],
   "source": [
    "lambda input: input + 2"
   ]
  },
  {
   "cell_type": "markdown",
   "id": "00e6469f",
   "metadata": {},
   "source": [
    "### **WithOUT lambda:** long but get a reusable get_first function"
   ]
  },
  {
   "cell_type": "code",
   "execution_count": 24,
   "id": "415b9e7e",
   "metadata": {},
   "outputs": [],
   "source": [
    "dict = [(37,1,3),(2,5,7),(10,2,14)]"
   ]
  },
  {
   "cell_type": "code",
   "execution_count": 27,
   "id": "d5ba3d37",
   "metadata": {},
   "outputs": [
    {
     "data": {
      "text/plain": [
       "[(2, 5, 7), (10, 2, 14), (37, 1, 3)]"
      ]
     },
     "execution_count": 27,
     "metadata": {},
     "output_type": "execute_result"
    }
   ],
   "source": [
    "def get_first(x):  # return 1st element of a list or tuple\n",
    "    return x[0]\n",
    "dict.sort(key = get_first) # explicit, but hard to read: have to look elsewhere to know what get_first is\n",
    "dict"
   ]
  },
  {
   "cell_type": "markdown",
   "id": "587e4102",
   "metadata": {},
   "source": [
    "### **With lambda:** short but no reusable function"
   ]
  },
  {
   "cell_type": "markdown",
   "id": "ed57a5f3",
   "metadata": {},
   "source": [
    "basically don't need **def** or **return**"
   ]
  },
  {
   "cell_type": "code",
   "execution_count": 26,
   "id": "eff9db40",
   "metadata": {},
   "outputs": [
    {
     "data": {
      "text/plain": [
       "[(2, 5, 7), (10, 2, 14), (37, 1, 3)]"
      ]
     },
     "execution_count": 26,
     "metadata": {},
     "output_type": "execute_result"
    }
   ],
   "source": [
    "dict.sort(key = lambda x: x[0])\n",
    "dict"
   ]
  },
  {
   "cell_type": "markdown",
   "id": "b815317e",
   "metadata": {},
   "source": [
    "### **Named lambda**"
   ]
  },
  {
   "cell_type": "code",
   "execution_count": 28,
   "id": "590534a2",
   "metadata": {},
   "outputs": [
    {
     "data": {
      "text/plain": [
       "[(2, 5, 7), (10, 2, 14), (37, 1, 3)]"
      ]
     },
     "execution_count": 28,
     "metadata": {},
     "output_type": "execute_result"
    }
   ],
   "source": [
    "get_first = lambda x: x[0]\n",
    "dict.sort(key = get_first)\n",
    "dict"
   ]
  },
  {
   "cell_type": "markdown",
   "id": "f108698f",
   "metadata": {},
   "source": [
    "### Use inside other functions like **apply**, **map**"
   ]
  },
  {
   "cell_type": "code",
   "execution_count": 36,
   "id": "662ad088",
   "metadata": {},
   "outputs": [
    {
     "data": {
      "text/html": [
       "<div>\n",
       "<style scoped>\n",
       "    .dataframe tbody tr th:only-of-type {\n",
       "        vertical-align: middle;\n",
       "    }\n",
       "\n",
       "    .dataframe tbody tr th {\n",
       "        vertical-align: top;\n",
       "    }\n",
       "\n",
       "    .dataframe thead th {\n",
       "        text-align: right;\n",
       "    }\n",
       "</style>\n",
       "<table border=\"1\" class=\"dataframe\">\n",
       "  <thead>\n",
       "    <tr style=\"text-align: right;\">\n",
       "      <th></th>\n",
       "      <th>sepal_length</th>\n",
       "      <th>sepal_width</th>\n",
       "      <th>petal_length</th>\n",
       "      <th>petal_width</th>\n",
       "      <th>target</th>\n",
       "      <th>size</th>\n",
       "    </tr>\n",
       "  </thead>\n",
       "  <tbody>\n",
       "    <tr>\n",
       "      <th>0</th>\n",
       "      <td>5.1</td>\n",
       "      <td>3.5</td>\n",
       "      <td>1.4</td>\n",
       "      <td>0.2</td>\n",
       "      <td>0.0</td>\n",
       "      <td>big</td>\n",
       "    </tr>\n",
       "    <tr>\n",
       "      <th>1</th>\n",
       "      <td>4.9</td>\n",
       "      <td>3.0</td>\n",
       "      <td>1.4</td>\n",
       "      <td>0.2</td>\n",
       "      <td>0.0</td>\n",
       "      <td>None</td>\n",
       "    </tr>\n",
       "    <tr>\n",
       "      <th>2</th>\n",
       "      <td>4.7</td>\n",
       "      <td>3.2</td>\n",
       "      <td>1.3</td>\n",
       "      <td>0.2</td>\n",
       "      <td>0.0</td>\n",
       "      <td>None</td>\n",
       "    </tr>\n",
       "  </tbody>\n",
       "</table>\n",
       "</div>"
      ],
      "text/plain": [
       "   sepal_length  sepal_width  petal_length  petal_width  target  size\n",
       "0           5.1          3.5           1.4          0.2     0.0   big\n",
       "1           4.9          3.0           1.4          0.2     0.0  None\n",
       "2           4.7          3.2           1.3          0.2     0.0  None"
      ]
     },
     "execution_count": 36,
     "metadata": {},
     "output_type": "execute_result"
    }
   ],
   "source": [
    "def size(sepal_length):\n",
    "    if sepal_length > 5:\n",
    "        return \"big\"\n",
    "    \n",
    "iris['size'] = iris.apply(lambda x: size(x['sepal_length']),axis=1)\n",
    "iris[0:3]"
   ]
  },
  {
   "cell_type": "markdown",
   "id": "291025ce",
   "metadata": {},
   "source": [
    "Multiple conditions:"
   ]
  },
  {
   "cell_type": "code",
   "execution_count": 33,
   "id": "41d785d5",
   "metadata": {},
   "outputs": [
    {
     "data": {
      "text/html": [
       "<div>\n",
       "<style scoped>\n",
       "    .dataframe tbody tr th:only-of-type {\n",
       "        vertical-align: middle;\n",
       "    }\n",
       "\n",
       "    .dataframe tbody tr th {\n",
       "        vertical-align: top;\n",
       "    }\n",
       "\n",
       "    .dataframe thead th {\n",
       "        text-align: right;\n",
       "    }\n",
       "</style>\n",
       "<table border=\"1\" class=\"dataframe\">\n",
       "  <thead>\n",
       "    <tr style=\"text-align: right;\">\n",
       "      <th></th>\n",
       "      <th>sepal_length</th>\n",
       "      <th>sepal_width</th>\n",
       "      <th>petal_length</th>\n",
       "      <th>petal_width</th>\n",
       "      <th>target</th>\n",
       "      <th>size</th>\n",
       "    </tr>\n",
       "  </thead>\n",
       "  <tbody>\n",
       "    <tr>\n",
       "      <th>0</th>\n",
       "      <td>5.1</td>\n",
       "      <td>3.5</td>\n",
       "      <td>1.4</td>\n",
       "      <td>0.2</td>\n",
       "      <td>0.0</td>\n",
       "      <td>big</td>\n",
       "    </tr>\n",
       "    <tr>\n",
       "      <th>1</th>\n",
       "      <td>4.9</td>\n",
       "      <td>3.0</td>\n",
       "      <td>1.4</td>\n",
       "      <td>0.2</td>\n",
       "      <td>0.0</td>\n",
       "      <td>small</td>\n",
       "    </tr>\n",
       "    <tr>\n",
       "      <th>2</th>\n",
       "      <td>4.7</td>\n",
       "      <td>3.2</td>\n",
       "      <td>1.3</td>\n",
       "      <td>0.2</td>\n",
       "      <td>0.0</td>\n",
       "      <td>big</td>\n",
       "    </tr>\n",
       "  </tbody>\n",
       "</table>\n",
       "</div>"
      ],
      "text/plain": [
       "   sepal_length  sepal_width  petal_length  petal_width  target   size\n",
       "0           5.1          3.5           1.4          0.2     0.0    big\n",
       "1           4.9          3.0           1.4          0.2     0.0  small\n",
       "2           4.7          3.2           1.3          0.2     0.0    big"
      ]
     },
     "execution_count": 33,
     "metadata": {},
     "output_type": "execute_result"
    }
   ],
   "source": [
    "def size(sepal_length,sepal_width):\n",
    "    if sepal_length > 4 and sepal_width > 3:\n",
    "        return \"big\"\n",
    "    else:\n",
    "        return \"small\"\n",
    "    \n",
    "iris['size'] = iris.apply(lambda x: size(x['sepal_length'],x['sepal_width']),axis=1)\n",
    "iris[0:3]"
   ]
  },
  {
   "cell_type": "code",
   "execution_count": null,
   "id": "6ee0f23a",
   "metadata": {},
   "outputs": [],
   "source": []
  },
  {
   "cell_type": "code",
   "execution_count": null,
   "id": "786d930d",
   "metadata": {},
   "outputs": [],
   "source": []
  },
  {
   "cell_type": "code",
   "execution_count": null,
   "id": "7158d142",
   "metadata": {},
   "outputs": [],
   "source": []
  },
  {
   "cell_type": "markdown",
   "id": "ef21fa7b",
   "metadata": {},
   "source": [
    "# try"
   ]
  },
  {
   "cell_type": "code",
   "execution_count": null,
   "id": "73d63791",
   "metadata": {},
   "outputs": [],
   "source": [
    "import logging\n",
    "logger = logging.getLogger('Training')\n",
    "#logger.setLevel(LEVELS['DEBUG'])\n"
   ]
  },
  {
   "cell_type": "code",
   "execution_count": null,
   "id": "2dcb6c4f",
   "metadata": {},
   "outputs": [],
   "source": [
    " try:\n",
    "            logger.info(f'Initializing the configuration for {kwargs[\"workspace\"]} feature retrieval...')\n",
    "        except Exception as e:\n",
    "            #error\n",
    "            logger.info(e)\n",
    "            raise e"
   ]
  },
  {
   "cell_type": "code",
   "execution_count": null,
   "id": "b0ef0812",
   "metadata": {},
   "outputs": [],
   "source": [
    "class Feature():\n",
    "    def __init__(self, **kwargs):\n",
    "\n",
    "         try:\n",
    "            if not kwargs['num_months']:\n",
    "                num_months = params['range']['num_months']\n",
    "                if num_months < MIN_MONTHS | num_months > MAX_MONTHS:\n",
    "                    raise RuntimeError(f'Invalid num_months specified {num_months} in config, the value'\n",
    "                                        'should be between {MIN_MONTHS} & {MAX_MONTHS}')\n",
    "            else:\n",
    "                num_months = kwargs['num_months']\n",
    "                params['range']['num_months'] = kwargs['num_months']\n",
    "\n",
    "        except Exception as e:\n",
    "            #error\n",
    "            logger.exception(f'Error occurred :- {e}')\n",
    "            raise e"
   ]
  },
  {
   "cell_type": "markdown",
   "id": "4a942054",
   "metadata": {},
   "source": [
    "# Decorators"
   ]
  },
  {
   "cell_type": "markdown",
   "id": "e36005a5",
   "metadata": {},
   "source": [
    "https://towardsdatascience.com/five-advanced-python-features-169c96682350\n",
    "    \n",
    "allow us to modify the behavior of a function without explicitly modifying our function."
   ]
  },
  {
   "cell_type": "code",
   "execution_count": null,
   "id": "9c92924c",
   "metadata": {},
   "outputs": [],
   "source": []
  }
 ],
 "metadata": {
  "kernelspec": {
   "display_name": "Python 3 (ipykernel)",
   "language": "python",
   "name": "python3"
  },
  "language_info": {
   "codemirror_mode": {
    "name": "ipython",
    "version": 3
   },
   "file_extension": ".py",
   "mimetype": "text/x-python",
   "name": "python",
   "nbconvert_exporter": "python",
   "pygments_lexer": "ipython3",
   "version": "3.7.3"
  }
 },
 "nbformat": 4,
 "nbformat_minor": 5
}
