{
 "cells": [
  {
   "cell_type": "markdown",
   "id": "41595abc",
   "metadata": {},
   "source": [
    "# Setup and get data"
   ]
  },
  {
   "cell_type": "code",
   "execution_count": 10,
   "id": "394f3e66",
   "metadata": {},
   "outputs": [],
   "source": [
    "import pandas as pd\n",
    "import numpy as np\n",
    "import sklearn\n",
    "from sklearn import datasets\n",
    "\n",
    "iris = sklearn.datasets.load_iris()\n",
    "# convert to pandas df\n",
    "iris = pd.DataFrame(np.concatenate((iris.data, np.array([iris.target]).T), axis=1), \n",
    "                    columns=iris.feature_names + ['target'])\n",
    "# clean col names\n",
    "iris.columns = [c.replace(' ', '_') for c in iris.columns]\n",
    "iris.rename(columns={'sepal_length_(cm)': 'sepal_length', \n",
    "                     'sepal_width_(cm)': 'sepal_width', \n",
    "                     'petal_length_(cm)':  'petal_length',\n",
    "                     'petal_width_(cm)': 'petal_width'}, inplace=True)"
   ]
  },
  {
   "cell_type": "markdown",
   "id": "ed97dd35",
   "metadata": {},
   "source": [
    "## Methods and functions sometimes change object, sometimes don't"
   ]
  },
  {
   "cell_type": "markdown",
   "id": "628bbc98",
   "metadata": {},
   "source": [
    "Calling a function does not change the object:"
   ]
  },
  {
   "cell_type": "code",
   "execution_count": 32,
   "id": "d8b94346",
   "metadata": {},
   "outputs": [
    {
     "name": "stdout",
     "output_type": "stream",
     "text": [
      "['l', 'i', 'z', 'z']\n"
     ]
    }
   ],
   "source": [
    "letters=list('liz')\n",
    "sorted(letters) #this version of sorting has to be saved as a result\n",
    "print(letters)"
   ]
  },
  {
   "cell_type": "markdown",
   "id": "f2070067",
   "metadata": {},
   "source": [
    "# Write function"
   ]
  },
  {
   "cell_type": "code",
   "execution_count": 52,
   "id": "52e5dfcd",
   "metadata": {},
   "outputs": [],
   "source": [
    "def add_three(input):\n",
    "    return input + 3"
   ]
  },
  {
   "cell_type": "code",
   "execution_count": 53,
   "id": "cd1c2cb9",
   "metadata": {
    "scrolled": true
   },
   "outputs": [
    {
     "data": {
      "text/plain": [
       "8"
      ]
     },
     "execution_count": 53,
     "metadata": {},
     "output_type": "execute_result"
    }
   ],
   "source": [
    "add_three(5)"
   ]
  },
  {
   "cell_type": "markdown",
   "id": "7e11fcb6",
   "metadata": {},
   "source": [
    "`input` is the **parameter**, `5` is the **argument**."
   ]
  },
  {
   "cell_type": "markdown",
   "id": "416b6563",
   "metadata": {},
   "source": [
    "### View properties of a function:"
   ]
  },
  {
   "cell_type": "code",
   "execution_count": 48,
   "id": "731b46b7",
   "metadata": {},
   "outputs": [
    {
     "data": {
      "text/plain": [
       "['__annotations__', '__call__', '__class__', '__closure__', '__code__']"
      ]
     },
     "execution_count": 48,
     "metadata": {},
     "output_type": "execute_result"
    }
   ],
   "source": [
    "dir(add_three)[0:5]"
   ]
  },
  {
   "cell_type": "markdown",
   "id": "412973a5",
   "metadata": {},
   "source": [
    "# generic functions \n",
    "use diff methods on diff classes (_function overloading_)"
   ]
  },
  {
   "cell_type": "markdown",
   "id": "38b60fbd",
   "metadata": {},
   "source": [
    "`print()` uses one method for factor class:"
   ]
  },
  {
   "cell_type": "code",
   "execution_count": null,
   "id": "01ff1cc9",
   "metadata": {},
   "outputs": [],
   "source": [
    "# this is in R\n",
    "\n",
    "print(f)\n",
    "#> [1] a b c\n",
    "#> Levels: a b c\n",
    "\n",
    "different method for integer class (i.e., for an factor stripped of its class):\n",
    "print(unclass(f))\n",
    "#> [1] 1 2 3"
   ]
  },
  {
   "cell_type": "markdown",
   "id": "a9a1ddf9",
   "metadata": {},
   "source": [
    "The class-specific methods are named `generic`.`class()` (eg, `print.factor()`)\n",
    "\n",
    "Methods have all the arguments of the generic, plus unique ones\n",
    "- print.Date adds max, print.factor adds levels\n",
    "\n",
    "generics find the right method for the class, via “method dispatch”\n",
    "- performed by UseMethod(), which every generic calls\n",
    "\n",
    "What methods avail for a generic?\n",
    "`methods(“print”)`\n",
    "What methods avail for a class?\n",
    "`methods(class = “factor”)`\n"
   ]
  },
  {
   "cell_type": "markdown",
   "id": "9228c5d2",
   "metadata": {},
   "source": [
    "# Argument passing"
   ]
  },
  {
   "cell_type": "markdown",
   "id": "d46f6849",
   "metadata": {},
   "source": [
    "### Positional/required and default arguments"
   ]
  },
  {
   "cell_type": "code",
   "execution_count": 72,
   "id": "2a2246e5",
   "metadata": {},
   "outputs": [],
   "source": [
    "def print_cost(qty=5, item='eggs', price=15):\n",
    "    print(qty, item, f'cost ${price:.2f}') # without f string\n",
    "    print(f'{qty} {item} cost ${price:.2f}') # f string: another way to display var values\n"
   ]
  },
  {
   "cell_type": "code",
   "execution_count": 73,
   "id": "6d834d79",
   "metadata": {
    "scrolled": true
   },
   "outputs": [
    {
     "name": "stdout",
     "output_type": "stream",
     "text": [
      "5 eggs cost $15.00\n",
      "5 eggs cost $15.00\n"
     ]
    }
   ],
   "source": [
    "print_cost()"
   ]
  },
  {
   "cell_type": "markdown",
   "id": "e46a65fe",
   "metadata": {},
   "source": [
    "### Variables as arguments"
   ]
  },
  {
   "cell_type": "markdown",
   "id": "0ee586b4",
   "metadata": {},
   "source": [
    "Can pass **by value** : for ummutable objects: function cannot modify object in the calling environment."
   ]
  },
  {
   "cell_type": "code",
   "execution_count": 87,
   "id": "5d92d578",
   "metadata": {},
   "outputs": [],
   "source": [
    "def fxn(x):\n",
    "    print(\"input was\", x, \", identifier\", id(x))\n",
    "    x = 10\n",
    "    print(\"new value is\", x, \", identifier\", id(x))\n",
    "    "
   ]
  },
  {
   "cell_type": "code",
   "execution_count": 95,
   "id": "7f07018a",
   "metadata": {},
   "outputs": [
    {
     "name": "stdout",
     "output_type": "stream",
     "text": [
      "input was 5 , identifier 4459145552\n",
      "new value is 10 , identifier 4459145712\n",
      "5\n",
      "Identifier is different: new object was only created inside the function, and global x is unchanged.\n"
     ]
    }
   ],
   "source": [
    "x = 5\n",
    "fxn(x)\n",
    "print(x)\n",
    "print(\"Identifier is different: new object was only created inside the function, and global x is unchanged.\")"
   ]
  },
  {
   "cell_type": "markdown",
   "id": "ca9bec22",
   "metadata": {},
   "source": [
    "The variable was bound to an immutable object: an integer."
   ]
  },
  {
   "cell_type": "markdown",
   "id": "7215ec53",
   "metadata": {},
   "source": [
    "Another example:"
   ]
  },
  {
   "cell_type": "code",
   "execution_count": 42,
   "id": "ae7dfdd0",
   "metadata": {},
   "outputs": [],
   "source": [
    "def add_three_assign(x):\n",
    "    print(\"input was\", x)\n",
    "    x = x + 3\n",
    "    print(\"new value is\", x)"
   ]
  },
  {
   "cell_type": "markdown",
   "id": "34253705",
   "metadata": {},
   "source": [
    "`x` variable is printed as my_var + 3:"
   ]
  },
  {
   "cell_type": "code",
   "execution_count": 43,
   "id": "2291dfd4",
   "metadata": {},
   "outputs": [
    {
     "name": "stdout",
     "output_type": "stream",
     "text": [
      "input was 6\n",
      "new value is 9\n"
     ]
    }
   ],
   "source": [
    "my_var = 6\n",
    "add_three_assign(my_var)"
   ]
  },
  {
   "cell_type": "markdown",
   "id": "21352b05",
   "metadata": {},
   "source": [
    "but `my_var` is unchanged: "
   ]
  },
  {
   "cell_type": "code",
   "execution_count": 44,
   "id": "0ae90944",
   "metadata": {},
   "outputs": [
    {
     "data": {
      "text/plain": [
       "6"
      ]
     },
     "execution_count": 44,
     "metadata": {},
     "output_type": "execute_result"
    }
   ],
   "source": [
    "my_var"
   ]
  },
  {
   "cell_type": "markdown",
   "id": "33c2ebaf",
   "metadata": {},
   "source": [
    "To change immutables, assign to a new variable outside the calling environment:"
   ]
  },
  {
   "cell_type": "code",
   "execution_count": 2,
   "id": "505492c3",
   "metadata": {},
   "outputs": [],
   "source": [
    "def add_three(input):\n",
    "    return input + 3"
   ]
  },
  {
   "cell_type": "code",
   "execution_count": 9,
   "id": "c0eb577d",
   "metadata": {
    "scrolled": true
   },
   "outputs": [
    {
     "data": {
      "text/plain": [
       "9"
      ]
     },
     "execution_count": 9,
     "metadata": {},
     "output_type": "execute_result"
    }
   ],
   "source": [
    "my_var = 6\n",
    "my_var = add_three(my_var)\n",
    "my_var"
   ]
  },
  {
   "cell_type": "markdown",
   "id": "4296c601",
   "metadata": {},
   "source": [
    "**Pass by reference**: can modify"
   ]
  },
  {
   "cell_type": "markdown",
   "id": "e03c1350",
   "metadata": {},
   "source": [
    "You CAN change the parameter when it's mutable:"
   ]
  },
  {
   "cell_type": "code",
   "execution_count": 85,
   "id": "22b1c31d",
   "metadata": {},
   "outputs": [],
   "source": [
    "def add_three_to_first(x):\n",
    "    print(\"input was\", x, \", identifier\", id(x))\n",
    "    x[0] = x[0] + 3\n",
    "    print(\"new value is\", x, \", identifier\", id(x))"
   ]
  },
  {
   "cell_type": "code",
   "execution_count": 86,
   "id": "f84d82ac",
   "metadata": {
    "scrolled": true
   },
   "outputs": [
    {
     "name": "stdout",
     "output_type": "stream",
     "text": [
      "input was [1, 2, 3] , identifier 4498282888\n",
      "new value is [4, 2, 3] , identifier 4498282888\n",
      "The identifier is the same. So `list` was modified.\n"
     ]
    }
   ],
   "source": [
    "list = [1,2,3]\n",
    "add_three_to_first(list)\n",
    "print(\"The identifier is the same. So `list` was modified.\")"
   ]
  },
  {
   "cell_type": "markdown",
   "id": "2294708f",
   "metadata": {},
   "source": [
    "This is considered a **side effect**: modifying its calling environment, like reassigning a parameter value.\n",
    "<br>No `return` is needed."
   ]
  },
  {
   "cell_type": "markdown",
   "id": "2deffc32",
   "metadata": {},
   "source": [
    "# `*args` and `**kwargs`\n"
   ]
  },
  {
   "cell_type": "markdown",
   "id": "76e0a585",
   "metadata": {},
   "source": [
    "variable-length arguments: let functions take an arbitrary number of keyword arguments (\"kwargs\" means \"keyword arguments\")\n"
   ]
  },
  {
   "cell_type": "markdown",
   "id": "514ebfb2",
   "metadata": {},
   "source": [
    "`*args`"
   ]
  },
  {
   "cell_type": "code",
   "execution_count": 69,
   "id": "da04b6dd",
   "metadata": {},
   "outputs": [
    {
     "name": "stdout",
     "output_type": "stream",
     "text": [
      "first normal arg: 1\n",
      "another arg through *arglist: 3\n",
      "another arg through *arglist: hi\n"
     ]
    }
   ],
   "source": [
    "def myFun(normal_arg, *arglist):\n",
    "    print(\"first normal arg:\", normal_arg)\n",
    "    for arg in arglist:\n",
    "        print(\"another arg through *arglist:\", arg)\n",
    "\n",
    "myFun('1', 3, 'hi')"
   ]
  },
  {
   "cell_type": "markdown",
   "id": "eb40313f",
   "metadata": {},
   "source": [
    "`*` \"unpacks\" the passed tuple (NOT a list)."
   ]
  },
  {
   "cell_type": "markdown",
   "id": "b729e83a",
   "metadata": {},
   "source": [
    "`**kwargs`"
   ]
  },
  {
   "cell_type": "code",
   "execution_count": 71,
   "id": "199b3535",
   "metadata": {},
   "outputs": [
    {
     "name": "stdout",
     "output_type": "stream",
     "text": [
      "('first', 'li')\n",
      "('mid', 're')\n",
      "('now', 5)\n"
     ]
    }
   ],
   "source": [
    "def myFun(**kwargs):\n",
    "    for key, value in kwargs.items():\n",
    "        print ((key, value))\n",
    " \n",
    "myFun(first ='li', mid ='re', now = 5)   "
   ]
  },
  {
   "cell_type": "markdown",
   "id": "a8dca990",
   "metadata": {},
   "source": [
    "Why?\n",
    "<br>https://stackoverflow.com/questions/1769403/what-is-the-purpose-and-use-of-kwargs\n",
    "<br>because ** unpacks dictionaries:\n"
   ]
  },
  {
   "cell_type": "markdown",
   "id": "ebb49ac3",
   "metadata": {},
   "source": [
    "the `myFun(first ='li', mid ='re', now = 5)` above\n",
    "<br> is the same as"
   ]
  },
  {
   "cell_type": "code",
   "execution_count": 74,
   "id": "8285179e",
   "metadata": {},
   "outputs": [
    {
     "name": "stdout",
     "output_type": "stream",
     "text": [
      "('first', 'li')\n",
      "('mid', 're')\n",
      "('now', 5)\n"
     ]
    }
   ],
   "source": [
    "args = {'first': 'li', 'mid': 're', 'now': 5}\n",
    "myFun(**args)"
   ]
  },
  {
   "cell_type": "code",
   "execution_count": null,
   "id": "1f41e990",
   "metadata": {},
   "outputs": [],
   "source": []
  },
  {
   "cell_type": "markdown",
   "id": "82fada0d",
   "metadata": {},
   "source": [
    "# Docstring"
   ]
  },
  {
   "cell_type": "code",
   "execution_count": 68,
   "id": "44c76def",
   "metadata": {},
   "outputs": [],
   "source": [
    "%run -i functions.py"
   ]
  },
  {
   "cell_type": "markdown",
   "id": "a8a452dc",
   "metadata": {},
   "source": [
    "In functions.py:"
   ]
  },
  {
   "cell_type": "code",
   "execution_count": 39,
   "id": "8e08c80c",
   "metadata": {},
   "outputs": [],
   "source": [
    "def add_two(number):\n",
    "    \"\"\"one-line summary: add 2 to any number!\n",
    "\n",
    "    further elaboration would go here\n",
    "    this is how addition works\n",
    "    \"\"\"\n",
    "    \n",
    "    return number+2"
   ]
  },
  {
   "cell_type": "markdown",
   "id": "ee354c4f",
   "metadata": {},
   "source": [
    "When view properties of add_two, ['__doc__'] dunder means it has a docstring:"
   ]
  },
  {
   "cell_type": "code",
   "execution_count": 69,
   "id": "7ba66544",
   "metadata": {},
   "outputs": [
    {
     "data": {
      "text/plain": [
       "['__defaults__', '__delattr__', '__dict__', '__dir__', '__doc__']"
      ]
     },
     "execution_count": 69,
     "metadata": {},
     "output_type": "execute_result"
    }
   ],
   "source": [
    "dir(add_two)[5:10]"
   ]
  },
  {
   "cell_type": "code",
   "execution_count": 70,
   "id": "55c8bff6",
   "metadata": {},
   "outputs": [
    {
     "name": "stdout",
     "output_type": "stream",
     "text": [
      "one-line summary: add 2 to any number!\n",
      "\n",
      "    further elaboration would go here\n",
      "    this is how addition works\n",
      "    \n"
     ]
    }
   ],
   "source": [
    "print(add_two.__doc__)"
   ]
  },
  {
   "cell_type": "code",
   "execution_count": 71,
   "id": "778ad4fb",
   "metadata": {},
   "outputs": [
    {
     "name": "stdout",
     "output_type": "stream",
     "text": [
      "Help on function add_two in module __main__:\n",
      "\n",
      "add_two(number)\n",
      "    one-line summary: add 2 to any number!\n",
      "    \n",
      "    further elaboration would go here\n",
      "    this is how addition works\n",
      "\n"
     ]
    }
   ],
   "source": [
    "help(add_two)"
   ]
  },
  {
   "cell_type": "markdown",
   "id": "0441ac70",
   "metadata": {},
   "source": [
    "# lambda functions"
   ]
  },
  {
   "cell_type": "markdown",
   "id": "7ff5dde6",
   "metadata": {},
   "source": [
    "- single use, single line\n",
    "- named or anonymous"
   ]
  },
  {
   "cell_type": "markdown",
   "id": "7d052349",
   "metadata": {},
   "source": [
    "### **General form**"
   ]
  },
  {
   "cell_type": "markdown",
   "id": "ea824ce4",
   "metadata": {},
   "source": [
    "`lambda arguments: expression`"
   ]
  },
  {
   "cell_type": "code",
   "execution_count": 1,
   "id": "73d1b519",
   "metadata": {
    "scrolled": true
   },
   "outputs": [
    {
     "data": {
      "text/plain": [
       "<function __main__.<lambda>(input)>"
      ]
     },
     "execution_count": 1,
     "metadata": {},
     "output_type": "execute_result"
    }
   ],
   "source": [
    "lambda input: input + 2"
   ]
  },
  {
   "cell_type": "markdown",
   "id": "36cd85a9",
   "metadata": {},
   "source": [
    "### **WithOUT lambda:** long but get a reusable get_first function"
   ]
  },
  {
   "cell_type": "code",
   "execution_count": 24,
   "id": "611637f3",
   "metadata": {},
   "outputs": [],
   "source": [
    "dict = [(37,1,3),(2,5,7),(10,2,14)]"
   ]
  },
  {
   "cell_type": "code",
   "execution_count": 27,
   "id": "58be6bc9",
   "metadata": {},
   "outputs": [
    {
     "data": {
      "text/plain": [
       "[(2, 5, 7), (10, 2, 14), (37, 1, 3)]"
      ]
     },
     "execution_count": 27,
     "metadata": {},
     "output_type": "execute_result"
    }
   ],
   "source": [
    "def get_first(x):  # return 1st element of a list or tuple\n",
    "    return x[0]\n",
    "dict.sort(key = get_first) # explicit, but hard to read: have to look elsewhere to know what get_first is\n",
    "dict"
   ]
  },
  {
   "cell_type": "markdown",
   "id": "41e24c51",
   "metadata": {},
   "source": [
    "### **With lambda:** short but no reusable function"
   ]
  },
  {
   "cell_type": "markdown",
   "id": "3b974b25",
   "metadata": {},
   "source": [
    "basically don't need **def** or **return**"
   ]
  },
  {
   "cell_type": "code",
   "execution_count": 26,
   "id": "0dbc572a",
   "metadata": {},
   "outputs": [
    {
     "data": {
      "text/plain": [
       "[(2, 5, 7), (10, 2, 14), (37, 1, 3)]"
      ]
     },
     "execution_count": 26,
     "metadata": {},
     "output_type": "execute_result"
    }
   ],
   "source": [
    "dict.sort(key = lambda x: x[0])\n",
    "dict"
   ]
  },
  {
   "cell_type": "markdown",
   "id": "91c2f52d",
   "metadata": {},
   "source": [
    "### **Named lambda**"
   ]
  },
  {
   "cell_type": "code",
   "execution_count": 28,
   "id": "143cac86",
   "metadata": {},
   "outputs": [
    {
     "data": {
      "text/plain": [
       "[(2, 5, 7), (10, 2, 14), (37, 1, 3)]"
      ]
     },
     "execution_count": 28,
     "metadata": {},
     "output_type": "execute_result"
    }
   ],
   "source": [
    "get_first = lambda x: x[0]\n",
    "dict.sort(key = get_first)\n",
    "dict"
   ]
  },
  {
   "cell_type": "markdown",
   "id": "2db9695f",
   "metadata": {},
   "source": [
    "### Use inside other functions like **apply**, **map**"
   ]
  },
  {
   "cell_type": "code",
   "execution_count": 36,
   "id": "01055f5d",
   "metadata": {},
   "outputs": [
    {
     "data": {
      "text/html": [
       "<div>\n",
       "<style scoped>\n",
       "    .dataframe tbody tr th:only-of-type {\n",
       "        vertical-align: middle;\n",
       "    }\n",
       "\n",
       "    .dataframe tbody tr th {\n",
       "        vertical-align: top;\n",
       "    }\n",
       "\n",
       "    .dataframe thead th {\n",
       "        text-align: right;\n",
       "    }\n",
       "</style>\n",
       "<table border=\"1\" class=\"dataframe\">\n",
       "  <thead>\n",
       "    <tr style=\"text-align: right;\">\n",
       "      <th></th>\n",
       "      <th>sepal_length</th>\n",
       "      <th>sepal_width</th>\n",
       "      <th>petal_length</th>\n",
       "      <th>petal_width</th>\n",
       "      <th>target</th>\n",
       "      <th>size</th>\n",
       "    </tr>\n",
       "  </thead>\n",
       "  <tbody>\n",
       "    <tr>\n",
       "      <th>0</th>\n",
       "      <td>5.1</td>\n",
       "      <td>3.5</td>\n",
       "      <td>1.4</td>\n",
       "      <td>0.2</td>\n",
       "      <td>0.0</td>\n",
       "      <td>big</td>\n",
       "    </tr>\n",
       "    <tr>\n",
       "      <th>1</th>\n",
       "      <td>4.9</td>\n",
       "      <td>3.0</td>\n",
       "      <td>1.4</td>\n",
       "      <td>0.2</td>\n",
       "      <td>0.0</td>\n",
       "      <td>None</td>\n",
       "    </tr>\n",
       "    <tr>\n",
       "      <th>2</th>\n",
       "      <td>4.7</td>\n",
       "      <td>3.2</td>\n",
       "      <td>1.3</td>\n",
       "      <td>0.2</td>\n",
       "      <td>0.0</td>\n",
       "      <td>None</td>\n",
       "    </tr>\n",
       "  </tbody>\n",
       "</table>\n",
       "</div>"
      ],
      "text/plain": [
       "   sepal_length  sepal_width  petal_length  petal_width  target  size\n",
       "0           5.1          3.5           1.4          0.2     0.0   big\n",
       "1           4.9          3.0           1.4          0.2     0.0  None\n",
       "2           4.7          3.2           1.3          0.2     0.0  None"
      ]
     },
     "execution_count": 36,
     "metadata": {},
     "output_type": "execute_result"
    }
   ],
   "source": [
    "def size(sepal_length):\n",
    "    if sepal_length > 5:\n",
    "        return \"big\"\n",
    "    \n",
    "iris['size'] = iris.apply(lambda x: size(x['sepal_length']),axis=1)\n",
    "iris[0:3]"
   ]
  },
  {
   "cell_type": "markdown",
   "id": "ee110899",
   "metadata": {},
   "source": [
    "Multiple conditions:"
   ]
  },
  {
   "cell_type": "code",
   "execution_count": 33,
   "id": "acb0e9ba",
   "metadata": {},
   "outputs": [
    {
     "data": {
      "text/html": [
       "<div>\n",
       "<style scoped>\n",
       "    .dataframe tbody tr th:only-of-type {\n",
       "        vertical-align: middle;\n",
       "    }\n",
       "\n",
       "    .dataframe tbody tr th {\n",
       "        vertical-align: top;\n",
       "    }\n",
       "\n",
       "    .dataframe thead th {\n",
       "        text-align: right;\n",
       "    }\n",
       "</style>\n",
       "<table border=\"1\" class=\"dataframe\">\n",
       "  <thead>\n",
       "    <tr style=\"text-align: right;\">\n",
       "      <th></th>\n",
       "      <th>sepal_length</th>\n",
       "      <th>sepal_width</th>\n",
       "      <th>petal_length</th>\n",
       "      <th>petal_width</th>\n",
       "      <th>target</th>\n",
       "      <th>size</th>\n",
       "    </tr>\n",
       "  </thead>\n",
       "  <tbody>\n",
       "    <tr>\n",
       "      <th>0</th>\n",
       "      <td>5.1</td>\n",
       "      <td>3.5</td>\n",
       "      <td>1.4</td>\n",
       "      <td>0.2</td>\n",
       "      <td>0.0</td>\n",
       "      <td>big</td>\n",
       "    </tr>\n",
       "    <tr>\n",
       "      <th>1</th>\n",
       "      <td>4.9</td>\n",
       "      <td>3.0</td>\n",
       "      <td>1.4</td>\n",
       "      <td>0.2</td>\n",
       "      <td>0.0</td>\n",
       "      <td>small</td>\n",
       "    </tr>\n",
       "    <tr>\n",
       "      <th>2</th>\n",
       "      <td>4.7</td>\n",
       "      <td>3.2</td>\n",
       "      <td>1.3</td>\n",
       "      <td>0.2</td>\n",
       "      <td>0.0</td>\n",
       "      <td>big</td>\n",
       "    </tr>\n",
       "  </tbody>\n",
       "</table>\n",
       "</div>"
      ],
      "text/plain": [
       "   sepal_length  sepal_width  petal_length  petal_width  target   size\n",
       "0           5.1          3.5           1.4          0.2     0.0    big\n",
       "1           4.9          3.0           1.4          0.2     0.0  small\n",
       "2           4.7          3.2           1.3          0.2     0.0    big"
      ]
     },
     "execution_count": 33,
     "metadata": {},
     "output_type": "execute_result"
    }
   ],
   "source": [
    "def size(sepal_length,sepal_width):\n",
    "    if sepal_length > 4 and sepal_width > 3:\n",
    "        return \"big\"\n",
    "    else:\n",
    "        return \"small\"\n",
    "    \n",
    "iris['size'] = iris.apply(lambda x: size(x['sepal_length'],x['sepal_width']),axis=1)\n",
    "iris[0:3]"
   ]
  },
  {
   "cell_type": "code",
   "execution_count": null,
   "id": "0d1058ec",
   "metadata": {},
   "outputs": [],
   "source": []
  },
  {
   "cell_type": "code",
   "execution_count": null,
   "id": "fde26c8e",
   "metadata": {},
   "outputs": [],
   "source": []
  },
  {
   "cell_type": "code",
   "execution_count": null,
   "id": "56230c9e",
   "metadata": {},
   "outputs": [],
   "source": []
  },
  {
   "cell_type": "markdown",
   "id": "ef21fa7b",
   "metadata": {},
   "source": [
    "# try"
   ]
  },
  {
   "cell_type": "code",
   "execution_count": null,
   "id": "73d63791",
   "metadata": {},
   "outputs": [],
   "source": [
    "import logging\n",
    "logger = logging.getLogger('Training')\n",
    "#logger.setLevel(LEVELS['DEBUG'])\n"
   ]
  },
  {
   "cell_type": "code",
   "execution_count": null,
   "id": "2dcb6c4f",
   "metadata": {},
   "outputs": [],
   "source": [
    " try:\n",
    "            logger.info(f'Initializing the configuration for {kwargs[\"workspace\"]} feature retrieval...')\n",
    "        except Exception as e:\n",
    "            #error\n",
    "            logger.info(e)\n",
    "            raise e"
   ]
  },
  {
   "cell_type": "code",
   "execution_count": null,
   "id": "b0ef0812",
   "metadata": {},
   "outputs": [],
   "source": [
    "class Feature():\n",
    "    def __init__(self, **kwargs):\n",
    "\n",
    "         try:\n",
    "            if not kwargs['num_months']:\n",
    "                num_months = params['range']['num_months']\n",
    "                if num_months < MIN_MONTHS | num_months > MAX_MONTHS:\n",
    "                    raise RuntimeError(f'Invalid num_months specified {num_months} in config, the value'\n",
    "                                        'should be between {MIN_MONTHS} & {MAX_MONTHS}')\n",
    "            else:\n",
    "                num_months = kwargs['num_months']\n",
    "                params['range']['num_months'] = kwargs['num_months']\n",
    "\n",
    "        except Exception as e:\n",
    "            #error\n",
    "            logger.exception(f'Error occurred :- {e}')\n",
    "            raise e"
   ]
  },
  {
   "cell_type": "markdown",
   "id": "4a942054",
   "metadata": {},
   "source": [
    "# Decorators"
   ]
  },
  {
   "cell_type": "markdown",
   "id": "e36005a5",
   "metadata": {},
   "source": [
    "https://towardsdatascience.com/five-advanced-python-features-169c96682350\n",
    "    \n",
    "allow us to modify the behavior of a function without explicitly modifying our function."
   ]
  },
  {
   "cell_type": "code",
   "execution_count": null,
   "id": "9c92924c",
   "metadata": {},
   "outputs": [],
   "source": []
  }
 ],
 "metadata": {
  "kernelspec": {
   "display_name": "Python 3 (ipykernel)",
   "language": "python",
   "name": "python3"
  },
  "language_info": {
   "codemirror_mode": {
    "name": "ipython",
    "version": 3
   },
   "file_extension": ".py",
   "mimetype": "text/x-python",
   "name": "python",
   "nbconvert_exporter": "python",
   "pygments_lexer": "ipython3",
   "version": "3.7.3"
  }
 },
 "nbformat": 4,
 "nbformat_minor": 5
}
