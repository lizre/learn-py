{
 "cells": [
  {
   "cell_type": "markdown",
   "id": "41595abc",
   "metadata": {},
   "source": [
    "# Setup and get data"
   ]
  },
  {
   "cell_type": "markdown",
   "id": "ed97dd35",
   "metadata": {},
   "source": [
    "# Namespaces are where names reference values"
   ]
  },
  {
   "cell_type": "code",
   "execution_count": 32,
   "id": "d3a633ed",
   "metadata": {},
   "outputs": [],
   "source": [
    "list = [1,2,3]"
   ]
  },
  {
   "cell_type": "markdown",
   "id": "8c869786",
   "metadata": {},
   "source": [
    "Python hosts a dictionary where the keys are names and the values are referenced objects:\n"
   ]
  },
  {
   "cell_type": "code",
   "execution_count": 32,
   "id": "7b01b617",
   "metadata": {},
   "outputs": [
    {
     "data": {
      "text/plain": [
       "{'list': [1, 2, 3]}"
      ]
     },
     "execution_count": 32,
     "metadata": {},
     "output_type": "execute_result"
    }
   ],
   "source": [
    "{'list': [1,2,3]}"
   ]
  },
  {
   "cell_type": "markdown",
   "id": "3beee17c",
   "metadata": {},
   "source": [
    "### **Built-in namespace**: always available"
   ]
  },
  {
   "cell_type": "code",
   "execution_count": 2,
   "id": "4a486b18",
   "metadata": {},
   "outputs": [
    {
     "data": {
      "text/plain": [
       "['RuntimeWarning',\n",
       " 'StopAsyncIteration',\n",
       " 'StopIteration',\n",
       " 'SyntaxError',\n",
       " 'SyntaxWarning']"
      ]
     },
     "execution_count": 2,
     "metadata": {},
     "output_type": "execute_result"
    }
   ],
   "source": [
    "dir(__builtins__)[50:55]"
   ]
  },
  {
   "cell_type": "markdown",
   "id": "57d79678",
   "metadata": {},
   "source": [
    "Stored in the `builtins` module:"
   ]
  },
  {
   "cell_type": "code",
   "execution_count": 3,
   "id": "262bcbed",
   "metadata": {},
   "outputs": [
    {
     "data": {
      "text/plain": [
       "<module 'builtins' (built-in)>"
      ]
     },
     "execution_count": 3,
     "metadata": {},
     "output_type": "execute_result"
    }
   ],
   "source": [
    "__builtins__"
   ]
  },
  {
   "cell_type": "code",
   "execution_count": 4,
   "id": "4ca8f947",
   "metadata": {},
   "outputs": [
    {
     "data": {
      "text/plain": [
       "'builtins'"
      ]
     },
     "execution_count": 4,
     "metadata": {},
     "output_type": "execute_result"
    }
   ],
   "source": [
    "__builtins__.str.__module__"
   ]
  },
  {
   "cell_type": "markdown",
   "id": "71c2e278",
   "metadata": {},
   "source": [
    "### Global namespace"
   ]
  },
  {
   "cell_type": "markdown",
   "id": "6c2668c5",
   "metadata": {},
   "source": [
    "nested inside builtin namespace.\n",
    "<br>Each module or file has a global namespace"
   ]
  },
  {
   "cell_type": "code",
   "execution_count": 5,
   "id": "7720d465",
   "metadata": {},
   "outputs": [
    {
     "data": {
      "text/plain": [
       "builtin_function_or_method"
      ]
     },
     "execution_count": 5,
     "metadata": {},
     "output_type": "execute_result"
    }
   ],
   "source": [
    "type(globals)"
   ]
  },
  {
   "cell_type": "code",
   "execution_count": 45,
   "id": "53d47a8f",
   "metadata": {},
   "outputs": [
    {
     "name": "stdout",
     "output_type": "stream",
     "text": [
      "[1, 2, 3]\n"
     ]
    },
    {
     "data": {
      "text/plain": [
       "100"
      ]
     },
     "execution_count": 45,
     "metadata": {},
     "output_type": "execute_result"
    }
   ],
   "source": [
    "print(globals()['list'])\n",
    "globals()['y'] = 100\n",
    "globals()['y']"
   ]
  },
  {
   "cell_type": "code",
   "execution_count": 41,
   "id": "c69755ac",
   "metadata": {},
   "outputs": [],
   "source": [
    "#Also try:\n",
    "#print(dir(globals()))\n",
    "#print(globals())"
   ]
  },
  {
   "cell_type": "code",
   "execution_count": 46,
   "id": "c3ed0551",
   "metadata": {},
   "outputs": [],
   "source": [
    "import numpy as np"
   ]
  },
  {
   "cell_type": "code",
   "execution_count": 48,
   "id": "2c278279",
   "metadata": {},
   "outputs": [
    {
     "data": {
      "text/plain": [
       "<module 'numpy' from '/Users/lizre/.pyenv/versions/3.7.3/lib/python3.7/site-packages/numpy/__init__.py'>"
      ]
     },
     "execution_count": 48,
     "metadata": {},
     "output_type": "execute_result"
    }
   ],
   "source": [
    "globals()['np']"
   ]
  },
  {
   "cell_type": "code",
   "execution_count": 51,
   "id": "71879a29",
   "metadata": {},
   "outputs": [
    {
     "data": {
      "text/plain": [
       "['conjugate', 'convolve', 'copy', 'copysign', 'copyto']"
      ]
     },
     "execution_count": 51,
     "metadata": {},
     "output_type": "execute_result"
    }
   ],
   "source": [
    "dir(np)[170:175]"
   ]
  },
  {
   "cell_type": "markdown",
   "id": "3ce5b1f6",
   "metadata": {},
   "source": [
    "### local/enclosing namespace"
   ]
  },
  {
   "cell_type": "markdown",
   "id": "a84ba8af",
   "metadata": {},
   "source": [
    "nested inside global namespace\n",
    "<br>whenever a function executes"
   ]
  },
  {
   "cell_type": "markdown",
   "id": "3a62a185",
   "metadata": {},
   "source": [
    "Functions can find globals:"
   ]
  },
  {
   "cell_type": "code",
   "execution_count": 55,
   "id": "f3a33733",
   "metadata": {},
   "outputs": [
    {
     "name": "stdout",
     "output_type": "stream",
     "text": [
      "global\n",
      "{'nested_value': 'Inside Function'}\n"
     ]
    }
   ],
   "source": [
    "global_variable = 'global' \n",
    "def Fun():\n",
    "  nested_value = 'Inside Function'   \n",
    "  print(global_variable)\n",
    "  print(locals()) \n",
    "Fun()"
   ]
  },
  {
   "cell_type": "markdown",
   "id": "47d25b8f",
   "metadata": {},
   "source": [
    "But global cannot find local:"
   ]
  },
  {
   "cell_type": "code",
   "execution_count": 56,
   "id": "7c6b32dc",
   "metadata": {},
   "outputs": [
    {
     "ename": "NameError",
     "evalue": "name 'nested_value' is not defined",
     "output_type": "error",
     "traceback": [
      "\u001b[0;31m---------------------------------------------------------------------------\u001b[0m",
      "\u001b[0;31mNameError\u001b[0m                                 Traceback (most recent call last)",
      "\u001b[0;32m/var/folders/gp/z24fr38j1dn7mrpvbdkwsw180000gn/T/ipykernel_72233/1248328906.py\u001b[0m in \u001b[0;36m<module>\u001b[0;34m\u001b[0m\n\u001b[0;32m----> 1\u001b[0;31m \u001b[0mnested_value\u001b[0m\u001b[0;34m\u001b[0m\u001b[0;34m\u001b[0m\u001b[0m\n\u001b[0m",
      "\u001b[0;31mNameError\u001b[0m: name 'nested_value' is not defined"
     ]
    }
   ],
   "source": [
    "nested_value"
   ]
  },
  {
   "cell_type": "markdown",
   "id": "4846afbf",
   "metadata": {},
   "source": [
    "`variable` is different in global and local:"
   ]
  },
  {
   "cell_type": "code",
   "execution_count": 58,
   "id": "cec64845",
   "metadata": {},
   "outputs": [
    {
     "name": "stdout",
     "output_type": "stream",
     "text": [
      "local\n",
      "global\n"
     ]
    }
   ],
   "source": [
    "variable = 'global' \n",
    "def Fun():\n",
    "  variable = 'local'   \n",
    "  print(variable) \n",
    "Fun()\n",
    "print(variable)"
   ]
  },
  {
   "cell_type": "markdown",
   "id": "28746bd8",
   "metadata": {},
   "source": [
    "# Scope"
   ]
  },
  {
   "cell_type": "markdown",
   "id": "ec66e75d",
   "metadata": {},
   "source": [
    "which namespaces our program will look into (to check names) and in what order"
   ]
  },
  {
   "cell_type": "markdown",
   "id": "f9ffb9d4",
   "metadata": {},
   "source": [
    "Scope of print(x) is global, but x doesn't exist in global:"
   ]
  },
  {
   "cell_type": "code",
   "execution_count": 66,
   "id": "10cb0da8",
   "metadata": {},
   "outputs": [
    {
     "ename": "NameError",
     "evalue": "name 'x' is not defined",
     "output_type": "error",
     "traceback": [
      "\u001b[0;31m---------------------------------------------------------------------------\u001b[0m",
      "\u001b[0;31mNameError\u001b[0m                                 Traceback (most recent call last)",
      "\u001b[0;32m/var/folders/gp/z24fr38j1dn7mrpvbdkwsw180000gn/T/ipykernel_72233/3185589098.py\u001b[0m in \u001b[0;36m<module>\u001b[0;34m\u001b[0m\n\u001b[1;32m      1\u001b[0m \u001b[0;32mdef\u001b[0m \u001b[0mFun\u001b[0m\u001b[0;34m(\u001b[0m\u001b[0;34m)\u001b[0m\u001b[0;34m:\u001b[0m\u001b[0;34m\u001b[0m\u001b[0;34m\u001b[0m\u001b[0m\n\u001b[1;32m      2\u001b[0m   \u001b[0mx\u001b[0m \u001b[0;34m=\u001b[0m \u001b[0;36m100\u001b[0m\u001b[0;34m\u001b[0m\u001b[0;34m\u001b[0m\u001b[0m\n\u001b[0;32m----> 3\u001b[0;31m \u001b[0mprint\u001b[0m\u001b[0;34m(\u001b[0m\u001b[0mx\u001b[0m\u001b[0;34m)\u001b[0m\u001b[0;34m\u001b[0m\u001b[0;34m\u001b[0m\u001b[0m\n\u001b[0m",
      "\u001b[0;31mNameError\u001b[0m: name 'x' is not defined"
     ]
    }
   ],
   "source": [
    "def Fun():\n",
    "  x = 100\n",
    "print(x)"
   ]
  },
  {
   "cell_type": "markdown",
   "id": "5ad7a0ae",
   "metadata": {},
   "source": [
    "# Chained assignment"
   ]
  },
  {
   "cell_type": "code",
   "execution_count": 7,
   "id": "24e56e0a",
   "metadata": {},
   "outputs": [],
   "source": [
    "pd.options.mode.chained_assignment = \"warn\"  # None to disable chained assignments, otherwise \"warn\" is default\n",
    "\n",
    "iris['sepal_width'] = iris['sepal_width'].astype(str)\n",
    "\n",
    "# https://np.reddit.com/r/learnpython/comments/lcmb88/why_am_i_getting_a_settingwithcopywarning_on_this/gm2lgkv/\n",
    "# This will not have an effect on on the original df since there's an intermediate frame created and then modified, but that is not your original df.\n",
    "# modifications do not propagate back to the original data \n",
    "\n"
   ]
  },
  {
   "cell_type": "markdown",
   "id": "bf03be97",
   "metadata": {},
   "source": [
    "x and y arent the list per se, they are _references_ to the list."
   ]
  },
  {
   "cell_type": "code",
   "execution_count": 2,
   "id": "26bb0965",
   "metadata": {},
   "outputs": [
    {
     "name": "stdout",
     "output_type": "stream",
     "text": [
      "[3, 4]\n"
     ]
    }
   ],
   "source": [
    "x = [3, 4]; y = x; print(y)"
   ]
  },
  {
   "cell_type": "code",
   "execution_count": 3,
   "id": "f815f227",
   "metadata": {},
   "outputs": [],
   "source": [
    "del(x[0])"
   ]
  },
  {
   "cell_type": "code",
   "execution_count": 6,
   "id": "b2b6261d",
   "metadata": {},
   "outputs": [
    {
     "name": "stdout",
     "output_type": "stream",
     "text": [
      "[4]\n",
      "[4]\n"
     ]
    }
   ],
   "source": [
    "print(x); print(y)"
   ]
  },
  {
   "cell_type": "markdown",
   "id": "12f8a233",
   "metadata": {},
   "source": [
    "when x is reassgined, y doesn't follow:"
   ]
  },
  {
   "cell_type": "code",
   "execution_count": 69,
   "id": "801755a3",
   "metadata": {},
   "outputs": [
    {
     "name": "stdout",
     "output_type": "stream",
     "text": [
      "[5, 6, 7]\n"
     ]
    },
    {
     "data": {
      "text/plain": [
       "3"
      ]
     },
     "execution_count": 69,
     "metadata": {},
     "output_type": "execute_result"
    }
   ],
   "source": [
    "x = [5,6,7]\n",
    "print(x)\n",
    "y"
   ]
  },
  {
   "cell_type": "code",
   "execution_count": null,
   "id": "3fbcfa3a",
   "metadata": {},
   "outputs": [],
   "source": []
  },
  {
   "cell_type": "markdown",
   "id": "7c6b5d7d",
   "metadata": {},
   "source": [
    "### settingwithcopywarning\n"
   ]
  },
  {
   "cell_type": "code",
   "execution_count": 7,
   "id": "83cdc277",
   "metadata": {
    "scrolled": true
   },
   "outputs": [
    {
     "ename": "NameError",
     "evalue": "name 'pd' is not defined",
     "output_type": "error",
     "traceback": [
      "\u001b[0;31m---------------------------------------------------------------------------\u001b[0m",
      "\u001b[0;31mNameError\u001b[0m                                 Traceback (most recent call last)",
      "\u001b[0;32m/var/folders/gp/z24fr38j1dn7mrpvbdkwsw180000gn/T/ipykernel_53400/3973960161.py\u001b[0m in \u001b[0;36m<module>\u001b[0;34m\u001b[0m\n\u001b[0;32m----> 1\u001b[0;31m \u001b[0mpd\u001b[0m\u001b[0;34m.\u001b[0m\u001b[0moptions\u001b[0m\u001b[0;34m.\u001b[0m\u001b[0mmode\u001b[0m\u001b[0;34m.\u001b[0m\u001b[0mchained_assignment\u001b[0m \u001b[0;34m=\u001b[0m \u001b[0;34m\"warn\"\u001b[0m  \u001b[0;31m# None to disable chained assignments, otherwise \"warn\" is default\u001b[0m\u001b[0;34m\u001b[0m\u001b[0;34m\u001b[0m\u001b[0m\n\u001b[0m\u001b[1;32m      2\u001b[0m \u001b[0;34m\u001b[0m\u001b[0m\n\u001b[1;32m      3\u001b[0m \u001b[0mtrain_set\u001b[0m\u001b[0;34m[\u001b[0m\u001b[0;34m'created_at'\u001b[0m\u001b[0;34m]\u001b[0m \u001b[0;34m=\u001b[0m \u001b[0mtrain_set\u001b[0m\u001b[0;34m[\u001b[0m\u001b[0;34m'created_at'\u001b[0m\u001b[0;34m]\u001b[0m\u001b[0;34m.\u001b[0m\u001b[0mastype\u001b[0m\u001b[0;34m(\u001b[0m\u001b[0mstr\u001b[0m\u001b[0;34m)\u001b[0m\u001b[0;34m\u001b[0m\u001b[0;34m\u001b[0m\u001b[0m\n\u001b[1;32m      4\u001b[0m \u001b[0;34m\u001b[0m\u001b[0m\n\u001b[1;32m      5\u001b[0m \u001b[0;31m# https://np.reddit.com/r/learnpython/comments/lcmb88/why_am_i_getting_a_settingwithcopywarning_on_this/gm2lgkv/\u001b[0m\u001b[0;34m\u001b[0m\u001b[0;34m\u001b[0m\u001b[0;34m\u001b[0m\u001b[0m\n",
      "\u001b[0;31mNameError\u001b[0m: name 'pd' is not defined"
     ]
    }
   ],
   "source": [
    "pd.options.mode.chained_assignment = \"warn\"  # None to disable chained assignments, otherwise \"warn\" is default\n",
    "\n",
    "train_set['created_at'] = train_set['created_at'].astype(str)\n",
    "\n",
    "# https://np.reddit.com/r/learnpython/comments/lcmb88/why_am_i_getting_a_settingwithcopywarning_on_this/gm2lgkv/\n",
    "# This will not have an effect on on the original df since there's an intermediate frame created and then modified, but that is not your original df.\n",
    "# modifications do not propagate back to the original data \n"
   ]
  },
  {
   "cell_type": "code",
   "execution_count": null,
   "id": "3f0887a2",
   "metadata": {},
   "outputs": [],
   "source": []
  },
  {
   "cell_type": "markdown",
   "id": "4a942054",
   "metadata": {},
   "source": [
    "# Details"
   ]
  },
  {
   "cell_type": "markdown",
   "id": "e36005a5",
   "metadata": {},
   "source": [
    "[more on names](https://nedbatchelder.com/text/names.html)\n",
    "    \n",
    "How naming relates to mutability\n",
    "Mutable means that the value has methods that can change the value in-place. Immutable means that the value can never change, instead when you think you are changing the value, you are really making new values from old ones.\n",
    "- http://radar.oreilly.com/2014/10/python-tuples-immutable-but-potentially-changing.html\n",
    "- http://inventwithpython.com/blog/2018/02/05/python-tuples-are-immutable-except-when-theyre-mutable/\n"
   ]
  }
 ],
 "metadata": {
  "kernelspec": {
   "display_name": "Python 3 (ipykernel)",
   "language": "python",
   "name": "python3"
  },
  "language_info": {
   "codemirror_mode": {
    "name": "ipython",
    "version": 3
   },
   "file_extension": ".py",
   "mimetype": "text/x-python",
   "name": "python",
   "nbconvert_exporter": "python",
   "pygments_lexer": "ipython3",
   "version": "3.7.3"
  }
 },
 "nbformat": 4,
 "nbformat_minor": 5
}
