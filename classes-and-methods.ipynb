{
 "cells": [
  {
   "cell_type": "markdown",
   "id": "74dfd26f",
   "metadata": {},
   "source": [
    "# Write classes"
   ]
  },
  {
   "cell_type": "markdown",
   "id": "a1d86e94",
   "metadata": {},
   "source": [
    "### `self` means \"this instance\""
   ]
  },
  {
   "cell_type": "markdown",
   "id": "595a519b",
   "metadata": {},
   "source": [
    "When you define a method, first parameter is the object calling the method. This argument is usually called \"self\", but that's arbitrary!\n"
   ]
  },
  {
   "cell_type": "code",
   "execution_count": 143,
   "id": "06e2927d",
   "metadata": {},
   "outputs": [],
   "source": [
    "class animal_withself:\n",
    "    def sayhi(self):  \n",
    "        print(\"hi\")"
   ]
  },
  {
   "cell_type": "markdown",
   "id": "0e4d9209",
   "metadata": {},
   "source": [
    "\n",
    "Same as:"
   ]
  },
  {
   "cell_type": "code",
   "execution_count": 3,
   "id": "cc9f958d",
   "metadata": {},
   "outputs": [],
   "source": [
    "class animal1_with_animal_instance:\n",
    "    def sayhi(animal_instance):  \n",
    "        print(\"hi\")"
   ]
  },
  {
   "cell_type": "code",
   "execution_count": 4,
   "id": "d99b531c",
   "metadata": {
    "scrolled": true
   },
   "outputs": [
    {
     "name": "stdout",
     "output_type": "stream",
     "text": [
      "hi\n",
      "hi\n"
     ]
    }
   ],
   "source": [
    "misty0 = animal_withself()\n",
    "misty0.sayhi()\n",
    "misty1 = animal1_with_animal_instance()\n",
    "misty1.sayhi()"
   ]
  },
  {
   "cell_type": "markdown",
   "id": "05ac2065",
   "metadata": {},
   "source": [
    "### Why do self.parameter?"
   ]
  },
  {
   "cell_type": "markdown",
   "id": "033168ee",
   "metadata": {},
   "source": [
    "What do selfy parameters:\n",
    "<br>`def __init__: (self, parameter0, parameter1):`\n",
    "<br>&nbsp; &nbsp;     `self.parameter0 = parameter0`\n",
    "<br>&nbsp; &nbsp;     `self.parameter1 = parameter1`\n",
    "\n",
    "offer over\n",
    "\n",
    "plain parameters:\n",
    "<br>`def __init__: (self, parameter0, parameter1):`\n",
    "<br>&nbsp; &nbsp;    `parameter0, parameter1`\n",
    "\n",
    "?\n"
   ]
  },
  {
   "cell_type": "markdown",
   "id": "b8987d73",
   "metadata": {},
   "source": [
    "With plain parameters:"
   ]
  },
  {
   "cell_type": "code",
   "execution_count": 95,
   "id": "bb38406a",
   "metadata": {},
   "outputs": [],
   "source": [
    "class Annie0:\n",
    "    def __init__(self, species, movementtype):\n",
    "        species, movementtype\n",
    "    def move(self):\n",
    "        print(\"This animal is \" + self.movementtype + \"ing\")"
   ]
  },
  {
   "cell_type": "code",
   "execution_count": 96,
   "id": "bcd326d8",
   "metadata": {},
   "outputs": [],
   "source": [
    "jobie0 = Annie0(species=\"doggie\", movementtype = \"walk\")"
   ]
  },
  {
   "cell_type": "markdown",
   "id": "5a510dbb",
   "metadata": {},
   "source": [
    "The `move` method can't find `movementtype`, even though we set it when creating jobie0:"
   ]
  },
  {
   "cell_type": "code",
   "execution_count": 97,
   "id": "6f51de8a",
   "metadata": {},
   "outputs": [
    {
     "ename": "AttributeError",
     "evalue": "'Annie0' object has no attribute 'movementtype'",
     "output_type": "error",
     "traceback": [
      "\u001b[0;31m---------------------------------------------------------------------------\u001b[0m",
      "\u001b[0;31mAttributeError\u001b[0m                            Traceback (most recent call last)",
      "\u001b[0;32m/var/folders/gp/z24fr38j1dn7mrpvbdkwsw180000gn/T/ipykernel_68279/1449738020.py\u001b[0m in \u001b[0;36m<module>\u001b[0;34m\u001b[0m\n\u001b[0;32m----> 1\u001b[0;31m \u001b[0mjobie0\u001b[0m\u001b[0;34m.\u001b[0m\u001b[0mmove\u001b[0m\u001b[0;34m(\u001b[0m\u001b[0;34m)\u001b[0m\u001b[0;34m\u001b[0m\u001b[0;34m\u001b[0m\u001b[0m\n\u001b[0m",
      "\u001b[0;32m/var/folders/gp/z24fr38j1dn7mrpvbdkwsw180000gn/T/ipykernel_68279/1545516876.py\u001b[0m in \u001b[0;36mmove\u001b[0;34m(self)\u001b[0m\n\u001b[1;32m      3\u001b[0m         \u001b[0mspecies\u001b[0m\u001b[0;34m,\u001b[0m \u001b[0mmovementtype\u001b[0m\u001b[0;34m\u001b[0m\u001b[0;34m\u001b[0m\u001b[0m\n\u001b[1;32m      4\u001b[0m     \u001b[0;32mdef\u001b[0m \u001b[0mmove\u001b[0m\u001b[0;34m(\u001b[0m\u001b[0mself\u001b[0m\u001b[0;34m)\u001b[0m\u001b[0;34m:\u001b[0m\u001b[0;34m\u001b[0m\u001b[0;34m\u001b[0m\u001b[0m\n\u001b[0;32m----> 5\u001b[0;31m         \u001b[0mprint\u001b[0m\u001b[0;34m(\u001b[0m\u001b[0;34m\"This animal is \"\u001b[0m \u001b[0;34m+\u001b[0m \u001b[0mself\u001b[0m\u001b[0;34m.\u001b[0m\u001b[0mmovementtype\u001b[0m \u001b[0;34m+\u001b[0m \u001b[0;34m\"ing\"\u001b[0m\u001b[0;34m)\u001b[0m\u001b[0;34m\u001b[0m\u001b[0;34m\u001b[0m\u001b[0m\n\u001b[0m",
      "\u001b[0;31mAttributeError\u001b[0m: 'Annie0' object has no attribute 'movementtype'"
     ]
    }
   ],
   "source": [
    "jobie0.move()"
   ]
  },
  {
   "cell_type": "markdown",
   "id": "1fbc51da",
   "metadata": {},
   "source": [
    "You can also see that `movementtype` isn't in list of jobie0's attributes:"
   ]
  },
  {
   "cell_type": "markdown",
   "id": "3bbd3c1f",
   "metadata": {},
   "source": [
    "To work, need to define movementtype within the method:"
   ]
  },
  {
   "cell_type": "code",
   "execution_count": 161,
   "id": "bec8c454",
   "metadata": {},
   "outputs": [],
   "source": [
    "class Annie00:\n",
    "    def __init__(self, species, movementtype):\n",
    "        species, movementtype\n",
    "    def move(self, movementtype):\n",
    "        print(\"This animal is \" + movementtype + \"ing\")"
   ]
  },
  {
   "cell_type": "code",
   "execution_count": 162,
   "id": "85eec7fa",
   "metadata": {},
   "outputs": [],
   "source": [
    "jobie00 = Annie00(species=\"doggie\", movementtype = \"walk\")"
   ]
  },
  {
   "cell_type": "code",
   "execution_count": 164,
   "id": "37cc25cb",
   "metadata": {},
   "outputs": [
    {
     "name": "stdout",
     "output_type": "stream",
     "text": [
      "This animal is walking\n"
     ]
    }
   ],
   "source": [
    "jobie00.move(\"walk\")"
   ]
  },
  {
   "cell_type": "markdown",
   "id": "cbc92135",
   "metadata": {},
   "source": [
    "With self-y parameters, `move` method works:"
   ]
  },
  {
   "cell_type": "code",
   "execution_count": 98,
   "id": "ebdc2e84",
   "metadata": {},
   "outputs": [],
   "source": [
    "class Annie1:\n",
    "    def __init__(self, species, movementtype):\n",
    "        self.species = species\n",
    "        self.movementtype = movementtype\n",
    "    def move(self):\n",
    "        print(\"This animal is \" + self.movementtype + \"ing\")\n",
    "\n",
    "        "
   ]
  },
  {
   "cell_type": "code",
   "execution_count": 99,
   "id": "90e44d8f",
   "metadata": {},
   "outputs": [],
   "source": [
    "jobie1 = Annie1(species=\"doggie\", movementtype = \"walk\")"
   ]
  },
  {
   "cell_type": "code",
   "execution_count": 100,
   "id": "8bd91cfc",
   "metadata": {},
   "outputs": [
    {
     "name": "stdout",
     "output_type": "stream",
     "text": [
      "This animal is walking\n"
     ]
    }
   ],
   "source": [
    "jobie1.move()"
   ]
  },
  {
   "cell_type": "markdown",
   "id": "0bb5692b",
   "metadata": {},
   "source": [
    "And movementtype and species are now in the list of attributes:"
   ]
  },
  {
   "cell_type": "code",
   "execution_count": 169,
   "id": "ebd42bc1",
   "metadata": {
    "scrolled": true
   },
   "outputs": [
    {
     "name": "stdout",
     "output_type": "stream",
     "text": [
      "['__class__', '__delattr__', '__dict__', '__dir__', '__doc__', '__eq__', '__format__', '__ge__', '__getattribute__', '__gt__', '__hash__', '__init__', '__init_subclass__', '__le__', '__lt__', '__module__', '__ne__', '__new__', '__reduce__', '__reduce_ex__', '__repr__', '__setattr__', '__sizeof__', '__str__', '__subclasshook__', '__weakref__', 'move', 'movementtype', 'species']\n"
     ]
    }
   ],
   "source": [
    "print(dir(jobie1))"
   ]
  },
  {
   "cell_type": "markdown",
   "id": "cc8f8b16",
   "metadata": {},
   "source": [
    "## Docstring and Assertion"
   ]
  },
  {
   "cell_type": "code",
   "execution_count": 91,
   "id": "a3f1c4bb",
   "metadata": {
    "scrolled": false
   },
   "outputs": [],
   "source": [
    "class Annie2:\n",
    "    \"\"\"An animal.\"\"\"\n",
    "    def __init__(self, species, movementtype):\n",
    "        self.species = species\n",
    "        self.movementtype = movementtype\n",
    "        assert(isinstance(movementtype, str))\n",
    "    def move(self):\n",
    "        print(\"This animal is \" + self.movementtype + \"ing\")"
   ]
  },
  {
   "cell_type": "code",
   "execution_count": null,
   "id": "b2c6d83a",
   "metadata": {},
   "outputs": [],
   "source": []
  },
  {
   "cell_type": "markdown",
   "id": "43ead6d3",
   "metadata": {},
   "source": [
    "## Class attributes\n",
    "https://www.toptal.com/python/python-class-attributes-an-overly-thorough-guide"
   ]
  },
  {
   "cell_type": "code",
   "execution_count": 151,
   "id": "1de5d426",
   "metadata": {},
   "outputs": [],
   "source": [
    "class animal:\n",
    "    life = \"alive\" # set \"life\" attribute, so all animals have life\n",
    "    def sayhi(animal_instance):\n",
    "        print(\"hi\")"
   ]
  },
  {
   "cell_type": "code",
   "execution_count": 153,
   "id": "70ba5508",
   "metadata": {},
   "outputs": [],
   "source": [
    "doe = animal()"
   ]
  },
  {
   "cell_type": "markdown",
   "id": "2200211a",
   "metadata": {},
   "source": [
    "`life` and `sayhi` now both in list of attributes"
   ]
  },
  {
   "cell_type": "code",
   "execution_count": 156,
   "id": "82e4eaa2",
   "metadata": {},
   "outputs": [
    {
     "name": "stdout",
     "output_type": "stream",
     "text": [
      "['__class__', '__delattr__', '__dict__', '__dir__', '__doc__', '__eq__', '__format__', '__ge__', '__getattribute__', '__gt__', '__hash__', '__init__', '__init_subclass__', '__le__', '__lt__', '__module__', '__ne__', '__new__', '__reduce__', '__reduce_ex__', '__repr__', '__setattr__', '__sizeof__', '__str__', '__subclasshook__', '__weakref__', 'life', 'sayhi']\n"
     ]
    }
   ],
   "source": [
    "print(dir(doe))"
   ]
  },
  {
   "cell_type": "code",
   "execution_count": null,
   "id": "ef53219c",
   "metadata": {},
   "outputs": [],
   "source": []
  },
  {
   "cell_type": "code",
   "execution_count": null,
   "id": "0b576d8a",
   "metadata": {},
   "outputs": [],
   "source": []
  },
  {
   "cell_type": "markdown",
   "id": "b0130726",
   "metadata": {},
   "source": [
    "### super init"
   ]
  },
  {
   "cell_type": "code",
   "execution_count": null,
   "id": "35234edd",
   "metadata": {},
   "outputs": [],
   "source": [
    "\n",
    "https://realpython.com/python-super/"
   ]
  },
  {
   "cell_type": "code",
   "execution_count": null,
   "id": "11693ec7",
   "metadata": {},
   "outputs": [],
   "source": []
  },
  {
   "cell_type": "code",
   "execution_count": null,
   "id": "b7c8e8f6",
   "metadata": {},
   "outputs": [],
   "source": []
  },
  {
   "cell_type": "code",
   "execution_count": null,
   "id": "635aa418",
   "metadata": {},
   "outputs": [],
   "source": []
  },
  {
   "cell_type": "markdown",
   "id": "2deffc32",
   "metadata": {},
   "source": [
    "## `*args` and `**kwargs`\n"
   ]
  },
  {
   "cell_type": "markdown",
   "id": "76e0a585",
   "metadata": {},
   "source": [
    "https://realpython.com/python-kwargs-and-args/\n",
    "<br>let your functions take an arbitrary number of keyword arguments (\"kwargs\" means \"keyword arguments\")"
   ]
  },
  {
   "cell_type": "markdown",
   "id": "514ebfb2",
   "metadata": {},
   "source": [
    "`*args`"
   ]
  },
  {
   "cell_type": "code",
   "execution_count": 69,
   "id": "da04b6dd",
   "metadata": {},
   "outputs": [
    {
     "name": "stdout",
     "output_type": "stream",
     "text": [
      "first normal arg: 1\n",
      "another arg through *arglist: 3\n",
      "another arg through *arglist: hi\n"
     ]
    }
   ],
   "source": [
    "def myFun(normal_arg, *arglist):\n",
    "    print(\"first normal arg:\", normal_arg)\n",
    "    for arg in arglist:\n",
    "        print(\"another arg through *arglist:\", arg)\n",
    "\n",
    "myFun('1', 3, 'hi')"
   ]
  },
  {
   "cell_type": "markdown",
   "id": "eb40313f",
   "metadata": {},
   "source": [
    "`*` \"unpacks\" the passed tuple (NOT a list)."
   ]
  },
  {
   "cell_type": "markdown",
   "id": "b729e83a",
   "metadata": {},
   "source": [
    "`**kwargs`"
   ]
  },
  {
   "cell_type": "code",
   "execution_count": 71,
   "id": "199b3535",
   "metadata": {},
   "outputs": [
    {
     "name": "stdout",
     "output_type": "stream",
     "text": [
      "('first', 'li')\n",
      "('mid', 're')\n",
      "('now', 5)\n"
     ]
    }
   ],
   "source": [
    "def myFun(**kwargs):\n",
    "    for key, value in kwargs.items():\n",
    "        print ((key, value))\n",
    " \n",
    "myFun(first ='li', mid ='re', now = 5)   "
   ]
  },
  {
   "cell_type": "markdown",
   "id": "a8dca990",
   "metadata": {},
   "source": [
    "Why?\n",
    "<br>https://stackoverflow.com/questions/1769403/what-is-the-purpose-and-use-of-kwargs\n",
    "<br>because ** unpacks dictionaries:\n"
   ]
  },
  {
   "cell_type": "markdown",
   "id": "ebb49ac3",
   "metadata": {},
   "source": [
    "the `myFun(first ='li', mid ='re', now = 5)` above\n",
    "<br> is the same as"
   ]
  },
  {
   "cell_type": "code",
   "execution_count": 74,
   "id": "8285179e",
   "metadata": {},
   "outputs": [
    {
     "name": "stdout",
     "output_type": "stream",
     "text": [
      "('first', 'li')\n",
      "('mid', 're')\n",
      "('now', 5)\n"
     ]
    }
   ],
   "source": [
    "args = {'first': 'li', 'mid': 're', 'now': 5}\n",
    "myFun(**args)"
   ]
  },
  {
   "cell_type": "markdown",
   "id": "ef21fa7b",
   "metadata": {},
   "source": [
    "## try"
   ]
  },
  {
   "cell_type": "code",
   "execution_count": null,
   "id": "73d63791",
   "metadata": {},
   "outputs": [],
   "source": [
    "import logging\n",
    "logger = logging.getLogger('Training')\n",
    "#logger.setLevel(LEVELS['DEBUG'])\n"
   ]
  },
  {
   "cell_type": "code",
   "execution_count": null,
   "id": "2dcb6c4f",
   "metadata": {},
   "outputs": [],
   "source": [
    " try:\n",
    "            logger.info(f'Initializing the configuration for {kwargs[\"workspace\"]} feature retrieval...')\n",
    "        except Exception as e:\n",
    "            #error\n",
    "            logger.info(e)\n",
    "            raise e"
   ]
  },
  {
   "cell_type": "code",
   "execution_count": null,
   "id": "b0ef0812",
   "metadata": {},
   "outputs": [],
   "source": [
    "class Feature():\n",
    "    def __init__(self, **kwargs):\n",
    "\n",
    "         try:\n",
    "            if not kwargs['num_months']:\n",
    "                num_months = params['range']['num_months']\n",
    "                if num_months < MIN_MONTHS | num_months > MAX_MONTHS:\n",
    "                    raise RuntimeError(f'Invalid num_months specified {num_months} in config, the value'\n",
    "                                        'should be between {MIN_MONTHS} & {MAX_MONTHS}')\n",
    "            else:\n",
    "                num_months = kwargs['num_months']\n",
    "                params['range']['num_months'] = kwargs['num_months']\n",
    "\n",
    "        except Exception as e:\n",
    "            #error\n",
    "            logger.exception(f'Error occurred :- {e}')\n",
    "            raise e"
   ]
  }
 ],
 "metadata": {
  "kernelspec": {
   "display_name": "Python 3 (ipykernel)",
   "language": "python",
   "name": "python3"
  },
  "language_info": {
   "codemirror_mode": {
    "name": "ipython",
    "version": 3
   },
   "file_extension": ".py",
   "mimetype": "text/x-python",
   "name": "python",
   "nbconvert_exporter": "python",
   "pygments_lexer": "ipython3",
   "version": "3.7.3"
  }
 },
 "nbformat": 4,
 "nbformat_minor": 5
}
