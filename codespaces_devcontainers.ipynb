{
 "cells": [
  {
   "cell_type": "markdown",
   "metadata": {},
   "source": [
    "# An environment for everyone: Codespaces devcontainers"
   ]
  },
  {
   "cell_type": "markdown",
   "metadata": {},
   "source": [
    "\n",
    "## 🚀🚀🚀 \n",
    "## TLDR;\n",
    "\n",
    "You can run a codespace without a devcontainer, but use devcontainers to set up VSCode in Codespaces with all the things you need, like an OS, Python, and your requirements. The codespace user doesn't have to install anything, or `run` and `build` Docker. You just open the codespace and are ready to code. \n",
    "\n",
    "Minimal requirements to run a devcontainer are just `/.devcontainer`, a dockerfile and a `devcontainer.json`.\n",
    "\n",
    "But here are all the components we'll cover: \n",
    "\n",
    "### A `/.devcontainer` 🫙 with:\n",
    "\n",
    "1) a **dockerfile 🐳**: instructions of OS and Python and reuirements.txt to use in the Codespace\n",
    "2) a **`devcontainer.json`** that says to use the Dockerfile, and sets some other stuff up\n",
    "3) Optionally, additional scripts as `RUN` in Dockerfile or as **lifecycle scripts** using `Command` family of properties\n",
    "\n",
    "### As needed, secret/key access 🔑 \n",
    "Configured on github.com Settings.\n",
    "\n",
    "### Maintenance tools \n",
    "Like a playbook and unit tests for codespace-related files\n",
    "\n",
    "### Optionally: \n",
    "- 🧪 **Tests** that codespace was built correctly \n",
    "- ⚙️ **VSCode settings** to, e.g., include certain extensions\n",
    "- 🏗 **Prebuild**: makes building codespace faster\n",
    "\n",
    "\n",
    "\n",
    "<br>\n",
    "\n",
    "<br>\n",
    "\n",
    "< end TLDR; >\n",
    "\n",
    "## 🚀🚀🚀\n",
    "\n",
    "<br>\n",
    "<br>\n"
   ]
  },
  {
   "cell_type": "markdown",
   "metadata": {},
   "source": [
    "# `/.devcontainer` 🫙\n",
    "\n",
    "Examples: [base](https://github.com/microsoft/vscode-dev-containers/blob/v0.222.0/containers/python-3/.devcontainer/base.Dockerfile), [security-advisory-filtering](https://github.com/github/security-advisory-filtering/commit/3938d544b471ee1f81e7e663ee14fd8714c90ac7), [airflow](https://github.com/github/airflow-sources/tree/master/.devcontainer), [actions-aml](https://github.com/github/actions-aml/blob/main/.devcontainer/Dockerfile); [teaching template](https://github.com/education/codespaces-teaching-template-py/blob/main/.devcontainer/Dockerfile)\n"
   ]
  },
  {
   "cell_type": "markdown",
   "metadata": {},
   "source": [
    "\n",
    "## `/.devcontainer` 🫙 component 1: dockerfile 🐳\n",
    "\n",
    "\n",
    "Docker isolates not just the Python `site-packages`, but also the OS and the version of Python. \n",
    "\n",
    "[harnesslib one](https://github.com/github/harnesslib/blob/main/Dockerfile.harnesslib)\n"
   ]
  },
  {
   "cell_type": "markdown",
   "metadata": {},
   "source": [
    "### Dockerfiles `build` into `image`s (templates), which `run` as `container`s \n",
    "\n",
    "First, you write instructions what you want to install: usually an OS (you can even run Windows on a mac!), dependencies, and your project. This is called a _dockerfile_. 🐳 📁 \n",
    "\n",
    "Then you turn those instructions into a set of binary executable files: using `docker build` to _build_ the _dockerfile_ into an _image_ 🖼️.\n",
    "- 💬 \"image\" is a metaphor for the idea of these executables being like a snapshot. Let's think of it more like an _environment template_.\n",
    "\n",
    "When you `docker run` an _image_ it creates a _container_ -- so a _container_  🫙 is a running _image_.\n",
    "- Why call it \"container\" instead of \"environment\"? Because environments are more complex; e.g., it also includes your hardware and networking. Even the containerized OS is a simplified one. So consider a container a type of environment.\n",
    "\n",
    "Generating and running containers is all done by the Docker _engine_/\"daemon\"\n",
    "- 💬 \"daemon\" is from mythology of a guardian entity. Let's prefer \"engine\".\n",
    "\n",
    "\n",
    "<img width=\"621\" alt=\"image\" src=\"https://user-images.githubusercontent.com/38010821/227788568-c28acc56-6c71-4cad-93b0-a0b14021546f.png\">\n",
    "\n",
    "### Codespaces devcontainers automatically install & run the Docker engine, do `docker build` (dockerfile --> image) and `docker run` (image --> container)! \n",
    "\n",
    "### 📄 So all you need is to write dockerfile, like [this annotated example.](https://github.com/lizre/learn-py/blob/master/.devcontainer/Dockerfile) \n"
   ]
  },
  {
   "cell_type": "markdown",
   "metadata": {},
   "source": [
    "### Set a non-root user in your dockerfile or devcontainer\n",
    "\n",
    "Every process on a computer is associated with a user account and its permissions to do actions and access resources.\n",
    "\n",
    "The _root user_ has full permissions.\n",
    " \n",
    "When a process is started, it has the permissions of the account that started it. \n",
    "\n",
    "☢️ So if you run a container as a root user, the container is now root user can do whatever it wants. Like access your personal documents.\n",
    "\n",
    "Docker containers default to running as the _root user_.\n",
    "\n",
    "But Codespaces defaults to a _non-root_ user.\n",
    "\n",
    "👍 Still, it's considered best to **explicitly `useradd` a non-root user to your Dockerfile.** (but I can't figure out why. 🤔)\n",
    "\n",
    "Alternatively, some examples add `\"remoteUser\": \"vscode\"` to the `devcontainer.json`. This is the default user that will be used when running the container. If not provided, the default user specified in the Dockerfile will be used.\n",
    "Most examples seem to either do \"useradd\" in the Dockerfile, OR this remoteUser thing here, not both. There doesn't seem a clear advantage to which one.\n"
   ]
  },
  {
   "cell_type": "markdown",
   "metadata": {},
   "source": [
    "\n",
    "# TODO: venv in docker file\n",
    "\n",
    "- https://www.youtube.com/watch?v=qLvAHhJAVlI&list=PLmsFUfdnGr3wTl-NCblzcrEv2lFSX975-&index=15\n",
    "\n",
    "examples that use venv in the docker file\n",
    "- https://github.com/education/codespaces-teaching-template-py/blob/main/.devcontainer/Dockerfile\n",
    "- https://github.com/microsoft/vscode-dev-containers/blob/v0.222.0/containers/python-3/.devcontainer/base.Dockerfile\n",
    "    \n",
    "\n"
   ]
  },
  {
   "cell_type": "markdown",
   "metadata": {},
   "source": [
    "\n",
    "\n",
    "## `/devcontainer` 🫙 component 2: devcontainer.json\n",
    "\n",
    "`devcontainer.json` configures a codespace. It tells VS Code how to build and run the Docker container, using the Dockerfile as a template.\n",
    "\n",
    "All Codespaces have a configuration. If you create one without a `devcontainer.json` file, Codespaces uses a [default configuration](https://docs.github.com/en/codespaces/setting-up-your-project-for-codespaces/adding-a-dev-container-configuration/introduction-to-dev-containers#using-the-default-dev-container-configuration)\n",
    "\n",
    "You can define multiple configurations.\n",
    "\n",
    "### Write a `devcontainer.json` like [this annotated example](https://github.com/lizre/learn-py/blob/master/.devcontainer/devcontainer.json)\n",
    "\n",
    "You need to refer to the dockerfile in the `devcontainer.json`, e.g., `\"dockerfile\": \"Dockerfile\"`. This means you can change the path to the Dockerfile. For example, if you want the Dockerfile to be in the root directory of the project instead of in `/.devcontainer`,, you can do  `\"dockerfile\": \"../Dockerfile\"`."
   ]
  },
  {
   "cell_type": "markdown",
   "metadata": {},
   "source": [
    "# With just the `Dockerfile` and `devcontainer.json`, you can run your devcontainer!\n",
    "\n",
    "Put them in .devcontainer like [this](https://github.com/lizre/learn-py/tree/master/.devcontainer):\n",
    "\n",
    "![image](https://user-images.githubusercontent.com/38010821/228025282-e68bf0fe-feb1-4a6b-ad3b-475dc1713a63.png)\n"
   ]
  },
  {
   "cell_type": "markdown",
   "metadata": {},
   "source": [
    "Open a codespace. It'll say you're on a \"custom image\":\n",
    "\n",
    "![image](https://user-images.githubusercontent.com/38010821/228026931-f331aa76-134b-423c-a236-6e5d9ff5100b.png)\n",
    "\n",
    "And `pip list` will have the stuff from your `requirements.txt`:\n",
    "\n",
    "![image](https://user-images.githubusercontent.com/38010821/228028817-92e3123c-0a97-4940-add1-e2d72e5e7d08.png)\n",
    "\n",
    "In addition to some other stuff, maybe that comes with our base image."
   ]
  },
  {
   "cell_type": "markdown",
   "metadata": {},
   "source": [
    "### devcontainer `Command`s as alternatives to Dockerfile `RUN`\n",
    "\n",
    "Sometimes you need to run commands as part of configuring your devcontainer.\n",
    "\n",
    "You can put that in your `devcontainer.json` as a `*Command`, e.g.:\n",
    "\n",
    "`, \"postCreateCommand\": \"pip3 install --user -r requirements.txt\",`\n",
    "\n",
    "Remember that our Dockerfile already had\n",
    "\n",
    "```\n",
    "COPY requirements.txt /tmp/pip-tmp/\n",
    "RUN pip3 --disable-pip-version-check --no-cache-dir install -r /tmp/pip-tmp/requirements.txt \\\n",
    "    && rm -rf /tmp/pip-tmp\n",
    "```\n",
    "\n",
    "So this illustrates that some things, you can choose to do either as `RUN` in the Dockerfile, OR as a `postCreateCommand`.\n",
    "\n",
    "There is a whole family of `*Command` scripts, known as [lifecycle scripts](https://containers.dev/implementors/json_reference/#_lifecycle-scripts).\n",
    "- e.g, `onCreateCommand` executes inside the container\n"
   ]
  },
  {
   "cell_type": "markdown",
   "metadata": {},
   "source": [
    "#### If the commands are long, you can also do them as scripts (`.sh` shell and/or python scripts)\n",
    "\n",
    "[Example 1: python script used in devcontainer onCreateCommand:](https://github.com/lizre/learn-py/blob/e7121782a94ae52a5a2eef1373818114da08d45e/.devcontainer/devcontainer.json#L40)\n",
    "\n",
    "- So you'd make a script you want to run, like `test_codespace.py`, and then do something like \n",
    "\n",
    "    \"onCreateCommand\": \".devcontainer/test_codespace.py\",\n",
    "\n",
    "Example 2: shell script used in devcontainer onCreateCommand:\n",
    "- https://github.com/github/airflow-sources/blob/master/.devcontainer/on-create-command.sh\n",
    "- https://github.com/github/airflow-sources/blob/777d30ba67f325b5fa72e8ded5f04fb70578362c/.devcontainer/devcontainer.json#LL74-L75\n",
    "\n",
    "\n",
    "\n",
    "I think you can also do these in Dockerfile `RUN`.\n",
    "\n",
    "### ☢️ If a `Command` does not succeed, the container will not be built, and you'll get a build error.\n",
    "\n",
    "Pros\n",
    "- Runs automatically so user doesn't have to run `python .devcontainer/test_codespace.py` once they get into the codespace\n",
    "- Can protect users from using a bad codespace\n",
    "\n",
    "Cons\n",
    "- if fails, may be hard for them to troubleshoot because they'll have to read build logs."
   ]
  },
  {
   "cell_type": "markdown",
   "metadata": {},
   "source": [
    "# Tests that codespace was set up correctly 🧪\n",
    "\n",
    "## Things you might want to test\n",
    "\n",
    "e.g., that pip is installed in the codespace.\n",
    "\n",
    "## Ways to test them\n",
    "\n",
    "### 1) Run each thing manually when developing devcontainer and/or when users build codespace\n",
    "\n",
    "e.g., open the codespace and run \"which pip\".\n",
    "\n",
    "### 2) Put tests in a [`.devcontainer/test_codespace.py`](https://github.com/lizre/learn-py/blob/master/.devcontainer/test_codespace.py), which user runs when they build the codespace\n",
    "\n",
    "![image](https://user-images.githubusercontent.com/38010821/228383939-ed73b6c0-79d0-40dd-9f4d-6e3a1969ed36.png)\n",
    "\n",
    "\n",
    "### 3) Automatically on every codespace creation, with on-create-command.sh? This doesnt't seem common but could be cool\n",
    "\n",
    "\n",
    "[example](https://github.com/github/airflow-sources/commit/fb89004ac8c3848ff3062841ccea592adf9cec57)\n",
    "- Add to `devcontainer.json`: `\"onCreateCommand\": \".devcontainer/on-create-command.sh\",`\n",
    "- Make an [on-create-command.sh](https://github.com/github/airflow-sources/blob/master/.devcontainer/on-create-command.sh)\n",
    "\n",
    "But broke the codespace:\n",
    "\n",
    "2023-03-28 17:46:16.792Z: /bin/sh: 1: .devcontainer/on-create-command.sh: Permission denied\n",
    "\n",
    "and this\n",
    "\n",
    "#16 0.472 chmod: cannot access '.devcontainer/on-create-command.sh': No such file or directory\n",
    "\n",
    "potentially related:\n",
    "- https://github.com/microsoft/vscode-remote-release/issues/5432\n",
    "- https://stackoverflow.com/questions/38882654/docker-entrypoint-running-bash-script-gets-permission-denied\n",
    "\n",
    "You can do \"onCreateCommand\": \"python3 .devcontainer/test_codespace.py\"\n",
    "\tBut then the container fails w error 1302 in logs, without saying which test fails.\n",
    "\tWhat about instead of asserting, just print the result? No, then it just does nothing, does not print.\n",
    "\n",
    "And postcreatecommand simply does not run it.\n",
    "\tI tested by making one of the tests impossible to pass, and the codespace doesnt raise any error.\n",
    "But when i do python3 .devcontainer/test_codespace.py in the codespace, it returns the error.\n",
    "\n",
    "\n",
    "### As print instead of assert\n",
    "\n",
    "\n",
    "```\n",
    "def check_key_characteristics():\n",
    "    \"\"\"\n",
    "    Checks that our API key object has characteristics of azure keys.\n",
    "    \"\"\"\n",
    "    api_key = os.environ['AIP_API_KEY_TEMPORARY']\n",
    "    if api_key:\n",
    "        print(\"AIP_API_KEY_TEMPORARY exists. Good!\")\n",
    "    else:\n",
    "        print(\"AIP_API_KEY_TEMPORARY does not exist. You need a key.\")\n",
    "    \n",
    "    if api_key.isalnum():\n",
    "        print(\"AIP_API_KEY_TEMPORARY is alphanumeric. Good!\")\n",
    "    else: \n",
    "        print(\"AIP_API_KEY_TEMPORARY is not alphanumeric, and it should be\")\n",
    "\n",
    "    if len(api_key) == 32:\n",
    "        print(\"AIP_API_KEY_TEMPORARY is 32 characters long. Good!\")\n",
    "    else: \n",
    "        print(\"AIP_API_KEY_TEMPORARY is not 32 characters long, and it should be\")\n",
    "\n",
    "check_key_characteristics()\n",
    "```"
   ]
  },
  {
   "cell_type": "markdown",
   "metadata": {},
   "source": [
    "# As needed: Authentication 🔑\n",
    "\n",
    "Sometimes in Codespaces you need to access sevices or resources outside the Codespace. Like Azure storage. To do that, you need to show that service or resource that you/the Codespace user are who you say you are. That's called _authentication_.\n",
    "\n",
    "### authentication: verifying identity\n",
    "\n",
    "Resources: [1](https://cloud.google.com/docs/authentication), [2](https://zapier.com/learn/apis/chapter-4-authentication-part-1/)\n",
    "\n",
    "Different from authorization (permission to do things). \n",
    "\n",
    "_Principal_: an identity that can be granted access.\n",
    "- users, services, apps. Your Codespace!\n",
    "\n",
    "_Secret_: anything that you want to control access to. eg API keys, passwords.\n",
    "\n",
    "_Credentials_: any info used to authenticate\n",
    "\n",
    "_Password_ \n",
    "- is credential\n",
    "- user-generated, stored in human memory, manually repeated with each use, and usually 1:1 with a human\n",
    "\n",
    "_Key_\n",
    "- is credential\n",
    "- generated by API, usually used programmatically (in code, and used for non-human services)\n",
    "- No standard way to include; sometimes add to URL, or put in request body, or auth header instead of username and pw.\n",
    "- Oauth: automates key exchange so you dont have to type it out\n"
   ]
  },
  {
   "cell_type": "markdown",
   "metadata": {},
   "source": [
    "### authenticate in a codespace by adding secrets\n",
    "\n",
    "\n",
    "Go to https://github.com/lizre/learn-py/settings/secrets/codespaces, then \"New repository secret\"\n",
    "\n",
    "\n",
    "<img width=\"681\" alt=\"image\" src=\"https://user-images.githubusercontent.com/38010821/228086774-243d5615-f982-4a7f-b4f4-bce41c804526.png\">\n",
    "\n",
    "<br>\n",
    "\n",
    "Then it's there: \n",
    "\n",
    "<br>\n",
    "\n",
    "<img width=\"621\" alt=\"image\" src=\"https://user-images.githubusercontent.com/38010821/228086807-47e63196-ceb0-4510-b01d-01871a795865.png\">\n",
    "\n",
    "\n",
    "Then it's available in your Codespace!:\n",
    "\n",
    "![image](https://user-images.githubusercontent.com/38010821/228087171-7b00d845-7136-403c-ba8f-cd188a094025.png)\n",
    "\n"
   ]
  },
  {
   "cell_type": "markdown",
   "metadata": {},
   "source": [
    "#### ☢️ GOTCHA: Codespaces silently converts secret names to all capital letters. \n",
    "If you're already using a secret name like `Not_so_secret` in your code, you'll need to change all instances to `NOT_SO_SECRET`!"
   ]
  },
  {
   "cell_type": "markdown",
   "metadata": {},
   "source": [
    "You can access it in jupyter notebook with `os.environ.get('NOT_SO_SECRET')`.\n",
    "\n",
    "Also see this proposal for [personal secrets in codespaces](https://github.com/github/engineering/discussions/3008)."
   ]
  },
  {
   "cell_type": "markdown",
   "metadata": {},
   "source": [
    "# Optional: VSCode settings ⚙️\n",
    "    \n",
    "VSCode settings are stored in a json:"
   ]
  },
  {
   "cell_type": "code",
   "execution_count": 3,
   "metadata": {},
   "outputs": [
    {
     "name": "stdout",
     "output_type": "stream",
     "text": [
      "{\r\n",
      "    \"[python]\": {\r\n",
      "        \"editor.defaultFormatter\": null,\r\n",
      "        \"editor.formatOnSave\": true,\r\n",
      "    },\r\n",
      "    \"python.testing.unittestEnabled\": false,\r\n",
      "    \"python.testing.pytestEnabled\": true,\r\n",
      "    \"python.defaultInterpreterPath\": \"python\",\r\n",
      "}"
     ]
    }
   ],
   "source": [
    "!cat ~/Library/Application\\ Support/Code/User/settings.json"
   ]
  },
  {
   "cell_type": "markdown",
   "metadata": {},
   "source": [
    "You can put similar json in your repo in `/.vscode/settings.json`: https://github.com/lizre/learn-py/tree/master/.vscode:"
   ]
  },
  {
   "cell_type": "code",
   "execution_count": 19,
   "metadata": {},
   "outputs": [
    {
     "name": "stdout",
     "output_type": "stream",
     "text": [
      "{\r\n",
      "    \"editor.fontSize\": 35,\r\n",
      "    \"python.testing.pytestEnabled\": true,\r\n",
      "    \"python.defaultInterpreterPath\": \"python\",\r\n",
      "}"
     ]
    }
   ],
   "source": [
    "!cat ~/Downloads/learn-py/.vscode/settings.json"
   ]
  },
  {
   "cell_type": "markdown",
   "metadata": {},
   "source": [
    "See how I made the font size huge, 35!\n",
    "\n",
    "Now put it in the repo:"
   ]
  },
  {
   "cell_type": "markdown",
   "metadata": {},
   "source": [
    "            \n",
    "<img width=\"664\" alt=\"image\" src=\"https://user-images.githubusercontent.com/38010821/228092487-c4825b03-2dd1-4a69-a553-5b74f1b57cc1.png\">\n"
   ]
  },
  {
   "cell_type": "markdown",
   "metadata": {},
   "source": [
    "Then when you build or rebuild the Codespace, it'll apply my huge font size:\n",
    "\n",
    "<img width=\"722\" alt=\"image\" src=\"https://user-images.githubusercontent.com/38010821/228093857-a30a42e3-edb6-477a-94f8-7d550ead11f1.png\">\n"
   ]
  },
  {
   "cell_type": "code",
   "execution_count": null,
   "metadata": {},
   "outputs": [],
   "source": []
  },
  {
   "cell_type": "code",
   "execution_count": null,
   "metadata": {},
   "outputs": [],
   "source": []
  },
  {
   "cell_type": "code",
   "execution_count": null,
   "metadata": {},
   "outputs": [],
   "source": []
  },
  {
   "cell_type": "code",
   "execution_count": null,
   "metadata": {},
   "outputs": [],
   "source": [
    "Optional:"
   ]
  },
  {
   "cell_type": "markdown",
   "metadata": {},
   "source": [
    "# Optional: prebuilds 🏗️\n",
    "\n",
    "https://docs.github.com/en/codespaces/prebuilding-your-codespaces/about-github-codespaces-prebuilds\n",
    "\n",
    "https://docs.github.com/en/codespaces/prebuilding-your-codespaces/configuring-prebuilds\n",
    "\n",
    "TLDR; makes it faster to build a new codespace.\n",
    "\n",
    "lower priority"
   ]
  },
  {
   "cell_type": "code",
   "execution_count": null,
   "metadata": {},
   "outputs": [],
   "source": []
  },
  {
   "cell_type": "markdown",
   "metadata": {},
   "source": [
    "\n",
    "# Codespace maintenance and changes\n",
    "\n",
    "### Write a maintenance playbook like [this one](https://github.com/lizre/learn-py/tree/master#codespace-playbook)\n",
    "\n",
    "\n",
    "\n",
    "# TODO:  \n",
    "\n",
    "\n",
    "\n",
    "### Write tests that apply to codespace-related files\n",
    "\n",
    "eg, this found errors in my test_codespace.py:\n",
    "https://github.com/github/harnesslib/blob/569f894b77bafa2c762eec2948cb44907be1983d/.github/workflows/notebook-integration-test.yaml\n",
    "\n",
    "https://github.com/github/harnesslib/blob/569f894b77bafa2c762eec2948cb44907be1983d/.github/workflows/simple-batch-integration-test.yaml\n",
    "\n",
    "\n",
    "Devcontainer updates when you create a codespace or rebuild the container. Use VS Code Command Palette (Shift+Command+P) --> `Codespaces: Rebuild Container`.\n",
    "\n",
    "[each push to a branch that has a prebuild configuration results in a GitHub-managed GitHub Actions workflow run to update the prebuild.](https://docs.github.com/en/codespaces/prebuilding-your-codespaces/about-github-codespaces-prebuilds#about-pushing-changes-to-prebuild-enabled-branches)\n",
    "\n",
    "Keeping keys updated\n",
    "- eg https://github.com/github/harnesslib/issues/229\n",
    "\n"
   ]
  },
  {
   "cell_type": "markdown",
   "metadata": {},
   "source": [
    "# You can clone submodules in devcontainers using one of two options\n",
    "\n",
    "## 1. A `postCreateCommand` in `devcontainer.json`\n",
    "\n",
    "`\"postCreateCommand\": \"git submodule update --init\"`\n",
    "\n",
    "## 2. A shell script like\n",
    "\n",
    "```\n",
    "#!/bin/bash\n",
    "\n",
    "git config --global advice.detachedHead false\n",
    "\n",
    "    # checking out a particular commit of each grammar below leaves us in detached head, but\n",
    "    # codespace users don't need that surfaced.\n",
    "\n",
    "# Set the root directory of the project\n",
    "root=$(dirname $(dirname $(realpath $0)))\n",
    "\n",
    "# Clone the tree-sitter-<language> repositories (the \"grammar\"/syntax rules) into the tree-sitter directory\n",
    "# We have to clone it to be able to use Language.build_library to build it\n",
    "\n",
    "tree_sitter_dir=\"$root/harnesslib/external/tree-sitter\"\n",
    "\n",
    "cd $tree_sitter_dir\n",
    "git clone https://github.com/tree-sitter/tree-sitter-python.git\n",
    "cd tree-sitter-python\n",
    "git fetch --all --tags\n",
    "git checkout de221eccf9a221f5b85474a553474a69b4b5784d\n",
    "\n",
    "cd $tree_sitter_dir\n",
    "git clone https://github.com/tree-sitter/tree-sitter-ruby.git\n",
    "cd tree-sitter-ruby\n",
    "git fetch --all --tags\n",
    "git checkout c91960320d0f337bdd48308a8ad5500bd2616979\n",
    "\n",
    "\n",
    "# Turn the python \"grammar\"/syntax rules into a parser. \n",
    "# This is called \"build\"ing the language, so we'll put the parser in a /build directory.\n",
    "grammar_dir_python=\"$tree_sitter_dir/tree-sitter-python\"\n",
    "grammar_dir_ruby=\"$tree_sitter_dir/tree-sitter-ruby\"\n",
    "\n",
    "\n",
    "python3 -c \"\n",
    "import os;\n",
    "from tree_sitter import Language;\n",
    "Language.build_library(\n",
    "    os.path.join('$tree_sitter_dir/build', 'my-languages.so'),\n",
    "    ['$grammar_dir_python'\n",
    "    , '$grammar_dir_ruby'\n",
    "    ]\\\n",
    ")\"\n",
    "```\n"
   ]
  },
  {
   "cell_type": "markdown",
   "metadata": {},
   "source": [
    "# Keyboard shortcuts for jupyter in codespaces\n",
    "\n",
    "You have to change it in multiple places:\n",
    "    \n",
    "![image](https://user-images.githubusercontent.com/38010821/229866344-4e92d4da-e032-44b1-a0ca-f069f7418aee.png)\n",
    "\n",
    "![image](https://user-images.githubusercontent.com/38010821/229866442-130312ad-366b-4831-948a-7a9433228987.png)\n",
    "\n"
   ]
  },
  {
   "cell_type": "markdown",
   "metadata": {},
   "source": [
    "# Using codespaces\n",
    "\n",
    "- your paths will be different in codespaces, like i think the home directory is `workspaces/<reponame>` \n",
    "- you can change a codespaces type while its running, at https://github.com/codespaces. \n",
    "- `developer: show running extensions` shows if jupyter is active. you can also go to Output and selectjupyer. \n",
    "- to upload files / copy them in : right click a folder, then Upload. Upload does NOT appear if you right-click a file.\n",
    "\n",
    "\n",
    "### Use codespace environment variables in development\n",
    "\n",
    "```\n",
    "def is_codespace():\n",
    "    \"\"\"\n",
    "    Detects whether we are running in a Codespace. See:\n",
    "    https://docs.github.com/en/codespaces/developing-in-codespaces/default-environment-variables-for-your-codespace\n",
    "    \"\"\"\n",
    "    CODESPACE_ENV = os.getenv('CODESPACES')\n",
    "    if CODESPACE_ENV is None:\n",
    "        return False\n",
    "    else:\n",
    "        return CODESPACE_ENV.lower() == 'true'\n",
    "        \n",
    "        \n",
    "def get_codespace_username():\n",
    "    \"\"\"\n",
    "    Returns the Git username of the user that started the Codespace. See:\n",
    "    https://docs.github.com/en/codespaces/developing-in-codespaces/default-environment-variables-for-your-codespace\n",
    "    \"\"\"\n",
    "    return os.getenv('GITHUB_USER')\n",
    "```"
   ]
  }
 ],
 "metadata": {
  "kernelspec": {
   "display_name": "Python 3 (ipykernel)",
   "language": "python",
   "name": "python3"
  },
  "language_info": {
   "codemirror_mode": {
    "name": "ipython",
    "version": 3
   },
   "file_extension": ".py",
   "mimetype": "text/x-python",
   "name": "python",
   "nbconvert_exporter": "python",
   "pygments_lexer": "ipython3",
   "version": "3.11.3"
  }
 },
 "nbformat": 4,
 "nbformat_minor": 2
}
