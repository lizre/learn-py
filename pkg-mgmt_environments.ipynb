{
 "cells": [
  {
   "cell_type": "markdown",
   "metadata": {},
   "source": [
    "# ⭐ How to install and manage packages and environments. ⭐ "
   ]
  },
  {
   "cell_type": "markdown",
   "metadata": {},
   "source": [
    "# Use `pip` to manage your packages"
   ]
  },
  {
   "cell_type": "markdown",
   "metadata": {},
   "source": [
    "([but](https://realpython.com/pipenv-guide/) many [people](https://hackernoon.com/reaching-python-development-nirvana-bb5692adf30c) prefer [pipenv](https://medium.com/analytics-vidhya/why-pipenv-over-venv-for-python-projects-a51fb6e4f31e)).\n"
   ]
  },
  {
   "cell_type": "code",
   "execution_count": 13,
   "metadata": {
    "scrolled": true
   },
   "outputs": [
    {
     "name": "stdout",
     "output_type": "stream",
     "text": [
      "/Users/lizre/.pyenv/versions/3.7.3/bin/pip\r\n"
     ]
    }
   ],
   "source": [
    "!which pip"
   ]
  },
  {
   "cell_type": "markdown",
   "metadata": {},
   "source": [
    "Starts by searching [PyPI](https://pypi.org/): py package index"
   ]
  },
  {
   "cell_type": "code",
   "execution_count": null,
   "metadata": {},
   "outputs": [],
   "source": [
    "!pip install pandas # Will also get dependencies needed for pandas\n",
    "!pip list # Should now include pandas"
   ]
  },
  {
   "cell_type": "markdown",
   "metadata": {},
   "source": [
    "dependencies and dependents:"
   ]
  },
  {
   "cell_type": "code",
   "execution_count": 86,
   "metadata": {},
   "outputs": [],
   "source": [
    "pandas_deps = !pip show pandas "
   ]
  },
  {
   "cell_type": "code",
   "execution_count": 89,
   "metadata": {},
   "outputs": [
    {
     "data": {
      "text/plain": [
       "['Name: pandas',\n",
       " 'Version: 1.3.2',\n",
       " 'Summary: Powerful data structures for data analysis, time series, and statistics',\n",
       " 'Home-page: https://pandas.pydata.org',\n",
       " 'Author: The Pandas Development Team',\n",
       " 'Author-email: pandas-dev@python.org',\n",
       " 'License: BSD-3-Clause',\n",
       " 'Location: /Users/lizre/.pyenv/versions/3.7.3/lib/python3.7/site-packages',\n",
       " 'Requires: numpy, python-dateutil, pytz',\n",
       " 'Required-by: cmdstanpy, mlflow, mlxtend, octopy, pandas-profiling, phik, prophet, researchpy, seaborn, sklearn-pandas, statsmodels, visions']"
      ]
     },
     "execution_count": 89,
     "metadata": {},
     "output_type": "execute_result"
    }
   ],
   "source": [
    "pandas_deps"
   ]
  },
  {
   "cell_type": "markdown",
   "metadata": {},
   "source": [
    "### Create requirements.txt to record your packages/dependencies\n",
    "\n",
    "In terminal:"
   ]
  },
  {
   "cell_type": "code",
   "execution_count": 8,
   "metadata": {},
   "outputs": [
    {
     "name": "stdout",
     "output_type": "stream",
     "text": [
      "INFO: Successfully saved requirements file in /Users/lizre/Downloads/learn-py/requirements.txt\r\n"
     ]
    }
   ],
   "source": [
    "!pipreqs --force"
   ]
  },
  {
   "cell_type": "markdown",
   "metadata": {},
   "source": [
    "- You'll see requirements.txt appear in src. It will not exactly match everything you `import` because pipreqs only includes ones not in standard library.\n",
    "- Can also use `pip freeze > requirements.txt` but it is [harmful because it includes too many things.](https://medium.com/@tomagee/pip-freeze-requirements-txt-considered-harmful-f0bce66cf895); also [pypi says not to use pip freeze](https://pypi.org/project/pipreqs/).\n",
    "\n"
   ]
  },
  {
   "cell_type": "code",
   "execution_count": 10,
   "metadata": {},
   "outputs": [
    {
     "name": "stdout",
     "output_type": "stream",
     "text": [
      "pandas==1.3.2\r\n"
     ]
    }
   ],
   "source": [
    "!cat requirements.txt"
   ]
  },
  {
   "cell_type": "markdown",
   "metadata": {},
   "source": [
    "To use:"
   ]
  },
  {
   "cell_type": "code",
   "execution_count": 12,
   "metadata": {},
   "outputs": [
    {
     "name": "stdout",
     "output_type": "stream",
     "text": [
      "Requirement already satisfied: pandas==1.3.2 in /Users/lizre/.pyenv/versions/3.7.3/lib/python3.7/site-packages (from -r requirements.txt (line 1)) (1.3.2)\r\n",
      "Requirement already satisfied: numpy>=1.17.3 in /Users/lizre/.pyenv/versions/3.7.3/lib/python3.7/site-packages (from pandas==1.3.2->-r requirements.txt (line 1)) (1.19.5)\r\n",
      "Requirement already satisfied: python-dateutil>=2.7.3 in /Users/lizre/.pyenv/versions/3.7.3/lib/python3.7/site-packages (from pandas==1.3.2->-r requirements.txt (line 1)) (2.8.2)\r\n",
      "Requirement already satisfied: pytz>=2017.3 in /Users/lizre/.pyenv/versions/3.7.3/lib/python3.7/site-packages (from pandas==1.3.2->-r requirements.txt (line 1)) (2021.1)\r\n",
      "Requirement already satisfied: six>=1.5 in /Users/lizre/.pyenv/versions/3.7.3/lib/python3.7/site-packages (from python-dateutil>=2.7.3->pandas==1.3.2->-r requirements.txt (line 1)) (1.15.0)\r\n"
     ]
    }
   ],
   "source": [
    "!pip install -r requirements.txt"
   ]
  },
  {
   "cell_type": "markdown",
   "metadata": {},
   "source": [
    "# Use `pyenv` to manage your Python"
   ]
  },
  {
   "cell_type": "markdown",
   "metadata": {},
   "source": [
    "#### Why?  Some code or functions only work on certain versions of Python. So you need to:\n",
    "\n",
    "- test that your code works on multiple versions\n",
    "- and/or keep the version that worked when you made your particular project with your particular requirements\n"
   ]
  },
  {
   "cell_type": "code",
   "execution_count": 1,
   "metadata": {},
   "outputs": [
    {
     "name": "stdout",
     "output_type": "stream",
     "text": [
      "Python 3.7.3\r\n"
     ]
    }
   ],
   "source": [
    "# the version the interpreter supports\n",
    "!python --version"
   ]
  },
  {
   "cell_type": "markdown",
   "metadata": {},
   "source": [
    "- A _python version_ is a version of the Python programming language.\n",
    "- A python _interpreter_ is an \"executable file\" that runs the language.\n",
    "- There's a 1:1 relationship.\n",
    "- When you install a version of python language, it also installs an interpreter that supports that version"
   ]
  },
  {
   "cell_type": "code",
   "execution_count": 4,
   "metadata": {
    "scrolled": true
   },
   "outputs": [
    {
     "name": "stdout",
     "output_type": "stream",
     "text": [
      "/Users/lizre/.pyenv/versions/3.7.3/bin/python\r\n"
     ]
    }
   ],
   "source": [
    "# interpreter\n",
    "!which python"
   ]
  },
  {
   "cell_type": "markdown",
   "metadata": {},
   "source": [
    "The interpreter is at that `path`.\n"
   ]
  },
  {
   "cell_type": "markdown",
   "metadata": {},
   "source": [
    "### `PATH` has directories of executable files\n",
    "- tell our operating system where to look for the executable files associated with commands.\n",
    "- When you run a `python` command, your OS searches a list of directories to find an executable file with the name `python`. \n",
    "\n",
    "The list of directories is in an environment variable called PATH:"
   ]
  },
  {
   "cell_type": "code",
   "execution_count": 3,
   "metadata": {
    "scrolled": false
   },
   "outputs": [
    {
     "name": "stdout",
     "output_type": "stream",
     "text": [
      "/Users/lizre/.pyenv/versions/3.7.3/bin:/usr/local/Cellar/pyenv/2.3.15/libexec:/usr/local/Cellar/pyenv/2.3.15/plugins/python-build/bin:/Library/Frameworks/Python.framework/Versions/3.11/bin:/usr/local/Cellar/pyenv-virtualenv/1.2.1/shims:/Users/lizre/.pyenv/shims:/Users/lizre/.pyenv/bin:/usr/local/bin:/System/Cryptexes/App/usr/bin:/usr/bin:/bin:/usr/sbin:/sbin:/usr/local/go/bin:/usr/local/share/dotnet:/opt/X11/bin:~/.dotnet/tools\r\n"
     ]
    }
   ],
   "source": [
    "!echo $PATH"
   ]
  },
  {
   "cell_type": "markdown",
   "metadata": {},
   "source": [
    "Each directory is separated by `:`.\n",
    "- /Users/lizre/.pyenv/versions/3.7.3/bin <-- `!which python` returned `/Users/lizre/.pyenv/versions/3.7.3/bin/python`. **so our python executable is stored in this bin!!**\n",
    "- /Users/lizre/.pyenv/shims:/Users/lizre/.pyenv/bin <-- (shims are like helpers for executables)\n",
    "- /usr/local/bin\n",
    "- /usr/bin\n",
    "- /bin\n",
    "\n"
   ]
  },
  {
   "cell_type": "markdown",
   "metadata": {},
   "source": [
    "When you run `ls`, your OS searches a list of directories to find an executable file with the name `ls`:"
   ]
  },
  {
   "cell_type": "code",
   "execution_count": 17,
   "metadata": {
    "scrolled": true
   },
   "outputs": [
    {
     "name": "stdout",
     "output_type": "stream",
     "text": [
      "HumanEval.jsonl            \u001b[34mdo-ds\u001b[m\u001b[m\r\n",
      "PXL_20230321_022922824.jpg \u001b[34mfun-pix\u001b[m\u001b[m\r\n",
      "PXL_20230321_023018447.jpg \u001b[34mharnesslib\u001b[m\u001b[m\r\n",
      "PXL_20230321_023052460.jpg \u001b[34mlearn-py\u001b[m\u001b[m\r\n",
      "PXL_20230321_023107084.jpg secrets.zip\r\n"
     ]
    }
   ],
   "source": [
    "! cd .. ; ls"
   ]
  },
  {
   "cell_type": "markdown",
   "metadata": {},
   "source": [
    "Without `PATH` variable, you'd have to put the full directory of the `ls` command:"
   ]
  },
  {
   "cell_type": "code",
   "execution_count": 19,
   "metadata": {},
   "outputs": [
    {
     "name": "stdout",
     "output_type": "stream",
     "text": [
      "HumanEval.jsonl            \u001b[34mdo-ds\u001b[m\u001b[m\r\n",
      "PXL_20230321_022922824.jpg \u001b[34mfun-pix\u001b[m\u001b[m\r\n",
      "PXL_20230321_023018447.jpg \u001b[34mharnesslib\u001b[m\u001b[m\r\n",
      "PXL_20230321_023052460.jpg \u001b[34mlearn-py\u001b[m\u001b[m\r\n",
      "PXL_20230321_023107084.jpg secrets.zip\r\n"
     ]
    }
   ],
   "source": [
    "! cd .. ; /bin/ls"
   ]
  },
  {
   "cell_type": "code",
   "execution_count": null,
   "metadata": {},
   "outputs": [],
   "source": [
    "Why more than one directory?\n",
    "- to have multiple versions of a command installed on your system. \n"
   ]
  },
  {
   "cell_type": "markdown",
   "metadata": {},
   "source": [
    "### The `$PATH` directories are sometimes in `/bin`. \n",
    "- `/bin` is not like a garbage bin, it means `binary`. \n",
    "- It's a standard directory in mac, for essential executable files "
   ]
  },
  {
   "cell_type": "code",
   "execution_count": 8,
   "metadata": {
    "scrolled": true
   },
   "outputs": [
    {
     "name": "stdout",
     "output_type": "stream",
     "text": [
      "\u001b[31m[\u001b[m\u001b[m         \u001b[31mcsh\u001b[m\u001b[m       \u001b[31mecho\u001b[m\u001b[m      \u001b[31mksh\u001b[m\u001b[m       \u001b[31mmkdir\u001b[m\u001b[m     \u001b[31mrealpath\u001b[m\u001b[m  \u001b[31mstty\u001b[m\u001b[m      \u001b[31mwait4path\u001b[m\u001b[m\r\n",
      "\u001b[31mbash\u001b[m\u001b[m      \u001b[31mdash\u001b[m\u001b[m      \u001b[31med\u001b[m\u001b[m        \u001b[31mlaunchctl\u001b[m\u001b[m \u001b[31mmv\u001b[m\u001b[m        \u001b[31mrm\u001b[m\u001b[m        \u001b[31msync\u001b[m\u001b[m      \u001b[31mzsh\u001b[m\u001b[m\r\n",
      "\u001b[31mcat\u001b[m\u001b[m       \u001b[31mdate\u001b[m\u001b[m      \u001b[31mexpr\u001b[m\u001b[m      \u001b[31mlink\u001b[m\u001b[m      \u001b[31mpax\u001b[m\u001b[m       \u001b[31mrmdir\u001b[m\u001b[m     \u001b[31mtcsh\u001b[m\u001b[m\r\n",
      "\u001b[31mchmod\u001b[m\u001b[m     \u001b[31mdd\u001b[m\u001b[m        \u001b[31mhostname\u001b[m\u001b[m  \u001b[31mln\u001b[m\u001b[m        \u001b[30m\u001b[41mps\u001b[m\u001b[m        \u001b[31msh\u001b[m\u001b[m        \u001b[31mtest\u001b[m\u001b[m\r\n",
      "\u001b[31mcp\u001b[m\u001b[m        \u001b[31mdf\u001b[m\u001b[m        \u001b[31mkill\u001b[m\u001b[m      \u001b[31mls\u001b[m\u001b[m        \u001b[31mpwd\u001b[m\u001b[m       \u001b[31msleep\u001b[m\u001b[m     \u001b[31munlink\u001b[m\u001b[m\r\n"
     ]
    }
   ],
   "source": [
    "!ls /bin"
   ]
  },
  {
   "cell_type": "markdown",
   "metadata": {},
   "source": [
    "in Finder, they look like this:\n",
    "\n",
    "The `exec` means they're executable!"
   ]
  },
  {
   "cell_type": "markdown",
   "metadata": {},
   "source": [
    "The `usr/bin`is for user-installed ones."
   ]
  },
  {
   "cell_type": "code",
   "execution_count": 10,
   "metadata": {},
   "outputs": [
    {
     "name": "stdout",
     "output_type": "stream",
     "text": [
      "\u001b[31mAssetCacheLocatorUtil\u001b[m\u001b[m       \u001b[31mmdimport\u001b[m\u001b[m\r\n",
      "\u001b[31mAssetCacheManagerUtil\u001b[m\u001b[m       \u001b[31mmdls\u001b[m\u001b[m\r\n",
      "\u001b[31mAssetCacheTetheratorUtil\u001b[m\u001b[m    \u001b[31mmdutil\u001b[m\u001b[m\r\n",
      "\u001b[31mDeRez\u001b[m\u001b[m                       \u001b[31mmemory_pressure\u001b[m\u001b[m\r\n",
      "\u001b[31mGetFileInfo\u001b[m\u001b[m                 \u001b[31mmesg\u001b[m\u001b[m\r\n",
      "\u001b[31mIOAccelMemory\u001b[m\u001b[m               \u001b[31mmg\u001b[m\u001b[m\r\n",
      "\u001b[31mIOMFB_FDR_Loader\u001b[m\u001b[m            \u001b[31mmib2c\u001b[m\u001b[m\r\n",
      "\u001b[31mIOSDebug\u001b[m\u001b[m                    \u001b[31mmib2c-update\u001b[m\u001b[m\r\n",
      "\u001b[31mResMerger\u001b[m\u001b[m                   \u001b[31mmig\u001b[m\u001b[m\r\n",
      "\u001b[31mRez\u001b[m\u001b[m                         \u001b[31mmkbom\u001b[m\u001b[m\r\n",
      "\u001b[31mSafeEjectGPU\u001b[m\u001b[m                \u001b[31mmkfifo\u001b[m\u001b[m\r\n",
      "\u001b[31mSetFile\u001b[m\u001b[m                     \u001b[31mmklocale\u001b[m\u001b[m\r\n",
      "\u001b[31mSplitForks\u001b[m\u001b[m                  \u001b[31mmktemp\u001b[m\u001b[m\r\n",
      "\u001b[31maa\u001b[m\u001b[m                          \u001b[31mmnthome\u001b[m\u001b[m\r\n",
      "\u001b[31mactool\u001b[m\u001b[m                      \u001b[31mmoose-outdated\u001b[m\u001b[m\r\n",
      "\u001b[31maea\u001b[m\u001b[m                         \u001b[31mmoose-outdated5.30\u001b[m\u001b[m\r\n",
      "\u001b[31mafclip\u001b[m\u001b[m                      \u001b[31mmore\u001b[m\u001b[m\r\n",
      "\u001b[31mafconvert\u001b[m\u001b[m                   \u001b[31mmp2bug\u001b[m\u001b[m\r\n",
      "\u001b[31mafhash\u001b[m\u001b[m                      \u001b[35mnano\u001b[m\u001b[m\r\n",
      "\u001b[31mafida\u001b[m\u001b[m                       \u001b[31mnative2ascii\u001b[m\u001b[m\r\n",
      "\u001b[31mafinfo\u001b[m\u001b[m                      \u001b[31mnbdst\u001b[m\u001b[m\r\n",
      "\u001b[31mafktool\u001b[m\u001b[m                     \u001b[31mnc\u001b[m\u001b[m\r\n",
      "\u001b[31mafplay\u001b[m\u001b[m                      \u001b[31mncal\u001b[m\u001b[m\r\n",
      "\u001b[31mafscexpand\u001b[m\u001b[m                  \u001b[31mncctl\u001b[m\u001b[m\r\n",
      "\u001b[31magentxtrap\u001b[m\u001b[m                  \u001b[35mncdestroy\u001b[m\u001b[m\r\n",
      "\u001b[31magvtool\u001b[m\u001b[m                     \u001b[35mncinit\u001b[m\u001b[m\r\n",
      "\u001b[31malias\u001b[m\u001b[m                       \u001b[35mnclist\u001b[m\u001b[m\r\n",
      "\u001b[31mapp-sso\u001b[m\u001b[m                     \u001b[31mncurses5.4-config\u001b[m\u001b[m\r\n",
      "\u001b[31mapplesingle\u001b[m\u001b[m                 \u001b[31mnet-server\u001b[m\u001b[m\r\n",
      "\u001b[31mappletviewer\u001b[m\u001b[m                \u001b[31mnet-server5.30\u001b[m\u001b[m\r\n",
      "\u001b[31mapply\u001b[m\u001b[m                       \u001b[31mnet-snmp-cert\u001b[m\u001b[m\r\n",
      "\u001b[31mapropos\u001b[m\u001b[m                     \u001b[31mnet-snmp-config\u001b[m\u001b[m\r\n",
      "\u001b[31mapt\u001b[m\u001b[m                         \u001b[31mnet-snmp-create-v3-user\u001b[m\u001b[m\r\n",
      "\u001b[31mar\u001b[m\u001b[m                          \u001b[31mnettop\u001b[m\u001b[m\r\n",
      "\u001b[31march\u001b[m\u001b[m                        \u001b[31mnetworkQuality\u001b[m\u001b[m\r\n",
      "\u001b[31mas\u001b[m\u001b[m                          \u001b[35mnewaliases\u001b[m\u001b[m\r\n",
      "\u001b[31masa\u001b[m\u001b[m                         \u001b[30m\u001b[41mnewgrp\u001b[m\u001b[m\r\n",
      "\u001b[31massetutil\u001b[m\u001b[m                   \u001b[31mnewproc.d\u001b[m\u001b[m\r\n",
      "\u001b[30m\u001b[41mat\u001b[m\u001b[m                          \u001b[31mnfsstat\u001b[m\u001b[m\r\n",
      "\u001b[31matos\u001b[m\u001b[m                        \u001b[31mnice\u001b[m\u001b[m\r\n",
      "\u001b[30m\u001b[41matq\u001b[m\u001b[m                         \u001b[31mnl\u001b[m\u001b[m\r\n",
      "\u001b[30m\u001b[41matrm\u001b[m\u001b[m                        \u001b[31mnm\u001b[m\u001b[m\r\n",
      "\u001b[31matsutil\u001b[m\u001b[m                     \u001b[31mnmedit\u001b[m\u001b[m\r\n",
      "\u001b[31mautomationmodetool\u001b[m\u001b[m          \u001b[31mnohup\u001b[m\u001b[m\r\n",
      "\u001b[31mautomator\u001b[m\u001b[m                   \u001b[31mnotifyutil\u001b[m\u001b[m\r\n",
      "\u001b[35mauval\u001b[m\u001b[m                       \u001b[31mnscurl\u001b[m\u001b[m\r\n",
      "\u001b[31mauvaltool\u001b[m\u001b[m                   \u001b[31mnslookup\u001b[m\u001b[m\r\n",
      "\u001b[31mavbdiagnose\u001b[m\u001b[m                 \u001b[31mnsupdate\u001b[m\u001b[m\r\n",
      "\u001b[31mavbutil\u001b[m\u001b[m                     \u001b[31mobjdump\u001b[m\u001b[m\r\n",
      "\u001b[31mavconvert\u001b[m\u001b[m                   \u001b[31mocspcheck\u001b[m\u001b[m\r\n",
      "\u001b[31mavmediainfo\u001b[m\u001b[m                 \u001b[31mod\u001b[m\u001b[m\r\n",
      "\u001b[31mavmetareadwrite\u001b[m\u001b[m             \u001b[31modutil\u001b[m\u001b[m\r\n",
      "\u001b[31mawk\u001b[m\u001b[m                         \u001b[31mopen\u001b[m\u001b[m\r\n",
      "\u001b[31mbanner\u001b[m\u001b[m                      \u001b[31mopendiff\u001b[m\u001b[m\r\n",
      "\u001b[31mbase64\u001b[m\u001b[m                      \u001b[31mopensnoop\u001b[m\u001b[m\r\n",
      "\u001b[31mbasename\u001b[m\u001b[m                    \u001b[31mopenssl\u001b[m\u001b[m\r\n",
      "\u001b[31mbashbug\u001b[m\u001b[m                     \u001b[31morbd\u001b[m\u001b[m\r\n",
      "\u001b[30m\u001b[41mbatch\u001b[m\u001b[m                       \u001b[31mosacompile\u001b[m\u001b[m\r\n",
      "\u001b[31mbc\u001b[m\u001b[m                          \u001b[31mosadecompile\u001b[m\u001b[m\r\n",
      "\u001b[31mbg\u001b[m\u001b[m                          \u001b[31mosalang\u001b[m\u001b[m\r\n",
      "\u001b[31mbinhex\u001b[m\u001b[m                      \u001b[31mosascript\u001b[m\u001b[m\r\n",
      "\u001b[31mbinhex.pl\u001b[m\u001b[m                   \u001b[31motool\u001b[m\u001b[m\r\n",
      "\u001b[31mbinhex5.30.pl\u001b[m\u001b[m               \u001b[31mpack200\u001b[m\u001b[m\r\n",
      "\u001b[31mbioutil\u001b[m\u001b[m                     \u001b[31mpackage-stash-conflicts\u001b[m\u001b[m\r\n",
      "\u001b[31mbison\u001b[m\u001b[m                       \u001b[31mpackage-stash-conflicts5.30\u001b[m\u001b[m\r\n",
      "\u001b[31mbitesize.d\u001b[m\u001b[m                  \u001b[31mpagesize\u001b[m\u001b[m\r\n",
      "\u001b[31mbputil\u001b[m\u001b[m                      \u001b[31mpagestuff\u001b[m\u001b[m\r\n",
      "\u001b[31mbrctl\u001b[m\u001b[m                       \u001b[31mpar.pl\u001b[m\u001b[m\r\n",
      "\u001b[31mbsdtar\u001b[m\u001b[m                      \u001b[31mpar5.30.pl\u001b[m\u001b[m\r\n",
      "\u001b[31mbspatch\u001b[m\u001b[m                     \u001b[31mparl\u001b[m\u001b[m\r\n",
      "\u001b[31mbundle\u001b[m\u001b[m                      \u001b[31mparl5.30\u001b[m\u001b[m\r\n",
      "\u001b[31mbundler\u001b[m\u001b[m                     \u001b[31mparldyn\u001b[m\u001b[m\r\n",
      "\u001b[31mbunzip2\u001b[m\u001b[m                     \u001b[31mparldyn5.30\u001b[m\u001b[m\r\n",
      "\u001b[31mbzcat\u001b[m\u001b[m                       \u001b[31mpasswd\u001b[m\u001b[m\r\n",
      "\u001b[35mbzcmp\u001b[m\u001b[m                       \u001b[31mpaste\u001b[m\u001b[m\r\n",
      "\u001b[31mbzdiff\u001b[m\u001b[m                      \u001b[31mpatch\u001b[m\u001b[m\r\n",
      "\u001b[31mbzegrep\u001b[m\u001b[m                     \u001b[31mpathchk\u001b[m\u001b[m\r\n",
      "\u001b[31mbzfgrep\u001b[m\u001b[m                     \u001b[31mpathopens.d\u001b[m\u001b[m\r\n",
      "\u001b[31mbzgrep\u001b[m\u001b[m                      \u001b[31mpbcopy\u001b[m\u001b[m\r\n",
      "\u001b[31mbzip2\u001b[m\u001b[m                       \u001b[31mpbpaste\u001b[m\u001b[m\r\n",
      "\u001b[31mbzip2recover\u001b[m\u001b[m                \u001b[31mpcap-config\u001b[m\u001b[m\r\n",
      "\u001b[35mbzless\u001b[m\u001b[m                      \u001b[31mpcsctest\u001b[m\u001b[m\r\n",
      "\u001b[31mbzmore\u001b[m\u001b[m                      \u001b[31mperl\u001b[m\u001b[m\r\n",
      "\u001b[31mc++\u001b[m\u001b[m                         \u001b[31mperl5.30\u001b[m\u001b[m\r\n",
      "\u001b[31mc++filt\u001b[m\u001b[m                     \u001b[31mperl5.34\u001b[m\u001b[m\r\n",
      "\u001b[31mc89\u001b[m\u001b[m                         \u001b[31mperlbug\u001b[m\u001b[m\r\n",
      "\u001b[31mc99\u001b[m\u001b[m                         \u001b[31mperlbug5.30\u001b[m\u001b[m\r\n",
      "\u001b[31mcaffeinate\u001b[m\u001b[m                  \u001b[31mperlbug5.34\u001b[m\u001b[m\r\n",
      "\u001b[31mcal\u001b[m\u001b[m                         \u001b[31mperldoc\u001b[m\u001b[m\r\n",
      "\u001b[31mcalendar\u001b[m\u001b[m                    \u001b[31mperldoc5.30\u001b[m\u001b[m\r\n",
      "\u001b[31mcancel\u001b[m\u001b[m                      \u001b[31mperldoc5.34\u001b[m\u001b[m\r\n",
      "\u001b[31mcap_mkdb\u001b[m\u001b[m                    \u001b[31mperlivp\u001b[m\u001b[m\r\n",
      "\u001b[35mcaptoinfo\u001b[m\u001b[m                   \u001b[31mperlivp5.30\u001b[m\u001b[m\r\n",
      "\u001b[31mcc\u001b[m\u001b[m                          \u001b[31mperlivp5.34\u001b[m\u001b[m\r\n",
      "\u001b[31mcd\u001b[m\u001b[m                          \u001b[31mperlthanks\u001b[m\u001b[m\r\n",
      "\u001b[31mcerttool\u001b[m\u001b[m                    \u001b[31mperlthanks5.30\u001b[m\u001b[m\r\n",
      "\u001b[31mchecknr\u001b[m\u001b[m                     \u001b[31mperlthanks5.34\u001b[m\u001b[m\r\n",
      "\u001b[31mchflags\u001b[m\u001b[m                     \u001b[31mpgrep\u001b[m\u001b[m\r\n",
      "\u001b[31mchfn\u001b[m\u001b[m                        \u001b[31mpico\u001b[m\u001b[m\r\n",
      "\u001b[31mchgrp\u001b[m\u001b[m                       \u001b[31mpiconv\u001b[m\u001b[m\r\n",
      "\u001b[31mchpass\u001b[m\u001b[m                      \u001b[31mpiconv5.30\u001b[m\u001b[m\r\n",
      "\u001b[31mchsh\u001b[m\u001b[m                        \u001b[31mpiconv5.34\u001b[m\u001b[m\r\n",
      "\u001b[31mcksum\u001b[m\u001b[m                       \u001b[31mpidpersec.d\u001b[m\u001b[m\r\n",
      "\u001b[31mclang\u001b[m\u001b[m                       \u001b[31mpip3\u001b[m\u001b[m\r\n",
      "\u001b[31mclang++\u001b[m\u001b[m                     \u001b[31mpkgbuild\u001b[m\u001b[m\r\n",
      "\u001b[31mclangd\u001b[m\u001b[m                      \u001b[31mpkill\u001b[m\u001b[m\r\n",
      "\u001b[31mclear\u001b[m\u001b[m                       \u001b[31mpl\u001b[m\u001b[m\r\n",
      "\u001b[31mcmp\u001b[m\u001b[m                         \u001b[31mpl2pm\u001b[m\u001b[m\r\n",
      "\u001b[31mcmpdylib\u001b[m\u001b[m                    \u001b[31mpl2pm5.30\u001b[m\u001b[m\r\n",
      "\u001b[31mcodecctl\u001b[m\u001b[m                    \u001b[31mpl2pm5.34\u001b[m\u001b[m\r\n",
      "\u001b[31mcodesign\u001b[m\u001b[m                    \u001b[31mplockstat\u001b[m\u001b[m\r\n",
      "\u001b[31mcodesign_allocate\u001b[m\u001b[m           \u001b[31mpluginkit\u001b[m\u001b[m\r\n",
      "\u001b[31mcol\u001b[m\u001b[m                         \u001b[31mplutil\u001b[m\u001b[m\r\n",
      "\u001b[31mcolcrt\u001b[m\u001b[m                      \u001b[31mpmset\u001b[m\u001b[m\r\n",
      "\u001b[31mcolldef\u001b[m\u001b[m                     \u001b[31mpod2html\u001b[m\u001b[m\r\n",
      "\u001b[31mcolrm\u001b[m\u001b[m                       \u001b[31mpod2html5.30\u001b[m\u001b[m\r\n",
      "\u001b[31mcolumn\u001b[m\u001b[m                      \u001b[31mpod2html5.34\u001b[m\u001b[m\r\n",
      "\u001b[31mcomm\u001b[m\u001b[m                        \u001b[31mpod2man\u001b[m\u001b[m\r\n",
      "\u001b[31mcommand\u001b[m\u001b[m                     \u001b[31mpod2man5.30\u001b[m\u001b[m\r\n",
      "\u001b[31mcompress\u001b[m\u001b[m                    \u001b[31mpod2man5.34\u001b[m\u001b[m\r\n",
      "\u001b[31mcompression_tool\u001b[m\u001b[m            \u001b[31mpod2readme\u001b[m\u001b[m\r\n",
      "\u001b[31mconfig_data\u001b[m\u001b[m                 \u001b[31mpod2readme5.30\u001b[m\u001b[m\r\n",
      "\u001b[31mconfig_data5.30\u001b[m\u001b[m             \u001b[31mpod2text\u001b[m\u001b[m\r\n",
      "\u001b[31mcorelist\u001b[m\u001b[m                    \u001b[31mpod2text5.30\u001b[m\u001b[m\r\n",
      "\u001b[31mcorelist5.30\u001b[m\u001b[m                \u001b[31mpod2text5.34\u001b[m\u001b[m\r\n",
      "\u001b[31mcorelist5.34\u001b[m\u001b[m                \u001b[31mpod2usage\u001b[m\u001b[m\r\n",
      "\u001b[31mcpan\u001b[m\u001b[m                        \u001b[31mpod2usage5.30\u001b[m\u001b[m\r\n",
      "\u001b[31mcpan5.30\u001b[m\u001b[m                    \u001b[31mpod2usage5.34\u001b[m\u001b[m\r\n",
      "\u001b[31mcpan5.34\u001b[m\u001b[m                    \u001b[31mpodchecker\u001b[m\u001b[m\r\n",
      "\u001b[31mcpio\u001b[m\u001b[m                        \u001b[31mpodchecker5.30\u001b[m\u001b[m\r\n",
      "\u001b[31mcpp\u001b[m\u001b[m                         \u001b[31mpodchecker5.34\u001b[m\u001b[m\r\n",
      "\u001b[31mcpu_profiler.d\u001b[m\u001b[m              \u001b[31mpodselect\u001b[m\u001b[m\r\n",
      "\u001b[31mcpuctl\u001b[m\u001b[m                      \u001b[31mpolicytool\u001b[m\u001b[m\r\n",
      "\u001b[31mcpuwalk.d\u001b[m\u001b[m                   \u001b[31mpower_report.sh\u001b[m\u001b[m\r\n",
      "\u001b[31mcrc32\u001b[m\u001b[m                       \u001b[31mpowermetrics\u001b[m\u001b[m\r\n",
      "\u001b[31mcrc325.30\u001b[m\u001b[m                   \u001b[31mpp\u001b[m\u001b[m\r\n",
      "\u001b[31mcreatbyproc.d\u001b[m\u001b[m               \u001b[31mpp5.30\u001b[m\u001b[m\r\n",
      "\u001b[31mcrlrefresh\u001b[m\u001b[m                  \u001b[31mppdc\u001b[m\u001b[m\r\n",
      "\u001b[30m\u001b[41mcrontab\u001b[m\u001b[m                     \u001b[31mppdhtml\u001b[m\u001b[m\r\n",
      "\u001b[31mcsplit\u001b[m\u001b[m                      \u001b[31mppdi\u001b[m\u001b[m\r\n",
      "\u001b[31mcsreq\u001b[m\u001b[m                       \u001b[31mppdmerge\u001b[m\u001b[m\r\n",
      "\u001b[31mcsrutil\u001b[m\u001b[m                     \u001b[31mppdpo\u001b[m\u001b[m\r\n",
      "\u001b[31mctags\u001b[m\u001b[m                       \u001b[31mpr\u001b[m\u001b[m\r\n",
      "\u001b[31mctf_insert\u001b[m\u001b[m                  \u001b[31mpriclass.d\u001b[m\u001b[m\r\n",
      "\u001b[31mcu\u001b[m\u001b[m                          \u001b[31mpridist.d\u001b[m\u001b[m\r\n",
      "\u001b[31mcups-config\u001b[m\u001b[m                 \u001b[31mprintenv\u001b[m\u001b[m\r\n",
      "\u001b[31mcupstestppd\u001b[m\u001b[m                 \u001b[31mprintf\u001b[m\u001b[m\r\n",
      "\u001b[31mcurl\u001b[m\u001b[m                        \u001b[31mprocsystime\u001b[m\u001b[m\r\n",
      "\u001b[31mcurl-config\u001b[m\u001b[m                 \u001b[31mproductbuild\u001b[m\u001b[m\r\n",
      "\u001b[31mcut\u001b[m\u001b[m                         \u001b[31mproductsign\u001b[m\u001b[m\r\n",
      "\u001b[35mcvaffinity\u001b[m\u001b[m                  \u001b[31mprofiles\u001b[m\u001b[m\r\n",
      "\u001b[35mcvcp\u001b[m\u001b[m                        \u001b[31mprove\u001b[m\u001b[m\r\n",
      "\u001b[35mcvmkdir\u001b[m\u001b[m                     \u001b[31mprove5.30\u001b[m\u001b[m\r\n",
      "\u001b[35mcvmkfile\u001b[m\u001b[m                    \u001b[31mprove5.34\u001b[m\u001b[m\r\n",
      "\u001b[31mdappprof\u001b[m\u001b[m                    \u001b[31mpsm\u001b[m\u001b[m\r\n",
      "\u001b[31mdapptrace\u001b[m\u001b[m                   \u001b[31mpstopdf\u001b[m\u001b[m\r\n",
      "\u001b[31mdb_archive\u001b[m\u001b[m                  \u001b[31mptar\u001b[m\u001b[m\r\n",
      "\u001b[31mdb_checkpoint\u001b[m\u001b[m               \u001b[31mptar5.30\u001b[m\u001b[m\r\n",
      "\u001b[31mdb_codegen\u001b[m\u001b[m                  \u001b[31mptar5.34\u001b[m\u001b[m\r\n",
      "\u001b[31mdb_deadlock\u001b[m\u001b[m                 \u001b[31mptardiff\u001b[m\u001b[m\r\n",
      "\u001b[31mdb_dump\u001b[m\u001b[m                     \u001b[31mptardiff5.30\u001b[m\u001b[m\r\n",
      "\u001b[31mdb_hotbackup\u001b[m\u001b[m                \u001b[31mptardiff5.34\u001b[m\u001b[m\r\n",
      "\u001b[31mdb_load\u001b[m\u001b[m                     \u001b[31mptargrep\u001b[m\u001b[m\r\n",
      "\u001b[31mdb_printlog\u001b[m\u001b[m                 \u001b[31mptargrep5.30\u001b[m\u001b[m\r\n",
      "\u001b[31mdb_recover\u001b[m\u001b[m                  \u001b[31mptargrep5.34\u001b[m\u001b[m\r\n",
      "\u001b[31mdb_stat\u001b[m\u001b[m                     \u001b[31mpwpolicy\u001b[m\u001b[m\r\n",
      "\u001b[31mdb_upgrade\u001b[m\u001b[m                  \u001b[31mpython3\u001b[m\u001b[m\r\n",
      "\u001b[31mdb_verify\u001b[m\u001b[m                   \u001b[35mqlmanage\u001b[m\u001b[m\r\n",
      "\u001b[31mdbicadmin\u001b[m\u001b[m                   \u001b[30m\u001b[41mquota\u001b[m\u001b[m\r\n",
      "\u001b[31mdbicadmin5.30\u001b[m\u001b[m               \u001b[31mrails\u001b[m\u001b[m\r\n",
      "\u001b[31mdbilogstrip\u001b[m\u001b[m                 \u001b[31mrake\u001b[m\u001b[m\r\n",
      "\u001b[31mdbilogstrip5.30\u001b[m\u001b[m             \u001b[31mranlib\u001b[m\u001b[m\r\n",
      "\u001b[31mdbiprof\u001b[m\u001b[m                     \u001b[31mrdoc\u001b[m\u001b[m\r\n",
      "\u001b[31mdbiprof5.30\u001b[m\u001b[m                 \u001b[31mread\u001b[m\u001b[m\r\n",
      "\u001b[31mdbiproxy\u001b[m\u001b[m                    \u001b[31mreadlink\u001b[m\u001b[m\r\n",
      "\u001b[31mdbiproxy5.30\u001b[m\u001b[m                \u001b[31mrenice\u001b[m\u001b[m\r\n",
      "\u001b[31mdc\u001b[m\u001b[m                          \u001b[35mreset\u001b[m\u001b[m\r\n",
      "\u001b[31mdebinhex.pl\u001b[m\u001b[m                 \u001b[31mresolveLinks\u001b[m\u001b[m\r\n",
      "\u001b[31mdebinhex5.30.pl\u001b[m\u001b[m             \u001b[31mrev\u001b[m\u001b[m\r\n",
      "\u001b[31mdefaults\u001b[m\u001b[m                    \u001b[31mri\u001b[m\u001b[m\r\n",
      "\u001b[31mdelv\u001b[m\u001b[m                        \u001b[31mrmic\u001b[m\u001b[m\r\n",
      "\u001b[31mdemandoc\u001b[m\u001b[m                    \u001b[31mrmid\u001b[m\u001b[m\r\n",
      "\u001b[31mderq\u001b[m\u001b[m                        \u001b[31mrmiregistry\u001b[m\u001b[m\r\n",
      "\u001b[31mdesdp\u001b[m\u001b[m                       \u001b[31mrpcgen\u001b[m\u001b[m\r\n",
      "\u001b[31mdevmodectl\u001b[m\u001b[m                  \u001b[31mrs\u001b[m\u001b[m\r\n",
      "\u001b[31mdiagnose-fu\u001b[m\u001b[m                 \u001b[31mrsync\u001b[m\u001b[m\r\n",
      "\u001b[31mdiff\u001b[m\u001b[m                        \u001b[31mruby\u001b[m\u001b[m\r\n",
      "\u001b[31mdiff3\u001b[m\u001b[m                       \u001b[35mrview\u001b[m\u001b[m\r\n",
      "\u001b[31mdiffstat\u001b[m\u001b[m                    \u001b[35mrvim\u001b[m\u001b[m\r\n",
      "\u001b[31mdig\u001b[m\u001b[m                         \u001b[31mrwbypid.d\u001b[m\u001b[m\r\n",
      "\u001b[31mdirname\u001b[m\u001b[m                     \u001b[31mrwbytype.d\u001b[m\u001b[m\r\n",
      "\u001b[31mdispqlen.d\u001b[m\u001b[m                  \u001b[31mrwsnoop\u001b[m\u001b[m\r\n",
      "\u001b[31mditto\u001b[m\u001b[m                       \u001b[35msafaridriver\u001b[m\u001b[m\r\n",
      "\u001b[31mdmc\u001b[m\u001b[m                         \u001b[31msample\u001b[m\u001b[m\r\n",
      "\u001b[31mdns-sd\u001b[m\u001b[m                      \u001b[31msampleproc\u001b[m\u001b[m\r\n",
      "\u001b[31mdrutil\u001b[m\u001b[m                      \u001b[31msandbox-exec\u001b[m\u001b[m\r\n",
      "\u001b[31mdscacheutil\u001b[m\u001b[m                 \u001b[31msay\u001b[m\u001b[m\r\n",
      "\u001b[31mdscl\u001b[m\u001b[m                        \u001b[31msc_usage\u001b[m\u001b[m\r\n",
      "\u001b[31mdserr\u001b[m\u001b[m                       \u001b[31mscandeps.pl\u001b[m\u001b[m\r\n",
      "\u001b[31mdsexport\u001b[m\u001b[m                    \u001b[31mscandeps5.30.pl\u001b[m\u001b[m\r\n",
      "\u001b[31mdsimport\u001b[m\u001b[m                    \u001b[31mschemagen\u001b[m\u001b[m\r\n",
      "\u001b[31mdsmemberutil\u001b[m\u001b[m                \u001b[31mscp\u001b[m\u001b[m\r\n",
      "\u001b[31mdsymutil\u001b[m\u001b[m                    \u001b[31mscreen\u001b[m\u001b[m\r\n",
      "\u001b[31mdtruss\u001b[m\u001b[m                      \u001b[31mscript\u001b[m\u001b[m\r\n",
      "\u001b[31mdu\u001b[m\u001b[m                          \u001b[31msdef\u001b[m\u001b[m\r\n",
      "\u001b[31mdwarfdump\u001b[m\u001b[m                   \u001b[31msdiff\u001b[m\u001b[m\r\n",
      "\u001b[31mdyld_info\u001b[m\u001b[m                   \u001b[31msdp\u001b[m\u001b[m\r\n",
      "\u001b[31mdyld_usage\u001b[m\u001b[m                  \u001b[35msdx\u001b[m\u001b[m\r\n",
      "\u001b[31megrep\u001b[m\u001b[m                       \u001b[31msecurity\u001b[m\u001b[m\r\n",
      "\u001b[31menc2xs\u001b[m\u001b[m                      \u001b[31msed\u001b[m\u001b[m\r\n",
      "\u001b[31menc2xs5.30\u001b[m\u001b[m                  \u001b[31mseeksize.d\u001b[m\u001b[m\r\n",
      "\u001b[31menc2xs5.34\u001b[m\u001b[m                  \u001b[31msegedit\u001b[m\u001b[m\r\n",
      "\u001b[31mencguess\u001b[m\u001b[m                    \u001b[31mseq\u001b[m\u001b[m\r\n",
      "\u001b[31mencguess5.30\u001b[m\u001b[m                \u001b[31mserialver\u001b[m\u001b[m\r\n",
      "\u001b[31mencguess5.34\u001b[m\u001b[m                \u001b[31mservertool\u001b[m\u001b[m\r\n",
      "\u001b[31mencode_keychange\u001b[m\u001b[m            \u001b[31msetregion\u001b[m\u001b[m\r\n",
      "\u001b[31menv\u001b[m\u001b[m                         \u001b[31msetuids.d\u001b[m\u001b[m\r\n",
      "\u001b[31merb\u001b[m\u001b[m                         \u001b[31msfltool\u001b[m\u001b[m\r\n",
      "\u001b[31merrinfo\u001b[m\u001b[m                     \u001b[31msftp\u001b[m\u001b[m\r\n",
      "\u001b[31meslogger\u001b[m\u001b[m                    \u001b[31mshar\u001b[m\u001b[m\r\n",
      "\u001b[35mex\u001b[m\u001b[m                          \u001b[31mshasum\u001b[m\u001b[m\r\n",
      "\u001b[31mexecsnoop\u001b[m\u001b[m                   \u001b[31mshasum5.30\u001b[m\u001b[m\r\n",
      "\u001b[31mexpand\u001b[m\u001b[m                      \u001b[31mshasum5.34\u001b[m\u001b[m\r\n",
      "\u001b[31mexpect\u001b[m\u001b[m                      \u001b[31mshazam\u001b[m\u001b[m\r\n",
      "\u001b[31mextcheck\u001b[m\u001b[m                    \u001b[31mshlock\u001b[m\u001b[m\r\n",
      "\u001b[31meyapp\u001b[m\u001b[m                       \u001b[31mshortcuts\u001b[m\u001b[m\r\n",
      "\u001b[31meyapp5.30\u001b[m\u001b[m                   \u001b[31mshowmount\u001b[m\u001b[m\r\n",
      "\u001b[31mfalse\u001b[m\u001b[m                       \u001b[31msigdist.d\u001b[m\u001b[m\r\n",
      "\u001b[31mfc\u001b[m\u001b[m                          \u001b[31msips\u001b[m\u001b[m\r\n",
      "\u001b[31mfddist\u001b[m\u001b[m                      \u001b[31msize\u001b[m\u001b[m\r\n",
      "\u001b[31mfdesetup\u001b[m\u001b[m                    \u001b[35mslogin\u001b[m\u001b[m\r\n",
      "\u001b[31mfg\u001b[m\u001b[m                          \u001b[31msmbutil\u001b[m\u001b[m\r\n",
      "\u001b[31mfgrep\u001b[m\u001b[m                       \u001b[35msnfsdefrag\u001b[m\u001b[m\r\n",
      "\u001b[31mfile\u001b[m\u001b[m                        \u001b[31msnmp-bridge-mib\u001b[m\u001b[m\r\n",
      "\u001b[31mfilebyproc.d\u001b[m\u001b[m                \u001b[31msnmpbulkget\u001b[m\u001b[m\r\n",
      "\u001b[31mfileproviderctl\u001b[m\u001b[m             \u001b[31msnmpbulkwalk\u001b[m\u001b[m\r\n",
      "\u001b[31mfiltercalltree\u001b[m\u001b[m              \u001b[31msnmpconf\u001b[m\u001b[m\r\n",
      "\u001b[31mfind\u001b[m\u001b[m                        \u001b[31msnmpdelta\u001b[m\u001b[m\r\n",
      "\u001b[31mfindrule\u001b[m\u001b[m                    \u001b[31msnmpdf\u001b[m\u001b[m\r\n",
      "\u001b[31mfindrule5.30\u001b[m\u001b[m                \u001b[31msnmpget\u001b[m\u001b[m\r\n",
      "\u001b[31mfinger\u001b[m\u001b[m                      \u001b[31msnmpgetnext\u001b[m\u001b[m\r\n",
      "\u001b[31mfixproc\u001b[m\u001b[m                     \u001b[35msnmpinform\u001b[m\u001b[m\r\n",
      "\u001b[31mflex\u001b[m\u001b[m                        \u001b[31msnmpnetstat\u001b[m\u001b[m\r\n",
      "\u001b[31mflex++\u001b[m\u001b[m                      \u001b[31msnmpset\u001b[m\u001b[m\r\n",
      "\u001b[31mfmt\u001b[m\u001b[m                         \u001b[31msnmpstatus\u001b[m\u001b[m\r\n",
      "\u001b[31mfold\u001b[m\u001b[m                        \u001b[31msnmptable\u001b[m\u001b[m\r\n",
      "\u001b[35mfontrestore\u001b[m\u001b[m                 \u001b[31msnmptest\u001b[m\u001b[m\r\n",
      "\u001b[31mfootprint\u001b[m\u001b[m                   \u001b[31msnmptranslate\u001b[m\u001b[m\r\n",
      "\u001b[31mfs_usage\u001b[m\u001b[m                    \u001b[31msnmptrap\u001b[m\u001b[m\r\n",
      "\u001b[31mfunzip\u001b[m\u001b[m                      \u001b[31msnmpusm\u001b[m\u001b[m\r\n",
      "\u001b[31mfuser\u001b[m\u001b[m                       \u001b[31msnmpvacm\u001b[m\u001b[m\r\n",
      "\u001b[31mfwkdp\u001b[m\u001b[m                       \u001b[31msnmpwalk\u001b[m\u001b[m\r\n",
      "\u001b[31mfwkpfv\u001b[m\u001b[m                      \u001b[31msntp\u001b[m\u001b[m\r\n",
      "\u001b[31mg++\u001b[m\u001b[m                         \u001b[31msort\u001b[m\u001b[m\r\n",
      "\u001b[31mgatherheaderdoc\u001b[m\u001b[m             \u001b[31msourcekit-lsp\u001b[m\u001b[m\r\n",
      "\u001b[31mgcc\u001b[m\u001b[m                         \u001b[31mspfd\u001b[m\u001b[m\r\n",
      "\u001b[31mgcore\u001b[m\u001b[m                       \u001b[31mspfd5.30\u001b[m\u001b[m\r\n",
      "\u001b[31mgcov\u001b[m\u001b[m                        \u001b[31mspfquery\u001b[m\u001b[m\r\n",
      "\u001b[31mgem\u001b[m\u001b[m                         \u001b[31mspfquery5.30\u001b[m\u001b[m\r\n",
      "\u001b[31mgen_bridge_metadata\u001b[m\u001b[m         \u001b[31msplain\u001b[m\u001b[m\r\n",
      "\u001b[31mgencat\u001b[m\u001b[m                      \u001b[31msplain5.30\u001b[m\u001b[m\r\n",
      "\u001b[31mgenstrings\u001b[m\u001b[m                  \u001b[31msplain5.34\u001b[m\u001b[m\r\n",
      "\u001b[31mgetconf\u001b[m\u001b[m                     \u001b[31msplit\u001b[m\u001b[m\r\n",
      "\u001b[31mgetopt\u001b[m\u001b[m                      \u001b[31msqlite3\u001b[m\u001b[m\r\n",
      "\u001b[31mgetopts\u001b[m\u001b[m                     \u001b[31mssh\u001b[m\u001b[m\r\n",
      "\u001b[31mgit\u001b[m\u001b[m                         \u001b[31mssh-add\u001b[m\u001b[m\r\n",
      "\u001b[31mgit-receive-pack\u001b[m\u001b[m            \u001b[31mssh-agent\u001b[m\u001b[m\r\n",
      "\u001b[31mgit-shell\u001b[m\u001b[m                   \u001b[31mssh-copy-id\u001b[m\u001b[m\r\n",
      "\u001b[31mgit-upload-archive\u001b[m\u001b[m          \u001b[31mssh-keygen\u001b[m\u001b[m\r\n",
      "\u001b[31mgit-upload-pack\u001b[m\u001b[m             \u001b[31mssh-keyscan\u001b[m\u001b[m\r\n",
      "\u001b[31mgm4\u001b[m\u001b[m                         \u001b[31mstapler\u001b[m\u001b[m\r\n",
      "\u001b[31mgnumake\u001b[m\u001b[m                     \u001b[31mstat\u001b[m\u001b[m\r\n",
      "\u001b[31mgperf\u001b[m\u001b[m                       \u001b[31mstreamzip\u001b[m\u001b[m\r\n",
      "\u001b[31mgrep\u001b[m\u001b[m                        \u001b[31mstringdups\u001b[m\u001b[m\r\n",
      "\u001b[31mgroups\u001b[m\u001b[m                      \u001b[31mstrings\u001b[m\u001b[m\r\n",
      "\u001b[31mgunzip\u001b[m\u001b[m                      \u001b[31mstrip\u001b[m\u001b[m\r\n",
      "\u001b[31mgzcat\u001b[m\u001b[m                       \u001b[30m\u001b[41msu\u001b[m\u001b[m\r\n",
      "\u001b[31mgzexe\u001b[m\u001b[m                       \u001b[30m\u001b[41msudo\u001b[m\u001b[m\r\n",
      "\u001b[31mgzip\u001b[m\u001b[m                        \u001b[31msum\u001b[m\u001b[m\r\n",
      "\u001b[31mh2ph\u001b[m\u001b[m                        \u001b[31msw_vers\u001b[m\u001b[m\r\n",
      "\u001b[31mh2ph5.30\u001b[m\u001b[m                    \u001b[35mswcutil\u001b[m\u001b[m\r\n",
      "\u001b[31mh2ph5.34\u001b[m\u001b[m                    \u001b[31mswift\u001b[m\u001b[m\r\n",
      "\u001b[31mh2xs\u001b[m\u001b[m                        \u001b[31mswift-inspect\u001b[m\u001b[m\r\n",
      "\u001b[31mh2xs5.30\u001b[m\u001b[m                    \u001b[31mswiftc\u001b[m\u001b[m\r\n",
      "\u001b[31mh2xs5.34\u001b[m\u001b[m                    \u001b[31msymbols\u001b[m\u001b[m\r\n",
      "\u001b[31mhash\u001b[m\u001b[m                        \u001b[31msymbolscache\u001b[m\u001b[m\r\n",
      "\u001b[31mhdid\u001b[m\u001b[m                        \u001b[31msyscallbypid.d\u001b[m\u001b[m\r\n",
      "\u001b[31mhdiutil\u001b[m\u001b[m                     \u001b[31msyscallbyproc.d\u001b[m\u001b[m\r\n",
      "\u001b[31mhdxml2manxml\u001b[m\u001b[m                \u001b[31msyscallbysysc.d\u001b[m\u001b[m\r\n",
      "\u001b[31mhead\u001b[m\u001b[m                        \u001b[31msyscapturediags\u001b[m\u001b[m\r\n",
      "\u001b[31mheaderdoc2html\u001b[m\u001b[m              \u001b[31msysdiagnose\u001b[m\u001b[m\r\n",
      "\u001b[31mheap\u001b[m\u001b[m                        \u001b[31msyslog\u001b[m\u001b[m\r\n",
      "\u001b[31mhexdump\u001b[m\u001b[m                     \u001b[31msystemextensionsctl\u001b[m\u001b[m\r\n",
      "\u001b[31mhidutil\u001b[m\u001b[m                     \u001b[31mtab2space\u001b[m\u001b[m\r\n",
      "\u001b[31mhiutil\u001b[m\u001b[m                      \u001b[31mtabs\u001b[m\u001b[m\r\n",
      "\u001b[31mhost\u001b[m\u001b[m                        \u001b[31mtail\u001b[m\u001b[m\r\n",
      "\u001b[31mhostinfo\u001b[m\u001b[m                    \u001b[31mtailspin\u001b[m\u001b[m\r\n",
      "\u001b[31mhotspot.d\u001b[m\u001b[m                   \u001b[31mtalk\u001b[m\u001b[m\r\n",
      "\u001b[31mhpmdiagnose\u001b[m\u001b[m                 \u001b[35mtar\u001b[m\u001b[m\r\n",
      "\u001b[31mhtmltree\u001b[m\u001b[m                    \u001b[31mtaskinfo\u001b[m\u001b[m\r\n",
      "\u001b[31mhtmltree5.30\u001b[m\u001b[m                \u001b[31mtbtdiagnose\u001b[m\u001b[m\r\n",
      "\u001b[31mibtool\u001b[m\u001b[m                      \u001b[31mtccutil\u001b[m\u001b[m\r\n",
      "\u001b[31miconutil\u001b[m\u001b[m                    \u001b[35mtclsh\u001b[m\u001b[m\r\n",
      "\u001b[31miconv\u001b[m\u001b[m                       \u001b[35mtclsh8.5\u001b[m\u001b[m\r\n",
      "\u001b[31mictool\u001b[m\u001b[m                      \u001b[31mtee\u001b[m\u001b[m\r\n",
      "\u001b[31mid\u001b[m\u001b[m                          \u001b[31mtest-yaml\u001b[m\u001b[m\r\n",
      "\u001b[31midlj\u001b[m\u001b[m                        \u001b[31mtest-yaml5.30\u001b[m\u001b[m\r\n",
      "\u001b[31mimptrace\u001b[m\u001b[m                    \u001b[31mtextutil\u001b[m\u001b[m\r\n",
      "\u001b[31mindent\u001b[m\u001b[m                      \u001b[31mtftp\u001b[m\u001b[m\r\n",
      "\u001b[31minfocmp\u001b[m\u001b[m                     \u001b[31mthermal\u001b[m\u001b[m\r\n",
      "\u001b[35minfotocap\u001b[m\u001b[m                   \u001b[31mtic\u001b[m\u001b[m\r\n",
      "\u001b[31minstall\u001b[m\u001b[m                     \u001b[31mtidy\u001b[m\u001b[m\r\n",
      "\u001b[31minstall_name_tool\u001b[m\u001b[m           \u001b[31mtidy_changelog\u001b[m\u001b[m\r\n",
      "\u001b[31minstmodsh\u001b[m\u001b[m                   \u001b[31mtidy_changelog5.30\u001b[m\u001b[m\r\n",
      "\u001b[31minstmodsh5.30\u001b[m\u001b[m               \u001b[31mtiff2icns\u001b[m\u001b[m\r\n",
      "\u001b[31minstmodsh5.34\u001b[m\u001b[m               \u001b[31mtiffutil\u001b[m\u001b[m\r\n",
      "\u001b[31miofile.d\u001b[m\u001b[m                    \u001b[31mtime\u001b[m\u001b[m\r\n",
      "\u001b[31miofileb.d\u001b[m\u001b[m                   \u001b[31mtimer_analyser.d\u001b[m\u001b[m\r\n",
      "\u001b[31miopattern\u001b[m\u001b[m                   \u001b[31mtimerfires\u001b[m\u001b[m\r\n",
      "\u001b[31miopending\u001b[m\u001b[m                   \u001b[31mtimesyncanalyse\u001b[m\u001b[m\r\n",
      "\u001b[31miosnoop\u001b[m\u001b[m                     \u001b[35mtkcon\u001b[m\u001b[m\r\n",
      "\u001b[31miotop\u001b[m\u001b[m                       \u001b[31mtkmib\u001b[m\u001b[m\r\n",
      "\u001b[31mip2cc\u001b[m\u001b[m                       \u001b[31mtkpp\u001b[m\u001b[m\r\n",
      "\u001b[31mip2cc5.30\u001b[m\u001b[m                   \u001b[31mtkpp5.30\u001b[m\u001b[m\r\n",
      "\u001b[31mipcount\u001b[m\u001b[m                     \u001b[31mtmdiagnose\u001b[m\u001b[m\r\n",
      "\u001b[31mipcount5.30\u001b[m\u001b[m                 \u001b[31mtmutil\u001b[m\u001b[m\r\n",
      "\u001b[31mipcrm\u001b[m\u001b[m                       \u001b[31mtnameserv\u001b[m\u001b[m\r\n",
      "\u001b[31mipcs\u001b[m\u001b[m                        \u001b[31mtoe\u001b[m\u001b[m\r\n",
      "\u001b[31miperf3-darwin\u001b[m\u001b[m               \u001b[30m\u001b[41mtop\u001b[m\u001b[m\r\n",
      "\u001b[31mippeveprinter\u001b[m\u001b[m               \u001b[31mtops\u001b[m\u001b[m\r\n",
      "\u001b[31mippfind\u001b[m\u001b[m                     \u001b[31mtopsyscall\u001b[m\u001b[m\r\n",
      "\u001b[31mipptool\u001b[m\u001b[m                     \u001b[31mtopsysproc\u001b[m\u001b[m\r\n",
      "\u001b[31miptab\u001b[m\u001b[m                       \u001b[31mtouch\u001b[m\u001b[m\r\n",
      "\u001b[31miptab5.30\u001b[m\u001b[m                   \u001b[31mtput\u001b[m\u001b[m\r\n",
      "\u001b[31mirb\u001b[m\u001b[m                         \u001b[31mtr\u001b[m\u001b[m\r\n",
      "\u001b[31mjar\u001b[m\u001b[m                         \u001b[31mtrace\u001b[m\u001b[m\r\n",
      "\u001b[31mjarsigner\u001b[m\u001b[m                   \u001b[31mtraptoemail\u001b[m\u001b[m\r\n",
      "\u001b[31mjava\u001b[m\u001b[m                        \u001b[31mtreereg\u001b[m\u001b[m\r\n",
      "\u001b[31mjavac\u001b[m\u001b[m                       \u001b[31mtreereg5.30\u001b[m\u001b[m\r\n",
      "\u001b[31mjavadoc\u001b[m\u001b[m                     \u001b[31mtrimforce\u001b[m\u001b[m\r\n",
      "\u001b[31mjavah\u001b[m\u001b[m                       \u001b[31mtrue\u001b[m\u001b[m\r\n",
      "\u001b[31mjavap\u001b[m\u001b[m                       \u001b[31mtruncate\u001b[m\u001b[m\r\n",
      "\u001b[31mjavapackager\u001b[m\u001b[m                \u001b[31mtrustcachectl\u001b[m\u001b[m\r\n",
      "\u001b[31mjavaws\u001b[m\u001b[m                      \u001b[31mtset\u001b[m\u001b[m\r\n",
      "\u001b[31mjcmd\u001b[m\u001b[m                        \u001b[31mtsort\u001b[m\u001b[m\r\n",
      "\u001b[31mjconsole\u001b[m\u001b[m                    \u001b[31mtty\u001b[m\u001b[m\r\n",
      "\u001b[31mjcontrol\u001b[m\u001b[m                    \u001b[31mtype\u001b[m\u001b[m\r\n",
      "\u001b[31mjdb\u001b[m\u001b[m                         \u001b[31mul\u001b[m\u001b[m\r\n",
      "\u001b[31mjdeps\u001b[m\u001b[m                       \u001b[31mulimit\u001b[m\u001b[m\r\n",
      "\u001b[31mjhat\u001b[m\u001b[m                        \u001b[31mumask\u001b[m\u001b[m\r\n",
      "\u001b[31mjhsdb\u001b[m\u001b[m                       \u001b[31mumtool\u001b[m\u001b[m\r\n",
      "\u001b[31mjimage\u001b[m\u001b[m                      \u001b[31munalias\u001b[m\u001b[m\r\n",
      "\u001b[31mjinfo\u001b[m\u001b[m                       \u001b[31muname\u001b[m\u001b[m\r\n",
      "\u001b[31mjjs\u001b[m\u001b[m                         \u001b[31muncompress\u001b[m\u001b[m\r\n",
      "\u001b[31mjlink\u001b[m\u001b[m                       \u001b[31munexpand\u001b[m\u001b[m\r\n",
      "\u001b[31mjmap\u001b[m\u001b[m                        \u001b[31munifdef\u001b[m\u001b[m\r\n",
      "\u001b[31mjmc\u001b[m\u001b[m                         \u001b[31munifdefall\u001b[m\u001b[m\r\n",
      "\u001b[31mjobs\u001b[m\u001b[m                        \u001b[31muniq\u001b[m\u001b[m\r\n",
      "\u001b[31mjoin\u001b[m\u001b[m                        \u001b[31munits\u001b[m\u001b[m\r\n",
      "\u001b[31mjot\u001b[m\u001b[m                         \u001b[31munpack200\u001b[m\u001b[m\r\n",
      "\u001b[31mjpackage\u001b[m\u001b[m                    \u001b[31munvis\u001b[m\u001b[m\r\n",
      "\u001b[31mjps\u001b[m\u001b[m                         \u001b[31munzip\u001b[m\u001b[m\r\n",
      "\u001b[31mjrunscript\u001b[m\u001b[m                  \u001b[31munzipsfx\u001b[m\u001b[m\r\n",
      "\u001b[31mjsadebugd\u001b[m\u001b[m                   \u001b[31mupdate_dyld_shared_cache\u001b[m\u001b[m\r\n",
      "\u001b[31mjshell\u001b[m\u001b[m                      \u001b[31mupdate_mcdp29xx\u001b[m\u001b[m\r\n",
      "\u001b[31mjson_pp\u001b[m\u001b[m                     \u001b[31muptime\u001b[m\u001b[m\r\n",
      "\u001b[31mjson_pp5.30\u001b[m\u001b[m                 \u001b[31musbcfwflasher\u001b[m\u001b[m\r\n",
      "\u001b[31mjson_pp5.34\u001b[m\u001b[m                 \u001b[31musers\u001b[m\u001b[m\r\n",
      "\u001b[31mjson_xs\u001b[m\u001b[m                     \u001b[31muttype\u001b[m\u001b[m\r\n",
      "\u001b[31mjson_xs5.30\u001b[m\u001b[m                 \u001b[31muucp\u001b[m\u001b[m\r\n",
      "\u001b[31mjstack\u001b[m\u001b[m                      \u001b[31muudecode\u001b[m\u001b[m\r\n",
      "\u001b[31mjstat\u001b[m\u001b[m                       \u001b[31muuencode\u001b[m\u001b[m\r\n",
      "\u001b[31mjstatd\u001b[m\u001b[m                      \u001b[31muuidgen\u001b[m\u001b[m\r\n",
      "\u001b[31mjvisualvm\u001b[m\u001b[m                   \u001b[31muulog\u001b[m\u001b[m\r\n",
      "\u001b[31mkcc\u001b[m\u001b[m                         \u001b[31muuname\u001b[m\u001b[m\r\n",
      "\u001b[31mkdestroy\u001b[m\u001b[m                    \u001b[31muupick\u001b[m\u001b[m\r\n",
      "\u001b[31mkextutil\u001b[m\u001b[m                    \u001b[31muustat\u001b[m\u001b[m\r\n",
      "\u001b[31mkeytool\u001b[m\u001b[m                     \u001b[31muuto\u001b[m\u001b[m\r\n",
      "\u001b[31mkgetcred\u001b[m\u001b[m                    \u001b[31muux\u001b[m\u001b[m\r\n",
      "\u001b[31mkill.d\u001b[m\u001b[m                      \u001b[35mvi\u001b[m\u001b[m\r\n",
      "\u001b[31mkillall\u001b[m\u001b[m                     \u001b[35mview\u001b[m\u001b[m\r\n",
      "\u001b[31mkinit\u001b[m\u001b[m                       \u001b[31mvim\u001b[m\u001b[m\r\n",
      "\u001b[35mklist\u001b[m\u001b[m                       \u001b[35mvimdiff\u001b[m\u001b[m\r\n",
      "\u001b[31mkmutil\u001b[m\u001b[m                      \u001b[31mvimtutor\u001b[m\u001b[m\r\n",
      "\u001b[31mkpasswd\u001b[m\u001b[m                     \u001b[31mvis\u001b[m\u001b[m\r\n",
      "\u001b[31mkrb5-config\u001b[m\u001b[m                 \u001b[31mvm_stat\u001b[m\u001b[m\r\n",
      "\u001b[35mkswitch\u001b[m\u001b[m                     \u001b[31mvmmap\u001b[m\u001b[m\r\n",
      "\u001b[31mktrace\u001b[m\u001b[m                      \u001b[31mvtool\u001b[m\u001b[m\r\n",
      "\u001b[31mlam\u001b[m\u001b[m                         \u001b[31mw\u001b[m\u001b[m\r\n",
      "\u001b[31mlast\u001b[m\u001b[m                        \u001b[31mwait\u001b[m\u001b[m\r\n",
      "\u001b[31mlastcomm\u001b[m\u001b[m                    \u001b[31mwall\u001b[m\u001b[m\r\n",
      "\u001b[31mlastwords\u001b[m\u001b[m                   \u001b[31mwc\u001b[m\u001b[m\r\n",
      "\u001b[31mlatency\u001b[m\u001b[m                     \u001b[31mwdutil\u001b[m\u001b[m\r\n",
      "\u001b[31mlayerutil\u001b[m\u001b[m                   \u001b[31mwhat\u001b[m\u001b[m\r\n",
      "\u001b[31mld\u001b[m\u001b[m                          \u001b[31mwhatis\u001b[m\u001b[m\r\n",
      "\u001b[35mldapadd\u001b[m\u001b[m                     \u001b[31mwhereis\u001b[m\u001b[m\r\n",
      "\u001b[31mldapcompare\u001b[m\u001b[m                 \u001b[31mwhich\u001b[m\u001b[m\r\n",
      "\u001b[31mldapdelete\u001b[m\u001b[m                  \u001b[31mwho\u001b[m\u001b[m\r\n",
      "\u001b[31mldapexop\u001b[m\u001b[m                    \u001b[31mwhoami\u001b[m\u001b[m\r\n",
      "\u001b[31mldapmodify\u001b[m\u001b[m                  \u001b[31mwhois\u001b[m\u001b[m\r\n",
      "\u001b[31mldapmodrdn\u001b[m\u001b[m                  \u001b[35mwish\u001b[m\u001b[m\r\n",
      "\u001b[31mldappasswd\u001b[m\u001b[m                  \u001b[31mwish8.5\u001b[m\u001b[m\r\n",
      "\u001b[31mldapsearch\u001b[m\u001b[m                  \u001b[30m\u001b[46mwrite\u001b[m\u001b[m\r\n",
      "\u001b[31mldapurl\u001b[m\u001b[m                     \u001b[31mwsgen\u001b[m\u001b[m\r\n",
      "\u001b[31mldapwhoami\u001b[m\u001b[m                  \u001b[31mwsimport\u001b[m\u001b[m\r\n",
      "\u001b[31mleaks\u001b[m\u001b[m                       \u001b[31mxar\u001b[m\u001b[m\r\n",
      "\u001b[31mleave\u001b[m\u001b[m                       \u001b[31mxargs\u001b[m\u001b[m\r\n",
      "\u001b[31mless\u001b[m\u001b[m                        \u001b[31mxattr\u001b[m\u001b[m\r\n",
      "\u001b[31mlessecho\u001b[m\u001b[m                    \u001b[31mxcdebug\u001b[m\u001b[m\r\n",
      "\u001b[31mlex\u001b[m\u001b[m                         \u001b[31mxcode-select\u001b[m\u001b[m\r\n",
      "\u001b[31mlibnetcfg\u001b[m\u001b[m                   \u001b[31mxcodebuild\u001b[m\u001b[m\r\n",
      "\u001b[31mlibnetcfg5.30\u001b[m\u001b[m               \u001b[31mxcrun\u001b[m\u001b[m\r\n",
      "\u001b[31mlibnetcfg5.34\u001b[m\u001b[m               \u001b[31mxcscontrol\u001b[m\u001b[m\r\n",
      "\u001b[31mlibtool\u001b[m\u001b[m                     \u001b[31mxcsdiagnose\u001b[m\u001b[m\r\n",
      "\u001b[31mlipo\u001b[m\u001b[m                        \u001b[31mxctrace\u001b[m\u001b[m\r\n",
      "\u001b[31mlldb\u001b[m\u001b[m                        \u001b[31mxed\u001b[m\u001b[m\r\n",
      "\u001b[31mllvm-g++\u001b[m\u001b[m                    \u001b[31mxgettext.pl\u001b[m\u001b[m\r\n",
      "\u001b[31mllvm-gcc\u001b[m\u001b[m                    \u001b[31mxgettext5.30.pl\u001b[m\u001b[m\r\n",
      "\u001b[31mloads.d\u001b[m\u001b[m                     \u001b[31mxip\u001b[m\u001b[m\r\n",
      "\u001b[31mlocale\u001b[m\u001b[m                      \u001b[31mxjc\u001b[m\u001b[m\r\n",
      "\u001b[31mlocaledef\u001b[m\u001b[m                   \u001b[31mxml2-config\u001b[m\u001b[m\r\n",
      "\u001b[31mlocate\u001b[m\u001b[m                      \u001b[31mxml2man\u001b[m\u001b[m\r\n",
      "\u001b[31mlockstat\u001b[m\u001b[m                    \u001b[31mxmlcatalog\u001b[m\u001b[m\r\n",
      "\u001b[31mlog\u001b[m\u001b[m                         \u001b[31mxmllint\u001b[m\u001b[m\r\n",
      "\u001b[31mlogger\u001b[m\u001b[m                      \u001b[31mxpath\u001b[m\u001b[m\r\n",
      "\u001b[30m\u001b[41mlogin\u001b[m\u001b[m                       \u001b[31mxpath5.30\u001b[m\u001b[m\r\n",
      "\u001b[31mlogname\u001b[m\u001b[m                     \u001b[31mxslt-config\u001b[m\u001b[m\r\n",
      "\u001b[31mlook\u001b[m\u001b[m                        \u001b[31mxsltproc\u001b[m\u001b[m\r\n",
      "\u001b[31mlorder\u001b[m\u001b[m                      \u001b[31mxsubpp\u001b[m\u001b[m\r\n",
      "\u001b[31mlp\u001b[m\u001b[m                          \u001b[31mxsubpp5.30\u001b[m\u001b[m\r\n",
      "\u001b[31mlpoptions\u001b[m\u001b[m                   \u001b[31mxsubpp5.34\u001b[m\u001b[m\r\n",
      "\u001b[31mlpq\u001b[m\u001b[m                         \u001b[31mxxd\u001b[m\u001b[m\r\n",
      "\u001b[31mlpr\u001b[m\u001b[m                         \u001b[35myaa\u001b[m\u001b[m\r\n",
      "\u001b[31mlprm\u001b[m\u001b[m                        \u001b[31myacc\u001b[m\u001b[m\r\n",
      "\u001b[31mlpstat\u001b[m\u001b[m                      \u001b[31myamlpp-events\u001b[m\u001b[m\r\n",
      "\u001b[31mlsappinfo\u001b[m\u001b[m                   \u001b[31myamlpp-events5.30\u001b[m\u001b[m\r\n",
      "\u001b[31mlsbom\u001b[m\u001b[m                       \u001b[31myamlpp-highlight\u001b[m\u001b[m\r\n",
      "\u001b[31mlskq\u001b[m\u001b[m                        \u001b[31myamlpp-highlight5.30\u001b[m\u001b[m\r\n",
      "\u001b[31mlsm\u001b[m\u001b[m                         \u001b[31myamlpp-load\u001b[m\u001b[m\r\n",
      "\u001b[31mlsmp\u001b[m\u001b[m                        \u001b[31myamlpp-load-dump\u001b[m\u001b[m\r\n",
      "\u001b[31mlsvfs\u001b[m\u001b[m                       \u001b[31myamlpp-load-dump5.30\u001b[m\u001b[m\r\n",
      "\u001b[31mlwp-download\u001b[m\u001b[m                \u001b[31myamlpp-load5.30\u001b[m\u001b[m\r\n",
      "\u001b[31mlwp-download5.30\u001b[m\u001b[m            \u001b[31myamlpp-parse-emit\u001b[m\u001b[m\r\n",
      "\u001b[31mlwp-dump\u001b[m\u001b[m                    \u001b[31myamlpp-parse-emit5.30\u001b[m\u001b[m\r\n",
      "\u001b[31mlwp-dump5.30\u001b[m\u001b[m                \u001b[31myapp\u001b[m\u001b[m\r\n",
      "\u001b[31mlwp-mirror\u001b[m\u001b[m                  \u001b[31myapp5.30\u001b[m\u001b[m\r\n",
      "\u001b[31mlwp-mirror5.30\u001b[m\u001b[m              \u001b[31myes\u001b[m\u001b[m\r\n",
      "\u001b[31mlwp-request\u001b[m\u001b[m                 \u001b[31mzcat\u001b[m\u001b[m\r\n",
      "\u001b[31mlwp-request5.30\u001b[m\u001b[m             \u001b[31mzcmp\u001b[m\u001b[m\r\n",
      "\u001b[31mm4\u001b[m\u001b[m                          \u001b[31mzdiff\u001b[m\u001b[m\r\n",
      "\u001b[31mmacbinary\u001b[m\u001b[m                   \u001b[31mzegrep\u001b[m\u001b[m\r\n",
      "\u001b[31mmacerror\u001b[m\u001b[m                    \u001b[31mzfgrep\u001b[m\u001b[m\r\n",
      "\u001b[31mmacerror5.30\u001b[m\u001b[m                \u001b[31mzforce\u001b[m\u001b[m\r\n",
      "\u001b[31mmachine\u001b[m\u001b[m                     \u001b[31mzgrep\u001b[m\u001b[m\r\n",
      "\u001b[31mmail\u001b[m\u001b[m                        \u001b[31mzip\u001b[m\u001b[m\r\n",
      "\u001b[35mmailq\u001b[m\u001b[m                       \u001b[31mzipcloak\u001b[m\u001b[m\r\n",
      "\u001b[31mmailx\u001b[m\u001b[m                       \u001b[31mzipdetails\u001b[m\u001b[m\r\n",
      "\u001b[31mmake\u001b[m\u001b[m                        \u001b[31mzipdetails5.30\u001b[m\u001b[m\r\n",
      "\u001b[31mmalloc_history\u001b[m\u001b[m              \u001b[31mzipdetails5.34\u001b[m\u001b[m\r\n",
      "\u001b[31mman\u001b[m\u001b[m                         \u001b[31mzipgrep\u001b[m\u001b[m\r\n",
      "\u001b[31mmandoc\u001b[m\u001b[m                      \u001b[31mzipinfo\u001b[m\u001b[m\r\n",
      "\u001b[31mmandoc_soelim\u001b[m\u001b[m               \u001b[31mzipnote\u001b[m\u001b[m\r\n",
      "\u001b[31mmanpath\u001b[m\u001b[m                     \u001b[31mzipsplit\u001b[m\u001b[m\r\n",
      "\u001b[31mmcxquery\u001b[m\u001b[m                    \u001b[31mzless\u001b[m\u001b[m\r\n",
      "\u001b[31mmcxrefresh\u001b[m\u001b[m                  \u001b[31mzmore\u001b[m\u001b[m\r\n",
      "\u001b[31mmddiagnose\u001b[m\u001b[m                  \u001b[31mznew\u001b[m\u001b[m\r\n",
      "\u001b[31mmdfind\u001b[m\u001b[m                      \u001b[31mzprint\u001b[m\u001b[m\r\n"
     ]
    }
   ],
   "source": [
    "!ls /usr/bin"
   ]
  },
  {
   "cell_type": "code",
   "execution_count": null,
   "metadata": {},
   "outputs": [],
   "source": []
  },
  {
   "cell_type": "code",
   "execution_count": null,
   "metadata": {},
   "outputs": [],
   "source": []
  },
  {
   "cell_type": "markdown",
   "metadata": {},
   "source": [
    "### An _environment variable_ like `PATH` is a variable that's available to a process. \n",
    "\n",
    "An environment is not any kind of physical entity--it's just a set of settings (like system time, or user preferences, or language-specific settings like version) and variables.\n",
    "\n",
    "- like when you set aaa=2 in a jupyter notebook but then you dont have aaa in another notebook or another session. That notebook--session is an _environment_.\n",
    "\n",
    "You access them with `$`."
   ]
  },
  {
   "cell_type": "markdown",
   "metadata": {},
   "source": []
  },
  {
   "cell_type": "code",
   "execution_count": 21,
   "metadata": {},
   "outputs": [
    {
     "name": "stdout",
     "output_type": "stream",
     "text": [
      "/bin/bash: /Users/lizre/.pyenv/versions/3.7.3/bin:/usr/local/Cellar/pyenv/2.3.15/libexec:/usr/local/Cellar/pyenv/2.3.15/plugins/python-build/bin:/Library/Frameworks/Python.framework/Versions/3.11/bin:/usr/local/Cellar/pyenv-virtualenv/1.2.1/shims:/Users/lizre/.pyenv/shims:/Users/lizre/.pyenv/bin:/usr/local/bin:/System/Cryptexes/App/usr/bin:/usr/bin:/bin:/usr/sbin:/sbin:/usr/local/go/bin:/usr/local/share/dotnet:/opt/X11/bin:~/.dotnet/tools: No such file or directory\r\n"
     ]
    }
   ],
   "source": [
    "!$PATH"
   ]
  },
  {
   "cell_type": "code",
   "execution_count": null,
   "metadata": {},
   "outputs": [],
   "source": []
  },
  {
   "cell_type": "code",
   "execution_count": null,
   "metadata": {},
   "outputs": [],
   "source": []
  },
  {
   "cell_type": "code",
   "execution_count": null,
   "metadata": {},
   "outputs": [],
   "source": [
    "This is related to the bashrc _configuration file_, where you can set environment variables."
   ]
  },
  {
   "cell_type": "code",
   "execution_count": null,
   "metadata": {},
   "outputs": [],
   "source": []
  },
  {
   "cell_type": "markdown",
   "metadata": {},
   "source": []
  },
  {
   "cell_type": "markdown",
   "metadata": {},
   "source": [
    "### pyenv lets you switch between versions of Python by changing your PATH."
   ]
  },
  {
   "attachments": {},
   "cell_type": "markdown",
   "metadata": {},
   "source": [
    "<img width=\"510\" alt=\"image\" src=\"https://user-images.githubusercontent.com/38010821/227065728-b2dc24e3-7a0f-4ed8-a909-f8ce69a63e94.png\">\n"
   ]
  },
  {
   "cell_type": "markdown",
   "metadata": {},
   "source": [
    "More [here](https://hackernoon.com/reaching-python-development-nirvana-bb5692adf30c), [here](https://realpython.com/intro-to-pyenv/), [here](https://github.com/pyenv/pyenv)."
   ]
  },
  {
   "cell_type": "code",
   "execution_count": null,
   "metadata": {},
   "outputs": [],
   "source": []
  },
  {
   "cell_type": "code",
   "execution_count": null,
   "metadata": {},
   "outputs": [],
   "source": []
  },
  {
   "cell_type": "markdown",
   "metadata": {},
   "source": [
    "### Now you know what python version means."
   ]
  },
  {
   "cell_type": "code",
   "execution_count": null,
   "metadata": {},
   "outputs": [],
   "source": []
  },
  {
   "cell_type": "markdown",
   "metadata": {},
   "source": [
    "# Virtual environments"
   ]
  },
  {
   "cell_type": "code",
   "execution_count": null,
   "metadata": {},
   "outputs": [],
   "source": []
  },
  {
   "cell_type": "code",
   "execution_count": null,
   "metadata": {},
   "outputs": [],
   "source": [
    "https://www.datacamp.com/tutorial/python-developer-set-up"
   ]
  },
  {
   "cell_type": "code",
   "execution_count": null,
   "metadata": {},
   "outputs": [],
   "source": []
  },
  {
   "cell_type": "code",
   "execution_count": null,
   "metadata": {},
   "outputs": [],
   "source": []
  },
  {
   "cell_type": "code",
   "execution_count": null,
   "metadata": {},
   "outputs": [],
   "source": []
  },
  {
   "cell_type": "markdown",
   "metadata": {},
   "source": [
    "## Problem/motivation: all your projects share a single system environment\n",
    "\n",
    "Your python interpreter and packages are just a bunch of files and folders."
   ]
  },
  {
   "cell_type": "markdown",
   "metadata": {},
   "source": [
    "When you `pip install`, it installs the package/dependency in the same place as your interpreter. This is your **system environment.**"
   ]
  },
  {
   "cell_type": "markdown",
   "metadata": {},
   "source": [
    "### The system environment"
   ]
  },
  {
   "cell_type": "markdown",
   "metadata": {},
   "source": [
    "Where is Python:"
   ]
  },
  {
   "cell_type": "code",
   "execution_count": 16,
   "metadata": {},
   "outputs": [
    {
     "name": "stdout",
     "output_type": "stream",
     "text": [
      "/Users/lizre/.pyenv/versions/3.7.3/bin/python\r\n"
     ]
    }
   ],
   "source": [
    "!which python"
   ]
  },
  {
   "cell_type": "markdown",
   "metadata": {},
   "source": [
    "Inside that folder is `site-packages`, with all our packages:"
   ]
  },
  {
   "cell_type": "code",
   "execution_count": 106,
   "metadata": {
    "scrolled": true
   },
   "outputs": [],
   "source": [
    "my_system_python_packages = !cd ~/.pyenv/versions/3.7.3/lib/python3.7/site-packages && ls"
   ]
  },
  {
   "cell_type": "code",
   "execution_count": 107,
   "metadata": {},
   "outputs": [],
   "source": [
    "import pandas as pd\n",
    "\n",
    "my_system_python_packages = pd.Series(my_system_python_packages)"
   ]
  },
  {
   "cell_type": "code",
   "execution_count": 108,
   "metadata": {},
   "outputs": [
    {
     "data": {
      "text/plain": [
       "200                    itsdangerous\n",
       "201    itsdangerous-2.0.1.dist-info\n",
       "202                            jedi\n",
       "203           jedi-0.18.0.dist-info\n",
       "204                         jeepney\n",
       "205         jeepney-0.6.0.dist-info\n",
       "206                          jinja2\n",
       "207                        jinjasql\n",
       "208        jinjasql-0.1.8.dist-info\n",
       "209                        jmespath\n",
       "210       jmespath-0.10.0.dist-info\n",
       "211                          joblib\n",
       "212          joblib-1.0.1.dist-info\n",
       "213                      jsonpickle\n",
       "214      jsonpickle-2.0.0.dist-info\n",
       "dtype: object"
      ]
     },
     "execution_count": 108,
     "metadata": {},
     "output_type": "execute_result"
    }
   ],
   "source": [
    "my_system_python_packages[200:215]"
   ]
  },
  {
   "cell_type": "code",
   "execution_count": 83,
   "metadata": {
    "scrolled": false
   },
   "outputs": [
    {
     "data": {
      "text/plain": [
       "'pandas'"
      ]
     },
     "execution_count": 83,
     "metadata": {},
     "output_type": "execute_result"
    }
   ],
   "source": [
    "my_system_python_packages[303]"
   ]
  },
  {
   "cell_type": "markdown",
   "metadata": {},
   "source": [
    "So each Python project on your computer has all their dependencies in the same place."
   ]
  },
  {
   "cell_type": "markdown",
   "metadata": {},
   "source": [
    "\n",
    "This is a problem when you have multiple projects that need different package versions. Each project will be looking at this same list of packages. Or if you share code with someone, the code will look in their system environment, which might differ from where the code was developed!\n"
   ]
  },
  {
   "cell_type": "markdown",
   "metadata": {},
   "source": [
    "### Solution\n",
    "A **virtual environment** is a separate version of this for each project. Each project has a folder with its own Python interpreter (`lib/python`), pip executable, and `site-packages`. \n",
    "\n"
   ]
  },
  {
   "cell_type": "markdown",
   "metadata": {},
   "source": [
    "**Aside: why not docker:**\n",
    "<br>venv is only for Python dependencies. Docker is for an entire OS. Use when large-scale and/or dpeloying to a server."
   ]
  },
  {
   "cell_type": "markdown",
   "metadata": {},
   "source": [
    "## Make an env"
   ]
  },
  {
   "cell_type": "markdown",
   "metadata": {},
   "source": [
    "[Beginners should start with venv](https://stackoverflow.com/questions/41573587/what-is-the-difference-between-venv-pyvenv-pyenv-virtualenv-virtualenvwrappe) (but many people prefer [pipenv](https://medium.com/analytics-vidhya/why-pipenv-over-venv-for-python-projects-a51fb6e4f31e)).\n"
   ]
  },
  {
   "cell_type": "code",
   "execution_count": 32,
   "metadata": {},
   "outputs": [],
   "source": [
    "!python3 -m venv my_env"
   ]
  },
  {
   "cell_type": "markdown",
   "metadata": {},
   "source": [
    "`my_env` will contain a copy of whatever python interpreter you used to make it. so make it specifically with `python3`."
   ]
  },
  {
   "cell_type": "code",
   "execution_count": 15,
   "metadata": {
    "scrolled": true
   },
   "outputs": [
    {
     "name": "stdout",
     "output_type": "stream",
     "text": [
      "\u001b[34mbin\u001b[m\u001b[m        \u001b[34minclude\u001b[m\u001b[m    \u001b[34mlib\u001b[m\u001b[m        pyvenv.cfg\r\n"
     ]
    }
   ],
   "source": [
    "!cd my_env && ls"
   ]
  },
  {
   "cell_type": "markdown",
   "metadata": {},
   "source": [
    "Creates a folder called `my_env`, with Python, pip and `site-packages`:"
   ]
  },
  {
   "cell_type": "code",
   "execution_count": null,
   "metadata": {},
   "outputs": [],
   "source": [
    "├── bin\n",
    "│   ├── activate\n",
    "│   ├── activate.csh\n",
    "│   ├── activate.fish\n",
    "│   ├── easy_install\n",
    "│   ├── pip\n",
    "│   ├── pip3\n",
    "│   ├── python \n",
    "│   └── python3.7\n",
    "├── include\n",
    "├── lib\n",
    "│   └── python3.7\n",
    "│       └── site-packages\n",
    "└── pyvenv.cfg"
   ]
  },
  {
   "cell_type": "markdown",
   "metadata": {},
   "source": [
    "lib: a copy of Python."
   ]
  },
  {
   "cell_type": "markdown",
   "metadata": {},
   "source": [
    "## Enter/activate env"
   ]
  },
  {
   "cell_type": "markdown",
   "metadata": {},
   "source": [
    "`activate` scripts tell your shell to use the venv’s Python executable and its `site-packages`, instead of the system ones.\n",
    "\n",
    "so just run `activate`:"
   ]
  },
  {
   "cell_type": "code",
   "execution_count": 19,
   "metadata": {},
   "outputs": [],
   "source": [
    "!source my_env/bin/activate "
   ]
  },
  {
   "cell_type": "markdown",
   "metadata": {},
   "source": [
    "### What activating does"
   ]
  },
  {
   "cell_type": "markdown",
   "metadata": {},
   "source": [
    "Now prompt has env name:"
   ]
  },
  {
   "cell_type": "markdown",
   "metadata": {},
   "source": [
    "![image](https://user-images.githubusercontent.com/38010821/153217272-690c3c2d-7035-474b-88ee-3ba1238a2d21.png)\n"
   ]
  },
  {
   "cell_type": "markdown",
   "metadata": {},
   "source": [
    "And now, instead of looking for Python in `/Users/lizre/.pyenv/versions/3.7.3/bin/python`, it's looking in `my_env`:"
   ]
  },
  {
   "cell_type": "code",
   "execution_count": 92,
   "metadata": {},
   "outputs": [
    {
     "name": "stdout",
     "output_type": "stream",
     "text": [
      "/Users/lizre/Downloads/learn-py/my_env/bin/python\r\n"
     ]
    }
   ],
   "source": [
    "!source my_env/bin/activate && which python"
   ]
  },
  {
   "cell_type": "markdown",
   "metadata": {},
   "source": [
    "And `my_env` is at the beginning of PATH, meaning the venv is the first directory used:"
   ]
  },
  {
   "cell_type": "code",
   "execution_count": 98,
   "metadata": {},
   "outputs": [
    {
     "name": "stdout",
     "output_type": "stream",
     "text": [
      "/Users/lizre/Downloads/learn-py/my_env/bin:/Users/lizre/.pyenv/versions/3.7.3/bin:/usr/local/Cellar/pyenv/2.0.6/libexec:/usr/local/Cellar/pyenv/2.0.6/plugins/python-build/bin:/Users/lizre/.pyenv/shims:/Users/lizre/.pyenv/bin:/usr/local/bin:/usr/bin:/bin:/usr/sbin:/sbin:/opt/X11/bin\r\n"
     ]
    }
   ],
   "source": [
    "!source my_env/bin/activate && echo $PATH"
   ]
  },
  {
   "cell_type": "markdown",
   "metadata": {},
   "source": [
    "Whereas outside the venv, `my_env` is not in PATH at all:"
   ]
  },
  {
   "cell_type": "code",
   "execution_count": 101,
   "metadata": {
    "scrolled": true
   },
   "outputs": [
    {
     "name": "stdout",
     "output_type": "stream",
     "text": [
      "/Users/lizre/.pyenv/versions/3.7.3/bin:/usr/local/Cellar/pyenv/2.0.6/libexec:/usr/local/Cellar/pyenv/2.0.6/plugins/python-build/bin:/Users/lizre/.pyenv/shims:/Users/lizre/.pyenv/bin:/usr/local/bin:/usr/bin:/bin:/usr/sbin:/sbin:/opt/X11/bin\r\n"
     ]
    }
   ],
   "source": [
    "!echo $PATH"
   ]
  },
  {
   "cell_type": "markdown",
   "metadata": {},
   "source": [
    "### Install packages in the venv"
   ]
  },
  {
   "cell_type": "markdown",
   "metadata": {},
   "source": [
    "`lib` &  `site-packages`: holds dependencies/packages you install in the venv:"
   ]
  },
  {
   "cell_type": "code",
   "execution_count": 34,
   "metadata": {},
   "outputs": [
    {
     "name": "stdout",
     "output_type": "stream",
     "text": [
      "\u001b[34m__pycache__\u001b[m\u001b[m                 \u001b[34mpkg_resources\u001b[m\u001b[m\r\n",
      "easy_install.py             \u001b[34msetuptools\u001b[m\u001b[m\r\n",
      "\u001b[34mpip\u001b[m\u001b[m                         \u001b[34msetuptools-40.8.0.dist-info\u001b[m\u001b[m\r\n",
      "\u001b[34mpip-19.0.3.dist-info\u001b[m\u001b[m\r\n"
     ]
    }
   ],
   "source": [
    "!cd my_env/lib/python3.7/site-packages && ls"
   ]
  },
  {
   "cell_type": "code",
   "execution_count": 35,
   "metadata": {},
   "outputs": [
    {
     "name": "stdout",
     "output_type": "stream",
     "text": [
      "Collecting numpy\n",
      "  Using cached https://files.pythonhosted.org/packages/09/8c/ae037b8643aaa405b666c167f48550c1ce6b7c589fe5540de6d83e5931ca/numpy-1.21.5-cp37-cp37m-macosx_10_9_x86_64.whl\n",
      "Installing collected packages: numpy\n",
      "Successfully installed numpy-1.21.5\n",
      "\u001b[33mYou are using pip version 19.0.3, however version 22.0.3 is available.\n",
      "You should consider upgrading via the 'pip install --upgrade pip' command.\u001b[0m\n"
     ]
    }
   ],
   "source": [
    "!source my_env/bin/activate && pip install numpy"
   ]
  },
  {
   "cell_type": "markdown",
   "metadata": {},
   "source": [
    "Now numpy's there:"
   ]
  },
  {
   "cell_type": "code",
   "execution_count": 36,
   "metadata": {},
   "outputs": [
    {
     "name": "stdout",
     "output_type": "stream",
     "text": [
      "\u001b[34m__pycache__\u001b[m\u001b[m                 \u001b[34mpip-19.0.3.dist-info\u001b[m\u001b[m\r\n",
      "easy_install.py             \u001b[34mpkg_resources\u001b[m\u001b[m\r\n",
      "\u001b[34mnumpy\u001b[m\u001b[m                       \u001b[34msetuptools\u001b[m\u001b[m\r\n",
      "\u001b[34mnumpy-1.21.5.dist-info\u001b[m\u001b[m      \u001b[34msetuptools-40.8.0.dist-info\u001b[m\u001b[m\r\n",
      "\u001b[34mpip\u001b[m\u001b[m\r\n"
     ]
    }
   ],
   "source": [
    "!cd my_env/lib/python3.7/site-packages && ls"
   ]
  },
  {
   "cell_type": "markdown",
   "metadata": {},
   "source": [
    "## Exit env"
   ]
  },
  {
   "cell_type": "code",
   "execution_count": null,
   "metadata": {},
   "outputs": [],
   "source": [
    "!deactivate"
   ]
  },
  {
   "cell_type": "markdown",
   "metadata": {},
   "source": [
    "Because a venv is just a folder, to delete one, just delete its folder."
   ]
  },
  {
   "cell_type": "markdown",
   "metadata": {},
   "source": [
    "# TODO\n",
    "### [envs inside jupyter](https://stephen-odaibo.medium.com/docker-containers-python-virtual-environments-virtual-machines-d00aa9b8475)\n",
    "\n",
    "### in codespaces\n",
    "https://code.visualstudio.com/docs/python/environments\n",
    "\n",
    "### [use cookiecutter](https://www.datacamp.com/community/tutorials/python-developer-set-up) for scaffolding/templating"
   ]
  }
 ],
 "metadata": {
  "kernelspec": {
   "display_name": "Python 3 (ipykernel)",
   "language": "python",
   "name": "python3"
  },
  "language_info": {
   "codemirror_mode": {
    "name": "ipython",
    "version": 3
   },
   "file_extension": ".py",
   "mimetype": "text/x-python",
   "name": "python",
   "nbconvert_exporter": "python",
   "pygments_lexer": "ipython3",
   "version": "3.7.3"
  }
 },
 "nbformat": 4,
 "nbformat_minor": 2
}
