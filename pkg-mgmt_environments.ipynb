{
 "cells": [
  {
   "cell_type": "markdown",
   "metadata": {},
   "source": [
    "# ⭐ How to install and manage packages and environments. ⭐ "
   ]
  },
  {
   "cell_type": "markdown",
   "metadata": {},
   "source": [
    "# Use `pip` to manage your packages"
   ]
  },
  {
   "cell_type": "markdown",
   "metadata": {},
   "source": [
    "([but](https://realpython.com/pipenv-guide/) many [people](https://hackernoon.com/reaching-python-development-nirvana-bb5692adf30c) prefer [pipenv](https://medium.com/analytics-vidhya/why-pipenv-over-venv-for-python-projects-a51fb6e4f31e)).\n"
   ]
  },
  {
   "cell_type": "code",
   "execution_count": 13,
   "metadata": {
    "scrolled": true
   },
   "outputs": [
    {
     "name": "stdout",
     "output_type": "stream",
     "text": [
      "/Users/lizre/.pyenv/versions/3.7.3/bin/pip\r\n"
     ]
    }
   ],
   "source": [
    "!which pip"
   ]
  },
  {
   "cell_type": "markdown",
   "metadata": {},
   "source": [
    "Starts by searching [PyPI](https://pypi.org/): py package index"
   ]
  },
  {
   "cell_type": "code",
   "execution_count": null,
   "metadata": {},
   "outputs": [],
   "source": [
    "!pip install pandas # Will also get dependencies needed for pandas\n",
    "!pip list # Should now include pandas"
   ]
  },
  {
   "cell_type": "markdown",
   "metadata": {},
   "source": [
    "dependencies and dependents:"
   ]
  },
  {
   "cell_type": "code",
   "execution_count": 86,
   "metadata": {},
   "outputs": [],
   "source": [
    "pandas_deps = !pip show pandas "
   ]
  },
  {
   "cell_type": "code",
   "execution_count": 89,
   "metadata": {},
   "outputs": [
    {
     "data": {
      "text/plain": [
       "['Name: pandas',\n",
       " 'Version: 1.3.2',\n",
       " 'Summary: Powerful data structures for data analysis, time series, and statistics',\n",
       " 'Home-page: https://pandas.pydata.org',\n",
       " 'Author: The Pandas Development Team',\n",
       " 'Author-email: pandas-dev@python.org',\n",
       " 'License: BSD-3-Clause',\n",
       " 'Location: /Users/lizre/.pyenv/versions/3.7.3/lib/python3.7/site-packages',\n",
       " 'Requires: numpy, python-dateutil, pytz',\n",
       " 'Required-by: cmdstanpy, mlflow, mlxtend, octopy, pandas-profiling, phik, prophet, researchpy, seaborn, sklearn-pandas, statsmodels, visions']"
      ]
     },
     "execution_count": 89,
     "metadata": {},
     "output_type": "execute_result"
    }
   ],
   "source": [
    "pandas_deps"
   ]
  },
  {
   "cell_type": "markdown",
   "metadata": {},
   "source": [
    "## Create requirements.txt to record your packages/dependencies\n",
    "\n",
    "In terminal:"
   ]
  },
  {
   "cell_type": "code",
   "execution_count": 8,
   "metadata": {},
   "outputs": [
    {
     "name": "stdout",
     "output_type": "stream",
     "text": [
      "INFO: Successfully saved requirements file in /Users/lizre/Downloads/learn-py/requirements.txt\r\n"
     ]
    }
   ],
   "source": [
    "!pipreqs --force"
   ]
  },
  {
   "cell_type": "markdown",
   "metadata": {},
   "source": [
    "- You'll see requirements.txt appear in src. It will not exactly match everything you `import` because pipreqs only includes ones not in standard library.\n",
    "- Can also use `pip freeze > requirements.txt` but it is [harmful because it includes too many things.](https://medium.com/@tomagee/pip-freeze-requirements-txt-considered-harmful-f0bce66cf895); also [pypi says not to use pip freeze](https://pypi.org/project/pipreqs/).\n",
    "\n"
   ]
  },
  {
   "cell_type": "code",
   "execution_count": 10,
   "metadata": {},
   "outputs": [
    {
     "name": "stdout",
     "output_type": "stream",
     "text": [
      "pandas==1.3.2\r\n"
     ]
    }
   ],
   "source": [
    "!cat requirements.txt"
   ]
  },
  {
   "cell_type": "markdown",
   "metadata": {},
   "source": [
    "To use:"
   ]
  },
  {
   "cell_type": "code",
   "execution_count": 12,
   "metadata": {},
   "outputs": [
    {
     "name": "stdout",
     "output_type": "stream",
     "text": [
      "Requirement already satisfied: pandas==1.3.2 in /Users/lizre/.pyenv/versions/3.7.3/lib/python3.7/site-packages (from -r requirements.txt (line 1)) (1.3.2)\r\n",
      "Requirement already satisfied: numpy>=1.17.3 in /Users/lizre/.pyenv/versions/3.7.3/lib/python3.7/site-packages (from pandas==1.3.2->-r requirements.txt (line 1)) (1.19.5)\r\n",
      "Requirement already satisfied: python-dateutil>=2.7.3 in /Users/lizre/.pyenv/versions/3.7.3/lib/python3.7/site-packages (from pandas==1.3.2->-r requirements.txt (line 1)) (2.8.2)\r\n",
      "Requirement already satisfied: pytz>=2017.3 in /Users/lizre/.pyenv/versions/3.7.3/lib/python3.7/site-packages (from pandas==1.3.2->-r requirements.txt (line 1)) (2021.1)\r\n",
      "Requirement already satisfied: six>=1.5 in /Users/lizre/.pyenv/versions/3.7.3/lib/python3.7/site-packages (from python-dateutil>=2.7.3->pandas==1.3.2->-r requirements.txt (line 1)) (1.15.0)\r\n"
     ]
    }
   ],
   "source": [
    "!pip install -r requirements.txt"
   ]
  },
  {
   "cell_type": "markdown",
   "metadata": {},
   "source": [
    "# Use `pyenv` to manage your Python version"
   ]
  },
  {
   "cell_type": "markdown",
   "metadata": {},
   "source": [
    "## Why:\n",
    "test on multiple versions"
   ]
  },
  {
   "cell_type": "code",
   "execution_count": 1,
   "metadata": {},
   "outputs": [
    {
     "name": "stdout",
     "output_type": "stream",
     "text": [
      "/Users/lizre/.pyenv/versions/3.7.3/bin/python\r\n"
     ]
    }
   ],
   "source": [
    "!which python"
   ]
  },
  {
   "cell_type": "markdown",
   "metadata": {},
   "source": [
    "When you run a python command, your OS searches a list of directories to find an executable file with that name. The list of directories is in an environment variable called PATH:"
   ]
  },
  {
   "cell_type": "code",
   "execution_count": 3,
   "metadata": {},
   "outputs": [
    {
     "name": "stdout",
     "output_type": "stream",
     "text": [
      "/Users/lizre/.pyenv/versions/3.7.3/bin:/usr/local/Cellar/pyenv/2.2.4-1/libexec:/usr/local/Cellar/pyenv/2.2.4-1/plugins/python-build/bin:/Users/lizre/.pyenv/shims:/Users/lizre/.pyenv/bin:/usr/local/bin:/usr/bin:/bin:/usr/sbin:/sbin:/opt/X11/bin\r\n"
     ]
    }
   ],
   "source": [
    "!echo $PATH"
   ]
  },
  {
   "cell_type": "markdown",
   "metadata": {},
   "source": [
    "Each directory is separated by `:`."
   ]
  },
  {
   "cell_type": "markdown",
   "metadata": {},
   "source": [
    "pyenv lets you switch between versions of Python by changing your PATH."
   ]
  },
  {
   "attachments": {
    "image.png": {
     "image/png": "[encoded data removed]"
    }
   },
   "cell_type": "markdown",
   "metadata": {},
   "source": [
    "![image.png](attachment:image.png)"
   ]
  },
  {
   "cell_type": "markdown",
   "metadata": {},
   "source": [
    "More [here](https://hackernoon.com/reaching-python-development-nirvana-bb5692adf30c), [here](https://realpython.com/intro-to-pyenv/), [here](https://github.com/pyenv/pyenv)."
   ]
  },
  {
   "cell_type": "markdown",
   "metadata": {},
   "source": [
    "# Virtual environment"
   ]
  },
  {
   "cell_type": "markdown",
   "metadata": {},
   "source": [
    "## Problem/motivation: all your projects share a single system environment\n",
    "\n",
    "Your python interpreter and packages are just a bunch of files and folders."
   ]
  },
  {
   "cell_type": "markdown",
   "metadata": {},
   "source": [
    "When you `pip install`, it installs the package/dependency in the same place as your interpreter. This is your **system environment.**"
   ]
  },
  {
   "cell_type": "markdown",
   "metadata": {},
   "source": [
    "### The system environment"
   ]
  },
  {
   "cell_type": "markdown",
   "metadata": {},
   "source": [
    "Where is Python:"
   ]
  },
  {
   "cell_type": "code",
   "execution_count": 16,
   "metadata": {},
   "outputs": [
    {
     "name": "stdout",
     "output_type": "stream",
     "text": [
      "/Users/lizre/.pyenv/versions/3.7.3/bin/python\r\n"
     ]
    }
   ],
   "source": [
    "!which python"
   ]
  },
  {
   "cell_type": "markdown",
   "metadata": {},
   "source": [
    "Inside that folder is `site-packages`, with all our packages:"
   ]
  },
  {
   "cell_type": "code",
   "execution_count": 106,
   "metadata": {
    "scrolled": true
   },
   "outputs": [],
   "source": [
    "my_system_python_packages = !cd ~/.pyenv/versions/3.7.3/lib/python3.7/site-packages && ls"
   ]
  },
  {
   "cell_type": "code",
   "execution_count": 107,
   "metadata": {},
   "outputs": [],
   "source": [
    "import pandas as pd\n",
    "\n",
    "my_system_python_packages = pd.Series(my_system_python_packages)"
   ]
  },
  {
   "cell_type": "code",
   "execution_count": 108,
   "metadata": {},
   "outputs": [
    {
     "data": {
      "text/plain": [
       "200                    itsdangerous\n",
       "201    itsdangerous-2.0.1.dist-info\n",
       "202                            jedi\n",
       "203           jedi-0.18.0.dist-info\n",
       "204                         jeepney\n",
       "205         jeepney-0.6.0.dist-info\n",
       "206                          jinja2\n",
       "207                        jinjasql\n",
       "208        jinjasql-0.1.8.dist-info\n",
       "209                        jmespath\n",
       "210       jmespath-0.10.0.dist-info\n",
       "211                          joblib\n",
       "212          joblib-1.0.1.dist-info\n",
       "213                      jsonpickle\n",
       "214      jsonpickle-2.0.0.dist-info\n",
       "dtype: object"
      ]
     },
     "execution_count": 108,
     "metadata": {},
     "output_type": "execute_result"
    }
   ],
   "source": [
    "my_system_python_packages[200:215]"
   ]
  },
  {
   "cell_type": "code",
   "execution_count": 83,
   "metadata": {
    "scrolled": false
   },
   "outputs": [
    {
     "data": {
      "text/plain": [
       "'pandas'"
      ]
     },
     "execution_count": 83,
     "metadata": {},
     "output_type": "execute_result"
    }
   ],
   "source": [
    "my_system_python_packages[303]"
   ]
  },
  {
   "cell_type": "markdown",
   "metadata": {},
   "source": [
    "So each Python project on your computer has all their dependencies in the same place."
   ]
  },
  {
   "cell_type": "markdown",
   "metadata": {},
   "source": [
    "\n",
    "This is a problem when you have multiple projects that need different package versions. Each project will be looking at this same list of packages. Or if you share code with someone, the code will look in their system environment, which might differ from where the code was developed!\n"
   ]
  },
  {
   "cell_type": "markdown",
   "metadata": {},
   "source": [
    "### Solution\n",
    "A **virtual environment** is a separate version of this for each project. Each project has a folder with its own Python interpreter (`lib/python`), pip executable, and `site-packages`. \n",
    "\n"
   ]
  },
  {
   "cell_type": "markdown",
   "metadata": {},
   "source": [
    "**Aside: why not docker:**\n",
    "<br>venv is only for Python dependencies. Docker is for an entire OS. Use when large-scale and/or dpeloying to a server."
   ]
  },
  {
   "cell_type": "markdown",
   "metadata": {},
   "source": [
    "## Make an env"
   ]
  },
  {
   "cell_type": "markdown",
   "metadata": {},
   "source": [
    "[Beginners should start with venv](https://stackoverflow.com/questions/41573587/what-is-the-difference-between-venv-pyvenv-pyenv-virtualenv-virtualenvwrappe) (but many people prefer [pipenv](https://medium.com/analytics-vidhya/why-pipenv-over-venv-for-python-projects-a51fb6e4f31e)).\n"
   ]
  },
  {
   "cell_type": "code",
   "execution_count": 32,
   "metadata": {},
   "outputs": [],
   "source": [
    "!python3 -m venv my_env"
   ]
  },
  {
   "cell_type": "markdown",
   "metadata": {},
   "source": [
    "`my_env` will contain a copy of whatever python interpreter you used to make it. so make it specifically with `python3`."
   ]
  },
  {
   "cell_type": "code",
   "execution_count": 15,
   "metadata": {
    "scrolled": true
   },
   "outputs": [
    {
     "name": "stdout",
     "output_type": "stream",
     "text": [
      "\u001b[34mbin\u001b[m\u001b[m        \u001b[34minclude\u001b[m\u001b[m    \u001b[34mlib\u001b[m\u001b[m        pyvenv.cfg\r\n"
     ]
    }
   ],
   "source": [
    "!cd my_env && ls"
   ]
  },
  {
   "cell_type": "markdown",
   "metadata": {},
   "source": [
    "Creates a folder called `my_env`, with Python, pip and `site-packages`:"
   ]
  },
  {
   "cell_type": "code",
   "execution_count": null,
   "metadata": {},
   "outputs": [],
   "source": [
    "├── bin\n",
    "│   ├── activate\n",
    "│   ├── activate.csh\n",
    "│   ├── activate.fish\n",
    "│   ├── easy_install\n",
    "│   ├── pip\n",
    "│   ├── pip3\n",
    "│   ├── python \n",
    "│   └── python3.7\n",
    "├── include\n",
    "├── lib\n",
    "│   └── python3.7\n",
    "│       └── site-packages\n",
    "└── pyvenv.cfg"
   ]
  },
  {
   "cell_type": "markdown",
   "metadata": {},
   "source": [
    "lib: a copy of Python."
   ]
  },
  {
   "cell_type": "markdown",
   "metadata": {},
   "source": [
    "## Enter/activate env"
   ]
  },
  {
   "cell_type": "markdown",
   "metadata": {},
   "source": [
    "`activate` scripts tell your shell to use the venv’s Python executable and its `site-packages`, instead of the system ones.\n",
    "\n",
    "so just run `activate`:"
   ]
  },
  {
   "cell_type": "code",
   "execution_count": 19,
   "metadata": {},
   "outputs": [],
   "source": [
    "!source my_env/bin/activate "
   ]
  },
  {
   "cell_type": "markdown",
   "metadata": {},
   "source": [
    "### What activating does"
   ]
  },
  {
   "cell_type": "markdown",
   "metadata": {},
   "source": [
    "Now prompt has env name:"
   ]
  },
  {
   "cell_type": "markdown",
   "metadata": {},
   "source": [
    "![image](https://user-images.githubusercontent.com/38010821/153217272-690c3c2d-7035-474b-88ee-3ba1238a2d21.png)\n"
   ]
  },
  {
   "cell_type": "markdown",
   "metadata": {},
   "source": [
    "And now, instead of looking for Python in `/Users/lizre/.pyenv/versions/3.7.3/bin/python`, it's looking in `my_env`:"
   ]
  },
  {
   "cell_type": "code",
   "execution_count": 92,
   "metadata": {},
   "outputs": [
    {
     "name": "stdout",
     "output_type": "stream",
     "text": [
      "/Users/lizre/Downloads/learn-py/my_env/bin/python\r\n"
     ]
    }
   ],
   "source": [
    "!source my_env/bin/activate && which python"
   ]
  },
  {
   "cell_type": "markdown",
   "metadata": {},
   "source": [
    "And `my_env` is at the beginning of PATH, meaning the venv is the first directory used:"
   ]
  },
  {
   "cell_type": "code",
   "execution_count": 98,
   "metadata": {},
   "outputs": [
    {
     "name": "stdout",
     "output_type": "stream",
     "text": [
      "/Users/lizre/Downloads/learn-py/my_env/bin:/Users/lizre/.pyenv/versions/3.7.3/bin:/usr/local/Cellar/pyenv/2.0.6/libexec:/usr/local/Cellar/pyenv/2.0.6/plugins/python-build/bin:/Users/lizre/.pyenv/shims:/Users/lizre/.pyenv/bin:/usr/local/bin:/usr/bin:/bin:/usr/sbin:/sbin:/opt/X11/bin\r\n"
     ]
    }
   ],
   "source": [
    "!source my_env/bin/activate && echo $PATH"
   ]
  },
  {
   "cell_type": "markdown",
   "metadata": {},
   "source": [
    "Whereas outside the venv, `my_env` is not in PATH at all:"
   ]
  },
  {
   "cell_type": "code",
   "execution_count": 101,
   "metadata": {
    "scrolled": true
   },
   "outputs": [
    {
     "name": "stdout",
     "output_type": "stream",
     "text": [
      "/Users/lizre/.pyenv/versions/3.7.3/bin:/usr/local/Cellar/pyenv/2.0.6/libexec:/usr/local/Cellar/pyenv/2.0.6/plugins/python-build/bin:/Users/lizre/.pyenv/shims:/Users/lizre/.pyenv/bin:/usr/local/bin:/usr/bin:/bin:/usr/sbin:/sbin:/opt/X11/bin\r\n"
     ]
    }
   ],
   "source": [
    "!echo $PATH"
   ]
  },
  {
   "cell_type": "markdown",
   "metadata": {},
   "source": [
    "### Install packages in the venv"
   ]
  },
  {
   "cell_type": "markdown",
   "metadata": {},
   "source": [
    "`lib` &  `site-packages`: holds dependencies/packages you install in the venv:"
   ]
  },
  {
   "cell_type": "code",
   "execution_count": 34,
   "metadata": {},
   "outputs": [
    {
     "name": "stdout",
     "output_type": "stream",
     "text": [
      "\u001b[34m__pycache__\u001b[m\u001b[m                 \u001b[34mpkg_resources\u001b[m\u001b[m\r\n",
      "easy_install.py             \u001b[34msetuptools\u001b[m\u001b[m\r\n",
      "\u001b[34mpip\u001b[m\u001b[m                         \u001b[34msetuptools-40.8.0.dist-info\u001b[m\u001b[m\r\n",
      "\u001b[34mpip-19.0.3.dist-info\u001b[m\u001b[m\r\n"
     ]
    }
   ],
   "source": [
    "!cd my_env/lib/python3.7/site-packages && ls"
   ]
  },
  {
   "cell_type": "code",
   "execution_count": 35,
   "metadata": {},
   "outputs": [
    {
     "name": "stdout",
     "output_type": "stream",
     "text": [
      "Collecting numpy\n",
      "  Using cached https://files.pythonhosted.org/packages/09/8c/ae037b8643aaa405b666c167f48550c1ce6b7c589fe5540de6d83e5931ca/numpy-1.21.5-cp37-cp37m-macosx_10_9_x86_64.whl\n",
      "Installing collected packages: numpy\n",
      "Successfully installed numpy-1.21.5\n",
      "\u001b[33mYou are using pip version 19.0.3, however version 22.0.3 is available.\n",
      "You should consider upgrading via the 'pip install --upgrade pip' command.\u001b[0m\n"
     ]
    }
   ],
   "source": [
    "!source my_env/bin/activate && pip install numpy"
   ]
  },
  {
   "cell_type": "markdown",
   "metadata": {},
   "source": [
    "Now numpy's there:"
   ]
  },
  {
   "cell_type": "code",
   "execution_count": 36,
   "metadata": {},
   "outputs": [
    {
     "name": "stdout",
     "output_type": "stream",
     "text": [
      "\u001b[34m__pycache__\u001b[m\u001b[m                 \u001b[34mpip-19.0.3.dist-info\u001b[m\u001b[m\r\n",
      "easy_install.py             \u001b[34mpkg_resources\u001b[m\u001b[m\r\n",
      "\u001b[34mnumpy\u001b[m\u001b[m                       \u001b[34msetuptools\u001b[m\u001b[m\r\n",
      "\u001b[34mnumpy-1.21.5.dist-info\u001b[m\u001b[m      \u001b[34msetuptools-40.8.0.dist-info\u001b[m\u001b[m\r\n",
      "\u001b[34mpip\u001b[m\u001b[m\r\n"
     ]
    }
   ],
   "source": [
    "!cd my_env/lib/python3.7/site-packages && ls"
   ]
  },
  {
   "cell_type": "markdown",
   "metadata": {},
   "source": [
    "## Exit env"
   ]
  },
  {
   "cell_type": "code",
   "execution_count": null,
   "metadata": {},
   "outputs": [],
   "source": [
    "!deactivate"
   ]
  },
  {
   "cell_type": "markdown",
   "metadata": {},
   "source": [
    "Because a venv is just a folder, to delete one, just delete its folder."
   ]
  },
  {
   "cell_type": "markdown",
   "metadata": {},
   "source": [
    "## More\n",
    "\n",
    "- [envs inside jupyter](https://stephen-odaibo.medium.com/docker-containers-python-virtual-environments-virtual-machines-d00aa9b8475)\n",
    "- [use cookiecutter](https://www.datacamp.com/community/tutorials/python-developer-set-up) for scaffolding/templating"
   ]
  }
 ],
 "metadata": {
  "kernelspec": {
   "display_name": "Python 3 (ipykernel)",
   "language": "python",
   "name": "python3"
  },
  "language_info": {
   "codemirror_mode": {
    "name": "ipython",
    "version": 3
   },
   "file_extension": ".py",
   "mimetype": "text/x-python",
   "name": "python",
   "nbconvert_exporter": "python",
   "pygments_lexer": "ipython3",
   "version": "3.7.3"
  }
 },
 "nbformat": 4,
 "nbformat_minor": 2
}
