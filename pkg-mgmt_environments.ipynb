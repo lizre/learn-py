{
 "cells": [
  {
   "cell_type": "markdown",
   "metadata": {},
   "source": [
    "# 🐍 Managing packages and environments for Python: local and in Codespaces 🐍"
   ]
  },
  {
   "cell_type": "markdown",
   "metadata": {},
   "source": [
    "### Why do you need to care?  \n",
    "\n",
    "Some code or functions only work on certain versions of Python or Python packages. So you need to:\n",
    "\n",
    "- test that your code works on multiple versions\n",
    "- and/or keep the version that worked when you made your particular project with your particular requirements\n",
    "\n"
   ]
  },
  {
   "cell_type": "markdown",
   "metadata": {},
   "source": [
    "# 🚀🚀🚀\n",
    "# TLDR;\n",
    "\n",
    "Python versions and packages are files in `/Users/lizre/.pyenv/versions/` 📁 🐍 \n",
    "<img width=\"195\" alt=\"image\" src=\"https://user-images.githubusercontent.com/38010821/227729495-4b87c744-986f-4378-80c0-fde31363e6af.png\">\n",
    "\n",
    "Python versions (`site`s) come with an _interpreter_:  an \"executable file\" that turns the language into binary so your computer can run it. 🐍 ⬅️➡️ 💻"
   ]
  },
  {
   "cell_type": "code",
   "execution_count": 86,
   "metadata": {},
   "outputs": [
    {
     "name": "stdout",
     "output_type": "stream",
     "text": [
      "/Users/lizre/.pyenv/versions/3.7.3/bin/python\r\n"
     ]
    }
   ],
   "source": [
    "!which python"
   ]
  },
  {
   "cell_type": "markdown",
   "metadata": {},
   "source": [
    "Each `site` has a `/lib`: your library of packages.  📁 🐍 📚\n",
    "- Each `/lib` includes `site-packages`: the ones you've installed 📚 📦"
   ]
  },
  {
   "cell_type": "code",
   "execution_count": 90,
   "metadata": {
    "scrolled": true
   },
   "outputs": [
    {
     "data": {
      "text/plain": [
       "['shutil.py', 'signal.py', 'site-packages']"
      ]
     },
     "execution_count": 90,
     "metadata": {},
     "output_type": "execute_result"
    }
   ],
   "source": [
    "lib = !cd ~/.pyenv/versions/3.7.3/lib/python3.7 && ls\n",
    "lib[147:150]"
   ]
  },
  {
   "cell_type": "code",
   "execution_count": 94,
   "metadata": {},
   "outputs": [
    {
     "data": {
      "text/plain": [
       "['Cython-0.29.23.dist-info',\n",
       " 'Flask-2.0.1.dist-info',\n",
       " 'GitPython-3.1.24.dist-info']"
      ]
     },
     "execution_count": 94,
     "metadata": {},
     "output_type": "execute_result"
    }
   ],
   "source": [
    "site_packages = !cd ~/.pyenv/versions/3.7.3/lib/python3.7/site-packages && ls\n",
    "site_packages[2:5]"
   ]
  },
  {
   "cell_type": "markdown",
   "metadata": {},
   "source": [
    "So packages are always inside a particular python `site`. 📦 📥 📁 🐍\n",
    "\n",
    "Your `PATH` _environment variable_, set in your `~/.bashrc`, tells our OS where to look for executable files."
   ]
  },
  {
   "cell_type": "code",
   "execution_count": 96,
   "metadata": {},
   "outputs": [
    {
     "name": "stdout",
     "output_type": "stream",
     "text": [
      "export PATH=\"$HOME/.ipython/kernels/ijavascript/bin:$PATH\" /Users/lizre/Downloads/harnesslib/examples/.venv/bin:/Library/Frameworks/Python.framework/Versions/3.11/bin:/usr/local/Cellar/pyenv-virtualenv/1.2.1/shims:/Users/lizre/.pyenv/shims:/Users/lizre/.pyenv/bin:/usr/local/bin:/System/Cryptexes/App/usr/bin:/usr/bin:/bin:/usr/sbin:/sbin:/usr/local/go/bin:/usr/local/share/dotnet:/opt/X11/bin:~/.dotnet/tools"
     ]
    }
   ],
   "source": [
    "!cat ~/.bashrc"
   ]
  },
  {
   "cell_type": "markdown",
   "metadata": {},
   "source": [
    "`pip` refers to `PATH` to know which version/`site`'s `site-packages` to install into.\n",
    "<br>\n",
    "<br>\n",
    "\n",
    "< end TLDR; >\n",
    "\n",
    "# 🚀🚀🚀\n",
    "\n",
    "<br>\n",
    "<br>"
   ]
  },
  {
   "cell_type": "markdown",
   "metadata": {},
   "source": [
    "# Python versions and packages are files  📁🐍 "
   ]
  },
  {
   "cell_type": "markdown",
   "metadata": {},
   "source": [
    "- A _python version_ is a version of the Python programming language.\n",
    "- A python _interpreter_ is an \"executable file\" that runs the language.\n",
    "- There's a 1:1 relationship: when you install a version of python language, it also installs an interpreter that supports that version\n",
    "\n",
    "`python --version` shows the version the interpreter supports:"
   ]
  },
  {
   "cell_type": "code",
   "execution_count": 37,
   "metadata": {},
   "outputs": [
    {
     "name": "stdout",
     "output_type": "stream",
     "text": [
      "Python 3.7.3\r\n"
     ]
    }
   ],
   "source": [
    "!python --version"
   ]
  },
  {
   "cell_type": "markdown",
   "metadata": {},
   "source": [
    "The interpreter is at this `path`:"
   ]
  },
  {
   "cell_type": "code",
   "execution_count": 36,
   "metadata": {
    "scrolled": true
   },
   "outputs": [
    {
     "name": "stdout",
     "output_type": "stream",
     "text": [
      "/Users/lizre/.pyenv/versions/3.7.3/bin/python\r\n"
     ]
    }
   ],
   "source": [
    "!which python"
   ]
  },
  {
   "cell_type": "markdown",
   "metadata": {},
   "source": [
    "(`which` means `path to executable`. for some reason it's not `where`.)\n",
    "\n",
    "<br>\n",
    "\n",
    "\n",
    "🔎 _Aside: executable files_ 🔍\n",
    "\n",
    "Languages like Python are actually written in a \"lower level language\" that is more about manipulating the computer hardware. \n",
    "\n",
    "You use an _interpreter_ to translate from Python to the lower language, which is bytecode, which then translates even lower, to machine code (binary). \n",
    "\n",
    "And the interpreter can be written in a totally different language than all of those, which for Python is C.\n",
    "\n",
    "So the C interpreter translates the python into bytecode and bytecode into machine code/binary.\n",
    "\n",
    "<br>"
   ]
  },
  {
   "cell_type": "markdown",
   "metadata": {},
   "source": [
    "## 📁📁📁 So if you have multiple python or package versions, you have multiple files 📁📁📁"
   ]
  },
  {
   "cell_type": "markdown",
   "metadata": {},
   "source": [
    "`/Users/lizre/.pyenv/versions` contains multiple versions of python/interpreter:\n"
   ]
  },
  {
   "cell_type": "code",
   "execution_count": 4,
   "metadata": {
    "scrolled": true
   },
   "outputs": [
    {
     "name": "stdout",
     "output_type": "stream",
     "text": [
      "\u001b[34m3.5.7\u001b[m\u001b[m  \u001b[34m3.7.11\u001b[m\u001b[m \u001b[34m3.7.3\u001b[m\u001b[m  \u001b[34m3.8.12\u001b[m\u001b[m\r\n"
     ]
    }
   ],
   "source": [
    "!cd /Users/lizre/.pyenv/versions/ && ls"
   ]
  },
  {
   "cell_type": "markdown",
   "metadata": {},
   "source": [
    "(They're in `pyenv` because `pyenv` lets you have multiple python versions. Otherwise a single version of python might be in default path `/usr/bin/python`.)"
   ]
  },
  {
   "cell_type": "markdown",
   "metadata": {},
   "source": [
    "📚 In each version folder is **`lib/python3.X`, which holds your packages. It's your `lib`rary of packages.** 📚 \n",
    "\n",
    "It has:\n",
    "<br>1) the standard library files that are part of the Python installation"
   ]
  },
  {
   "cell_type": "code",
   "execution_count": 48,
   "metadata": {},
   "outputs": [
    {
     "data": {
      "text/plain": [
       "['ctypes', 'curses', 'dataclasses.py', 'datetime.py']"
      ]
     },
     "execution_count": 48,
     "metadata": {},
     "output_type": "execute_result"
    }
   ],
   "source": [
    "lib = !cd ~/.pyenv/versions/3.7.3/lib/python3.7 && ls\n",
    "lib[53:57]"
   ]
  },
  {
   "cell_type": "markdown",
   "metadata": {},
   "source": [
    "<br>2) `site-packages`:"
   ]
  },
  {
   "cell_type": "code",
   "execution_count": 49,
   "metadata": {},
   "outputs": [
    {
     "data": {
      "text/plain": [
       "'site-packages'"
      ]
     },
     "execution_count": 49,
     "metadata": {},
     "output_type": "execute_result"
    }
   ],
   "source": [
    "lib[149]"
   ]
  },
  {
   "cell_type": "markdown",
   "metadata": {},
   "source": [
    "📦 `site-packages` is for third-party packages: 📦"
   ]
  },
  {
   "cell_type": "code",
   "execution_count": 72,
   "metadata": {
    "scrolled": true
   },
   "outputs": [
    {
     "data": {
      "text/plain": [
       "['Babel-2.12.1.dist-info',\n",
       " 'Cython',\n",
       " 'Cython-0.29.23.dist-info',\n",
       " 'Flask-2.0.1.dist-info',\n",
       " 'GitPython-3.1.24.dist-info']"
      ]
     },
     "execution_count": 72,
     "metadata": {},
     "output_type": "execute_result"
    }
   ],
   "source": [
    "site_packages = !cd ~/.pyenv/versions/3.7.3/lib/python3.7/site-packages && ls\n",
    "site_packages[0:5]"
   ]
  },
  {
   "cell_type": "markdown",
   "metadata": {},
   "source": [
    "`site` means a specific python folder/version/interpreter. 📁🐍  \n",
    "\n",
    "so these are the packages especially for our python `3.7.3` folder/version/interpreter. 📦 📁 🐍"
   ]
  },
  {
   "cell_type": "markdown",
   "metadata": {},
   "source": [
    "The packages are different inside the `3.8.12 site`:"
   ]
  },
  {
   "cell_type": "code",
   "execution_count": 22,
   "metadata": {},
   "outputs": [
    {
     "data": {
      "text/plain": [
       "['README.txt',\n",
       " '_distutils_hack',\n",
       " 'distutils-precedence.pth',\n",
       " 'pip',\n",
       " 'pip-21.1.1.dist-info']"
      ]
     },
     "execution_count": 22,
     "metadata": {},
     "output_type": "execute_result"
    }
   ],
   "source": [
    "site_packages = !cd ~/.pyenv/versions/3.8.12/lib/python3.8/site-packages && ls\n",
    "site_packages[0:5]"
   ]
  },
  {
   "cell_type": "markdown",
   "metadata": {},
   "source": [
    "## So packages are inside a particular python `site`.  📦 📥 📁 🐍 \n",
    "\n"
   ]
  },
  {
   "cell_type": "markdown",
   "metadata": {},
   "source": [
    "So when you `pip install` a package, it adds to the `/site-packages` of that python site. \n",
    "\n",
    "(`pip` knows which `site` because of `PATH`: we'll talk about what `PATH` is in a bit.)\n",
    "\n",
    "It also means if you just copy and paste a package into `/site-packages`, you've installed it!\n",
    "\n",
    "You can find out what interpreter `pip` thinks you're on:"
   ]
  },
  {
   "cell_type": "code",
   "execution_count": 25,
   "metadata": {},
   "outputs": [
    {
     "name": "stdout",
     "output_type": "stream",
     "text": [
      "pip 23.0.1 from /Users/lizre/.pyenv/versions/3.7.3/lib/python3.7/site-packages/pip (python 3.7)\r\n"
     ]
    }
   ],
   "source": [
    "!pip --version"
   ]
  },
  {
   "cell_type": "markdown",
   "metadata": {},
   "source": [
    "It knows the path to the interpreter because of `$PATH`, which we'll talk about later."
   ]
  },
  {
   "cell_type": "markdown",
   "metadata": {},
   "source": [
    "Recall that `which` means `path to executable`, so here's the path to our `pip` executable:"
   ]
  },
  {
   "cell_type": "code",
   "execution_count": 13,
   "metadata": {
    "scrolled": true
   },
   "outputs": [
    {
     "name": "stdout",
     "output_type": "stream",
     "text": [
      "/Users/lizre/.pyenv/versions/3.7.3/bin/pip\r\n"
     ]
    }
   ],
   "source": [
    "!which pip"
   ]
  },
  {
   "cell_type": "markdown",
   "metadata": {},
   "source": [
    "`pip list` shows packages it has installed.\n",
    "\n",
    "`pip list` does not show:\n",
    "1) the standard library\n",
    "<br>2) packages you manually installed by copying its files directly into `site-packages`"
   ]
  },
  {
   "cell_type": "code",
   "execution_count": 31,
   "metadata": {},
   "outputs": [
    {
     "data": {
      "text/plain": [
       "['pandas                               1.3.2',\n",
       " 'pandas-profiling                     3.1.0',\n",
       " 'pandas-stubs                         1.2.0.62',\n",
       " 'pandocfilters                        1.4.3']"
      ]
     },
     "execution_count": 31,
     "metadata": {},
     "output_type": "execute_result"
    }
   ],
   "source": [
    "pip_list = !pip list\n",
    "pip_list[180:184]"
   ]
  },
  {
   "cell_type": "markdown",
   "metadata": {},
   "source": [
    "`pip show` tells you more about a packages, including its dependencies and dependents:"
   ]
  },
  {
   "cell_type": "code",
   "execution_count": 102,
   "metadata": {},
   "outputs": [
    {
     "name": "stdout",
     "output_type": "stream",
     "text": [
      "Name: pandas\r\n",
      "Version: 1.3.2\r\n",
      "Summary: Powerful data structures for data analysis, time series, and statistics\r\n",
      "Home-page: https://pandas.pydata.org\r\n",
      "Author: The Pandas Development Team\r\n",
      "Author-email: pandas-dev@python.org\r\n",
      "License: BSD-3-Clause\r\n",
      "Location: /Users/lizre/.pyenv/versions/3.7.3/lib/python3.7/site-packages\r\n",
      "Requires: numpy, python-dateutil, pytz\r\n",
      "Required-by: cmdstanpy, harnesslib, Kqlmagic, mlflow, mlxtend, octopy, pandas-profiling, phik, prophet, researchpy, seaborn, sklearn-pandas, statsmodels, visions\r\n"
     ]
    }
   ],
   "source": [
    "!pip show pandas "
   ]
  },
  {
   "cell_type": "markdown",
   "metadata": {},
   "source": [
    "Store a project's required packages in requirements.txt."
   ]
  },
  {
   "cell_type": "code",
   "execution_count": 8,
   "metadata": {
    "scrolled": true
   },
   "outputs": [
    {
     "name": "stdout",
     "output_type": "stream",
     "text": [
      "INFO: Successfully saved requirements file in /Users/lizre/Downloads/learn-py/requirements.txt\r\n"
     ]
    }
   ],
   "source": [
    "!pipreqs --force"
   ]
  },
  {
   "cell_type": "markdown",
   "metadata": {},
   "source": [
    "- It will only include the contents of `pip list` (only packages installed by `pip`)\n",
    "- Don't use `pip freeze > requirements.txt`: it is [harmful because it includes too many things](https://medium.com/@tomagee/pip-freeze-requirements-txt-considered-harmful-f0bce66cf895); also [pypi says not to use pip freeze](https://pypi.org/project/pipreqs/).\n",
    "\n"
   ]
  },
  {
   "cell_type": "code",
   "execution_count": 10,
   "metadata": {
    "scrolled": true
   },
   "outputs": [
    {
     "name": "stdout",
     "output_type": "stream",
     "text": [
      "pandas==1.3.2\r\n"
     ]
    }
   ],
   "source": [
    "!cat requirements.txt"
   ]
  },
  {
   "cell_type": "markdown",
   "metadata": {},
   "source": [
    "### Install a package from source code with `pip install .` 📦\n",
    "\n",
    "You usually install packages like `pip install pandas`. When you do this, pip looks in PyPI package repository.\n",
    "\n",
    "But sometimes, you want to install a package not in a registry, or you are making changes to the package yourself. Then you install it from its source code.\n",
    "\n",
    "Go to the directory it’s in, like a github repo, and do `pip install .`. \n",
    "- `.` means current directory.\n",
    "- Pip will look for a setup.py or pyproject.toml.\n",
    "    - pyproject.toml is a more simple and readable replacement for setup.py\n",
    "    - toml: Tom's Obvious, Minimal Language.\n",
    "- These files define the dependencies for building (turning into executable) and installing. \n",
    "\t- This is different from requirements.txt, which are to RUN the project.\n",
    "- You could instead do `pip install -e .`: an editable install”\n"
   ]
  },
  {
   "cell_type": "markdown",
   "metadata": {},
   "source": [
    "# 🛣️ Manage program versions by managing the `PATH` to their executable files 🛣️"
   ]
  },
  {
   "cell_type": "markdown",
   "metadata": {},
   "source": [
    "Recall that programs like `python` and `pip` (and even `ls`!) have \"executable files\"."
   ]
  },
  {
   "cell_type": "markdown",
   "metadata": {},
   "source": [
    "When you run `python`: "
   ]
  },
  {
   "cell_type": "code",
   "execution_count": 63,
   "metadata": {},
   "outputs": [
    {
     "name": "stdout",
     "output_type": "stream",
     "text": [
      "15\r\n"
     ]
    }
   ],
   "source": [
    "!python script.py"
   ]
  },
  {
   "cell_type": "markdown",
   "metadata": {},
   "source": [
    "it tells your OS to execute the python interpreter. So the OS searches for an executable file with the name `python`. "
   ]
  },
  {
   "cell_type": "markdown",
   "metadata": {},
   "source": [
    "It searches a list of directories in an environment variable called `PATH` (we'll explain _environment_ and _variable_ in a bit)."
   ]
  },
  {
   "cell_type": "markdown",
   "metadata": {},
   "source": [
    "### So `PATH` tells our OS where to look for the executable files of commands. 📁 🛣️ 👀\n"
   ]
  },
  {
   "cell_type": "code",
   "execution_count": 74,
   "metadata": {
    "scrolled": false
   },
   "outputs": [
    {
     "name": "stdout",
     "output_type": "stream",
     "text": [
      "/Users/lizre/.pyenv/versions/3.7.3/bin:/usr/local/Cellar/pyenv/2.3.15/libexec:/usr/local/Cellar/pyenv/2.3.15/plugins/python-build/bin:/Library/Frameworks/Python.framework/Versions/3.11/bin:/usr/local/Cellar/pyenv-virtualenv/1.2.1/shims:/Users/lizre/.pyenv/shims:/Users/lizre/.pyenv/bin:/usr/local/bin:/System/Cryptexes/App/usr/bin:/usr/bin:/bin:/usr/sbin:/sbin:/usr/local/go/bin:/usr/local/share/dotnet:/opt/X11/bin:~/.dotnet/tools\r\n"
     ]
    }
   ],
   "source": [
    "!echo $PATH"
   ]
  },
  {
   "cell_type": "markdown",
   "metadata": {},
   "source": [
    "List of directories separated by `:`.\n",
    "- /Users/lizre/.pyenv/versions/3.7.3/bin <-- `!which python` returned `/Users/lizre/.pyenv/versions/3.7.3/bin/python`. **so our python executable is here!!**\n",
    "- /Users/lizre/.pyenv/shims <-- (shims are like helpers for executables)\n",
    "- /usr/local/bin\n",
    "- /usr/bin\n",
    "- /bin\n",
    "\n"
   ]
  },
  {
   "cell_type": "markdown",
   "metadata": {},
   "source": [
    "Without `PATH`, you'd have to put the full directory of the `ls` command:"
   ]
  },
  {
   "cell_type": "code",
   "execution_count": 68,
   "metadata": {},
   "outputs": [
    {
     "name": "stdout",
     "output_type": "stream",
     "text": [
      "/Users/lizre/.pyenv/versions/3.7.3/bin/python\r\n"
     ]
    }
   ],
   "source": [
    "!which python"
   ]
  },
  {
   "cell_type": "code",
   "execution_count": 69,
   "metadata": {},
   "outputs": [
    {
     "name": "stdout",
     "output_type": "stream",
     "text": [
      "15\r\n"
     ]
    }
   ],
   "source": [
    "! /Users/lizre/.pyenv/versions/3.7.3/bin/python script.py"
   ]
  },
  {
   "cell_type": "markdown",
   "metadata": {},
   "source": [
    "Once it finds the executable, the operating system will execute it and pass `script.py` as an argument."
   ]
  },
  {
   "cell_type": "markdown",
   "metadata": {},
   "source": [
    "### `pip` knows which `site`, because of `PATH`.\n",
    "\n",
    "When you `pip install`, it looks in the `PATH` directories for a python executable.\n",
    "- Remember how `!which python` returned `/Users/lizre/.pyenv/versions/3.7.3/bin/python`, and that was also the first directory in our `PATH`? Than means our python executable is in this directory, and `pip` will know that!\n",
    "    \n",
    "Then it installs the package into `lib/site-packages` of that python executable:\n",
    "\n",
    "`/.pyenv/versions/3.7.3/lib/python3.7/site-packages`\n"
   ]
  },
  {
   "cell_type": "markdown",
   "metadata": {},
   "source": [
    "🔎 _Aside: Why more than one directory?_ 🔍\n",
    "\n",
    "1) Manage multiple versions of a program, like python. Each version may be installed in a different directory. \n",
    "\n",
    "2) Find programs installed in non-standard locations, either because you installed them manually or a package manager used non-standard locations. \n",
    "\n",
    "3) Control search order: The PATH specifies the order in which the system searches for executables, so you can put your default first.\n"
   ]
  },
  {
   "cell_type": "markdown",
   "metadata": {},
   "source": [
    "### The `PATH` directories are sometimes to `/bin`, which holds `binary` executables 🛣️🗑️\n",
    "\n",
    "`/bin` is not like a garbage bin, it means `binary`. Remember how the python intepreter translates to `binary`? 💡\n",
    "\n",
    "It's a standard directory in mac, for executable files that are essential for your computer to function.\n",
    "\n",
    "So it's in `PATH` by default. \n",
    "- so when you get a new mac, `echo $PATH` will return `/bin`\n",
    "- so you already have access to executables"
   ]
  },
  {
   "cell_type": "code",
   "execution_count": 8,
   "metadata": {
    "scrolled": true
   },
   "outputs": [
    {
     "name": "stdout",
     "output_type": "stream",
     "text": [
      "\u001b[31m[\u001b[m\u001b[m         \u001b[31mcsh\u001b[m\u001b[m       \u001b[31mecho\u001b[m\u001b[m      \u001b[31mksh\u001b[m\u001b[m       \u001b[31mmkdir\u001b[m\u001b[m     \u001b[31mrealpath\u001b[m\u001b[m  \u001b[31mstty\u001b[m\u001b[m      \u001b[31mwait4path\u001b[m\u001b[m\r\n",
      "\u001b[31mbash\u001b[m\u001b[m      \u001b[31mdash\u001b[m\u001b[m      \u001b[31med\u001b[m\u001b[m        \u001b[31mlaunchctl\u001b[m\u001b[m \u001b[31mmv\u001b[m\u001b[m        \u001b[31mrm\u001b[m\u001b[m        \u001b[31msync\u001b[m\u001b[m      \u001b[31mzsh\u001b[m\u001b[m\r\n",
      "\u001b[31mcat\u001b[m\u001b[m       \u001b[31mdate\u001b[m\u001b[m      \u001b[31mexpr\u001b[m\u001b[m      \u001b[31mlink\u001b[m\u001b[m      \u001b[31mpax\u001b[m\u001b[m       \u001b[31mrmdir\u001b[m\u001b[m     \u001b[31mtcsh\u001b[m\u001b[m\r\n",
      "\u001b[31mchmod\u001b[m\u001b[m     \u001b[31mdd\u001b[m\u001b[m        \u001b[31mhostname\u001b[m\u001b[m  \u001b[31mln\u001b[m\u001b[m        \u001b[30m\u001b[41mps\u001b[m\u001b[m        \u001b[31msh\u001b[m\u001b[m        \u001b[31mtest\u001b[m\u001b[m\r\n",
      "\u001b[31mcp\u001b[m\u001b[m        \u001b[31mdf\u001b[m\u001b[m        \u001b[31mkill\u001b[m\u001b[m      \u001b[31mls\u001b[m\u001b[m        \u001b[31mpwd\u001b[m\u001b[m       \u001b[31msleep\u001b[m\u001b[m     \u001b[31munlink\u001b[m\u001b[m\r\n"
     ]
    }
   ],
   "source": [
    "!ls /bin"
   ]
  },
  {
   "cell_type": "markdown",
   "metadata": {},
   "source": [
    "See how basics like `echo` and `ls` are in there!"
   ]
  },
  {
   "cell_type": "markdown",
   "metadata": {},
   "source": [
    "in Finder, they look like this:\n",
    "\n",
    "<img width=\"489\" alt=\"image\" src=\"https://user-images.githubusercontent.com/38010821/227289808-041439e0-171a-4262-bb3e-28b299a95bb0.png\">\n",
    "\n",
    "\n",
    "The `exec` means they're executable!"
   ]
  },
  {
   "cell_type": "markdown",
   "metadata": {},
   "source": [
    "#### `usr/bin`is for one that are base, but not essential, like `git`. \n",
    "\n",
    "`/usr` is \"Unix System Resources\"."
   ]
  },
  {
   "cell_type": "code",
   "execution_count": 84,
   "metadata": {},
   "outputs": [
    {
     "data": {
      "text/plain": [
       "['git',\n",
       " 'git-receive-pack',\n",
       " 'git-shell',\n",
       " 'git-upload-archive',\n",
       " 'git-upload-pack']"
      ]
     },
     "execution_count": 84,
     "metadata": {},
     "output_type": "execute_result"
    }
   ],
   "source": [
    "bin = !ls /usr/bin\n",
    "bin[265:270]"
   ]
  },
  {
   "cell_type": "markdown",
   "metadata": {},
   "source": [
    "### An _environment variable_ like `PATH` is a variable that's available to a process. \n",
    "\n",
    "An environment is not a physical entity--it's just a set of settings (like system time, or user preferences, or language-specific settings like version) and variables.\n",
    "\n",
    "- like how you set `aaa=2` in a jupyter notebook, but then you dont have `aaa` in another notebook or another session. That notebook--session is an _environment_.\n",
    "\n",
    "You access variables with `$`."
   ]
  },
  {
   "cell_type": "code",
   "execution_count": 21,
   "metadata": {},
   "outputs": [
    {
     "name": "stdout",
     "output_type": "stream",
     "text": [
      "/bin/bash: /Users/lizre/.pyenv/versions/3.7.3/bin:/usr/local/Cellar/pyenv/2.3.15/libexec:/usr/local/Cellar/pyenv/2.3.15/plugins/python-build/bin:/Library/Frameworks/Python.framework/Versions/3.11/bin:/usr/local/Cellar/pyenv-virtualenv/1.2.1/shims:/Users/lizre/.pyenv/shims:/Users/lizre/.pyenv/bin:/usr/local/bin:/System/Cryptexes/App/usr/bin:/usr/bin:/bin:/usr/sbin:/sbin:/usr/local/go/bin:/usr/local/share/dotnet:/opt/X11/bin:~/.dotnet/tools: No such file or directory\r\n"
     ]
    }
   ],
   "source": [
    "!$PATH"
   ]
  },
  {
   "cell_type": "markdown",
   "metadata": {},
   "source": [
    "### Set environment variables, like `$PATH`, in `zshrc` or `bashrc` _configuration files_ 🐚 🎛️"
   ]
  },
  {
   "cell_type": "markdown",
   "metadata": {},
   "source": [
    "`bash` and `zsh` are `shell`s: command-line interfaces.\n",
    "- they have differences in syntax and features (eg command completion)\n",
    "\n",
    "Configure these `shell`s in their \"rc\" (\"run commands\") files: `~/.bashrc` and  `~/.zshrc`\n",
    "- its  called a \"run command\", not \"configuration\", because it has commands that are run by the `bash` or `zsh` when it starts up\n",
    "- eg commands that set environment variables\n",
    "- eg, when `bash` starts up, it `source`s `~/.bashrc`"
   ]
  },
  {
   "cell_type": "code",
   "execution_count": 76,
   "metadata": {
    "scrolled": true
   },
   "outputs": [
    {
     "name": "stdout",
     "output_type": "stream",
     "text": [
      "export PATH=\"$HOME/.ipython/kernels/ijavascript/bin:$PATH\" /Users/lizre/Downloads/harnesslib/examples/.venv/bin:/Library/Frameworks/Python.framework/Versions/3.11/bin:/usr/local/Cellar/pyenv-virtualenv/1.2.1/shims:/Users/lizre/.pyenv/shims:/Users/lizre/.pyenv/bin:/usr/local/bin:/System/Cryptexes/App/usr/bin:/usr/bin:/bin:/usr/sbin:/sbin:/usr/local/go/bin:/usr/local/share/dotnet:/opt/X11/bin:~/.dotnet/tools"
     ]
    }
   ],
   "source": [
    "!cat ~/.bashrc"
   ]
  },
  {
   "cell_type": "markdown",
   "metadata": {},
   "source": [
    "`~` means user's home directory (`/Users/lizre`), so identical to: "
   ]
  },
  {
   "cell_type": "code",
   "execution_count": 77,
   "metadata": {},
   "outputs": [
    {
     "name": "stdout",
     "output_type": "stream",
     "text": [
      "export PATH=\"$HOME/.ipython/kernels/ijavascript/bin:$PATH\" /Users/lizre/Downloads/harnesslib/examples/.venv/bin:/Library/Frameworks/Python.framework/Versions/3.11/bin:/usr/local/Cellar/pyenv-virtualenv/1.2.1/shims:/Users/lizre/.pyenv/shims:/Users/lizre/.pyenv/bin:/usr/local/bin:/System/Cryptexes/App/usr/bin:/usr/bin:/bin:/usr/sbin:/sbin:/usr/local/go/bin:/usr/local/share/dotnet:/opt/X11/bin:~/.dotnet/tools"
     ]
    }
   ],
   "source": [
    "!cat /Users/lizre/.bashrc"
   ]
  },
  {
   "cell_type": "markdown",
   "metadata": {},
   "source": [
    "`export` means to make available to other programs"
   ]
  },
  {
   "cell_type": "markdown",
   "metadata": {},
   "source": [
    "So when `zshrc` starts up, or when you `source ~/.zshrc`, any commands in the file are executed as if you had typed them at the command prompt. Including that `export $PATH` command.\n",
    "\n",
    "### You edit shell run commands files (`zshrc` or `bashrc`) in text editor \n",
    "\n",
    "or append with `>>`:\n",
    "\n",
    "`echo 'export PATH=\"/opt/homebrew/opt/node@16/bin:$PATH\"' >> ~/.zshrc`"
   ]
  },
  {
   "cell_type": "markdown",
   "metadata": {},
   "source": [
    "You could even add other stuff. Like if you often run `ssh analytics-console.github.net` to get into the analytics console, you could add this:\n",
    "\n",
    "`alias console=\"ssh username@analytics-console.github.net\"`\n",
    "\n",
    "Then you can just use `console`."
   ]
  },
  {
   "cell_type": "markdown",
   "metadata": {},
   "source": [
    "# _virtual environments_ are just folders with a `pip` executable, python interpreter, and `site-packages`. \n",
    "\n",
    "Recall that an environment is not a physical entity--it's just a set of settings (like system time, or user preferences, or language-specific settings like version) and variables.\n",
    "\n",
    "So the word \"virtual\" is redundant here.\n",
    "\n",
    "([difference between VM, docker, and virtual env](https://stephen-odaibo.medium.com/docker-containers-python-virtual-environments-virtual-machines-d00aa9b8475) -- we'll talk about docker later)"
   ]
  },
  {
   "cell_type": "code",
   "execution_count": 110,
   "metadata": {},
   "outputs": [],
   "source": [
    "!python3.9 -m venv new_env"
   ]
  },
  {
   "cell_type": "markdown",
   "metadata": {},
   "source": [
    "\n",
    "This does: \n",
    "\n",
    "1) A new directory `my_env` \n",
    "\n",
    "2) Inside `my_env`, `bin` for `pip` and python executables\n",
    "- It'll use whatever python interpreter you used to make it -- here, 3.9. So always include the full version (not just python 3)."
   ]
  },
  {
   "cell_type": "code",
   "execution_count": 111,
   "metadata": {
    "scrolled": true
   },
   "outputs": [
    {
     "name": "stdout",
     "output_type": "stream",
     "text": [
      "Activate.ps1     activate.fish    \u001b[31mpip\u001b[m\u001b[m              \u001b[35mpython\u001b[m\u001b[m\r\n",
      "activate         \u001b[31measy_install\u001b[m\u001b[m     \u001b[31mpip3\u001b[m\u001b[m             \u001b[35mpython3\u001b[m\u001b[m\r\n",
      "activate.csh     \u001b[31measy_install-3.9\u001b[m\u001b[m \u001b[31mpip3.9\u001b[m\u001b[m           \u001b[35mpython3.9\u001b[m\u001b[m\r\n"
     ]
    }
   ],
   "source": [
    "! cd new_env/bin && ls"
   ]
  },
  {
   "cell_type": "markdown",
   "metadata": {},
   "source": [
    "3) `pyvenv.cfg` of metadata about the environment like version of python used, and options used in venv command\n",
    "\n",
    "4) a `bin/activate` script, so you can activate and deactivate the venv"
   ]
  },
  {
   "cell_type": "markdown",
   "metadata": {},
   "source": [
    "<br>\n",
    "\n",
    "🔎 _Aside: python interpreter as a `copy` vs a `symlink`_ 🔍\n",
    "\n",
    "In Finder, the `pip` in `new_env/bin` is an executable, but the `python3.9` is just blank with a little arrow:"
   ]
  },
  {
   "cell_type": "markdown",
   "metadata": {},
   "source": [
    "<img width=\"793\" alt=\"image\" src=\"https://user-images.githubusercontent.com/38010821/227731147-af50cea4-6ccb-4c04-a653-125d820089c9.png\">"
   ]
  },
  {
   "cell_type": "markdown",
   "metadata": {},
   "source": [
    "This is a _symbolic link_ (or `symlinks`) to the actual Python executable.\n",
    "\n",
    "That means if you share your env with someone else, they'll need to already have that version of python interpreter, stored in the same link/path.\n",
    "\n",
    "You could make it actually store a python executable by using `python3.9 -m venv myenv --copies`, instead of `python3.9 -m venv myenv --symlink`.\n",
    "<br>\n"
   ]
  },
  {
   "cell_type": "code",
   "execution_count": null,
   "metadata": {},
   "outputs": [],
   "source": []
  },
  {
   "cell_type": "markdown",
   "metadata": {},
   "source": [
    "### Create requirements.txt to record your packages/dependencies\n",
    "\n",
    "In terminal:"
   ]
  },
  {
   "cell_type": "code",
   "execution_count": 8,
   "metadata": {},
   "outputs": [
    {
     "name": "stdout",
     "output_type": "stream",
     "text": [
      "INFO: Successfully saved requirements file in /Users/lizre/Downloads/learn-py/requirements.txt\r\n"
     ]
    }
   ],
   "source": [
    "!pipreqs --force"
   ]
  },
  {
   "cell_type": "markdown",
   "metadata": {},
   "source": [
    "- You'll see requirements.txt appear in src. It will not exactly match everything you `import` because pipreqs only includes ones not in standard library.\n",
    "- Can also use `pip freeze > requirements.txt` but it is [harmful because it includes too many things.](https://medium.com/@tomagee/pip-freeze-requirements-txt-considered-harmful-f0bce66cf895); also [pypi says not to use pip freeze](https://pypi.org/project/pipreqs/).\n",
    "\n"
   ]
  },
  {
   "cell_type": "code",
   "execution_count": 10,
   "metadata": {},
   "outputs": [
    {
     "name": "stdout",
     "output_type": "stream",
     "text": [
      "pandas==1.3.2\r\n"
     ]
    }
   ],
   "source": [
    "!cat requirements.txt"
   ]
  },
  {
   "cell_type": "markdown",
   "metadata": {},
   "source": [
    "To use:"
   ]
  },
  {
   "cell_type": "code",
   "execution_count": 12,
   "metadata": {
    "scrolled": true
   },
   "outputs": [
    {
     "name": "stdout",
     "output_type": "stream",
     "text": [
      "Requirement already satisfied: pandas==1.3.2 in /Users/lizre/.pyenv/versions/3.7.3/lib/python3.7/site-packages (from -r requirements.txt (line 1)) (1.3.2)\r\n",
      "Requirement already satisfied: numpy>=1.17.3 in /Users/lizre/.pyenv/versions/3.7.3/lib/python3.7/site-packages (from pandas==1.3.2->-r requirements.txt (line 1)) (1.19.5)\r\n",
      "Requirement already satisfied: python-dateutil>=2.7.3 in /Users/lizre/.pyenv/versions/3.7.3/lib/python3.7/site-packages (from pandas==1.3.2->-r requirements.txt (line 1)) (2.8.2)\r\n",
      "Requirement already satisfied: pytz>=2017.3 in /Users/lizre/.pyenv/versions/3.7.3/lib/python3.7/site-packages (from pandas==1.3.2->-r requirements.txt (line 1)) (2021.1)\r\n",
      "Requirement already satisfied: six>=1.5 in /Users/lizre/.pyenv/versions/3.7.3/lib/python3.7/site-packages (from python-dateutil>=2.7.3->pandas==1.3.2->-r requirements.txt (line 1)) (1.15.0)\r\n"
     ]
    }
   ],
   "source": [
    "!pip install -r requirements.txt"
   ]
  },
  {
   "cell_type": "code",
   "execution_count": 15,
   "metadata": {
    "scrolled": true
   },
   "outputs": [
    {
     "name": "stdout",
     "output_type": "stream",
     "text": [
      "\u001b[34mbin\u001b[m\u001b[m        \u001b[34minclude\u001b[m\u001b[m    \u001b[34mlib\u001b[m\u001b[m        pyvenv.cfg\r\n"
     ]
    }
   ],
   "source": [
    "!cd my_env && ls"
   ]
  },
  {
   "cell_type": "markdown",
   "metadata": {},
   "source": [
    "Creates a folder called `my_env`, with Python, pip and `site-packages`:"
   ]
  },
  {
   "cell_type": "code",
   "execution_count": null,
   "metadata": {},
   "outputs": [],
   "source": [
    "├── bin\n",
    "│   ├── activate\n",
    "│   ├── activate.csh\n",
    "│   ├── activate.fish\n",
    "│   ├── easy_install\n",
    "│   ├── pip\n",
    "│   ├── pip3\n",
    "│   ├── python \n",
    "│   └── python3.7\n",
    "├── include\n",
    "├── lib\n",
    "│   └── python3.7\n",
    "│       └── site-packages\n",
    "└── pyvenv.cfg"
   ]
  },
  {
   "cell_type": "markdown",
   "metadata": {},
   "source": [
    "lib: a copy of Python."
   ]
  },
  {
   "cell_type": "markdown",
   "metadata": {},
   "source": [
    "## Enter/activate env"
   ]
  },
  {
   "cell_type": "markdown",
   "metadata": {},
   "source": [
    "`activate` scripts tell your shell to use the venv’s Python executable and its `site-packages`, instead of the system ones.\n",
    "\n",
    "so just run `activate`:"
   ]
  },
  {
   "cell_type": "code",
   "execution_count": 19,
   "metadata": {},
   "outputs": [],
   "source": [
    "!source my_env/bin/activate "
   ]
  },
  {
   "cell_type": "markdown",
   "metadata": {},
   "source": [
    "### What activating does"
   ]
  },
  {
   "cell_type": "markdown",
   "metadata": {},
   "source": [
    "Now prompt has env name:"
   ]
  },
  {
   "cell_type": "markdown",
   "metadata": {},
   "source": [
    "![image](https://user-images.githubusercontent.com/38010821/153217272-690c3c2d-7035-474b-88ee-3ba1238a2d21.png)\n"
   ]
  },
  {
   "cell_type": "markdown",
   "metadata": {},
   "source": [
    "When you activate a virtual environment, you are essentially telling the system to use the Python interpreter and other files located in the virtual environment directory, rather than the global Python installation on the system. "
   ]
  },
  {
   "cell_type": "markdown",
   "metadata": {},
   "source": [
    "And now, instead of looking for Python in `/Users/lizre/.pyenv/versions/3.7.3/bin/python`, it's looking in `my_env`:"
   ]
  },
  {
   "cell_type": "code",
   "execution_count": 92,
   "metadata": {},
   "outputs": [
    {
     "name": "stdout",
     "output_type": "stream",
     "text": [
      "/Users/lizre/Downloads/learn-py/my_env/bin/python\r\n"
     ]
    }
   ],
   "source": [
    "!source my_env/bin/activate && which python"
   ]
  },
  {
   "cell_type": "markdown",
   "metadata": {},
   "source": [
    "And `my_env` is at the beginning of PATH, meaning the venv is the first directory used:"
   ]
  },
  {
   "cell_type": "code",
   "execution_count": 98,
   "metadata": {},
   "outputs": [
    {
     "name": "stdout",
     "output_type": "stream",
     "text": [
      "/Users/lizre/Downloads/learn-py/my_env/bin:/Users/lizre/.pyenv/versions/3.7.3/bin:/usr/local/Cellar/pyenv/2.0.6/libexec:/usr/local/Cellar/pyenv/2.0.6/plugins/python-build/bin:/Users/lizre/.pyenv/shims:/Users/lizre/.pyenv/bin:/usr/local/bin:/usr/bin:/bin:/usr/sbin:/sbin:/opt/X11/bin\r\n"
     ]
    }
   ],
   "source": [
    "!source my_env/bin/activate && echo $PATH"
   ]
  },
  {
   "cell_type": "markdown",
   "metadata": {},
   "source": [
    "Whereas outside the venv, `my_env` is not in PATH at all:"
   ]
  },
  {
   "cell_type": "code",
   "execution_count": 101,
   "metadata": {
    "scrolled": true
   },
   "outputs": [
    {
     "name": "stdout",
     "output_type": "stream",
     "text": [
      "/Users/lizre/.pyenv/versions/3.7.3/bin:/usr/local/Cellar/pyenv/2.0.6/libexec:/usr/local/Cellar/pyenv/2.0.6/plugins/python-build/bin:/Users/lizre/.pyenv/shims:/Users/lizre/.pyenv/bin:/usr/local/bin:/usr/bin:/bin:/usr/sbin:/sbin:/opt/X11/bin\r\n"
     ]
    }
   ],
   "source": [
    "!echo $PATH"
   ]
  },
  {
   "cell_type": "code",
   "execution_count": null,
   "metadata": {},
   "outputs": [],
   "source": []
  },
  {
   "cell_type": "markdown",
   "metadata": {},
   "source": [
    "### Install packages in the venv"
   ]
  },
  {
   "cell_type": "markdown",
   "metadata": {},
   "source": [
    "`lib` &  `site-packages`: holds dependencies/packages you install in the venv:"
   ]
  },
  {
   "cell_type": "code",
   "execution_count": 34,
   "metadata": {},
   "outputs": [
    {
     "name": "stdout",
     "output_type": "stream",
     "text": [
      "\u001b[34m__pycache__\u001b[m\u001b[m                 \u001b[34mpkg_resources\u001b[m\u001b[m\r\n",
      "easy_install.py             \u001b[34msetuptools\u001b[m\u001b[m\r\n",
      "\u001b[34mpip\u001b[m\u001b[m                         \u001b[34msetuptools-40.8.0.dist-info\u001b[m\u001b[m\r\n",
      "\u001b[34mpip-19.0.3.dist-info\u001b[m\u001b[m\r\n"
     ]
    }
   ],
   "source": [
    "!cd my_env/lib/python3.7/site-packages && ls"
   ]
  },
  {
   "cell_type": "code",
   "execution_count": 35,
   "metadata": {},
   "outputs": [
    {
     "name": "stdout",
     "output_type": "stream",
     "text": [
      "Collecting numpy\n",
      "  Using cached https://files.pythonhosted.org/packages/09/8c/ae037b8643aaa405b666c167f48550c1ce6b7c589fe5540de6d83e5931ca/numpy-1.21.5-cp37-cp37m-macosx_10_9_x86_64.whl\n",
      "Installing collected packages: numpy\n",
      "Successfully installed numpy-1.21.5\n",
      "\u001b[33mYou are using pip version 19.0.3, however version 22.0.3 is available.\n",
      "You should consider upgrading via the 'pip install --upgrade pip' command.\u001b[0m\n"
     ]
    }
   ],
   "source": [
    "!source my_env/bin/activate && pip install numpy"
   ]
  },
  {
   "cell_type": "markdown",
   "metadata": {},
   "source": [
    "Now numpy's there:"
   ]
  },
  {
   "cell_type": "code",
   "execution_count": 36,
   "metadata": {},
   "outputs": [
    {
     "name": "stdout",
     "output_type": "stream",
     "text": [
      "\u001b[34m__pycache__\u001b[m\u001b[m                 \u001b[34mpip-19.0.3.dist-info\u001b[m\u001b[m\r\n",
      "easy_install.py             \u001b[34mpkg_resources\u001b[m\u001b[m\r\n",
      "\u001b[34mnumpy\u001b[m\u001b[m                       \u001b[34msetuptools\u001b[m\u001b[m\r\n",
      "\u001b[34mnumpy-1.21.5.dist-info\u001b[m\u001b[m      \u001b[34msetuptools-40.8.0.dist-info\u001b[m\u001b[m\r\n",
      "\u001b[34mpip\u001b[m\u001b[m\r\n"
     ]
    }
   ],
   "source": [
    "!cd my_env/lib/python3.7/site-packages && ls"
   ]
  },
  {
   "cell_type": "markdown",
   "metadata": {},
   "source": [
    "## Exit env"
   ]
  },
  {
   "cell_type": "code",
   "execution_count": null,
   "metadata": {},
   "outputs": [],
   "source": [
    "!deactivate"
   ]
  },
  {
   "cell_type": "markdown",
   "metadata": {},
   "source": [
    "Because a venv is just a folder, to delete one, just delete its folder."
   ]
  },
  {
   "cell_type": "markdown",
   "metadata": {},
   "source": []
  },
  {
   "cell_type": "code",
   "execution_count": null,
   "metadata": {},
   "outputs": [],
   "source": [
    "\n"
   ]
  },
  {
   "cell_type": "markdown",
   "metadata": {},
   "source": [
    "# An environment for everyone: Codespaces"
   ]
  },
  {
   "cell_type": "markdown",
   "metadata": {},
   "source": [
    "\n",
    "## 🚀🚀🚀 \n",
    "## TLDR;\n",
    "\n",
    "Use devcontainers to set up VSCode in Codespaces with all the things you need, like an OS, Python, and your requirements. The codespace user doesn't have to install anything, or `run` and `build` Docker. You just open the codespace and are ready to code.\n",
    "\n",
    "Minimal requirements to run a devcontainer are just `/.devcontainer`, a dockerfile and a `devcontainer.json`.\n",
    "\n",
    "But here are all the components we'll cover: \n",
    "\n",
    "### A `/.devcontainer` 🫙 with:\n",
    "\n",
    "1) a **dockerfile 🐳**: instructions of OS and Python and reuirements.txt to use in the Codespace\n",
    "2) a **`devcontainer.json`** that says to use the Dockerfile, and sets some other stuff up\n",
    "3) optionally, a **`on-create-command.sh`**\n",
    "\n",
    "### As needed, secret/key access 🔑 \n",
    "Configured on github.com Settings.\n",
    "\n",
    "### Maintenance tools \n",
    "Like a playbook and unit tests for codespace-related files\n",
    "\n",
    "### Optionally: \n",
    "- 🧪 **Tests** that codespace was built correctly \n",
    "- ⚙️ **VSCode settings** to, e.g., include certain extensions\n",
    "- 🏗 **Prebuild**: makes building codespace faster\n",
    "\n",
    "\n",
    "\n",
    "<br>\n",
    "\n",
    "<br>\n",
    "\n",
    "< end TLDR; >\n",
    "\n",
    "## 🚀🚀🚀\n",
    "\n",
    "<br>\n",
    "<br>\n"
   ]
  },
  {
   "cell_type": "markdown",
   "metadata": {},
   "source": [
    "# `/devcontainer` 🫙\n",
    "\n",
    "Examples: [base](https://github.com/microsoft/vscode-dev-containers/blob/v0.222.0/containers/python-3/.devcontainer/base.Dockerfile), [security-advisory-filtering](https://github.com/github/security-advisory-filtering/commit/3938d544b471ee1f81e7e663ee14fd8714c90ac7), [airflow](https://github.com/github/airflow-sources/tree/master/.devcontainer), [actions-aml](https://github.com/github/actions-aml/blob/main/.devcontainer/Dockerfile); [teaching template](https://github.com/education/codespaces-teaching-template-py/blob/main/.devcontainer/Dockerfile)\n"
   ]
  },
  {
   "cell_type": "markdown",
   "metadata": {},
   "source": [
    "\n",
    "\n",
    "## `/devcontainer` 🫙 component 1: dockerfile 🐳\n",
    "\n",
    "\n",
    "Docker isolates not just the Python `site-packages`, but also the OS and the version of Python. \n",
    "\n",
    "[harnesslib one](https://github.com/github/harnesslib/blob/main/Dockerfile.harnesslib)\n"
   ]
  },
  {
   "cell_type": "markdown",
   "metadata": {},
   "source": [
    "### Dockerfiles `build` into `image`s (templates), which `run` as `container`s \n",
    "\n",
    "First, you write instructions what you want to install: usually an OS (you can even run Windows on a mac!), dependencies, and your project. This is called a _dockerfile_. 🐳 📁 \n",
    "\n",
    "Then you turn those instructions into a set of binary executable files: using `docker build` to _build_ the _dockerfile_ into an _image_ 🖼️.\n",
    "- 💬 \"image\" is a metaphor for the idea of these executables being like a snapshot. Let's think of it more like an _environment template_.\n",
    "\n",
    "When you `docker run` an _image_ it creates a _container_ -- so a _container_  🫙 is a running _image_.\n",
    "- Why call it \"container\" instead of \"environment\"? Because environments are more complex; e.g., it also includes your hardware and networking. Even the containerized OS is a simplified one. So consider a container a type of environment.\n",
    "\n",
    "Generating and running containers is all done by the Docker _engine_/\"daemon\"\n",
    "- 💬 \"daemon\" is from mythology of a guardian entity. Let's prefer \"engine\".\n",
    "\n",
    "\n",
    "<img width=\"621\" alt=\"image\" src=\"https://user-images.githubusercontent.com/38010821/227788568-c28acc56-6c71-4cad-93b0-a0b14021546f.png\">\n",
    "\n",
    "### Codespaces devcontainers automatically install & run the Docker engine, do `docker build` (dockerfile --> image) and `docker run` (image --> container)! \n",
    "\n",
    "### 📄 So all you need is to write dockerfile, like [this annotated example.](https://github.com/lizre/learn-py/blob/master/.devcontainer/Dockerfile) \n"
   ]
  },
  {
   "cell_type": "markdown",
   "metadata": {},
   "source": [
    "### Set a non-root user in your dockerfile or devcontainer\n",
    "\n",
    "Every process on a computer is associated with a user account and its permissions to do actions and access resources.\n",
    "\n",
    "The _root user_ has full permissions.\n",
    " \n",
    "When a process is started, it has the permissions of the account that started it. \n",
    "\n",
    "☢️ So if you run a container as a root user, the container is now root user can do whatever it wants. Like access your personal documents.\n",
    "\n",
    "Docker containers default to running as the _root user_.\n",
    "\n",
    "But Codespaces defaults to a _non-root_ user.\n",
    "\n",
    "👍 Still, it's considered best to **explicitly `useradd` a non-root user to your Dockerfile.** (but I can't figure out why. 🤔)\n",
    "\n",
    "Alternatively, some examples add `\"remoteUser\": \"vscode\"` to the `devcontainer.json`. This is the default user that will be used when running the container. If not provided, the default user specified in the Dockerfile will be used.\n",
    "Most examples seem to either do \"useradd\" in the Dockerfile, OR this remoteUser thing here, not both. There doesn't seem a clear advantage to which one.\n"
   ]
  },
  {
   "cell_type": "markdown",
   "metadata": {},
   "source": [
    "\n",
    "# TODO: venv in docker file\n",
    "\n",
    "- https://www.youtube.com/watch?v=qLvAHhJAVlI&list=PLmsFUfdnGr3wTl-NCblzcrEv2lFSX975-&index=15\n",
    "\n",
    "examples that use venv in the docker file\n",
    "- https://github.com/education/codespaces-teaching-template-py/blob/main/.devcontainer/Dockerfile\n",
    "- https://github.com/microsoft/vscode-dev-containers/blob/v0.222.0/containers/python-3/.devcontainer/base.Dockerfile\n",
    "    \n",
    "\n"
   ]
  },
  {
   "cell_type": "markdown",
   "metadata": {},
   "source": [
    "\n",
    "\n",
    "## `/devcontainer` 🫙 component 2: devcontainer.json\n",
    "\n",
    "`devcontainer.json` configures a codespace. It tells VS Code how to build and run the Docker container, using the Dockerfile as a template.\n",
    "\n",
    "All Codespaces have a configuration. If you create one without a `devcontainer.json` file, Codespaces uses a [default configuration](https://docs.github.com/en/codespaces/setting-up-your-project-for-codespaces/adding-a-dev-container-configuration/introduction-to-dev-containers#using-the-default-dev-container-configuration)\n",
    "\n",
    "You can define multiple configurations.\n",
    "\n",
    "### Write a `devcontainer.json` like [this annotated example](https://github.com/lizre/learn-py/blob/master/.devcontainer/devcontainer.json)\n",
    "\n",
    "You need to refer to the dockerfile in the `devcontainer.json`, e.g., `\"dockerfile\": \"Dockerfile\"`. This means you can change the path to the Dockerfile. For example, if you want the Dockerfile to be in the root directory of the project instead of in `/.devcontainer`,, you can do  `\"dockerfile\": \"../Dockerfile\"`."
   ]
  },
  {
   "cell_type": "markdown",
   "metadata": {},
   "source": [
    "# With just the `Dockerfile` and `devcontainer.json`, you can run your devcontainer!\n",
    "\n",
    "Put them in .devcontainer like [this](https://github.com/lizre/learn-py/tree/master/.devcontainer):\n",
    "\n",
    "![image](https://user-images.githubusercontent.com/38010821/228025282-e68bf0fe-feb1-4a6b-ad3b-475dc1713a63.png)\n"
   ]
  },
  {
   "cell_type": "markdown",
   "metadata": {},
   "source": [
    "Open a codespace. It'll say you're on a \"custom image\":\n",
    "\n",
    "![image](https://user-images.githubusercontent.com/38010821/228026931-f331aa76-134b-423c-a236-6e5d9ff5100b.png)\n",
    "\n",
    "And `pip list` will have the stuff from your `requirements.txt`:\n",
    "\n",
    "![image](https://user-images.githubusercontent.com/38010821/228028817-92e3123c-0a97-4940-add1-e2d72e5e7d08.png)\n",
    "\n",
    "In addition to some other stuff, maybe that comes with our base image."
   ]
  },
  {
   "cell_type": "markdown",
   "metadata": {},
   "source": [
    "## `/devcontainer` 🫙 component 3:  optional: `on-create-command.sh`\n",
    "\n",
    "on-create-command.sh \n",
    "to automatically run various set up / install commands\n",
    "\n",
    "https://github.com/github/airflow-sources/blob/master/.devcontainer/on-create-command.sh\n",
    "\n",
    "https://github.com/github/airflow-sources/blob/777d30ba67f325b5fa72e8ded5f04fb70578362c/.devcontainer/devcontainer.json#LL74-L75"
   ]
  },
  {
   "cell_type": "code",
   "execution_count": null,
   "metadata": {},
   "outputs": [],
   "source": []
  },
  {
   "cell_type": "code",
   "execution_count": null,
   "metadata": {},
   "outputs": [],
   "source": []
  },
  {
   "cell_type": "markdown",
   "metadata": {},
   "source": [
    "# Tests that codespace was set up correctly 🧪\n",
    "\n",
    "## Things you might want to test\n",
    "\n",
    "e.g., that pip is installed in the codespace.\n",
    "\n",
    "## Ways to test them\n",
    "\n",
    "### 1) Run each thing manually when developing devcontainer and/or when users build codespace\n",
    "\n",
    "e.g., open the codespace and run \"which pip\".\n",
    "\n",
    "### 2) Put tests in a [`.devcontainer/test_codespace.py`](https://github.com/lizre/learn-py/blob/master/.devcontainer/test_codespace.py), which user runs when they build the codespace\n",
    "\n",
    "![image](https://user-images.githubusercontent.com/38010821/228383939-ed73b6c0-79d0-40dd-9f4d-6e3a1969ed36.png)\n",
    "\n",
    "\n",
    "### 3) Automatically on every codespace creation, with on-create-command.sh? This doesnt't seem common but could be cool\n",
    "\n",
    "[example](https://github.com/github/airflow-sources/commit/fb89004ac8c3848ff3062841ccea592adf9cec57)\n",
    "- Add to `devcontainer.json`: `\"onCreateCommand\": \".devcontainer/on-create-command.sh\",`\n",
    "- Make an [on-create-command.sh](https://github.com/github/airflow-sources/blob/master/.devcontainer/on-create-command.sh)\n",
    "\n",
    "But broke the codespace:\n",
    "\n",
    "2023-03-28 17:46:16.792Z: /bin/sh: 1: .devcontainer/on-create-command.sh: Permission denied\n",
    "\n",
    "and this\n",
    "\n",
    "#16 0.472 chmod: cannot access '.devcontainer/on-create-command.sh': No such file or directory\n",
    "\n",
    "potentially related:\n",
    "- https://github.com/microsoft/vscode-remote-release/issues/5432\n",
    "- https://stackoverflow.com/questions/38882654/docker-entrypoint-running-bash-script-gets-permission-denied\n"
   ]
  },
  {
   "cell_type": "code",
   "execution_count": null,
   "metadata": {},
   "outputs": [],
   "source": []
  },
  {
   "cell_type": "code",
   "execution_count": null,
   "metadata": {},
   "outputs": [],
   "source": []
  },
  {
   "cell_type": "code",
   "execution_count": null,
   "metadata": {},
   "outputs": [],
   "source": []
  },
  {
   "cell_type": "markdown",
   "metadata": {},
   "source": [
    "# As needed: Authentication 🔑\n",
    "\n",
    "Sometimes in Codespaces you need to access sevices or resources outside the Codespace. Like Azure storage. To do that, you need to show that service or resource that you/the Codespace user are who you say you are. That's called _authentication_.\n",
    "\n",
    "### authentication: verifying identity\n",
    "\n",
    "Resources: [1](https://cloud.google.com/docs/authentication), [2](https://zapier.com/learn/apis/chapter-4-authentication-part-1/)\n",
    "\n",
    "Different from authorization (permission to do things). \n",
    "\n",
    "_Principal_: an identity that can be granted access.\n",
    "- users, services, apps. Your Codespace!\n",
    "\n",
    "_Secret_: anything that you want to control access to. eg API keys, passwords.\n",
    "\n",
    "_Credentials_: any info used to authenticate\n",
    "\n",
    "_Password_ \n",
    "- is credential\n",
    "- user-generated, stored in human memory, manually repeated with each use, and usually 1:1 with a human\n",
    "\n",
    "_Key_\n",
    "- is credential\n",
    "- generated by API, usually used programmatically (in code, and used for non-human services)\n",
    "- No standard way to include; sometimes add to URL, or put in request body, or auth header instead of username and pw.\n",
    "- Oauth: automates key exchange so you dont have to type it out\n"
   ]
  },
  {
   "cell_type": "markdown",
   "metadata": {},
   "source": [
    "### authenticate in a codespace by adding secrets\n",
    "\n",
    "\n",
    "Go to https://github.com/lizre/learn-py/settings/secrets/codespaces, then \"New repository secret\"\n",
    "\n",
    "\n",
    "<img width=\"681\" alt=\"image\" src=\"https://user-images.githubusercontent.com/38010821/228086774-243d5615-f982-4a7f-b4f4-bce41c804526.png\">\n",
    "\n",
    "<br>\n",
    "\n",
    "Then it's there: \n",
    "\n",
    "<br>\n",
    "\n",
    "<img width=\"621\" alt=\"image\" src=\"https://user-images.githubusercontent.com/38010821/228086807-47e63196-ceb0-4510-b01d-01871a795865.png\">\n",
    "\n",
    "\n",
    "Then it's available in your Codespace!:\n",
    "\n",
    "![image](https://user-images.githubusercontent.com/38010821/228087171-7b00d845-7136-403c-ba8f-cd188a094025.png)\n",
    "\n"
   ]
  },
  {
   "cell_type": "markdown",
   "metadata": {},
   "source": [
    "You can access it in jupyter notebook with `os.environ.get('NOT_SO_SECRET')`."
   ]
  },
  {
   "cell_type": "markdown",
   "metadata": {},
   "source": [
    "# Optional: VSCode settings ⚙️\n",
    "    \n",
    "VSCode settings are stored in a json:"
   ]
  },
  {
   "cell_type": "code",
   "execution_count": 3,
   "metadata": {},
   "outputs": [
    {
     "name": "stdout",
     "output_type": "stream",
     "text": [
      "{\r\n",
      "    \"[python]\": {\r\n",
      "        \"editor.defaultFormatter\": null,\r\n",
      "        \"editor.formatOnSave\": true,\r\n",
      "    },\r\n",
      "    \"python.testing.unittestEnabled\": false,\r\n",
      "    \"python.testing.pytestEnabled\": true,\r\n",
      "    \"python.defaultInterpreterPath\": \"python\",\r\n",
      "}"
     ]
    }
   ],
   "source": [
    "!cat ~/Library/Application\\ Support/Code/User/settings.json"
   ]
  },
  {
   "cell_type": "markdown",
   "metadata": {},
   "source": [
    "You can put similar json in your repo in `/.vscode/settings.json`: https://github.com/lizre/learn-py/tree/master/.vscode:"
   ]
  },
  {
   "cell_type": "code",
   "execution_count": 19,
   "metadata": {},
   "outputs": [
    {
     "name": "stdout",
     "output_type": "stream",
     "text": [
      "{\r\n",
      "    \"editor.fontSize\": 35,\r\n",
      "    \"python.testing.pytestEnabled\": true,\r\n",
      "    \"python.defaultInterpreterPath\": \"python\",\r\n",
      "}"
     ]
    }
   ],
   "source": [
    "!cat ~/Downloads/learn-py/.vscode/settings.json"
   ]
  },
  {
   "cell_type": "markdown",
   "metadata": {},
   "source": [
    "See how I made the font size huge, 35!\n",
    "\n",
    "Now put it in the repo:"
   ]
  },
  {
   "cell_type": "markdown",
   "metadata": {},
   "source": [
    "            \n",
    "<img width=\"664\" alt=\"image\" src=\"https://user-images.githubusercontent.com/38010821/228092487-c4825b03-2dd1-4a69-a553-5b74f1b57cc1.png\">\n"
   ]
  },
  {
   "cell_type": "markdown",
   "metadata": {},
   "source": [
    "Then when you build or rebuild the Codespace, it'll apply my huge font size:\n",
    "\n",
    "<img width=\"722\" alt=\"image\" src=\"https://user-images.githubusercontent.com/38010821/228093857-a30a42e3-edb6-477a-94f8-7d550ead11f1.png\">\n"
   ]
  },
  {
   "cell_type": "code",
   "execution_count": null,
   "metadata": {},
   "outputs": [],
   "source": []
  },
  {
   "cell_type": "code",
   "execution_count": null,
   "metadata": {},
   "outputs": [],
   "source": []
  },
  {
   "cell_type": "code",
   "execution_count": null,
   "metadata": {},
   "outputs": [],
   "source": []
  },
  {
   "cell_type": "code",
   "execution_count": null,
   "metadata": {},
   "outputs": [],
   "source": [
    "Optional:"
   ]
  },
  {
   "cell_type": "markdown",
   "metadata": {},
   "source": [
    "# Optional: prebuilds 🏗️\n",
    "\n",
    "https://docs.github.com/en/codespaces/prebuilding-your-codespaces/about-github-codespaces-prebuilds\n",
    "\n",
    "https://docs.github.com/en/codespaces/prebuilding-your-codespaces/configuring-prebuilds\n",
    "\n",
    "TLDR; makes it faster to build a new codespace.\n",
    "\n",
    "lower priority"
   ]
  },
  {
   "cell_type": "code",
   "execution_count": null,
   "metadata": {},
   "outputs": [],
   "source": []
  },
  {
   "cell_type": "markdown",
   "metadata": {},
   "source": [
    "# TODO:  \n",
    "\n",
    "\n",
    "# Codespace maintenance and changes\n",
    "\n",
    "### Write a maintenance playbook\n",
    "Repos with codespace should include a maintenance playbook that lists:\n",
    "1) the files related to the codespace\n",
    "2) actions to take and when\n",
    "3) common troubleshooting \n",
    "\n",
    "### Write tests that apply to codespace-related files\n",
    "\n",
    "eg, this found errors in my test_codespace.py:\n",
    "https://github.com/github/harnesslib/blob/569f894b77bafa2c762eec2948cb44907be1983d/.github/workflows/notebook-integration-test.yaml\n",
    "\n",
    "https://github.com/github/harnesslib/blob/569f894b77bafa2c762eec2948cb44907be1983d/.github/workflows/simple-batch-integration-test.yaml\n",
    "\n",
    "\n",
    "Devcontainer updates when you create a codespace or rebuild the container. Use VS Code Command Palette (Shift+Command+P) --> `Codespaces: Rebuild Container`.\n",
    "\n",
    "[each push to a branch that has a prebuild configuration results in a GitHub-managed GitHub Actions workflow run to update the prebuild.](https://docs.github.com/en/codespaces/prebuilding-your-codespaces/about-github-codespaces-prebuilds#about-pushing-changes-to-prebuild-enabled-branches)\n",
    "\n",
    "Keeping keys updated\n",
    "- eg https://github.com/github/harnesslib/issues/229\n",
    "\n"
   ]
  }
 ],
 "metadata": {
  "kernelspec": {
   "display_name": "Python 3 (ipykernel)",
   "language": "python",
   "name": "python3"
  },
  "language_info": {
   "codemirror_mode": {
    "name": "ipython",
    "version": 3
   },
   "file_extension": ".py",
   "mimetype": "text/x-python",
   "name": "python",
   "nbconvert_exporter": "python",
   "pygments_lexer": "ipython3",
   "version": "3.7.0"
  }
 },
 "nbformat": 4,
 "nbformat_minor": 2
}
