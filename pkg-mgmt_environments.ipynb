{
 "cells": [
  {
   "cell_type": "markdown",
   "metadata": {},
   "source": [
    "# manage packages with pip"
   ]
  },
  {
   "cell_type": "code",
   "execution_count": 13,
   "metadata": {},
   "outputs": [
    {
     "name": "stdout",
     "output_type": "stream",
     "text": [
      "/Users/lizre/.pyenv/versions/3.7.3/bin/pip\r\n"
     ]
    }
   ],
   "source": [
    "!which pip"
   ]
  },
  {
   "cell_type": "markdown",
   "metadata": {},
   "source": [
    "(if you're in a virtual environment, path will include “envs/env-name”)"
   ]
  },
  {
   "cell_type": "markdown",
   "metadata": {},
   "source": [
    "Starts by searching [PyPI](https://pypi.org/): py package index"
   ]
  },
  {
   "cell_type": "code",
   "execution_count": 18,
   "metadata": {},
   "outputs": [
    {
     "name": "stdout",
     "output_type": "stream",
     "text": [
      "Requirement already satisfied: pandas in /Users/lizre/.pyenv/versions/3.7.3/lib/python3.7/site-packages (1.3.2)\n",
      "Requirement already satisfied: python-dateutil>=2.7.3 in /Users/lizre/.pyenv/versions/3.7.3/lib/python3.7/site-packages (from pandas) (2.8.2)\n",
      "Requirement already satisfied: pytz>=2017.3 in /Users/lizre/.pyenv/versions/3.7.3/lib/python3.7/site-packages (from pandas) (2021.1)\n",
      "Requirement already satisfied: numpy>=1.17.3 in /Users/lizre/.pyenv/versions/3.7.3/lib/python3.7/site-packages (from pandas) (1.19.5)\n",
      "Requirement already satisfied: six>=1.5 in /Users/lizre/.pyenv/versions/3.7.3/lib/python3.7/site-packages (from python-dateutil>=2.7.3->pandas) (1.15.0)\n",
      "Package                              Version\n",
      "------------------------------------ ------------\n",
      "adal                                 1.2.7\n",
      "aiohttp                              3.7.4.post0\n",
      "alembic                              1.4.1\n",
      "appdirs                              1.4.4\n",
      "applicationinsights                  0.11.10\n",
      "appnope                              0.1.2\n",
      "argon2-cffi                          20.1.0\n",
      "async-generator                      1.10\n",
      "async-timeout                        3.0.1\n",
      "attrs                                20.3.0\n",
      "azure-common                         1.1.27\n",
      "azure-core                           1.13.0\n",
      "azure-graphrbac                      0.61.1\n",
      "azure-identity                       1.7.0\n",
      "azure-mgmt-authorization             0.61.0\n",
      "azure-mgmt-containerregistry         2.8.0\n",
      "azure-mgmt-keyvault                  2.2.0\n",
      "azure-mgmt-resource                  12.1.0\n",
      "azure-mgmt-storage                   11.2.0\n",
      "azure-storage-blob                   12.9.0\n",
      "azureml-automl-core                  1.36.0\n",
      "azureml-core                         1.36.0.post2\n",
      "azureml-dataprep                     2.24.4\n",
      "azureml-dataprep-native              38.0.0\n",
      "azureml-dataprep-rslex               2.0.3\n",
      "azureml-dataset-runtime              1.36.0\n",
      "azureml-pipeline                     1.36.0\n",
      "azureml-pipeline-core                1.36.0\n",
      "azureml-pipeline-steps               1.36.0\n",
      "azureml-telemetry                    1.36.0\n",
      "azureml-train-automl-client          1.36.0\n",
      "azureml-train-core                   1.36.0\n",
      "azureml-train-restclients-hyperdrive 1.36.0\n",
      "backcall                             0.2.0\n",
      "backports.tempfile                   1.0\n",
      "backports.weakref                    1.0.post1\n",
      "black                                21.12b0\n",
      "bleach                               3.3.0\n",
      "boto3                                1.17.48\n",
      "botocore                             1.20.48\n",
      "certifi                              2020.12.5\n",
      "cffi                                 1.14.5\n",
      "chardet                              4.0.0\n",
      "click                                8.0.1\n",
      "clikit                               0.6.2\n",
      "cloudpickle                          1.6.0\n",
      "cmdstanpy                            0.9.68\n",
      "colorama                             0.4.4\n",
      "commonmark                           0.9.1\n",
      "contextlib2                          0.6.0.post1\n",
      "convertdate                          2.3.2\n",
      "crashtest                            0.3.1\n",
      "cryptography                         3.4.8\n",
      "cycler                               0.10.0\n",
      "Cython                               0.29.23\n",
      "databricks-cli                       0.16.2\n",
      "debugpy                              1.3.0\n",
      "decorator                            5.0.6\n",
      "defusedxml                           0.7.1\n",
      "distro                               1.6.0\n",
      "docker                               5.0.0\n",
      "docopt                               0.6.2\n",
      "dotnetcore2                          2.1.21\n",
      "elasticsearch                        7.12.0\n",
      "entrypoints                          0.3\n",
      "ephem                                4.0.0.2\n",
      "fastcore                             1.3.19\n",
      "flake8                               4.0.1\n",
      "Flask                                2.0.1\n",
      "future                               0.18.2\n",
      "ghapi                                0.1.16\n",
      "gitdb                                4.0.9\n",
      "GitPython                            3.1.24\n",
      "greenlet                             1.0.0\n",
      "grpcio                               1.37.0\n",
      "grpcio-tools                         1.37.0\n",
      "gunicorn                             20.1.0\n",
      "hdfs                                 2.6.0\n",
      "hijri-converter                      2.1.3\n",
      "holidays                             0.11.1\n",
      "htmlmin                              0.1.12\n",
      "httpstan                             4.5.0\n",
      "idna                                 2.10\n",
      "ImageHash                            4.2.1\n",
      "importlib-metadata                   3.10.0\n",
      "iniconfig                            1.1.1\n",
      "ipykernel                            6.0.1\n",
      "ipython                              7.25.0\n",
      "ipython-genutils                     0.2.0\n",
      "ipywidgets                           7.6.5\n",
      "isodate                              0.6.0\n",
      "itsdangerous                         2.0.1\n",
      "jedi                                 0.18.0\n",
      "jeepney                              0.6.0\n",
      "Jinja2                               3.0.1\n",
      "jinjasql                             0.1.8\n",
      "jmespath                             0.10.0\n",
      "joblib                               1.0.1\n",
      "jsonpickle                           2.0.0\n",
      "jsonschema                           3.2.0\n",
      "jupyter-client                       6.1.13\n",
      "jupyter-core                         4.7.1\n",
      "jupyterlab-pygments                  0.1.2\n",
      "jupyterlab-widgets                   1.0.2\n",
      "kafka                                1.3.5\n",
      "kafka-python                         2.0.2\n",
      "kiwisolver                           1.3.1\n",
      "korean-lunar-calendar                0.2.1\n",
      "LunarCalendar                        0.0.9\n",
      "lz4                                  3.1.3\n",
      "Mako                                 1.1.6\n",
      "markdown2                            2.4.0\n",
      "MarkupSafe                           2.0.1\n",
      "marshmallow                          3.12.1\n",
      "matplotlib                           3.4.1\n",
      "matplotlib-inline                    0.1.2\n",
      "mccabe                               0.6.1\n",
      "missingno                            0.5.0\n",
      "mistune                              0.8.4\n",
      "mlflow                               1.20.2\n",
      "mlxtend                              0.19.0\n",
      "more-itertools                       8.11.0\n",
      "msal                                 1.15.0\n",
      "msal-extensions                      0.3.0\n",
      "msrest                               0.6.21\n",
      "msrestazure                          0.6.4\n",
      "multidict                            5.1.0\n",
      "multimethod                          1.6\n",
      "mypy-extensions                      0.4.3\n",
      "nbclient                             0.5.3\n",
      "nbconvert                            6.0.7\n",
      "nbformat                             5.1.3\n",
      "ndg-httpsclient                      0.5.1\n",
      "nest-asyncio                         1.5.1\n",
      "networkx                             2.6.3\n",
      "notebook                             6.3.0\n",
      "numpy                                1.19.5\n",
      "nvidia-ml-py                         11.450.51\n",
      "oauthlib                             3.1.0\n",
      "octopy                               5.7.9\n",
      "packaging                            20.9\n",
      "pandas                               1.3.2\n",
      "pandas-profiling                     3.1.0\n",
      "pandocfilters                        1.4.3\n",
      "parso                                0.8.2\n",
      "pastel                               0.2.1\n",
      "pathspec                             0.9.0\n",
      "patsy                                0.5.1\n",
      "pexpect                              4.8.0\n",
      "phik                                 0.12.0\n",
      "pickleshare                          0.7.5\n",
      "Pillow                               8.2.0\n",
      "pip                                  22.0.3\n",
      "pipreqs                              0.4.11\n",
      "platformdirs                         2.4.1\n",
      "pluggy                               0.13.1\n",
      "portalocker                          1.7.1\n",
      "prometheus-client                    0.10.1\n",
      "prometheus-flask-exporter            0.18.6\n",
      "prompt-toolkit                       3.0.18\n",
      "prophet                              1.0.1\n",
      "protobuf                             3.15.8\n",
      "ptyprocess                           0.7.0\n",
      "py                                   1.11.0\n",
      "pyarrow                              2.0.0\n",
      "pyasn1                               0.4.8\n",
      "pycodestyle                          2.8.0\n",
      "pycodestyle_magic                    0.5\n",
      "pycountry                            20.7.3\n",
      "pycparser                            2.20\n",
      "pydantic                             1.8.2\n",
      "pyflakes                             2.4.0\n",
      "Pygments                             2.8.1\n",
      "PyHive                               0.6.3\n",
      "PyJWT                                2.0.1\n",
      "pylev                                1.4.0\n",
      "PyMeeus                              0.5.11\n",
      "pyOpenSSL                            20.0.1\n",
      "pyparsing                            2.4.7\n",
      "pyrsistent                           0.17.3\n",
      "pysimdjson                           3.2.0\n",
      "PySocks                              1.7.1\n",
      "pystan                               2.19.1.1\n",
      "pytest                               6.0.2\n",
      "python-dateutil                      2.8.2\n",
      "python-editor                        1.0.4\n",
      "pytz                                 2021.1\n",
      "PyWavelets                           1.1.1\n",
      "PyYAML                               5.4.1\n",
      "pyzmq                                22.0.3\n",
      "querystring-parser                   1.2.4\n",
      "requests                             2.25.1\n",
      "requests-oauthlib                    1.3.0\n",
      "researchpy                           0.3.2\n",
      "rich                                 10.11.0\n",
      "ruamel.yaml                          0.17.4\n",
      "ruamel.yaml.clib                     0.2.2\n",
      "s3transfer                           0.3.6\n",
      "scalene                              1.3.12\n",
      "scikit-learn                         0.24.1\n",
      "scipy                                1.6.2\n",
      "seaborn                              0.11.1\n",
      "SecretStorage                        3.3.1\n",
      "Send2Trash                           1.5.0\n",
      "setuptools                           57.0.0\n",
      "setuptools-git                       1.2\n",
      "six                                  1.15.0\n",
      "sklearn-pandas                       2.2.0\n",
      "smmap                                5.0.0\n",
      "SQLAlchemy                           1.4.6\n",
      "sqlparse                             0.4.2\n",
      "statsmodels                          0.12.2\n",
      "tabulate                             0.8.9\n",
      "tangled-up-in-unicode                0.1.0\n",
      "terminado                            0.9.4\n",
      "testpath                             0.4.4\n",
      "threadpoolctl                        2.1.0\n",
      "thrift                               0.13.0\n",
      "toml                                 0.10.2\n",
      "tomli                                1.2.3\n",
      "tornado                              6.1\n",
      "tqdm                                 4.60.0\n",
      "traitlets                            5.0.5\n",
      "typed-ast                            1.5.1\n",
      "typer                                0.4.0\n",
      "typing_extensions                    4.0.1\n",
      "ujson                                4.0.2\n",
      "urllib3                              1.26.4\n",
      "utils                                1.0.1\n",
      "visions                              0.7.4\n",
      "wcwidth                              0.2.5\n",
      "webargs                              7.0.1\n",
      "webencodings                         0.5.1\n",
      "websocket-client                     0.58.0\n",
      "Werkzeug                             2.0.1\n",
      "widgetsnbextension                   3.5.1\n",
      "yarg                                 0.1.9\n",
      "yarl                                 1.6.3\n",
      "zipp                                 3.4.1\n"
     ]
    },
    {
     "name": "stdout",
     "output_type": "stream",
     "text": [
      "Name: pandas\r\n",
      "Version: 1.3.2\r\n",
      "Summary: Powerful data structures for data analysis, time series, and statistics\r\n",
      "Home-page: https://pandas.pydata.org\r\n",
      "Author: The Pandas Development Team\r\n",
      "Author-email: pandas-dev@python.org\r\n",
      "License: BSD-3-Clause\r\n",
      "Location: /Users/lizre/.pyenv/versions/3.7.3/lib/python3.7/site-packages\r\n",
      "Requires: numpy, python-dateutil, pytz\r\n",
      "Required-by: cmdstanpy, mlflow, mlxtend, octopy, pandas-profiling, phik, prophet, researchpy, seaborn, sklearn-pandas, statsmodels, visions\r\n"
     ]
    }
   ],
   "source": [
    "!pip install pandas # Will also get dependencies needed for pandas\n",
    "!pip list # Should now include pandas\n",
    "!pip show pandas #Shows dependencies and dependents"
   ]
  },
  {
   "cell_type": "markdown",
   "metadata": {},
   "source": [
    "# create requirements.txt \n",
    "\n",
    "In terminal:"
   ]
  },
  {
   "cell_type": "code",
   "execution_count": 8,
   "metadata": {},
   "outputs": [
    {
     "name": "stdout",
     "output_type": "stream",
     "text": [
      "INFO: Successfully saved requirements file in /Users/lizre/Downloads/learn-py/requirements.txt\r\n"
     ]
    }
   ],
   "source": [
    "!pipreqs --force"
   ]
  },
  {
   "cell_type": "markdown",
   "metadata": {},
   "source": [
    "- You'll see requirements.txt appear in src. It will not exactly match everything you `import` because pipreqs only includes ones not in standard library.\n",
    "- Can also use `pip freeze > requirements.txt` but it is [harmful because it includes too many things.](https://medium.com/@tomagee/pip-freeze-requirements-txt-considered-harmful-f0bce66cf895); also [pypi says not to use pip freeze](https://pypi.org/project/pipreqs/).\n",
    "\n"
   ]
  },
  {
   "cell_type": "code",
   "execution_count": 10,
   "metadata": {},
   "outputs": [
    {
     "name": "stdout",
     "output_type": "stream",
     "text": [
      "pandas==1.3.2\r\n"
     ]
    }
   ],
   "source": [
    "!cat requirements.txt"
   ]
  },
  {
   "cell_type": "markdown",
   "metadata": {},
   "source": [
    "To use:"
   ]
  },
  {
   "cell_type": "code",
   "execution_count": 12,
   "metadata": {},
   "outputs": [
    {
     "name": "stdout",
     "output_type": "stream",
     "text": [
      "Requirement already satisfied: pandas==1.3.2 in /Users/lizre/.pyenv/versions/3.7.3/lib/python3.7/site-packages (from -r requirements.txt (line 1)) (1.3.2)\r\n",
      "Requirement already satisfied: numpy>=1.17.3 in /Users/lizre/.pyenv/versions/3.7.3/lib/python3.7/site-packages (from pandas==1.3.2->-r requirements.txt (line 1)) (1.19.5)\r\n",
      "Requirement already satisfied: python-dateutil>=2.7.3 in /Users/lizre/.pyenv/versions/3.7.3/lib/python3.7/site-packages (from pandas==1.3.2->-r requirements.txt (line 1)) (2.8.2)\r\n",
      "Requirement already satisfied: pytz>=2017.3 in /Users/lizre/.pyenv/versions/3.7.3/lib/python3.7/site-packages (from pandas==1.3.2->-r requirements.txt (line 1)) (2021.1)\r\n",
      "Requirement already satisfied: six>=1.5 in /Users/lizre/.pyenv/versions/3.7.3/lib/python3.7/site-packages (from python-dateutil>=2.7.3->pandas==1.3.2->-r requirements.txt (line 1)) (1.15.0)\r\n"
     ]
    }
   ],
   "source": [
    "!pip install -r requirements.txt"
   ]
  },
  {
   "cell_type": "markdown",
   "metadata": {},
   "source": [
    "# Virtual environment"
   ]
  },
  {
   "cell_type": "markdown",
   "metadata": {},
   "source": [
    "### Problem/motivation\n",
    "\n",
    "When you pip install a package, it installs the dependency together with your interpreter. The package ends up in the Scripts folder in the directory where you installed Python. This is your environment: Python 3.7 with all of the installed packages.\n",
    "\n",
    "So each Python project on your computer will install all their dependencies together with every other project."
   ]
  },
  {
   "cell_type": "markdown",
   "metadata": {},
   "source": [
    "See where we have python:"
   ]
  },
  {
   "cell_type": "code",
   "execution_count": 16,
   "metadata": {},
   "outputs": [
    {
     "name": "stdout",
     "output_type": "stream",
     "text": [
      "/Users/lizre/.pyenv/versions/3.7.3/bin/python\r\n"
     ]
    }
   ],
   "source": [
    "!which python"
   ]
  },
  {
   "cell_type": "markdown",
   "metadata": {},
   "source": [
    "Inside that folder are all our packages:"
   ]
  },
  {
   "cell_type": "code",
   "execution_count": 63,
   "metadata": {},
   "outputs": [
    {
     "name": "stdout",
     "output_type": "stream",
     "text": [
      "\u001b[34mCython\u001b[m\u001b[m\r\n",
      "\u001b[34mCython-0.29.23.dist-info\u001b[m\u001b[m\r\n",
      "\u001b[34mFlask-2.0.1.dist-info\u001b[m\u001b[m\r\n",
      "\u001b[34mGitPython-3.1.24.dist-info\u001b[m\u001b[m\r\n",
      "\u001b[34mIPython\u001b[m\u001b[m\r\n",
      "\u001b[34mImageHash-4.2.1-py3.7.egg-info\u001b[m\u001b[m\r\n",
      "\u001b[34mJinja2-3.0.1.dist-info\u001b[m\u001b[m\r\n",
      "\u001b[34mLunarCalendar-0.0.9.dist-info\u001b[m\u001b[m\r\n",
      "\u001b[34mMako-1.1.6.dist-info\u001b[m\u001b[m\r\n",
      "\u001b[34mMarkupSafe-2.0.1.dist-info\u001b[m\u001b[m\r\n",
      "\u001b[34mOpenSSL\u001b[m\u001b[m\r\n",
      "\u001b[34mPIL\u001b[m\u001b[m\r\n",
      "\u001b[34mPillow-8.2.0.dist-info\u001b[m\u001b[m\r\n",
      "\u001b[34mPyHive-0.6.3-py3.7.egg-info\u001b[m\u001b[m\r\n",
      "\u001b[34mPyJWT-2.0.1.dist-info\u001b[m\u001b[m\r\n",
      "\u001b[34mPyMeeus-0.5.11-py3.7.egg-info\u001b[m\u001b[m\r\n",
      "\u001b[34mPySocks-1.7.1.dist-info\u001b[m\u001b[m\r\n",
      "\u001b[34mPyWavelets-1.1.1.dist-info\u001b[m\u001b[m\r\n",
      "\u001b[34mPyYAML-5.4.1.dist-info\u001b[m\u001b[m\r\n",
      "\u001b[34mPygments-2.8.1.dist-info\u001b[m\u001b[m\r\n",
      "README.txt\r\n",
      "\u001b[34mSQLAlchemy-1.4.6.dist-info\u001b[m\u001b[m\r\n",
      "\u001b[34mSecretStorage-3.3.1.dist-info\u001b[m\u001b[m\r\n",
      "\u001b[34mSend2Trash-1.5.0.dist-info\u001b[m\u001b[m\r\n",
      "\u001b[34mTCLIService\u001b[m\u001b[m\r\n",
      "\u001b[34mWerkzeug-2.0.1.dist-info\u001b[m\u001b[m\r\n",
      "\u001b[34m__pycache__\u001b[m\u001b[m\r\n",
      "_black_version.py\r\n",
      "\u001b[31m_cffi_backend.cpython-37m-darwin.so\u001b[m\u001b[m\r\n",
      "\u001b[34m_distutils_hack\u001b[m\u001b[m\r\n",
      "_pyrsistent_version.py\r\n",
      "\u001b[34m_pytest\u001b[m\u001b[m\r\n",
      "\u001b[31m_ruamel_yaml.cpython-37m-darwin.so\u001b[m\u001b[m\r\n",
      "\u001b[34m_yaml\u001b[m\u001b[m\r\n",
      "\u001b[34madal\u001b[m\u001b[m\r\n",
      "\u001b[34madal-1.2.7.dist-info\u001b[m\u001b[m\r\n",
      "\u001b[34maiohttp\u001b[m\u001b[m\r\n",
      "\u001b[34maiohttp-3.7.4.post0.dist-info\u001b[m\u001b[m\r\n",
      "\u001b[34malembic\u001b[m\u001b[m\r\n",
      "\u001b[34malembic-1.4.1-py3.7.egg-info\u001b[m\u001b[m\r\n",
      "\u001b[34mappdirs-1.4.4.dist-info\u001b[m\u001b[m\r\n",
      "appdirs.py\r\n",
      "\u001b[34mapplicationinsights\u001b[m\u001b[m\r\n",
      "\u001b[34mapplicationinsights-0.11.10.dist-info\u001b[m\u001b[m\r\n",
      "\u001b[34mappnope\u001b[m\u001b[m\r\n",
      "\u001b[34mappnope-0.1.2.dist-info\u001b[m\u001b[m\r\n",
      "\u001b[34margon2\u001b[m\u001b[m\r\n",
      "\u001b[34margon2_cffi-20.1.0.dist-info\u001b[m\u001b[m\r\n",
      "\u001b[34masync_generator\u001b[m\u001b[m\r\n",
      "\u001b[34masync_generator-1.10.dist-info\u001b[m\u001b[m\r\n",
      "\u001b[34masync_timeout\u001b[m\u001b[m\r\n",
      "\u001b[34masync_timeout-3.0.1.dist-info\u001b[m\u001b[m\r\n",
      "\u001b[34mattr\u001b[m\u001b[m\r\n",
      "\u001b[34mattrs-20.3.0.dist-info\u001b[m\u001b[m\r\n",
      "\u001b[34mazure\u001b[m\u001b[m\r\n",
      "\u001b[34mazure_common-1.1.27.dist-info\u001b[m\u001b[m\r\n",
      "\u001b[34mazure_core-1.13.0.dist-info\u001b[m\u001b[m\r\n",
      "\u001b[34mazure_graphrbac-0.61.1.dist-info\u001b[m\u001b[m\r\n",
      "\u001b[34mazure_identity-1.7.0.dist-info\u001b[m\u001b[m\r\n",
      "\u001b[34mazure_mgmt_authorization-0.61.0.dist-info\u001b[m\u001b[m\r\n",
      "\u001b[34mazure_mgmt_containerregistry-2.8.0.dist-info\u001b[m\u001b[m\r\n",
      "\u001b[34mazure_mgmt_keyvault-2.2.0.dist-info\u001b[m\u001b[m\r\n",
      "\u001b[34mazure_mgmt_resource-12.1.0.dist-info\u001b[m\u001b[m\r\n",
      "\u001b[34mazure_mgmt_storage-11.2.0.dist-info\u001b[m\u001b[m\r\n",
      "\u001b[34mazure_storage_blob-12.9.0.dist-info\u001b[m\u001b[m\r\n",
      "\u001b[34mazureml\u001b[m\u001b[m\r\n",
      "\u001b[34mazureml_automl_core-1.36.0.dist-info\u001b[m\u001b[m\r\n",
      "\u001b[34mazureml_core-1.36.0.post2.dist-info\u001b[m\u001b[m\r\n",
      "\u001b[34mazureml_dataprep-2.24.4.dist-info\u001b[m\u001b[m\r\n",
      "\u001b[34mazureml_dataprep_native-38.0.0.dist-info\u001b[m\u001b[m\r\n",
      "\u001b[34mazureml_dataprep_rslex-2.0.3.dist-info\u001b[m\u001b[m\r\n",
      "\u001b[34mazureml_dataset_runtime-1.36.0.dist-info\u001b[m\u001b[m\r\n",
      "\u001b[34mazureml_pipeline-1.36.0.dist-info\u001b[m\u001b[m\r\n",
      "\u001b[34mazureml_pipeline_core-1.36.0.dist-info\u001b[m\u001b[m\r\n",
      "\u001b[34mazureml_pipeline_steps-1.36.0.dist-info\u001b[m\u001b[m\r\n",
      "\u001b[34mazureml_telemetry-1.36.0.dist-info\u001b[m\u001b[m\r\n",
      "\u001b[34mazureml_train_automl_client-1.36.0.dist-info\u001b[m\u001b[m\r\n",
      "\u001b[34mazureml_train_core-1.36.0.dist-info\u001b[m\u001b[m\r\n",
      "\u001b[34mazureml_train_restclients_hyperdrive-1.36.0.dist-info\u001b[m\u001b[m\r\n",
      "\u001b[34mbackcall\u001b[m\u001b[m\r\n",
      "\u001b[34mbackcall-0.2.0.dist-info\u001b[m\u001b[m\r\n",
      "\u001b[34mbackports\u001b[m\u001b[m\r\n",
      "\u001b[34mbackports.tempfile-1.0.dist-info\u001b[m\u001b[m\r\n",
      "\u001b[34mbackports.weakref-1.0.post1.dist-info\u001b[m\u001b[m\r\n",
      "\u001b[34mblack\u001b[m\u001b[m\r\n",
      "\u001b[34mblack-21.12b0.dist-info\u001b[m\u001b[m\r\n",
      "\u001b[34mblack_primer\u001b[m\u001b[m\r\n",
      "\u001b[34mblackd\u001b[m\u001b[m\r\n",
      "\u001b[34mbleach\u001b[m\u001b[m\r\n",
      "\u001b[34mbleach-3.3.0.dist-info\u001b[m\u001b[m\r\n",
      "\u001b[34mblib2to3\u001b[m\u001b[m\r\n",
      "\u001b[34mboto3\u001b[m\u001b[m\r\n",
      "\u001b[34mboto3-1.17.48-py3.7.egg-info\u001b[m\u001b[m\r\n",
      "\u001b[34mbotocore\u001b[m\u001b[m\r\n",
      "\u001b[34mbotocore-1.20.48.dist-info\u001b[m\u001b[m\r\n",
      "\u001b[34mcertifi\u001b[m\u001b[m\r\n",
      "\u001b[34mcertifi-2020.12.5.dist-info\u001b[m\u001b[m\r\n",
      "\u001b[34mcffi\u001b[m\u001b[m\r\n",
      "\u001b[34mcffi-1.14.5.dist-info\u001b[m\u001b[m\r\n",
      "\u001b[34mchardet\u001b[m\u001b[m\r\n",
      "\u001b[34mchardet-4.0.0.dist-info\u001b[m\u001b[m\r\n",
      "\u001b[34mclick\u001b[m\u001b[m\r\n",
      "\u001b[34mclick-8.0.1.dist-info\u001b[m\u001b[m\r\n",
      "\u001b[34mclikit\u001b[m\u001b[m\r\n",
      "\u001b[34mclikit-0.6.2.dist-info\u001b[m\u001b[m\r\n",
      "\u001b[34mcloudpickle\u001b[m\u001b[m\r\n",
      "\u001b[34mcloudpickle-1.6.0.dist-info\u001b[m\u001b[m\r\n",
      "\u001b[34mcmdstanpy\u001b[m\u001b[m\r\n",
      "\u001b[34mcmdstanpy-0.9.68.dist-info\u001b[m\u001b[m\r\n",
      "\u001b[34mcolorama\u001b[m\u001b[m\r\n",
      "\u001b[34mcolorama-0.4.4.dist-info\u001b[m\u001b[m\r\n",
      "\u001b[34mcommonmark\u001b[m\u001b[m\r\n",
      "\u001b[34mcommonmark-0.9.1.dist-info\u001b[m\u001b[m\r\n",
      "\u001b[34mcontextlib2-0.6.0.post1.dist-info\u001b[m\u001b[m\r\n",
      "contextlib2.py\r\n",
      "\u001b[34mconvertdate\u001b[m\u001b[m\r\n",
      "\u001b[34mconvertdate-2.3.2.dist-info\u001b[m\u001b[m\r\n",
      "\u001b[34mcrashtest\u001b[m\u001b[m\r\n",
      "\u001b[34mcrashtest-0.3.1.dist-info\u001b[m\u001b[m\r\n",
      "\u001b[34mcryptography\u001b[m\u001b[m\r\n",
      "\u001b[34mcryptography-3.4.8.dist-info\u001b[m\u001b[m\r\n",
      "\u001b[31mcsimdjson.cpython-37m-darwin.so\u001b[m\u001b[m\r\n",
      "\u001b[34mcycler-0.10.0.dist-info\u001b[m\u001b[m\r\n",
      "cycler.py\r\n",
      "cython.py\r\n",
      "\u001b[34mdatabricks_cli\u001b[m\u001b[m\r\n",
      "\u001b[34mdatabricks_cli-0.16.2-py3.7.egg-info\u001b[m\u001b[m\r\n",
      "\u001b[34mdateutil\u001b[m\u001b[m\r\n",
      "\u001b[34mdebugpy\u001b[m\u001b[m\r\n",
      "\u001b[34mdebugpy-1.3.0.dist-info\u001b[m\u001b[m\r\n",
      "\u001b[34mdecorator-5.0.6.dist-info\u001b[m\u001b[m\r\n",
      "decorator.py\r\n",
      "\u001b[34mdefusedxml\u001b[m\u001b[m\r\n",
      "\u001b[34mdefusedxml-0.7.1.dist-info\u001b[m\u001b[m\r\n",
      "\u001b[34mdistro-1.6.0.dist-info\u001b[m\u001b[m\r\n",
      "distro.py\r\n",
      "distutils-precedence.pth\r\n",
      "\u001b[34mdocker\u001b[m\u001b[m\r\n",
      "\u001b[34mdocker-5.0.0.dist-info\u001b[m\u001b[m\r\n",
      "\u001b[34mdocopt-0.6.2-py3.7.egg-info\u001b[m\u001b[m\r\n",
      "docopt.py\r\n",
      "\u001b[34mdotnetcore2\u001b[m\u001b[m\r\n",
      "\u001b[34mdotnetcore2-2.1.21.dist-info\u001b[m\u001b[m\r\n",
      "\u001b[31meditor.py\u001b[m\u001b[m\r\n",
      "\u001b[34melasticsearch\u001b[m\u001b[m\r\n",
      "\u001b[34melasticsearch-7.12.0.dist-info\u001b[m\u001b[m\r\n",
      "\u001b[34mentrypoints-0.3.dist-info\u001b[m\u001b[m\r\n",
      "entrypoints.py\r\n",
      "\u001b[34mephem\u001b[m\u001b[m\r\n",
      "\u001b[34mephem-4.0.0.2.dist-info\u001b[m\u001b[m\r\n",
      "example.py\r\n",
      "\u001b[34mfastcore\u001b[m\u001b[m\r\n",
      "\u001b[34mfastcore-1.3.19.dist-info\u001b[m\u001b[m\r\n",
      "\u001b[34mflake8\u001b[m\u001b[m\r\n",
      "\u001b[34mflake8-4.0.1.dist-info\u001b[m\u001b[m\r\n",
      "\u001b[34mflask\u001b[m\u001b[m\r\n",
      "\u001b[34mfuture\u001b[m\u001b[m\r\n",
      "\u001b[34mfuture-0.18.2-py3.7.egg-info\u001b[m\u001b[m\r\n",
      "\u001b[34mghapi\u001b[m\u001b[m\r\n",
      "\u001b[34mghapi-0.1.16.dist-info\u001b[m\u001b[m\r\n",
      "\u001b[34mgit\u001b[m\u001b[m\r\n",
      "\u001b[34mgitdb\u001b[m\u001b[m\r\n",
      "\u001b[34mgitdb-4.0.9.dist-info\u001b[m\u001b[m\r\n",
      "\u001b[34mgoogle\u001b[m\u001b[m\r\n",
      "\u001b[34mgreenlet\u001b[m\u001b[m\r\n",
      "\u001b[34mgreenlet-1.0.0.dist-info\u001b[m\u001b[m\r\n",
      "\u001b[34mgrpc\u001b[m\u001b[m\r\n",
      "\u001b[34mgrpc_tools\u001b[m\u001b[m\r\n",
      "\u001b[34mgrpcio-1.37.0.dist-info\u001b[m\u001b[m\r\n",
      "\u001b[34mgrpcio_tools-1.37.0.dist-info\u001b[m\u001b[m\r\n",
      "\u001b[34mgunicorn\u001b[m\u001b[m\r\n",
      "\u001b[34mgunicorn-20.1.0.dist-info\u001b[m\u001b[m\r\n",
      "\u001b[34mhdfs\u001b[m\u001b[m\r\n",
      "\u001b[34mhdfs-2.6.0.dist-info\u001b[m\u001b[m\r\n",
      "\u001b[34mhijri_converter\u001b[m\u001b[m\r\n",
      "\u001b[34mhijri_converter-2.1.3.dist-info\u001b[m\u001b[m\r\n",
      "\u001b[34mholidays\u001b[m\u001b[m\r\n",
      "\u001b[34mholidays-0.11.1.dist-info\u001b[m\u001b[m\r\n",
      "\u001b[34mhtmlmin\u001b[m\u001b[m\r\n",
      "\u001b[34mhtmlmin-0.1.12-py3.7.egg-info\u001b[m\u001b[m\r\n",
      "\u001b[34mhttpstan\u001b[m\u001b[m\r\n",
      "\u001b[34mhttpstan-4.5.0.dist-info\u001b[m\u001b[m\r\n",
      "\u001b[34midna\u001b[m\u001b[m\r\n",
      "\u001b[34midna-2.10.dist-info\u001b[m\u001b[m\r\n",
      "imagehash.py\r\n",
      "\u001b[34mimportlib_metadata\u001b[m\u001b[m\r\n",
      "\u001b[34mimportlib_metadata-3.10.0.dist-info\u001b[m\u001b[m\r\n",
      "\u001b[34miniconfig\u001b[m\u001b[m\r\n",
      "\u001b[34miniconfig-1.1.1.dist-info\u001b[m\u001b[m\r\n",
      "\u001b[34mintegration\u001b[m\u001b[m\r\n",
      "\u001b[34mipykernel\u001b[m\u001b[m\r\n",
      "\u001b[34mipykernel-6.0.1.dist-info\u001b[m\u001b[m\r\n",
      "ipykernel_launcher.py\r\n",
      "\u001b[34mipython-7.25.0.dist-info\u001b[m\u001b[m\r\n",
      "\u001b[34mipython_genutils\u001b[m\u001b[m\r\n",
      "\u001b[34mipython_genutils-0.2.0.dist-info\u001b[m\u001b[m\r\n",
      "\u001b[34mipywidgets\u001b[m\u001b[m\r\n",
      "\u001b[34mipywidgets-7.6.5.dist-info\u001b[m\u001b[m\r\n",
      "\u001b[34misodate\u001b[m\u001b[m\r\n",
      "\u001b[34misodate-0.6.0.dist-info\u001b[m\u001b[m\r\n",
      "\u001b[34mitsdangerous\u001b[m\u001b[m\r\n",
      "\u001b[34mitsdangerous-2.0.1.dist-info\u001b[m\u001b[m\r\n",
      "\u001b[34mjedi\u001b[m\u001b[m\r\n",
      "\u001b[34mjedi-0.18.0.dist-info\u001b[m\u001b[m\r\n",
      "\u001b[34mjeepney\u001b[m\u001b[m\r\n",
      "\u001b[34mjeepney-0.6.0.dist-info\u001b[m\u001b[m\r\n",
      "\u001b[34mjinja2\u001b[m\u001b[m\r\n",
      "\u001b[34mjinjasql\u001b[m\u001b[m\r\n",
      "\u001b[34mjinjasql-0.1.8.dist-info\u001b[m\u001b[m\r\n",
      "\u001b[34mjmespath\u001b[m\u001b[m\r\n",
      "\u001b[34mjmespath-0.10.0.dist-info\u001b[m\u001b[m\r\n",
      "\u001b[34mjoblib\u001b[m\u001b[m\r\n",
      "\u001b[34mjoblib-1.0.1.dist-info\u001b[m\u001b[m\r\n",
      "\u001b[34mjsonpickle\u001b[m\u001b[m\r\n",
      "\u001b[34mjsonpickle-2.0.0.dist-info\u001b[m\u001b[m\r\n",
      "\u001b[34mjsonschema\u001b[m\u001b[m\r\n",
      "\u001b[34mjsonschema-3.2.0.dist-info\u001b[m\u001b[m\r\n",
      "jupyter.py\r\n",
      "\u001b[34mjupyter_client\u001b[m\u001b[m\r\n",
      "\u001b[34mjupyter_client-6.1.13.dist-info\u001b[m\u001b[m\r\n",
      "\u001b[34mjupyter_core\u001b[m\u001b[m\r\n",
      "\u001b[34mjupyter_core-4.7.1.dist-info\u001b[m\u001b[m\r\n",
      "\u001b[34mjupyterlab_pygments\u001b[m\u001b[m\r\n",
      "\u001b[34mjupyterlab_pygments-0.1.2.dist-info\u001b[m\u001b[m\r\n",
      "\u001b[34mjupyterlab_widgets\u001b[m\u001b[m\r\n",
      "\u001b[34mjupyterlab_widgets-1.0.2.dist-info\u001b[m\u001b[m\r\n",
      "\u001b[34mjwt\u001b[m\u001b[m\r\n",
      "\u001b[34mkafka\u001b[m\u001b[m\r\n",
      "\u001b[34mkafka-1.3.5.dist-info\u001b[m\u001b[m\r\n",
      "\u001b[34mkafka_python-2.0.2.dist-info\u001b[m\u001b[m\r\n",
      "kernprof.py\r\n",
      "\u001b[34mkiwisolver-1.3.1.dist-info\u001b[m\u001b[m\r\n",
      "\u001b[31mkiwisolver.cpython-37m-darwin.so\u001b[m\u001b[m\r\n",
      "\u001b[34mkorean_lunar_calendar\u001b[m\u001b[m\r\n",
      "\u001b[34mkorean_lunar_calendar-0.2.1.dist-info\u001b[m\u001b[m\r\n",
      "\u001b[34mlibfuturize\u001b[m\u001b[m\r\n",
      "\u001b[34mlibpasteurize\u001b[m\u001b[m\r\n",
      "\u001b[34mline_profiler\u001b[m\u001b[m\r\n",
      "\u001b[34mline_profiler-3.4.0.dist-info\u001b[m\u001b[m\r\n",
      "\u001b[34mlunarcalendar\u001b[m\u001b[m\r\n",
      "\u001b[34mlz4\u001b[m\u001b[m\r\n",
      "\u001b[34mlz4-3.1.3.dist-info\u001b[m\u001b[m\r\n",
      "\u001b[34mmako\u001b[m\u001b[m\r\n",
      "\u001b[34mmarkdown2-2.4.0.dist-info\u001b[m\u001b[m\r\n",
      "markdown2.py\r\n",
      "\u001b[34mmarkupsafe\u001b[m\u001b[m\r\n",
      "\u001b[34mmarshmallow\u001b[m\u001b[m\r\n",
      "\u001b[34mmarshmallow-3.12.1.dist-info\u001b[m\u001b[m\r\n",
      "\u001b[34mmatplotlib\u001b[m\u001b[m\r\n",
      "matplotlib-3.4.1-py3.7-nspkg.pth\r\n",
      "\u001b[34mmatplotlib-3.4.1.dist-info\u001b[m\u001b[m\r\n",
      "\u001b[34mmatplotlib_inline\u001b[m\u001b[m\r\n",
      "\u001b[34mmatplotlib_inline-0.1.2.dist-info\u001b[m\u001b[m\r\n",
      "\u001b[34mmccabe-0.6.1.dist-info\u001b[m\u001b[m\r\n",
      "mccabe.py\r\n",
      "\u001b[34mmissingno\u001b[m\u001b[m\r\n",
      "\u001b[34mmissingno-0.5.0.dist-info\u001b[m\u001b[m\r\n",
      "\u001b[34mmistune-0.8.4.dist-info\u001b[m\u001b[m\r\n",
      "mistune.py\r\n",
      "\u001b[34mmlflow\u001b[m\u001b[m\r\n",
      "\u001b[34mmlflow-1.20.2.dist-info\u001b[m\u001b[m\r\n",
      "\u001b[34mmlxtend\u001b[m\u001b[m\r\n",
      "\u001b[34mmlxtend-0.19.0.dist-info\u001b[m\u001b[m\r\n",
      "\u001b[34mmore_itertools\u001b[m\u001b[m\r\n",
      "\u001b[34mmore_itertools-8.11.0.dist-info\u001b[m\u001b[m\r\n",
      "\u001b[34mmpl_toolkits\u001b[m\u001b[m\r\n",
      "\u001b[34mmsal\u001b[m\u001b[m\r\n",
      "\u001b[34mmsal-1.15.0.dist-info\u001b[m\u001b[m\r\n",
      "\u001b[34mmsal_extensions\u001b[m\u001b[m\r\n",
      "\u001b[34mmsal_extensions-0.3.0.dist-info\u001b[m\u001b[m\r\n",
      "\u001b[34mmsrest\u001b[m\u001b[m\r\n",
      "\u001b[34mmsrest-0.6.21.dist-info\u001b[m\u001b[m\r\n",
      "\u001b[34mmsrestazure\u001b[m\u001b[m\r\n",
      "\u001b[34mmsrestazure-0.6.4.dist-info\u001b[m\u001b[m\r\n",
      "\u001b[34mmultidict\u001b[m\u001b[m\r\n",
      "\u001b[34mmultidict-5.1.0.dist-info\u001b[m\u001b[m\r\n",
      "\u001b[34mmultimethod\u001b[m\u001b[m\r\n",
      "\u001b[34mmultimethod-1.6.dist-info\u001b[m\u001b[m\r\n",
      "\u001b[34mmypy_extensions-0.4.3.dist-info\u001b[m\u001b[m\r\n",
      "mypy_extensions.py\r\n",
      "\u001b[34mnbclient\u001b[m\u001b[m\r\n",
      "\u001b[34mnbclient-0.5.3.dist-info\u001b[m\u001b[m\r\n",
      "\u001b[34mnbconvert\u001b[m\u001b[m\r\n",
      "\u001b[34mnbconvert-6.0.7.dist-info\u001b[m\u001b[m\r\n",
      "\u001b[34mnbformat\u001b[m\u001b[m\r\n",
      "\u001b[34mnbformat-5.1.3.dist-info\u001b[m\u001b[m\r\n",
      "\u001b[34mndg\u001b[m\u001b[m\r\n",
      "\u001b[34mndg_httpsclient-0.5.1.dist-info\u001b[m\u001b[m\r\n",
      "\u001b[34mnest_asyncio-1.5.1.dist-info\u001b[m\u001b[m\r\n",
      "nest_asyncio.py\r\n",
      "\u001b[34mnetworkx\u001b[m\u001b[m\r\n",
      "\u001b[34mnetworkx-2.6.3.dist-info\u001b[m\u001b[m\r\n",
      "\u001b[34mnotebook\u001b[m\u001b[m\r\n",
      "\u001b[34mnotebook-6.3.0.dist-info\u001b[m\u001b[m\r\n",
      "\u001b[34mnumpy\u001b[m\u001b[m\r\n",
      "\u001b[34mnumpy-1.19.5.dist-info\u001b[m\u001b[m\r\n",
      "\u001b[34mnvidia_ml_py-11.450.51-py3.7.egg-info\u001b[m\u001b[m\r\n",
      "\u001b[34moauthlib\u001b[m\u001b[m\r\n",
      "\u001b[34moauthlib-3.1.0.dist-info\u001b[m\u001b[m\r\n",
      "\u001b[34moctopy\u001b[m\u001b[m\r\n",
      "\u001b[34moctopy-5.7.9-py3.7.egg-info\u001b[m\u001b[m\r\n",
      "\u001b[34mpackaging\u001b[m\u001b[m\r\n",
      "\u001b[34mpackaging-20.9.dist-info\u001b[m\u001b[m\r\n",
      "\u001b[34mpandas\u001b[m\u001b[m\r\n",
      "\u001b[34mpandas-1.3.2.dist-info\u001b[m\u001b[m\r\n",
      "\u001b[34mpandas_profiling\u001b[m\u001b[m\r\n",
      "\u001b[34mpandas_profiling-3.1.0.dist-info\u001b[m\u001b[m\r\n",
      "\u001b[34mpandocfilters-1.4.3-py3.7.egg-info\u001b[m\u001b[m\r\n",
      "pandocfilters.py\r\n",
      "\u001b[34mparso\u001b[m\u001b[m\r\n",
      "\u001b[34mparso-0.8.2.dist-info\u001b[m\u001b[m\r\n",
      "\u001b[34mpast\u001b[m\u001b[m\r\n",
      "\u001b[34mpastel\u001b[m\u001b[m\r\n",
      "\u001b[34mpastel-0.2.1.dist-info\u001b[m\u001b[m\r\n",
      "\u001b[34mpathspec\u001b[m\u001b[m\r\n",
      "\u001b[34mpathspec-0.9.0.dist-info\u001b[m\u001b[m\r\n",
      "\u001b[34mpatsy\u001b[m\u001b[m\r\n",
      "\u001b[34mpatsy-0.5.1.dist-info\u001b[m\u001b[m\r\n",
      "\u001b[34mpexpect\u001b[m\u001b[m\r\n",
      "\u001b[34mpexpect-4.8.0.dist-info\u001b[m\u001b[m\r\n",
      "\u001b[34mphik\u001b[m\u001b[m\r\n",
      "\u001b[34mphik-0.12.0.dist-info\u001b[m\u001b[m\r\n",
      "\u001b[34mpickleshare-0.7.5.dist-info\u001b[m\u001b[m\r\n",
      "pickleshare.py\r\n",
      "\u001b[34mpip\u001b[m\u001b[m\r\n",
      "\u001b[34mpip-22.0.3.dist-info\u001b[m\u001b[m\r\n",
      "\u001b[34mpipreqs\u001b[m\u001b[m\r\n",
      "\u001b[34mpipreqs-0.4.11.dist-info\u001b[m\u001b[m\r\n",
      "\u001b[34mpkg_resources\u001b[m\u001b[m\r\n",
      "\u001b[34mplatformdirs\u001b[m\u001b[m\r\n",
      "\u001b[34mplatformdirs-2.4.1.dist-info\u001b[m\u001b[m\r\n",
      "\u001b[34mpluggy\u001b[m\u001b[m\r\n",
      "\u001b[34mpluggy-0.13.1.dist-info\u001b[m\u001b[m\r\n",
      "\u001b[34mportalocker\u001b[m\u001b[m\r\n",
      "\u001b[34mportalocker-1.7.1.dist-info\u001b[m\u001b[m\r\n",
      "\u001b[34mprometheus_client\u001b[m\u001b[m\r\n",
      "\u001b[34mprometheus_client-0.10.1.dist-info\u001b[m\u001b[m\r\n",
      "\u001b[34mprometheus_flask_exporter\u001b[m\u001b[m\r\n",
      "\u001b[34mprometheus_flask_exporter-0.18.6.dist-info\u001b[m\u001b[m\r\n",
      "\u001b[34mprompt_toolkit\u001b[m\u001b[m\r\n",
      "\u001b[34mprompt_toolkit-3.0.18.dist-info\u001b[m\u001b[m\r\n",
      "\u001b[34mprophet\u001b[m\u001b[m\r\n",
      "\u001b[34mprophet-1.0.1-py3.7.egg-info\u001b[m\u001b[m\r\n",
      "protobuf-3.15.8-py3.7-nspkg.pth\r\n",
      "\u001b[34mprotobuf-3.15.8.dist-info\u001b[m\u001b[m\r\n",
      "\u001b[34mptyprocess\u001b[m\u001b[m\r\n",
      "\u001b[34mptyprocess-0.7.0.dist-info\u001b[m\u001b[m\r\n",
      "\u001b[31mpvectorc.cpython-37m-darwin.so\u001b[m\u001b[m\r\n",
      "\u001b[34mpy\u001b[m\u001b[m\r\n",
      "\u001b[34mpy-1.11.0.dist-info\u001b[m\u001b[m\r\n",
      "\u001b[34mpyOpenSSL-20.0.1.dist-info\u001b[m\u001b[m\r\n",
      "\u001b[34mpyarrow\u001b[m\u001b[m\r\n",
      "\u001b[34mpyarrow-2.0.0.dist-info\u001b[m\u001b[m\r\n",
      "\u001b[34mpyasn1\u001b[m\u001b[m\r\n",
      "\u001b[34mpyasn1-0.4.8.dist-info\u001b[m\u001b[m\r\n",
      "\u001b[34mpycodestyle-2.8.0.dist-info\u001b[m\u001b[m\r\n",
      "pycodestyle.py\r\n",
      "\u001b[34mpycodestyle_magic-0.5.dist-info\u001b[m\u001b[m\r\n",
      "pycodestyle_magic.py\r\n",
      "\u001b[34mpycountry\u001b[m\u001b[m\r\n",
      "\u001b[34mpycountry-20.7.3-py3.7.egg-info\u001b[m\u001b[m\r\n",
      "\u001b[34mpycparser\u001b[m\u001b[m\r\n",
      "\u001b[34mpycparser-2.20.dist-info\u001b[m\u001b[m\r\n",
      "\u001b[34mpydantic\u001b[m\u001b[m\r\n",
      "\u001b[34mpydantic-1.8.2.dist-info\u001b[m\u001b[m\r\n",
      "\u001b[34mpyflakes\u001b[m\u001b[m\r\n",
      "\u001b[34mpyflakes-2.4.0.dist-info\u001b[m\u001b[m\r\n",
      "\u001b[34mpygments\u001b[m\u001b[m\r\n",
      "\u001b[34mpyhive\u001b[m\u001b[m\r\n",
      "pylab.py\r\n",
      "\u001b[34mpylev\u001b[m\u001b[m\r\n",
      "\u001b[34mpylev-1.4.0.dist-info\u001b[m\u001b[m\r\n",
      "\u001b[34mpymeeus\u001b[m\u001b[m\r\n",
      "pynvml.py\r\n",
      "\u001b[34mpyparsing-2.4.7.dist-info\u001b[m\u001b[m\r\n",
      "pyparsing.py\r\n",
      "\u001b[34mpyrsistent\u001b[m\u001b[m\r\n",
      "\u001b[34mpyrsistent-0.17.3-py3.7.egg-info\u001b[m\u001b[m\r\n",
      "\u001b[34mpysimdjson-3.2.0.dist-info\u001b[m\u001b[m\r\n",
      "\u001b[34mpystan\u001b[m\u001b[m\r\n",
      "\u001b[34mpystan-2.19.1.1.dist-info\u001b[m\u001b[m\r\n",
      "\u001b[34mpytest\u001b[m\u001b[m\r\n",
      "\u001b[34mpytest-6.0.2.dist-info\u001b[m\u001b[m\r\n",
      "\u001b[34mpython_dateutil-2.8.2.dist-info\u001b[m\u001b[m\r\n",
      "\u001b[34mpython_editor-1.0.4.dist-info\u001b[m\u001b[m\r\n",
      "\u001b[34mpytz\u001b[m\u001b[m\r\n",
      "\u001b[34mpytz-2021.1.dist-info\u001b[m\u001b[m\r\n",
      "\u001b[34mpywt\u001b[m\u001b[m\r\n",
      "\u001b[34mpyximport\u001b[m\u001b[m\r\n",
      "\u001b[34mpyzmq-22.0.3.dist-info\u001b[m\u001b[m\r\n",
      "\u001b[34mquerystring_parser\u001b[m\u001b[m\r\n",
      "\u001b[34mquerystring_parser-1.2.4.dist-info\u001b[m\u001b[m\r\n",
      "\u001b[34mrequests\u001b[m\u001b[m\r\n",
      "\u001b[34mrequests-2.25.1.dist-info\u001b[m\u001b[m\r\n",
      "\u001b[34mrequests_oauthlib\u001b[m\u001b[m\r\n",
      "\u001b[34mrequests_oauthlib-1.3.0.dist-info\u001b[m\u001b[m\r\n",
      "\u001b[34mresearchpy\u001b[m\u001b[m\r\n",
      "\u001b[34mresearchpy-0.3.2.dist-info\u001b[m\u001b[m\r\n",
      "\u001b[34mrich\u001b[m\u001b[m\r\n",
      "\u001b[34mrich-10.11.0.dist-info\u001b[m\u001b[m\r\n",
      "\u001b[34mruamel\u001b[m\u001b[m\r\n",
      "ruamel.yaml-0.17.4-py3.8-nspkg.pth\r\n",
      "\u001b[34mruamel.yaml-0.17.4.dist-info\u001b[m\u001b[m\r\n",
      "\u001b[34mruamel.yaml.clib-0.2.2.dist-info\u001b[m\u001b[m\r\n",
      "\u001b[34ms3transfer\u001b[m\u001b[m\r\n",
      "\u001b[34ms3transfer-0.3.6.dist-info\u001b[m\u001b[m\r\n",
      "\u001b[34mscalene\u001b[m\u001b[m\r\n",
      "\u001b[34mscalene-1.3.12.dist-info\u001b[m\u001b[m\r\n",
      "\u001b[34mscikit_learn-0.24.1.dist-info\u001b[m\u001b[m\r\n",
      "\u001b[34mscipy\u001b[m\u001b[m\r\n",
      "\u001b[34mscipy-1.6.2.dist-info\u001b[m\u001b[m\r\n",
      "\u001b[34mseaborn\u001b[m\u001b[m\r\n",
      "\u001b[34mseaborn-0.11.1.dist-info\u001b[m\u001b[m\r\n",
      "\u001b[34msecretstorage\u001b[m\u001b[m\r\n",
      "\u001b[34msend2trash\u001b[m\u001b[m\r\n",
      "\u001b[34msetuptools\u001b[m\u001b[m\r\n",
      "\u001b[34msetuptools-57.0.0.dist-info\u001b[m\u001b[m\r\n",
      "\u001b[34msetuptools_git\u001b[m\u001b[m\r\n",
      "\u001b[34msetuptools_git-1.2.dist-info\u001b[m\u001b[m\r\n",
      "\u001b[34msimdjson\u001b[m\u001b[m\r\n",
      "\u001b[34msix-1.15.0.dist-info\u001b[m\u001b[m\r\n",
      "six.py\r\n",
      "\u001b[34msklearn\u001b[m\u001b[m\r\n",
      "\u001b[34msklearn_pandas\u001b[m\u001b[m\r\n",
      "\u001b[34msklearn_pandas-2.2.0.dist-info\u001b[m\u001b[m\r\n",
      "\u001b[34msmmap\u001b[m\u001b[m\r\n",
      "\u001b[34msmmap-5.0.0.dist-info\u001b[m\u001b[m\r\n",
      "socks.py\r\n",
      "sockshandler.py\r\n",
      "\u001b[34msqlalchemy\u001b[m\u001b[m\r\n",
      "\u001b[34msqlparse\u001b[m\u001b[m\r\n",
      "\u001b[34msqlparse-0.4.2.dist-info\u001b[m\u001b[m\r\n",
      "\u001b[34mstatsmodels\u001b[m\u001b[m\r\n",
      "\u001b[34mstatsmodels-0.12.2.dist-info\u001b[m\u001b[m\r\n",
      "\u001b[34mtabulate-0.8.9.dist-info\u001b[m\u001b[m\r\n",
      "tabulate.py\r\n",
      "\u001b[34mtangled_up_in_unicode\u001b[m\u001b[m\r\n",
      "\u001b[34mtangled_up_in_unicode-0.1.0.dist-info\u001b[m\u001b[m\r\n",
      "\u001b[34mterminado\u001b[m\u001b[m\r\n",
      "\u001b[34mterminado-0.9.4.dist-info\u001b[m\u001b[m\r\n",
      "\u001b[34mtestpath\u001b[m\u001b[m\r\n",
      "\u001b[34mtestpath-0.4.4.dist-info\u001b[m\u001b[m\r\n",
      "\u001b[34mtests\u001b[m\u001b[m\r\n",
      "\u001b[34mthreadpoolctl-2.1.0.dist-info\u001b[m\u001b[m\r\n",
      "threadpoolctl.py\r\n",
      "\u001b[34mthrift\u001b[m\u001b[m\r\n",
      "\u001b[34mthrift-0.13.0-py3.7.egg-info\u001b[m\u001b[m\r\n",
      "\u001b[34mtoml\u001b[m\u001b[m\r\n",
      "\u001b[34mtoml-0.10.2.dist-info\u001b[m\u001b[m\r\n",
      "\u001b[34mtomli\u001b[m\u001b[m\r\n",
      "\u001b[34mtomli-1.2.3.dist-info\u001b[m\u001b[m\r\n",
      "\u001b[34mtornado\u001b[m\u001b[m\r\n",
      "\u001b[34mtornado-6.1.dist-info\u001b[m\u001b[m\r\n",
      "\u001b[34mtqdm\u001b[m\u001b[m\r\n",
      "\u001b[34mtqdm-4.60.0.dist-info\u001b[m\u001b[m\r\n",
      "\u001b[34mtraitlets\u001b[m\u001b[m\r\n",
      "\u001b[34mtraitlets-5.0.5.dist-info\u001b[m\u001b[m\r\n",
      "\u001b[34mtyped_ast\u001b[m\u001b[m\r\n",
      "\u001b[34mtyped_ast-1.5.1.dist-info\u001b[m\u001b[m\r\n",
      "\u001b[34mtyper\u001b[m\u001b[m\r\n",
      "\u001b[34mtyper-0.4.0.dist-info\u001b[m\u001b[m\r\n",
      "\u001b[34mtyping_extensions-4.0.1.dist-info\u001b[m\u001b[m\r\n",
      "typing_extensions.py\r\n",
      "\u001b[34mujson-4.0.2.dist-info\u001b[m\u001b[m\r\n",
      "\u001b[31mujson.cpython-37m-darwin.so\u001b[m\u001b[m\r\n",
      "\u001b[34murllib3\u001b[m\u001b[m\r\n",
      "\u001b[34murllib3-1.26.4.dist-info\u001b[m\u001b[m\r\n",
      "\u001b[34mutils\u001b[m\u001b[m\r\n",
      "\u001b[34mutils-1.0.1.dist-info\u001b[m\u001b[m\r\n",
      "\u001b[34mvisions\u001b[m\u001b[m\r\n",
      "\u001b[34mvisions-0.7.4.dist-info\u001b[m\u001b[m\r\n",
      "\u001b[34mwcwidth\u001b[m\u001b[m\r\n",
      "\u001b[34mwcwidth-0.2.5.dist-info\u001b[m\u001b[m\r\n",
      "\u001b[34mwebargs\u001b[m\u001b[m\r\n",
      "\u001b[34mwebargs-7.0.1.dist-info\u001b[m\u001b[m\r\n",
      "\u001b[34mwebencodings\u001b[m\u001b[m\r\n",
      "\u001b[34mwebencodings-0.5.1.dist-info\u001b[m\u001b[m\r\n",
      "\u001b[34mwebsocket\u001b[m\u001b[m\r\n",
      "\u001b[34mwebsocket_client-0.58.0.dist-info\u001b[m\u001b[m\r\n",
      "\u001b[34mwerkzeug\u001b[m\u001b[m\r\n",
      "\u001b[34mwidgetsnbextension\u001b[m\u001b[m\r\n",
      "\u001b[34mwidgetsnbextension-3.5.1.dist-info\u001b[m\u001b[m\r\n",
      "\u001b[34myaml\u001b[m\u001b[m\r\n",
      "\u001b[34myarg\u001b[m\u001b[m\r\n",
      "\u001b[34myarg-0.1.9.dist-info\u001b[m\u001b[m\r\n",
      "\u001b[34myarl\u001b[m\u001b[m\r\n",
      "\u001b[34myarl-1.6.3.dist-info\u001b[m\u001b[m\r\n",
      "\u001b[34mzipp-3.4.1.dist-info\u001b[m\u001b[m\r\n",
      "zipp.py\r\n",
      "\u001b[34mzmq\u001b[m\u001b[m\r\n"
     ]
    }
   ],
   "source": [
    "!cd ~/.pyenv/versions/3.7.3/lib/python3.7/site-packages && ls"
   ]
  },
  {
   "cell_type": "code",
   "execution_count": 82,
   "metadata": {
    "scrolled": true
   },
   "outputs": [],
   "source": [
    "my_global_python_packages = !cd ~/.pyenv/versions/3.7.3/lib/python3.7/site-packages && ls"
   ]
  },
  {
   "cell_type": "code",
   "execution_count": 73,
   "metadata": {},
   "outputs": [],
   "source": [
    "import pandas as pd\n",
    "my_global_python_packages = pd.Series(my_global_python_packages)"
   ]
  },
  {
   "cell_type": "code",
   "execution_count": 83,
   "metadata": {
    "scrolled": true
   },
   "outputs": [
    {
     "data": {
      "text/plain": [
       "'pandas'"
      ]
     },
     "execution_count": 83,
     "metadata": {},
     "output_type": "execute_result"
    }
   ],
   "source": [
    "my_global_python_packages[303]"
   ]
  },
  {
   "cell_type": "markdown",
   "metadata": {},
   "source": [
    "\n",
    "Becomes problem when you have multiple projects that need different package versions. Each project will be looking at this same list of packages.\n"
   ]
  },
  {
   "cell_type": "markdown",
   "metadata": {},
   "source": [
    "### Solution\n",
    "A **virtual environment** with its own Python interpreter (`lib/python`), pip executable, and `site-packages` directory. Even its own pip.\n",
    "\n",
    "Isolated from the “system” Python shown above. Also isolated from other virtual environments.\n",
    "\n",
    "Also good to share code with someone who might have different packages and versions."
   ]
  },
  {
   "cell_type": "markdown",
   "metadata": {},
   "source": [
    "**Aside: why not docker:**\n",
    "\n",
    "virtualenv only encapsulates Python dependencies. A Docker container encapsulates an entire OS. use docker when large-scale and/or dpeloying to a server."
   ]
  },
  {
   "cell_type": "markdown",
   "metadata": {},
   "source": [
    "## Make an env"
   ]
  },
  {
   "cell_type": "markdown",
   "metadata": {},
   "source": [
    "[Beginners, start with venv.](https://stackoverflow.com/questions/41573587/what-is-the-difference-between-venv-pyvenv-pyenv-virtualenv-virtualenvwrappe). But many people prefer [pipenv](https://medium.com/analytics-vidhya/why-pipenv-over-venv-for-python-projects-a51fb6e4f31e).\n"
   ]
  },
  {
   "cell_type": "code",
   "execution_count": 32,
   "metadata": {},
   "outputs": [],
   "source": [
    "!python3 -m venv my_env"
   ]
  },
  {
   "cell_type": "code",
   "execution_count": 15,
   "metadata": {
    "scrolled": true
   },
   "outputs": [
    {
     "name": "stdout",
     "output_type": "stream",
     "text": [
      "\u001b[34mbin\u001b[m\u001b[m        \u001b[34minclude\u001b[m\u001b[m    \u001b[34mlib\u001b[m\u001b[m        pyvenv.cfg\r\n"
     ]
    }
   ],
   "source": [
    "!cd my_env && ls"
   ]
  },
  {
   "cell_type": "markdown",
   "metadata": {},
   "source": [
    "Env will contain a copy of whatever python interpreter you used to make it. so make it specifically with `python3`."
   ]
  },
  {
   "cell_type": "markdown",
   "metadata": {},
   "source": [
    "creates a folder in the current directory which will contain the Python executable files, and a copy of the pip library which you can use to install other package:"
   ]
  },
  {
   "cell_type": "code",
   "execution_count": null,
   "metadata": {},
   "outputs": [],
   "source": [
    "├── bin\n",
    "│   ├── activate\n",
    "│   ├── activate.csh\n",
    "│   ├── activate.fish\n",
    "│   ├── easy_install\n",
    "│   ├── pip\n",
    "│   ├── pip3\n",
    "│   ├── python -> python3.7\n",
    "│   └── python3.7 -> /Library/Frameworks/Python.framework/Versions/3.5/bin/python3.5\n",
    "├── include\n",
    "├── lib\n",
    "│   └── python3.7\n",
    "│       └── site-packages\n",
    "└── pyvenv.cfg"
   ]
  },
  {
   "cell_type": "markdown",
   "metadata": {},
   "source": [
    "- \"activate\" scripts set up your shell to use the environment’s Python executable and its site-packages by default.\n",
    "- lib: a copy of the Python version. "
   ]
  },
  {
   "cell_type": "markdown",
   "metadata": {},
   "source": [
    "virtualenv --no-site-packages will not include the packages that are installed globally. This can be useful for keeping the package list clean in case it needs to be accessed later. [This is the default behavior for virtualenv 1.7 and later.]"
   ]
  },
  {
   "cell_type": "markdown",
   "metadata": {},
   "source": [
    "Or conda: `!conda create --name example-name python=3.7 --no-default-packages`"
   ]
  },
  {
   "cell_type": "markdown",
   "metadata": {},
   "source": [
    "## Enter/activate env"
   ]
  },
  {
   "cell_type": "markdown",
   "metadata": {},
   "source": [
    "by running an activate script in the virtual environment’s executables directory "
   ]
  },
  {
   "cell_type": "code",
   "execution_count": 19,
   "metadata": {},
   "outputs": [],
   "source": [
    "!source my_env/bin/activate"
   ]
  },
  {
   "cell_type": "markdown",
   "metadata": {},
   "source": [
    "Or conda: `!conda activate example-name`"
   ]
  },
  {
   "cell_type": "markdown",
   "metadata": {},
   "source": [
    "Now prompt has env name:"
   ]
  },
  {
   "cell_type": "markdown",
   "metadata": {},
   "source": [
    "![image](https://user-images.githubusercontent.com/38010821/153217272-690c3c2d-7035-474b-88ee-3ba1238a2d21.png)\n"
   ]
  },
  {
   "cell_type": "markdown",
   "metadata": {},
   "source": [
    "`bin` holds the modules available in our venv:"
   ]
  },
  {
   "cell_type": "code",
   "execution_count": 33,
   "metadata": {
    "scrolled": true
   },
   "outputs": [
    {
     "name": "stdout",
     "output_type": "stream",
     "text": [
      "activate         \u001b[31measy_install\u001b[m\u001b[m     \u001b[31mpip3\u001b[m\u001b[m             \u001b[35mpython3\u001b[m\u001b[m\r\n",
      "activate.csh     \u001b[31measy_install-3.7\u001b[m\u001b[m \u001b[31mpip3.7\u001b[m\u001b[m\r\n",
      "activate.fish    \u001b[31mpip\u001b[m\u001b[m              \u001b[35mpython\u001b[m\u001b[m\r\n"
     ]
    }
   ],
   "source": [
    "!cd my_env/bin && ls"
   ]
  },
  {
   "cell_type": "markdown",
   "metadata": {},
   "source": [
    "`lib` &  `site-packages`: holds dependencies/packages you install in the venv:"
   ]
  },
  {
   "cell_type": "code",
   "execution_count": 34,
   "metadata": {},
   "outputs": [
    {
     "name": "stdout",
     "output_type": "stream",
     "text": [
      "\u001b[34m__pycache__\u001b[m\u001b[m                 \u001b[34mpkg_resources\u001b[m\u001b[m\r\n",
      "easy_install.py             \u001b[34msetuptools\u001b[m\u001b[m\r\n",
      "\u001b[34mpip\u001b[m\u001b[m                         \u001b[34msetuptools-40.8.0.dist-info\u001b[m\u001b[m\r\n",
      "\u001b[34mpip-19.0.3.dist-info\u001b[m\u001b[m\r\n"
     ]
    }
   ],
   "source": [
    "!cd my_env/lib/python3.7/site-packages && ls"
   ]
  },
  {
   "cell_type": "code",
   "execution_count": 35,
   "metadata": {},
   "outputs": [
    {
     "name": "stdout",
     "output_type": "stream",
     "text": [
      "Collecting numpy\n",
      "  Using cached https://files.pythonhosted.org/packages/09/8c/ae037b8643aaa405b666c167f48550c1ce6b7c589fe5540de6d83e5931ca/numpy-1.21.5-cp37-cp37m-macosx_10_9_x86_64.whl\n",
      "Installing collected packages: numpy\n",
      "Successfully installed numpy-1.21.5\n",
      "\u001b[33mYou are using pip version 19.0.3, however version 22.0.3 is available.\n",
      "You should consider upgrading via the 'pip install --upgrade pip' command.\u001b[0m\n"
     ]
    }
   ],
   "source": [
    "!source my_env/bin/activate && pip install numpy"
   ]
  },
  {
   "cell_type": "markdown",
   "metadata": {},
   "source": [
    "Now numpy's there:"
   ]
  },
  {
   "cell_type": "code",
   "execution_count": 36,
   "metadata": {},
   "outputs": [
    {
     "name": "stdout",
     "output_type": "stream",
     "text": [
      "\u001b[34m__pycache__\u001b[m\u001b[m                 \u001b[34mpip-19.0.3.dist-info\u001b[m\u001b[m\r\n",
      "easy_install.py             \u001b[34mpkg_resources\u001b[m\u001b[m\r\n",
      "\u001b[34mnumpy\u001b[m\u001b[m                       \u001b[34msetuptools\u001b[m\u001b[m\r\n",
      "\u001b[34mnumpy-1.21.5.dist-info\u001b[m\u001b[m      \u001b[34msetuptools-40.8.0.dist-info\u001b[m\u001b[m\r\n",
      "\u001b[34mpip\u001b[m\u001b[m\r\n"
     ]
    }
   ],
   "source": [
    "!cd my_env/lib/python3.7/site-packages && ls"
   ]
  },
  {
   "cell_type": "markdown",
   "metadata": {},
   "source": [
    "#### How it works \n",
    "\n",
    "tricks the shell that the only python and pip executables are the ones in the virtual environment\n",
    "\n",
    "When a virtual environment is active (i.e., the virtual environment’s Python interpreter is running), the attributes sys.prefix and sys.exec_prefix point to the base directory of the virtual environment, whereas sys.base_prefix and sys.base_exec_prefix point to the non-virtual environment Python installation which was used to create the virtual environment. If a virtual environment is not active, then sys.prefix is the same as sys.base_prefix and sys.exec_prefix is the same as sys.base_exec_prefix (they all point to a non-virtual environment Python installation).\n",
    "\n",
    "scripts installed into virtual environments have a “shebang” line which points to the virtual environment’s Python interpreter. This means that the script will run with that interpreter regardless of the value of PATH."
   ]
  },
  {
   "cell_type": "markdown",
   "metadata": {},
   "source": [
    "## Exit env"
   ]
  },
  {
   "cell_type": "markdown",
   "metadata": {},
   "source": [
    "Now your prompt will have (example-name) before it"
   ]
  },
  {
   "cell_type": "code",
   "execution_count": null,
   "metadata": {},
   "outputs": [],
   "source": [
    "deactivate\n"
   ]
  },
  {
   "cell_type": "markdown",
   "metadata": {},
   "source": [
    "To delete a virtual environment, just delete its folder."
   ]
  },
  {
   "cell_type": "markdown",
   "metadata": {},
   "source": [
    "more\n",
    "\n",
    "[envs inside jupyter](https://stephen-odaibo.medium.com/docker-containers-python-virtual-environments-virtual-machines-d00aa9b8475)\n",
    "[use cookiecutter](https://www.datacamp.com/community/tutorials/python-developer-set-up) for scaffolding/templating"
   ]
  }
 ],
 "metadata": {
  "kernelspec": {
   "display_name": "Python 3 (ipykernel)",
   "language": "python",
   "name": "python3"
  },
  "language_info": {
   "codemirror_mode": {
    "name": "ipython",
    "version": 3
   },
   "file_extension": ".py",
   "mimetype": "text/x-python",
   "name": "python",
   "nbconvert_exporter": "python",
   "pygments_lexer": "ipython3",
   "version": "3.7.3"
  }
 },
 "nbformat": 4,
 "nbformat_minor": 2
}
