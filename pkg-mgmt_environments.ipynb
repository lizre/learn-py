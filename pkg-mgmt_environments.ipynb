{
 "cells": [
  {
   "cell_type": "markdown",
   "metadata": {},
   "source": [
    "# ⭐ How to install and manage packages and environments. ⭐ "
   ]
  },
  {
   "cell_type": "markdown",
   "metadata": {},
   "source": [
    "### Why do you need to care?  \n",
    "\n",
    "Some code or functions only work on certain versions of Python. So you need to:\n",
    "\n",
    "- test that your code works on multiple versions\n",
    "- and/or keep the version that worked when you made your particular project with your particular requirements\n"
   ]
  },
  {
   "cell_type": "markdown",
   "metadata": {},
   "source": [
    "# Python versions and packages are files"
   ]
  },
  {
   "cell_type": "markdown",
   "metadata": {},
   "source": []
  },
  {
   "cell_type": "code",
   "execution_count": 1,
   "metadata": {},
   "outputs": [
    {
     "name": "stdout",
     "output_type": "stream",
     "text": [
      "Python 3.7.3\r\n"
     ]
    }
   ],
   "source": [
    "# the version the interpreter supports\n",
    "!python --version"
   ]
  },
  {
   "cell_type": "markdown",
   "metadata": {},
   "source": [
    "- A _python version_ is a version of the Python programming language.\n",
    "- A python _interpreter_ is an \"executable file\" that runs the language.\n",
    "- There's a 1:1 relationship.\n",
    "- When you install a version of python language, it also installs an interpreter that supports that version"
   ]
  },
  {
   "cell_type": "code",
   "execution_count": 4,
   "metadata": {
    "scrolled": true
   },
   "outputs": [
    {
     "name": "stdout",
     "output_type": "stream",
     "text": [
      "/Users/lizre/.pyenv/versions/3.7.3/bin/python\r\n"
     ]
    }
   ],
   "source": [
    "# interpreter\n",
    "!which python"
   ]
  },
  {
   "cell_type": "markdown",
   "metadata": {},
   "source": [
    "The interpreter is at that `path`.\n"
   ]
  },
  {
   "cell_type": "code",
   "execution_count": null,
   "metadata": {},
   "outputs": [],
   "source": []
  },
  {
   "cell_type": "markdown",
   "metadata": {},
   "source": [
    "Your python interpreter and packages are just a bunch of files and folders.\n",
    "\n",
    "Recall that the python _interpreter_ is an \"executable file\" that runs the language, and it's at this path:"
   ]
  },
  {
   "cell_type": "code",
   "execution_count": 16,
   "metadata": {
    "scrolled": true
   },
   "outputs": [
    {
     "name": "stdout",
     "output_type": "stream",
     "text": [
      "/Users/lizre/.pyenv/versions/3.7.3/bin/python\r\n"
     ]
    }
   ],
   "source": [
    "!which python"
   ]
  },
  {
   "cell_type": "markdown",
   "metadata": {},
   "source": [
    "`/Users/lizre/.pyenv/versions` contains multiple versions of python/interpreter:\n",
    "    \n",
    "<img width=\"539\" alt=\"image\" src=\"https://user-images.githubusercontent.com/38010821/227318255-14554748-0a27-4db8-911b-c934f8b533fa.png\">\n"
   ]
  },
  {
   "cell_type": "markdown",
   "metadata": {},
   "source": [
    "Inside each version folder is lib, then python 3.7, \n"
   ]
  },
  {
   "cell_type": "code",
   "execution_count": 57,
   "metadata": {},
   "outputs": [
    {
     "name": "stdout",
     "output_type": "stream",
     "text": [
      "\u001b[34mbin\u001b[m\u001b[m     \u001b[34metc\u001b[m\u001b[m     \u001b[34mimages\u001b[m\u001b[m  \u001b[34minclude\u001b[m\u001b[m \u001b[34mlib\u001b[m\u001b[m     \u001b[34mshare\u001b[m\u001b[m\r\n"
     ]
    }
   ],
   "source": [
    "!cd ~/.pyenv/versions/3.7.3 && ls"
   ]
  },
  {
   "cell_type": "code",
   "execution_count": 59,
   "metadata": {},
   "outputs": [
    {
     "name": "stdout",
     "output_type": "stream",
     "text": [
      "\u001b[31mlibpython3.7m.a\u001b[m\u001b[m \u001b[34mpkgconfig\u001b[m\u001b[m       \u001b[34mpython3.7\u001b[m\u001b[m\r\n"
     ]
    }
   ],
   "source": [
    "!cd ~/.pyenv/versions/3.7.3/lib && ls"
   ]
  },
  {
   "cell_type": "markdown",
   "metadata": {},
   "source": [
    "`lib` has the standard library files that are part of the Python installation, including `site-packages`:"
   ]
  },
  {
   "cell_type": "code",
   "execution_count": 71,
   "metadata": {
    "scrolled": true
   },
   "outputs": [
    {
     "data": {
      "text/plain": [
       "['rlcompleter.py',\n",
       " 'runpy.py',\n",
       " 'sched.py',\n",
       " 'secrets.py',\n",
       " 'selectors.py',\n",
       " 'shelve.py',\n",
       " 'shlex.py',\n",
       " 'shutil.py',\n",
       " 'signal.py',\n",
       " 'site-packages']"
      ]
     },
     "execution_count": 71,
     "metadata": {},
     "output_type": "execute_result"
    }
   ],
   "source": [
    "lib = !cd ~/.pyenv/versions/3.7.3/lib/python3.7 && ls\n",
    "lib[140:150]"
   ]
  },
  {
   "cell_type": "markdown",
   "metadata": {},
   "source": [
    "`site-packages` contains third-party packages:"
   ]
  },
  {
   "cell_type": "code",
   "execution_count": 72,
   "metadata": {
    "scrolled": true
   },
   "outputs": [
    {
     "data": {
      "text/plain": [
       "['Babel-2.12.1.dist-info',\n",
       " 'Cython',\n",
       " 'Cython-0.29.23.dist-info',\n",
       " 'Flask-2.0.1.dist-info',\n",
       " 'GitPython-3.1.24.dist-info']"
      ]
     },
     "execution_count": 72,
     "metadata": {},
     "output_type": "execute_result"
    }
   ],
   "source": [
    "site_packages = !cd ~/.pyenv/versions/3.7.3/lib/python3.7/site-packages && ls\n",
    "site_packages[0:5]"
   ]
  },
  {
   "cell_type": "code",
   "execution_count": 36,
   "metadata": {
    "scrolled": true
   },
   "outputs": [],
   "source": [
    "site_packages = !cd ~/.pyenv/versions/3.7.3/lib/python3.7/site-packages && ls"
   ]
  },
  {
   "cell_type": "markdown",
   "metadata": {},
   "source": [
    "So the packages are _inside_ just ONE version of python."
   ]
  },
  {
   "cell_type": "code",
   "execution_count": 43,
   "metadata": {},
   "outputs": [
    {
     "data": {
      "text/plain": [
       "200    filelock-3.9.0.dist-info\n",
       "201                      flake8\n",
       "202      flake8-4.0.1.dist-info\n",
       "203                       flask\n",
       "204                      future\n",
       "dtype: object"
      ]
     },
     "execution_count": 43,
     "metadata": {},
     "output_type": "execute_result"
    }
   ],
   "source": [
    "import pandas as pd \n",
    "my_system_python_packages = pd.Series(my_system_python_packages)\n",
    "my_system_python_packages[200:205]"
   ]
  },
  {
   "cell_type": "code",
   "execution_count": 52,
   "metadata": {},
   "outputs": [
    {
     "data": {
      "text/plain": [
       "'pandas'"
      ]
     },
     "execution_count": 52,
     "metadata": {},
     "output_type": "execute_result"
    }
   ],
   "source": [
    "my_system_python_packages[384]"
   ]
  },
  {
   "cell_type": "markdown",
   "metadata": {},
   "source": [
    "When you `pip install`, it installs the package/dependency in the same place as your interpreter. This is your **system environment.**\n"
   ]
  },
  {
   "cell_type": "markdown",
   "metadata": {},
   "source": [
    "### Use `pip` to install and manage packages"
   ]
  },
  {
   "cell_type": "markdown",
   "metadata": {},
   "source": [
    "([but](https://realpython.com/pipenv-guide/) many [people](https://hackernoon.com/reaching-python-development-nirvana-bb5692adf30c) prefer [pipenv](https://medium.com/analytics-vidhya/why-pipenv-over-venv-for-python-projects-a51fb6e4f31e)).\n"
   ]
  },
  {
   "cell_type": "code",
   "execution_count": 13,
   "metadata": {
    "scrolled": true
   },
   "outputs": [
    {
     "name": "stdout",
     "output_type": "stream",
     "text": [
      "/Users/lizre/.pyenv/versions/3.7.3/bin/pip\r\n"
     ]
    }
   ],
   "source": [
    "!which pip"
   ]
  },
  {
   "cell_type": "markdown",
   "metadata": {},
   "source": [
    "Starts by searching [PyPI](https://pypi.org/): py package index"
   ]
  },
  {
   "cell_type": "code",
   "execution_count": null,
   "metadata": {},
   "outputs": [],
   "source": [
    "!pip install pandas # Will also get dependencies needed for pandas\n",
    "!pip list # Should now include pandas"
   ]
  },
  {
   "cell_type": "markdown",
   "metadata": {},
   "source": [
    "dependencies and dependents:"
   ]
  },
  {
   "cell_type": "code",
   "execution_count": 86,
   "metadata": {},
   "outputs": [],
   "source": [
    "pandas_deps = !pip show pandas "
   ]
  },
  {
   "cell_type": "code",
   "execution_count": 89,
   "metadata": {},
   "outputs": [
    {
     "data": {
      "text/plain": [
       "['Name: pandas',\n",
       " 'Version: 1.3.2',\n",
       " 'Summary: Powerful data structures for data analysis, time series, and statistics',\n",
       " 'Home-page: https://pandas.pydata.org',\n",
       " 'Author: The Pandas Development Team',\n",
       " 'Author-email: pandas-dev@python.org',\n",
       " 'License: BSD-3-Clause',\n",
       " 'Location: /Users/lizre/.pyenv/versions/3.7.3/lib/python3.7/site-packages',\n",
       " 'Requires: numpy, python-dateutil, pytz',\n",
       " 'Required-by: cmdstanpy, mlflow, mlxtend, octopy, pandas-profiling, phik, prophet, researchpy, seaborn, sklearn-pandas, statsmodels, visions']"
      ]
     },
     "execution_count": 89,
     "metadata": {},
     "output_type": "execute_result"
    }
   ],
   "source": [
    "pandas_deps"
   ]
  },
  {
   "cell_type": "markdown",
   "metadata": {},
   "source": [
    "So each Python project on your computer has all their dependencies in the same place."
   ]
  },
  {
   "cell_type": "markdown",
   "metadata": {},
   "source": [
    "\n",
    "This is a problem when you have multiple projects that need different package versions. Each project will be looking at this same list of packages. Or if you share code with someone, the code will look in their system environment, which might differ from where the code was developed!\n",
    "\n"
   ]
  },
  {
   "cell_type": "markdown",
   "metadata": {},
   "source": [
    "# Solutions\n",
    "\n",
    "**requirements.txt**\n",
    "\n",
    "**$PATH**\n",
    "\n",
    "**virtual environment**: a separate version of this for each project. Each project has a folder with its own Python interpreter (`lib/python`), pip executable, and `site-packages`. \n",
    "\n",
    "**not docker:**\n",
    "<br>venv is only for Python dependencies. Docker is for an entire OS. Use when large-scale and/or dpeloying to a server."
   ]
  },
  {
   "cell_type": "code",
   "execution_count": null,
   "metadata": {},
   "outputs": [],
   "source": []
  },
  {
   "cell_type": "markdown",
   "metadata": {},
   "source": [
    "## Manage versions by managing the `$PATH` to executable files"
   ]
  },
  {
   "cell_type": "markdown",
   "metadata": {},
   "source": [
    "### `PATH` has directories of executable files\n",
    "- tell our operating system where to look for the executable files associated with commands.\n",
    "- When you run a `python` command, your OS searches a list of directories to find an executable file with the name `python`. \n",
    "\n",
    "The list of directories is in an environment variable called PATH:"
   ]
  },
  {
   "cell_type": "code",
   "execution_count": 3,
   "metadata": {
    "scrolled": false
   },
   "outputs": [
    {
     "name": "stdout",
     "output_type": "stream",
     "text": [
      "/Users/lizre/.pyenv/versions/3.7.3/bin:/usr/local/Cellar/pyenv/2.3.15/libexec:/usr/local/Cellar/pyenv/2.3.15/plugins/python-build/bin:/Library/Frameworks/Python.framework/Versions/3.11/bin:/usr/local/Cellar/pyenv-virtualenv/1.2.1/shims:/Users/lizre/.pyenv/shims:/Users/lizre/.pyenv/bin:/usr/local/bin:/System/Cryptexes/App/usr/bin:/usr/bin:/bin:/usr/sbin:/sbin:/usr/local/go/bin:/usr/local/share/dotnet:/opt/X11/bin:~/.dotnet/tools\r\n"
     ]
    }
   ],
   "source": [
    "!echo $PATH"
   ]
  },
  {
   "cell_type": "markdown",
   "metadata": {},
   "source": [
    "Each directory is separated by `:`.\n",
    "- /Users/lizre/.pyenv/versions/3.7.3/bin <-- `!which python` returned `/Users/lizre/.pyenv/versions/3.7.3/bin/python`. **so our python executable is stored in this bin!!**\n",
    "- /Users/lizre/.pyenv/shims:/Users/lizre/.pyenv/bin <-- (shims are like helpers for executables)\n",
    "- /usr/local/bin\n",
    "- /usr/bin\n",
    "- /bin\n",
    "\n"
   ]
  },
  {
   "cell_type": "markdown",
   "metadata": {},
   "source": [
    "When you run `ls`, your OS searches a list of directories to find an executable file with the name `ls`:"
   ]
  },
  {
   "cell_type": "code",
   "execution_count": 17,
   "metadata": {
    "scrolled": true
   },
   "outputs": [
    {
     "name": "stdout",
     "output_type": "stream",
     "text": [
      "HumanEval.jsonl            \u001b[34mdo-ds\u001b[m\u001b[m\r\n",
      "PXL_20230321_022922824.jpg \u001b[34mfun-pix\u001b[m\u001b[m\r\n",
      "PXL_20230321_023018447.jpg \u001b[34mharnesslib\u001b[m\u001b[m\r\n",
      "PXL_20230321_023052460.jpg \u001b[34mlearn-py\u001b[m\u001b[m\r\n",
      "PXL_20230321_023107084.jpg secrets.zip\r\n"
     ]
    }
   ],
   "source": [
    "! cd .. ; ls"
   ]
  },
  {
   "cell_type": "markdown",
   "metadata": {},
   "source": [
    "Without `PATH` variable, you'd have to put the full directory of the `ls` command:"
   ]
  },
  {
   "cell_type": "code",
   "execution_count": 19,
   "metadata": {},
   "outputs": [
    {
     "name": "stdout",
     "output_type": "stream",
     "text": [
      "HumanEval.jsonl            \u001b[34mdo-ds\u001b[m\u001b[m\r\n",
      "PXL_20230321_022922824.jpg \u001b[34mfun-pix\u001b[m\u001b[m\r\n",
      "PXL_20230321_023018447.jpg \u001b[34mharnesslib\u001b[m\u001b[m\r\n",
      "PXL_20230321_023052460.jpg \u001b[34mlearn-py\u001b[m\u001b[m\r\n",
      "PXL_20230321_023107084.jpg secrets.zip\r\n"
     ]
    }
   ],
   "source": [
    "! cd .. ; /bin/ls"
   ]
  },
  {
   "cell_type": "code",
   "execution_count": null,
   "metadata": {},
   "outputs": [],
   "source": [
    "Why more than one directory?\n",
    "- to have multiple versions of a command installed on your system. \n"
   ]
  },
  {
   "cell_type": "markdown",
   "metadata": {},
   "source": [
    "### The `$PATH` directories are sometimes in `/bin`. \n",
    "- `/bin` is not like a garbage bin, it means `binary`. \n",
    "- It's a standard directory in mac, for essential executable files "
   ]
  },
  {
   "cell_type": "code",
   "execution_count": 8,
   "metadata": {
    "scrolled": true
   },
   "outputs": [
    {
     "name": "stdout",
     "output_type": "stream",
     "text": [
      "\u001b[31m[\u001b[m\u001b[m         \u001b[31mcsh\u001b[m\u001b[m       \u001b[31mecho\u001b[m\u001b[m      \u001b[31mksh\u001b[m\u001b[m       \u001b[31mmkdir\u001b[m\u001b[m     \u001b[31mrealpath\u001b[m\u001b[m  \u001b[31mstty\u001b[m\u001b[m      \u001b[31mwait4path\u001b[m\u001b[m\r\n",
      "\u001b[31mbash\u001b[m\u001b[m      \u001b[31mdash\u001b[m\u001b[m      \u001b[31med\u001b[m\u001b[m        \u001b[31mlaunchctl\u001b[m\u001b[m \u001b[31mmv\u001b[m\u001b[m        \u001b[31mrm\u001b[m\u001b[m        \u001b[31msync\u001b[m\u001b[m      \u001b[31mzsh\u001b[m\u001b[m\r\n",
      "\u001b[31mcat\u001b[m\u001b[m       \u001b[31mdate\u001b[m\u001b[m      \u001b[31mexpr\u001b[m\u001b[m      \u001b[31mlink\u001b[m\u001b[m      \u001b[31mpax\u001b[m\u001b[m       \u001b[31mrmdir\u001b[m\u001b[m     \u001b[31mtcsh\u001b[m\u001b[m\r\n",
      "\u001b[31mchmod\u001b[m\u001b[m     \u001b[31mdd\u001b[m\u001b[m        \u001b[31mhostname\u001b[m\u001b[m  \u001b[31mln\u001b[m\u001b[m        \u001b[30m\u001b[41mps\u001b[m\u001b[m        \u001b[31msh\u001b[m\u001b[m        \u001b[31mtest\u001b[m\u001b[m\r\n",
      "\u001b[31mcp\u001b[m\u001b[m        \u001b[31mdf\u001b[m\u001b[m        \u001b[31mkill\u001b[m\u001b[m      \u001b[31mls\u001b[m\u001b[m        \u001b[31mpwd\u001b[m\u001b[m       \u001b[31msleep\u001b[m\u001b[m     \u001b[31munlink\u001b[m\u001b[m\r\n"
     ]
    }
   ],
   "source": [
    "!ls /bin"
   ]
  },
  {
   "cell_type": "markdown",
   "metadata": {},
   "source": [
    "in Finder, they look like this:\n",
    "\n",
    "<img width=\"489\" alt=\"image\" src=\"https://user-images.githubusercontent.com/38010821/227289808-041439e0-171a-4262-bb3e-28b299a95bb0.png\">\n",
    "\n",
    "\n",
    "The `exec` means they're executable!"
   ]
  },
  {
   "cell_type": "markdown",
   "metadata": {},
   "source": [
    "The `usr/bin`is for user-installed ones."
   ]
  },
  {
   "cell_type": "code",
   "execution_count": 94,
   "metadata": {},
   "outputs": [
    {
     "data": {
      "text/plain": [
       "['htmltree5.30',\n",
       " 'ibtool',\n",
       " 'iconutil',\n",
       " 'iconv',\n",
       " 'ictool',\n",
       " 'id',\n",
       " 'idlj',\n",
       " 'imptrace',\n",
       " 'indent',\n",
       " 'infocmp',\n",
       " 'infotocap',\n",
       " 'install',\n",
       " 'install_name_tool',\n",
       " 'instmodsh',\n",
       " 'instmodsh5.30']"
      ]
     },
     "execution_count": 94,
     "metadata": {},
     "output_type": "execute_result"
    }
   ],
   "source": [
    "bin = !ls /usr/bin\n",
    "bin[300:315]"
   ]
  },
  {
   "cell_type": "markdown",
   "metadata": {},
   "source": [
    "### An _environment variable_ like `PATH` is a variable that's available to a process. \n",
    "\n",
    "An environment is not any kind of physical entity--it's just a set of settings (like system time, or user preferences, or language-specific settings like version) and variables.\n",
    "\n",
    "- like when you set aaa=2 in a jupyter notebook but then you dont have aaa in another notebook or another session. That notebook--session is an _environment_.\n",
    "\n",
    "You access them with `$`."
   ]
  },
  {
   "cell_type": "code",
   "execution_count": 21,
   "metadata": {},
   "outputs": [
    {
     "name": "stdout",
     "output_type": "stream",
     "text": [
      "/bin/bash: /Users/lizre/.pyenv/versions/3.7.3/bin:/usr/local/Cellar/pyenv/2.3.15/libexec:/usr/local/Cellar/pyenv/2.3.15/plugins/python-build/bin:/Library/Frameworks/Python.framework/Versions/3.11/bin:/usr/local/Cellar/pyenv-virtualenv/1.2.1/shims:/Users/lizre/.pyenv/shims:/Users/lizre/.pyenv/bin:/usr/local/bin:/System/Cryptexes/App/usr/bin:/usr/bin:/bin:/usr/sbin:/sbin:/usr/local/go/bin:/usr/local/share/dotnet:/opt/X11/bin:~/.dotnet/tools: No such file or directory\r\n"
     ]
    }
   ],
   "source": [
    "!$PATH"
   ]
  },
  {
   "cell_type": "markdown",
   "metadata": {},
   "source": [
    "### Set environment variables, like `$PATH`, in zshrc or bashrc _configuration files_"
   ]
  },
  {
   "cell_type": "markdown",
   "metadata": {},
   "source": [
    "`bash` and `zsh` are `shell`s: command-line interfaces.\n",
    "- they have differences in syntax and features (eg command completion)\n",
    "\n",
    "Configure these `shell`s in their \"rc\" (\"run commands\") files: `~/.bashrc` and  `~/.zshrc`\n",
    "- its  called a \"run command\", not \"configuration\", because it has commands that are executed by the shell when it starts up\n",
    "- eg commands that set environment variables\n",
    "- eg, when `bash` starts up, it runs `~/.bashrc`"
   ]
  },
  {
   "cell_type": "code",
   "execution_count": 74,
   "metadata": {
    "scrolled": true
   },
   "outputs": [
    {
     "name": "stdout",
     "output_type": "stream",
     "text": [
      "export PATH=\"/opt/homebrew/opt/node@16/bin:$PATH\""
     ]
    }
   ],
   "source": [
    "!cat ~/.zshrc"
   ]
  },
  {
   "cell_type": "markdown",
   "metadata": {},
   "source": [
    "`~` means user's home directory (`/Users/lizre`), so identical to: "
   ]
  },
  {
   "cell_type": "code",
   "execution_count": 77,
   "metadata": {},
   "outputs": [
    {
     "name": "stdout",
     "output_type": "stream",
     "text": [
      "export PATH=\"/opt/homebrew/opt/node@16/bin:$PATH\""
     ]
    }
   ],
   "source": [
    "!cat /Users/lizre/.zshrc"
   ]
  },
  {
   "cell_type": "markdown",
   "metadata": {},
   "source": [
    "So when zshrc starts up, it sets `$PATH` to that path.\n",
    "\n",
    "you can edit it in text editor, or add to it with something like \n",
    "<br>`echo 'export PATH=\"/opt/homebrew/opt/node@16/bin:$PATH\"' >> ~/.zshrc`"
   ]
  },
  {
   "cell_type": "markdown",
   "metadata": {},
   "source": [
    "But that path doesn't have `homebrew`:"
   ]
  },
  {
   "cell_type": "code",
   "execution_count": 75,
   "metadata": {},
   "outputs": [
    {
     "name": "stdout",
     "output_type": "stream",
     "text": [
      "\u001b[34mX11\u001b[m\u001b[m\r\n"
     ]
    }
   ],
   "source": [
    "! cd /opt && ls"
   ]
  },
  {
   "cell_type": "markdown",
   "metadata": {},
   "source": [
    "i did find `/usr/local/opt/homebrew/opt/node@16/bin`:, but not the `:$PATH` part:"
   ]
  },
  {
   "cell_type": "code",
   "execution_count": 86,
   "metadata": {},
   "outputs": [
    {
     "name": "stdout",
     "output_type": "stream",
     "text": [
      "/bin/bash: line 0: cd: /usr/local/opt/homebrew/opt/node@16/bin: No such file or directory\r\n"
     ]
    }
   ],
   "source": [
    "! cd /usr/local/opt/homebrew/opt/node@16/bin && ls"
   ]
  },
  {
   "cell_type": "markdown",
   "metadata": {},
   "source": [
    "`/usr` is \"Unix System Resources\", a standard directory for system software, libraries, and documentation"
   ]
  },
  {
   "cell_type": "markdown",
   "metadata": {},
   "source": [
    "### pyenv lets you switch between versions of Python by changing your PATH.\n",
    "\n",
    "[here](https://hackernoon.com/reaching-python-development-nirvana-bb5692adf30c), [here](https://realpython.com/intro-to-pyenv/), [here](https://github.com/pyenv/pyenv)."
   ]
  },
  {
   "cell_type": "markdown",
   "metadata": {},
   "source": []
  },
  {
   "cell_type": "code",
   "execution_count": null,
   "metadata": {},
   "outputs": [],
   "source": []
  },
  {
   "cell_type": "code",
   "execution_count": null,
   "metadata": {},
   "outputs": [],
   "source": [
    "https://www.datacamp.com/tutorial/python-developer-set-up"
   ]
  },
  {
   "cell_type": "code",
   "execution_count": null,
   "metadata": {},
   "outputs": [],
   "source": []
  },
  {
   "cell_type": "markdown",
   "metadata": {},
   "source": []
  },
  {
   "cell_type": "markdown",
   "metadata": {},
   "source": [
    "## Make an env"
   ]
  },
  {
   "cell_type": "markdown",
   "metadata": {},
   "source": [
    "[Beginners should start with venv](https://stackoverflow.com/questions/41573587/what-is-the-difference-between-venv-pyvenv-pyenv-virtualenv-virtualenvwrappe) (but many people prefer [pipenv](https://medium.com/analytics-vidhya/why-pipenv-over-venv-for-python-projects-a51fb6e4f31e)).\n"
   ]
  },
  {
   "cell_type": "code",
   "execution_count": 32,
   "metadata": {},
   "outputs": [],
   "source": [
    "!python3 -m venv my_env"
   ]
  },
  {
   "cell_type": "markdown",
   "metadata": {},
   "source": [
    "`my_env` will contain a copy of whatever python interpreter you used to make it. so make it specifically with `python3`."
   ]
  },
  {
   "cell_type": "code",
   "execution_count": null,
   "metadata": {},
   "outputs": [],
   "source": [
    "You could also name it .venv.\n",
    "\n",
    "Avoiding name conflicts: The .venv convention helps to avoid name conflicts with other directories or files that might have the same name as your virtual environment.\n",
    "\n",
    "Easy to spot: The leading dot in .venv makes it easy to spot and recognize that it is a virtual environment directory.\n",
    "\n",
    "Ignoring in version control: Many version control systems have a convention of ignoring directories or files that start with a dot, so using .venv makes it easy to ignore your virtual environment directory in version control.\n",
    "    \n",
    "    \n",
    "    \n",
    "    \n",
    "    "
   ]
  },
  {
   "cell_type": "markdown",
   "metadata": {},
   "source": [
    "### Create requirements.txt to record your packages/dependencies\n",
    "\n",
    "In terminal:"
   ]
  },
  {
   "cell_type": "code",
   "execution_count": 8,
   "metadata": {},
   "outputs": [
    {
     "name": "stdout",
     "output_type": "stream",
     "text": [
      "INFO: Successfully saved requirements file in /Users/lizre/Downloads/learn-py/requirements.txt\r\n"
     ]
    }
   ],
   "source": [
    "!pipreqs --force"
   ]
  },
  {
   "cell_type": "markdown",
   "metadata": {},
   "source": [
    "- You'll see requirements.txt appear in src. It will not exactly match everything you `import` because pipreqs only includes ones not in standard library.\n",
    "- Can also use `pip freeze > requirements.txt` but it is [harmful because it includes too many things.](https://medium.com/@tomagee/pip-freeze-requirements-txt-considered-harmful-f0bce66cf895); also [pypi says not to use pip freeze](https://pypi.org/project/pipreqs/).\n",
    "\n"
   ]
  },
  {
   "cell_type": "code",
   "execution_count": 10,
   "metadata": {},
   "outputs": [
    {
     "name": "stdout",
     "output_type": "stream",
     "text": [
      "pandas==1.3.2\r\n"
     ]
    }
   ],
   "source": [
    "!cat requirements.txt"
   ]
  },
  {
   "cell_type": "markdown",
   "metadata": {},
   "source": [
    "To use:"
   ]
  },
  {
   "cell_type": "code",
   "execution_count": 12,
   "metadata": {
    "scrolled": true
   },
   "outputs": [
    {
     "name": "stdout",
     "output_type": "stream",
     "text": [
      "Requirement already satisfied: pandas==1.3.2 in /Users/lizre/.pyenv/versions/3.7.3/lib/python3.7/site-packages (from -r requirements.txt (line 1)) (1.3.2)\r\n",
      "Requirement already satisfied: numpy>=1.17.3 in /Users/lizre/.pyenv/versions/3.7.3/lib/python3.7/site-packages (from pandas==1.3.2->-r requirements.txt (line 1)) (1.19.5)\r\n",
      "Requirement already satisfied: python-dateutil>=2.7.3 in /Users/lizre/.pyenv/versions/3.7.3/lib/python3.7/site-packages (from pandas==1.3.2->-r requirements.txt (line 1)) (2.8.2)\r\n",
      "Requirement already satisfied: pytz>=2017.3 in /Users/lizre/.pyenv/versions/3.7.3/lib/python3.7/site-packages (from pandas==1.3.2->-r requirements.txt (line 1)) (2021.1)\r\n",
      "Requirement already satisfied: six>=1.5 in /Users/lizre/.pyenv/versions/3.7.3/lib/python3.7/site-packages (from python-dateutil>=2.7.3->pandas==1.3.2->-r requirements.txt (line 1)) (1.15.0)\r\n"
     ]
    }
   ],
   "source": [
    "!pip install -r requirements.txt"
   ]
  },
  {
   "cell_type": "code",
   "execution_count": 15,
   "metadata": {
    "scrolled": true
   },
   "outputs": [
    {
     "name": "stdout",
     "output_type": "stream",
     "text": [
      "\u001b[34mbin\u001b[m\u001b[m        \u001b[34minclude\u001b[m\u001b[m    \u001b[34mlib\u001b[m\u001b[m        pyvenv.cfg\r\n"
     ]
    }
   ],
   "source": [
    "!cd my_env && ls"
   ]
  },
  {
   "cell_type": "markdown",
   "metadata": {},
   "source": [
    "Creates a folder called `my_env`, with Python, pip and `site-packages`:"
   ]
  },
  {
   "cell_type": "code",
   "execution_count": null,
   "metadata": {},
   "outputs": [],
   "source": [
    "├── bin\n",
    "│   ├── activate\n",
    "│   ├── activate.csh\n",
    "│   ├── activate.fish\n",
    "│   ├── easy_install\n",
    "│   ├── pip\n",
    "│   ├── pip3\n",
    "│   ├── python \n",
    "│   └── python3.7\n",
    "├── include\n",
    "├── lib\n",
    "│   └── python3.7\n",
    "│       └── site-packages\n",
    "└── pyvenv.cfg"
   ]
  },
  {
   "cell_type": "markdown",
   "metadata": {},
   "source": [
    "lib: a copy of Python."
   ]
  },
  {
   "cell_type": "markdown",
   "metadata": {},
   "source": [
    "## Enter/activate env"
   ]
  },
  {
   "cell_type": "markdown",
   "metadata": {},
   "source": [
    "`activate` scripts tell your shell to use the venv’s Python executable and its `site-packages`, instead of the system ones.\n",
    "\n",
    "so just run `activate`:"
   ]
  },
  {
   "cell_type": "code",
   "execution_count": 19,
   "metadata": {},
   "outputs": [],
   "source": [
    "!source my_env/bin/activate "
   ]
  },
  {
   "cell_type": "markdown",
   "metadata": {},
   "source": [
    "### What activating does"
   ]
  },
  {
   "cell_type": "markdown",
   "metadata": {},
   "source": [
    "Now prompt has env name:"
   ]
  },
  {
   "cell_type": "markdown",
   "metadata": {},
   "source": [
    "![image](https://user-images.githubusercontent.com/38010821/153217272-690c3c2d-7035-474b-88ee-3ba1238a2d21.png)\n"
   ]
  },
  {
   "cell_type": "markdown",
   "metadata": {},
   "source": [
    "And now, instead of looking for Python in `/Users/lizre/.pyenv/versions/3.7.3/bin/python`, it's looking in `my_env`:"
   ]
  },
  {
   "cell_type": "code",
   "execution_count": 92,
   "metadata": {},
   "outputs": [
    {
     "name": "stdout",
     "output_type": "stream",
     "text": [
      "/Users/lizre/Downloads/learn-py/my_env/bin/python\r\n"
     ]
    }
   ],
   "source": [
    "!source my_env/bin/activate && which python"
   ]
  },
  {
   "cell_type": "markdown",
   "metadata": {},
   "source": [
    "And `my_env` is at the beginning of PATH, meaning the venv is the first directory used:"
   ]
  },
  {
   "cell_type": "code",
   "execution_count": 98,
   "metadata": {},
   "outputs": [
    {
     "name": "stdout",
     "output_type": "stream",
     "text": [
      "/Users/lizre/Downloads/learn-py/my_env/bin:/Users/lizre/.pyenv/versions/3.7.3/bin:/usr/local/Cellar/pyenv/2.0.6/libexec:/usr/local/Cellar/pyenv/2.0.6/plugins/python-build/bin:/Users/lizre/.pyenv/shims:/Users/lizre/.pyenv/bin:/usr/local/bin:/usr/bin:/bin:/usr/sbin:/sbin:/opt/X11/bin\r\n"
     ]
    }
   ],
   "source": [
    "!source my_env/bin/activate && echo $PATH"
   ]
  },
  {
   "cell_type": "markdown",
   "metadata": {},
   "source": [
    "Whereas outside the venv, `my_env` is not in PATH at all:"
   ]
  },
  {
   "cell_type": "code",
   "execution_count": 101,
   "metadata": {
    "scrolled": true
   },
   "outputs": [
    {
     "name": "stdout",
     "output_type": "stream",
     "text": [
      "/Users/lizre/.pyenv/versions/3.7.3/bin:/usr/local/Cellar/pyenv/2.0.6/libexec:/usr/local/Cellar/pyenv/2.0.6/plugins/python-build/bin:/Users/lizre/.pyenv/shims:/Users/lizre/.pyenv/bin:/usr/local/bin:/usr/bin:/bin:/usr/sbin:/sbin:/opt/X11/bin\r\n"
     ]
    }
   ],
   "source": [
    "!echo $PATH"
   ]
  },
  {
   "cell_type": "markdown",
   "metadata": {},
   "source": [
    "### Install packages in the venv"
   ]
  },
  {
   "cell_type": "markdown",
   "metadata": {},
   "source": [
    "`lib` &  `site-packages`: holds dependencies/packages you install in the venv:"
   ]
  },
  {
   "cell_type": "code",
   "execution_count": 34,
   "metadata": {},
   "outputs": [
    {
     "name": "stdout",
     "output_type": "stream",
     "text": [
      "\u001b[34m__pycache__\u001b[m\u001b[m                 \u001b[34mpkg_resources\u001b[m\u001b[m\r\n",
      "easy_install.py             \u001b[34msetuptools\u001b[m\u001b[m\r\n",
      "\u001b[34mpip\u001b[m\u001b[m                         \u001b[34msetuptools-40.8.0.dist-info\u001b[m\u001b[m\r\n",
      "\u001b[34mpip-19.0.3.dist-info\u001b[m\u001b[m\r\n"
     ]
    }
   ],
   "source": [
    "!cd my_env/lib/python3.7/site-packages && ls"
   ]
  },
  {
   "cell_type": "code",
   "execution_count": 35,
   "metadata": {},
   "outputs": [
    {
     "name": "stdout",
     "output_type": "stream",
     "text": [
      "Collecting numpy\n",
      "  Using cached https://files.pythonhosted.org/packages/09/8c/ae037b8643aaa405b666c167f48550c1ce6b7c589fe5540de6d83e5931ca/numpy-1.21.5-cp37-cp37m-macosx_10_9_x86_64.whl\n",
      "Installing collected packages: numpy\n",
      "Successfully installed numpy-1.21.5\n",
      "\u001b[33mYou are using pip version 19.0.3, however version 22.0.3 is available.\n",
      "You should consider upgrading via the 'pip install --upgrade pip' command.\u001b[0m\n"
     ]
    }
   ],
   "source": [
    "!source my_env/bin/activate && pip install numpy"
   ]
  },
  {
   "cell_type": "markdown",
   "metadata": {},
   "source": [
    "Now numpy's there:"
   ]
  },
  {
   "cell_type": "code",
   "execution_count": 36,
   "metadata": {},
   "outputs": [
    {
     "name": "stdout",
     "output_type": "stream",
     "text": [
      "\u001b[34m__pycache__\u001b[m\u001b[m                 \u001b[34mpip-19.0.3.dist-info\u001b[m\u001b[m\r\n",
      "easy_install.py             \u001b[34mpkg_resources\u001b[m\u001b[m\r\n",
      "\u001b[34mnumpy\u001b[m\u001b[m                       \u001b[34msetuptools\u001b[m\u001b[m\r\n",
      "\u001b[34mnumpy-1.21.5.dist-info\u001b[m\u001b[m      \u001b[34msetuptools-40.8.0.dist-info\u001b[m\u001b[m\r\n",
      "\u001b[34mpip\u001b[m\u001b[m\r\n"
     ]
    }
   ],
   "source": [
    "!cd my_env/lib/python3.7/site-packages && ls"
   ]
  },
  {
   "cell_type": "markdown",
   "metadata": {},
   "source": [
    "## Exit env"
   ]
  },
  {
   "cell_type": "code",
   "execution_count": null,
   "metadata": {},
   "outputs": [],
   "source": [
    "!deactivate"
   ]
  },
  {
   "cell_type": "markdown",
   "metadata": {},
   "source": [
    "Because a venv is just a folder, to delete one, just delete its folder."
   ]
  },
  {
   "cell_type": "markdown",
   "metadata": {},
   "source": [
    "# TODO\n",
    "### [envs inside jupyter](https://stephen-odaibo.medium.com/docker-containers-python-virtual-environments-virtual-machines-d00aa9b8475)\n",
    "- .env doesn't impact your current bash environment, just your python environment after calling load_dotenv()\n",
    "\n",
    "\n",
    "\n",
    "### in codespaces\n",
    "https://code.visualstudio.com/docs/python/environments\n",
    "\n",
    "### [use cookiecutter](https://www.datacamp.com/community/tutorials/python-developer-set-up) for scaffolding/templating"
   ]
  }
 ],
 "metadata": {
  "kernelspec": {
   "display_name": "Python 3 (ipykernel)",
   "language": "python",
   "name": "python3"
  },
  "language_info": {
   "codemirror_mode": {
    "name": "ipython",
    "version": 3
   },
   "file_extension": ".py",
   "mimetype": "text/x-python",
   "name": "python",
   "nbconvert_exporter": "python",
   "pygments_lexer": "ipython3",
   "version": "3.7.3"
  }
 },
 "nbformat": 4,
 "nbformat_minor": 2
}
