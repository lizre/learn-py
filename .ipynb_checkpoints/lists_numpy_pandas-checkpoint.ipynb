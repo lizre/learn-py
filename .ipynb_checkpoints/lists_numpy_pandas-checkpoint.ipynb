{
 "cells": [
  {
   "cell_type": "markdown",
   "metadata": {},
   "source": [
    "## Extend makes same list, append makes sub-list\n",
    "\n"
   ]
  },
  {
   "cell_type": "code",
   "execution_count": 21,
   "metadata": {},
   "outputs": [
    {
     "name": "stdout",
     "output_type": "stream",
     "text": [
      "[2, 3, 5, 11, 13]\n"
     ]
    }
   ],
   "source": [
    "primes = [2,3,5]\n",
    "teen_primes=[11,13]\n",
    "primes.extend(teen_primes) # extend keeps it in same overall list\n",
    "print(primes)"
   ]
  },
  {
   "cell_type": "code",
   "execution_count": 22,
   "metadata": {},
   "outputs": [
    {
     "name": "stdout",
     "output_type": "stream",
     "text": [
      "[2, 3, 5, 11, 13, [11, 13]]\n"
     ]
    }
   ],
   "source": [
    "primes.append(teen_primes) # append adds appended list as sub-list\n",
    "print(primes)"
   ]
  },
  {
   "cell_type": "code",
   "execution_count": 24,
   "metadata": {},
   "outputs": [
    {
     "name": "stdout",
     "output_type": "stream",
     "text": [
      "[]\n"
     ]
    }
   ],
   "source": [
    "empty_list=[] # create an empty list\n",
    "print(empty_list)"
   ]
  },
  {
   "cell_type": "markdown",
   "metadata": {},
   "source": [
    "## List position of a value"
   ]
  },
  {
   "cell_type": "code",
   "execution_count": 39,
   "metadata": {},
   "outputs": [
    {
     "data": {
      "text/plain": [
       "1"
      ]
     },
     "execution_count": 39,
     "metadata": {},
     "output_type": "execute_result"
    }
   ],
   "source": [
    "primes.index(3)"
   ]
  },
  {
   "cell_type": "markdown",
   "metadata": {},
   "source": [
    "# numpy uses arrays, which are better than lists\n",
    "<br>can't do calculations on lists\n",
    "<br>arrays contain values of a single type\n",
    "<br>Lists are flexibly typed (can do [True, \"2\", 3.0, 4]). Flexible but slow. If ur elements are all same type, faster to do a fixed-type array\n",
    "<br>https://jakevdp.github.io/PythonDataScienceHandbook/02.01-understanding-data-types.html\n",
    "\n",
    "[numpy cheatsheet](https://s3.amazonaws.com/dq-blog-files/numpy-cheat-sheet.pdf)\n",
    "\n",
    "https://jakevdp.github.io/PythonDataScienceHandbook/02.02-the-basics-of-numpy-arrays.html"
   ]
  },
  {
   "cell_type": "markdown",
   "metadata": {},
   "source": [
    "# pandas\n",
    "https://jakevdp.github.io/PythonDataScienceHandbook/03.01-introducing-pandas-objects.html\n",
    "https://learn.datacamp.com/courses/data-manipulation-with-pandas \n",
    "\n",
    "<br>Built on top of numpy\n",
    "<br>columns are Series and dataframes are collections of Series\n",
    "<br>Dataframes can be thought of either as a generalization of a NumPy array, or as a specialization of a Python dictionary.\n",
    "\n",
    "<br>NumPy arrays use integer indices; pandas Series allows labels!\n",
    "<br>Numpy: titanic[2]\n",
    "<br>Pandas: titanic.Age or titanic.['Age']\n",
    "\n",
    "<br>This Index object is an interesting structure in itself, and it can be thought of either as an immutable array or as an ordered set \n",
    "\n"
   ]
  }
 ],
 "metadata": {
  "kernelspec": {
   "display_name": "Python 3 (ipykernel)",
   "language": "python",
   "name": "python3"
  },
  "language_info": {
   "codemirror_mode": {
    "name": "ipython",
    "version": 3
   },
   "file_extension": ".py",
   "mimetype": "text/x-python",
   "name": "python",
   "nbconvert_exporter": "python",
   "pygments_lexer": "ipython3",
   "version": "3.7.3"
  }
 },
 "nbformat": 4,
 "nbformat_minor": 2
}
