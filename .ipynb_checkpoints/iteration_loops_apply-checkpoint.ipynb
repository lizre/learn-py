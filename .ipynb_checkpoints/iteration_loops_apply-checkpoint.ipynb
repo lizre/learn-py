{
 "cells": [
  {
   "cell_type": "markdown",
   "id": "869e6653",
   "metadata": {},
   "source": [
    "# Setup and get data"
   ]
  },
  {
   "cell_type": "code",
   "execution_count": 21,
   "id": "2a046825",
   "metadata": {},
   "outputs": [],
   "source": [
    "import pandas as pd\n",
    "import numpy as np\n",
    "import sklearn\n",
    "from sklearn import datasets\n",
    "import math\n",
    "dir(sklearn.datasets)[15:20] # print all \n",
    "iris = sklearn.datasets.load_iris()\n",
    "# convert to pandas df\n",
    "iris = pd.DataFrame(np.concatenate((iris.data, np.array([iris.target]).T), axis=1), \n",
    "                    columns=iris.feature_names + ['target'])\n",
    "# clean col names\n",
    "iris.columns = [c.replace(' ', '_') for c in iris.columns]\n",
    "iris.rename(columns={'sepal_length_(cm)': 'sepal_length', \n",
    "                     'sepal_width_(cm)': 'sepal_width', \n",
    "                     'petal_length_(cm)':  'petal_length',\n",
    "                     'petal_width_(cm)': 'petal_width'}, inplace=True)"
   ]
  },
  {
   "cell_type": "code",
   "execution_count": 22,
   "id": "74f19aa8",
   "metadata": {},
   "outputs": [
    {
     "data": {
      "text/html": [
       "<div>\n",
       "<style scoped>\n",
       "    .dataframe tbody tr th:only-of-type {\n",
       "        vertical-align: middle;\n",
       "    }\n",
       "\n",
       "    .dataframe tbody tr th {\n",
       "        vertical-align: top;\n",
       "    }\n",
       "\n",
       "    .dataframe thead th {\n",
       "        text-align: right;\n",
       "    }\n",
       "</style>\n",
       "<table border=\"1\" class=\"dataframe\">\n",
       "  <thead>\n",
       "    <tr style=\"text-align: right;\">\n",
       "      <th></th>\n",
       "      <th>sepal_length</th>\n",
       "      <th>sepal_width</th>\n",
       "      <th>petal_length</th>\n",
       "      <th>petal_width</th>\n",
       "      <th>target</th>\n",
       "    </tr>\n",
       "  </thead>\n",
       "  <tbody>\n",
       "    <tr>\n",
       "      <th>0</th>\n",
       "      <td>5.1</td>\n",
       "      <td>3.5</td>\n",
       "      <td>1.4</td>\n",
       "      <td>0.2</td>\n",
       "      <td>0.0</td>\n",
       "    </tr>\n",
       "    <tr>\n",
       "      <th>1</th>\n",
       "      <td>4.9</td>\n",
       "      <td>3.0</td>\n",
       "      <td>1.4</td>\n",
       "      <td>0.2</td>\n",
       "      <td>0.0</td>\n",
       "    </tr>\n",
       "    <tr>\n",
       "      <th>2</th>\n",
       "      <td>4.7</td>\n",
       "      <td>3.2</td>\n",
       "      <td>1.3</td>\n",
       "      <td>0.2</td>\n",
       "      <td>0.0</td>\n",
       "    </tr>\n",
       "  </tbody>\n",
       "</table>\n",
       "</div>"
      ],
      "text/plain": [
       "   sepal_length  sepal_width  petal_length  petal_width  target\n",
       "0           5.1          3.5           1.4          0.2     0.0\n",
       "1           4.9          3.0           1.4          0.2     0.0\n",
       "2           4.7          3.2           1.3          0.2     0.0"
      ]
     },
     "execution_count": 22,
     "metadata": {},
     "output_type": "execute_result"
    }
   ],
   "source": [
    "iris[0:3]"
   ]
  },
  {
   "cell_type": "markdown",
   "id": "3b73dc2e",
   "metadata": {},
   "source": [
    "\n",
    "# Apply"
   ]
  },
  {
   "cell_type": "markdown",
   "id": "4fd394e1",
   "metadata": {},
   "source": [
    "### Apply"
   ]
  },
  {
   "cell_type": "code",
   "execution_count": 39,
   "id": "5c070bcf",
   "metadata": {},
   "outputs": [
    {
     "name": "stdout",
     "output_type": "stream",
     "text": [
      "across rows:\n",
      "\n",
      "0    10.2\n",
      "1     9.5\n",
      "2     9.4\n",
      "dtype: float64\n",
      "\n",
      "across cols:\n"
     ]
    },
    {
     "data": {
      "text/plain": [
       "sepal_length    876.5\n",
       "sepal_width     458.6\n",
       "petal_length    563.7\n",
       "petal_width     179.9\n",
       "target          150.0\n",
       "dtype: float64"
      ]
     },
     "execution_count": 39,
     "metadata": {},
     "output_type": "execute_result"
    }
   ],
   "source": [
    "print(\"across rows:\")\n",
    "print(\"\")\n",
    "print(iris.apply(sum, axis =1)[0:3])\n",
    "print(\"\")\n",
    "print(\"across cols:\")\n",
    "iris.apply(sum, axis =0)"
   ]
  },
  {
   "cell_type": "markdown",
   "id": "ba458d87",
   "metadata": {},
   "source": [
    "### Apply with a user defined function"
   ]
  },
  {
   "cell_type": "code",
   "execution_count": 42,
   "id": "b8fc8421",
   "metadata": {},
   "outputs": [
    {
     "data": {
      "text/plain": [
       "0    25.2\n",
       "1    24.5\n",
       "2    24.4\n",
       "dtype: float64"
      ]
     },
     "execution_count": 42,
     "metadata": {},
     "output_type": "execute_result"
    }
   ],
   "source": [
    "def my_calc(x):\n",
    "    return x.sum()+15\n",
    "\n",
    "iris.apply(my_calc, axis =1)[0:3]"
   ]
  },
  {
   "cell_type": "markdown",
   "id": "cac58473",
   "metadata": {},
   "source": [
    "### Apply with a lambda/anonymous function:"
   ]
  },
  {
   "cell_type": "code",
   "execution_count": 44,
   "id": "d5de5f97",
   "metadata": {},
   "outputs": [
    {
     "name": "stdout",
     "output_type": "stream",
     "text": [
      "sepal_length    891.5\n",
      "sepal_width     473.6\n",
      "petal_length    578.7\n",
      "petal_width     194.9\n",
      "target          165.0\n",
      "dtype: float64\n"
     ]
    }
   ],
   "source": [
    "print(iris.apply(lambda x: x.sum()+15,\n",
    "                 axis=0))"
   ]
  },
  {
   "cell_type": "markdown",
   "id": "74dfd26f",
   "metadata": {},
   "source": [
    "# for loop"
   ]
  },
  {
   "cell_type": "code",
   "execution_count": 2,
   "id": "eef3b41a",
   "metadata": {},
   "outputs": [],
   "source": [
    "pet_foods = {\n",
    "    \"Dane Foods\": 4,\n",
    "    \"Cat Foods\": 10,\n",
    "    \"Pups Foods\": 8\n",
    "}"
   ]
  },
  {
   "cell_type": "code",
   "execution_count": 7,
   "id": "42225c64",
   "metadata": {},
   "outputs": [
    {
     "name": "stdout",
     "output_type": "stream",
     "text": [
      "Dane Foods has 4 bags\n",
      "Cat Foods has 10 bags\n",
      "Pups Foods has 8 bags\n"
     ]
    }
   ],
   "source": [
    "for brand in pet_foods:\n",
    "    print(brand + \" has \" + str(pet_foods[brand]) + \" bags\")"
   ]
  },
  {
   "cell_type": "code",
   "execution_count": 10,
   "id": "cbf428c3",
   "metadata": {},
   "outputs": [
    {
     "data": {
      "text/plain": [
       "<dict_keyiterator at 0x105cc4818>"
      ]
     },
     "execution_count": 10,
     "metadata": {},
     "output_type": "execute_result"
    }
   ],
   "source": [
    "food_iterator = iter(pet_foods)\n",
    "food_iterator"
   ]
  },
  {
   "cell_type": "code",
   "execution_count": 11,
   "id": "fce059d9",
   "metadata": {},
   "outputs": [
    {
     "name": "stdout",
     "output_type": "stream",
     "text": [
      "['__class__', '__contains__', '__delattr__', '__delitem__', '__dir__', '__doc__', '__eq__', '__format__', '__ge__', '__getattribute__', '__getitem__', '__gt__', '__hash__', '__init__', '__init_subclass__', '__iter__', '__le__', '__len__', '__lt__', '__ne__', '__new__', '__reduce__', '__reduce_ex__', '__repr__', '__setattr__', '__setitem__', '__sizeof__', '__str__', '__subclasshook__', 'clear', 'copy', 'fromkeys', 'get', 'items', 'keys', 'pop', 'popitem', 'setdefault', 'update', 'values']\n"
     ]
    }
   ],
   "source": [
    "print(dir(pet_foods)"
   ]
  },
  {
   "cell_type": "code",
   "execution_count": null,
   "id": "d1bdf6dd",
   "metadata": {},
   "outputs": [],
   "source": []
  },
  {
   "cell_type": "code",
   "execution_count": null,
   "id": "d1014a43",
   "metadata": {},
   "outputs": [],
   "source": []
  },
  {
   "cell_type": "markdown",
   "id": "5a7eedf3",
   "metadata": {},
   "source": [
    "# Loops"
   ]
  },
  {
   "cell_type": "code",
   "execution_count": 212,
   "id": "27ff9a1d",
   "metadata": {},
   "outputs": [
    {
     "name": "stdout",
     "output_type": "stream",
     "text": [
      "2 4 8\n",
      "3 9 27\n",
      "5 25 125\n"
     ]
    }
   ],
   "source": [
    "for p in [2,3,5]:\n",
    "    squared = p **2\n",
    "    cubed = p**3\n",
    "    print(p, squared, cubed)"
   ]
  },
  {
   "cell_type": "code",
   "execution_count": 236,
   "id": "bc659f95",
   "metadata": {},
   "outputs": [
    {
     "name": "stdout",
     "output_type": "stream",
     "text": [
      "3\n",
      "8\n",
      "12\n"
     ]
    }
   ],
   "source": [
    "colors=['red', 'green', 'blue']\n",
    "# if we want to add up number of letters, need accumulator\n",
    "total = 0\n",
    "for word in colors:\n",
    "    total=total+len(word)\n",
    "    print(total)"
   ]
  },
  {
   "cell_type": "code",
   "execution_count": 238,
   "id": "6941266f",
   "metadata": {},
   "outputs": [
    {
     "ename": "NameError",
     "evalue": "name 'cumulative' is not defined",
     "output_type": "error",
     "traceback": [
      "\u001b[0;31m---------------------------------------------------------------------------\u001b[0m",
      "\u001b[0;31mNameError\u001b[0m                                 Traceback (most recent call last)",
      "\u001b[0;32m<ipython-input-238-9c859f3d6e03>\u001b[0m in \u001b[0;36m<module>\u001b[0;34m()\u001b[0m\n\u001b[0;32m----> 1\u001b[0;31m \u001b[0mcumulative\u001b[0m\u001b[0;34m.\u001b[0m\u001b[0mappend\u001b[0m\u001b[0;34m(\u001b[0m\u001b[0msum\u001b[0m\u001b[0;34m)\u001b[0m\u001b[0;34m\u001b[0m\u001b[0m\n\u001b[0m\u001b[1;32m      2\u001b[0m \u001b[0;32mfor\u001b[0m \u001b[0mnumber\u001b[0m \u001b[0;32min\u001b[0m \u001b[0mdata\u001b[0m\u001b[0;34m:\u001b[0m\u001b[0;34m\u001b[0m\u001b[0m\n\u001b[1;32m      3\u001b[0m     \u001b[0mcumulative\u001b[0m \u001b[0;34m=\u001b[0m \u001b[0;34m[\u001b[0m\u001b[0;34m]\u001b[0m\u001b[0;34m\u001b[0m\u001b[0m\n\u001b[1;32m      4\u001b[0m     \u001b[0msum\u001b[0m \u001b[0;34m+=\u001b[0m \u001b[0mnumber\u001b[0m\u001b[0;34m\u001b[0m\u001b[0m\n\u001b[1;32m      5\u001b[0m     \u001b[0msum\u001b[0m \u001b[0;34m=\u001b[0m \u001b[0;36m0\u001b[0m\u001b[0;34m\u001b[0m\u001b[0m\n",
      "\u001b[0;31mNameError\u001b[0m: name 'cumulative' is not defined"
     ]
    }
   ],
   "source": [
    "cumulative.append(sum)\n",
    "for number in data:\n",
    "    cumulative = []\n",
    "    sum += number\n",
    "    sum = 0\n",
    "    print(cumulative)\n",
    "data = [1,2,2,5]\n"
   ]
  },
  {
   "cell_type": "code",
   "execution_count": 234,
   "id": "448c90c8",
   "metadata": {},
   "outputs": [
    {
     "name": "stdout",
     "output_type": "stream",
     "text": [
      "0 0\n",
      "1 1\n",
      "2 3\n",
      "3 6\n",
      "4 10\n",
      "5 15\n",
      "6 21\n",
      "7 28\n",
      "8 36\n",
      "9 45\n",
      "45\n"
     ]
    }
   ],
   "source": [
    "# accumulator\n",
    "total = 0\n",
    "for x in range(10):\n",
    "    total = total + x\n",
    "    print(x, total) \n",
    "print(total)"
   ]
  },
  {
   "cell_type": "code",
   "execution_count": null,
   "id": "635aa418",
   "metadata": {},
   "outputs": [],
   "source": [
    "# Loops\n",
    "\n",
    "for p in [2,3,5]:\n",
    "    squared = p **2\n",
    "    cubed = p**3\n",
    "    print(p, squared, cubed)\n",
    "\n",
    "colors=['red', 'green', 'blue']\n",
    "# if we want to add up number of letters, need accumulator\n",
    "total = 0\n",
    "for word in colors:\n",
    "    total=total+len(word)\n",
    "    print(total)\n",
    "\n",
    "cumulative.append(sum)\n",
    "for number in data:\n",
    "    cumulative = []\n",
    "    sum += number\n",
    "    sum = 0\n",
    "    print(cumulative)\n",
    "data = [1,2,2,5]\n",
    "\n",
    "\n",
    "# accumulator\n",
    "total = 0\n",
    "for x in range(10):\n",
    "    total = total + x\n",
    "    print(x, total) \n",
    "print(total)"
   ]
  }
 ],
 "metadata": {
  "kernelspec": {
   "display_name": "Python 3 (ipykernel)",
   "language": "python",
   "name": "python3"
  },
  "language_info": {
   "codemirror_mode": {
    "name": "ipython",
    "version": 3
   },
   "file_extension": ".py",
   "mimetype": "text/x-python",
   "name": "python",
   "nbconvert_exporter": "python",
   "pygments_lexer": "ipython3",
   "version": "3.7.3"
  }
 },
 "nbformat": 4,
 "nbformat_minor": 5
}
