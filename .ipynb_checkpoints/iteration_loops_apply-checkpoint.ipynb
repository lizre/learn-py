{
 "cells": [
  {
   "cell_type": "markdown",
   "id": "869e6653",
   "metadata": {},
   "source": [
    "# Setup and get data"
   ]
  },
  {
   "cell_type": "code",
   "execution_count": 21,
   "id": "2a046825",
   "metadata": {},
   "outputs": [],
   "source": [
    "import pandas as pd\n",
    "import numpy as np\n",
    "from sklearn import datasets\n",
    "\n",
    "iris = sklearn.datasets.load_iris()\n",
    "# convert to pandas df\n",
    "iris = pd.DataFrame(np.concatenate((iris.data, np.array([iris.target]).T), axis=1), \n",
    "                    columns=iris.feature_names + ['target'])\n",
    "# clean col names\n",
    "iris.columns = [c.replace(' ', '_') for c in iris.columns]\n",
    "iris.rename(columns={'sepal_length_(cm)': 'sepal_length', \n",
    "                     'sepal_width_(cm)': 'sepal_width', \n",
    "                     'petal_length_(cm)':  'petal_length',\n",
    "                     'petal_width_(cm)': 'petal_width'}, inplace=True)"
   ]
  },
  {
   "cell_type": "markdown",
   "id": "3b73dc2e",
   "metadata": {},
   "source": [
    "\n",
    "# Apply"
   ]
  },
  {
   "cell_type": "code",
   "execution_count": 39,
   "id": "5c070bcf",
   "metadata": {},
   "outputs": [
    {
     "name": "stdout",
     "output_type": "stream",
     "text": [
      "across rows:\n",
      "\n",
      "0    10.2\n",
      "1     9.5\n",
      "2     9.4\n",
      "dtype: float64\n",
      "\n",
      "across cols:\n"
     ]
    },
    {
     "data": {
      "text/plain": [
       "sepal_length    876.5\n",
       "sepal_width     458.6\n",
       "petal_length    563.7\n",
       "petal_width     179.9\n",
       "target          150.0\n",
       "dtype: float64"
      ]
     },
     "execution_count": 39,
     "metadata": {},
     "output_type": "execute_result"
    }
   ],
   "source": [
    "print(\"across rows:\")\n",
    "print(\"\")\n",
    "print(iris.apply(sum, axis =1)[0:3])\n",
    "print(\"\")\n",
    "print(\"across cols:\")\n",
    "iris.apply(sum, axis =0)"
   ]
  },
  {
   "cell_type": "markdown",
   "id": "ba458d87",
   "metadata": {},
   "source": [
    "### with a user defined function"
   ]
  },
  {
   "cell_type": "code",
   "execution_count": 42,
   "id": "b8fc8421",
   "metadata": {},
   "outputs": [
    {
     "data": {
      "text/plain": [
       "0    25.2\n",
       "1    24.5\n",
       "2    24.4\n",
       "dtype: float64"
      ]
     },
     "execution_count": 42,
     "metadata": {},
     "output_type": "execute_result"
    }
   ],
   "source": [
    "def my_calc(x):\n",
    "    return x.sum()+15\n",
    "\n",
    "iris.apply(my_calc, axis =1)[0:3]"
   ]
  },
  {
   "cell_type": "markdown",
   "id": "cac58473",
   "metadata": {},
   "source": [
    "### with a lambda/anonymous function:"
   ]
  },
  {
   "cell_type": "code",
   "execution_count": 44,
   "id": "d5de5f97",
   "metadata": {},
   "outputs": [
    {
     "name": "stdout",
     "output_type": "stream",
     "text": [
      "sepal_length    891.5\n",
      "sepal_width     473.6\n",
      "petal_length    578.7\n",
      "petal_width     194.9\n",
      "target          165.0\n",
      "dtype: float64\n"
     ]
    }
   ],
   "source": [
    "print(iris.apply(lambda x: x.sum()+15,\n",
    "                 axis=0))"
   ]
  },
  {
   "cell_type": "markdown",
   "id": "5a7eedf3",
   "metadata": {},
   "source": [
    "# Loops"
   ]
  },
  {
   "cell_type": "code",
   "execution_count": 52,
   "id": "27ff9a1d",
   "metadata": {},
   "outputs": [
    {
     "name": "stdout",
     "output_type": "stream",
     "text": [
      "1 1 1\n",
      "2 4 8\n",
      "3 9 27\n"
     ]
    }
   ],
   "source": [
    "for number in [1,2,3]:\n",
    "    squared = number **2\n",
    "    cubed = number**3\n",
    "    print(number, squared, cubed)"
   ]
  },
  {
   "cell_type": "markdown",
   "id": "56efa3b6",
   "metadata": {},
   "source": [
    "### Accumulator/counter\n",
    "\n",
    "Counter: a counter is a variable that is incremented every time a given event is verified"
   ]
  },
  {
   "cell_type": "code",
   "execution_count": 34,
   "id": "66644180",
   "metadata": {},
   "outputs": [
    {
     "name": "stdout",
     "output_type": "stream",
     "text": [
      "4\n"
     ]
    }
   ],
   "source": [
    "count = 0 \n",
    "for num in range(4):\n",
    "    count = count + 1  \n",
    "print(count)"
   ]
  },
  {
   "cell_type": "markdown",
   "id": "31428736",
   "metadata": {},
   "source": [
    "#### With 2 lists"
   ]
  },
  {
   "cell_type": "code",
   "execution_count": 61,
   "id": "448c90c8",
   "metadata": {
    "scrolled": true
   },
   "outputs": [
    {
     "name": "stdout",
     "output_type": "stream",
     "text": [
      "On iteration 1 , we added ' red ' and now have 3  letters\n",
      "On iteration 2 , we added ' green ' and now have 8  letters\n",
      "On iteration 3 , we added ' blue ' and now have 12  letters\n"
     ]
    }
   ],
   "source": [
    "iteration_counter = 0\n",
    "letter_counter = 0\n",
    "colors=['red', 'green', 'blue']\n",
    "for index,word in zip(range(len(colors)), colors):  # zip lets us use 2 lists. \n",
    "    color = colors[iteration_counter]\n",
    "    iteration_counter = iteration_counter + 1\n",
    "    letter_counter = letter_counter+len(word)\n",
    "    print(\"On iteration\", iteration_counter, \", we added '\", color, \"' and now have\", letter_counter, \" letters\") \n"
   ]
  },
  {
   "cell_type": "markdown",
   "id": "84afa3b2",
   "metadata": {},
   "source": [
    "- 'colors' has to allow access to its items using integer indices. \n",
    "- **Sequences** are the only type of iterable that allows this. \n",
    "- The other type of iteratable is a **generator**.\n",
    "- If you use numeric indexing[2] on a non-sequence, you get a TypeError."
   ]
  },
  {
   "cell_type": "markdown",
   "id": "fd4e36d1",
   "metadata": {},
   "source": [
    "What is zip() doing: turning 2 lists into a single iterator of tuples. Here, as list of tuples:"
   ]
  },
  {
   "cell_type": "code",
   "execution_count": 54,
   "id": "a36fd88b",
   "metadata": {},
   "outputs": [
    {
     "data": {
      "text/plain": [
       "[(0, 'red'), (1, 'green'), (2, 'blue')]"
      ]
     },
     "execution_count": 54,
     "metadata": {},
     "output_type": "execute_result"
    }
   ],
   "source": [
    "list(zip(range(len(colors)), colors))  "
   ]
  },
  {
   "cell_type": "markdown",
   "id": "10853be7",
   "metadata": {},
   "source": [
    "zip stops when either list is exhausted. izip_longest stops when both foo and bar are exhausted. see itertools.\n",
    "<br>https://stackoverflow.com/questions/1663807/how-to-iterate-through-two-lists-in-parallel\n"
   ]
  },
  {
   "cell_type": "markdown",
   "id": "9c15c0c8",
   "metadata": {},
   "source": [
    "### Enumerate: count without a counter variable"
   ]
  },
  {
   "cell_type": "code",
   "execution_count": 69,
   "id": "6748c1a3",
   "metadata": {},
   "outputs": [
    {
     "name": "stdout",
     "output_type": "stream",
     "text": [
      "0 blue\n",
      "1 red\n",
      "2 green\n"
     ]
    }
   ],
   "source": [
    "iteration_counter = -1\n",
    "colors=['red', 'green', 'blue']\n",
    "for index,word in zip(range(len(colors)), colors):  # zip lets us use 2 lists. \n",
    "    color = colors[iteration_counter]\n",
    "    iteration_counter = iteration_counter + 1\n",
    "    print(iteration_counter, color) \n"
   ]
  },
  {
   "cell_type": "code",
   "execution_count": 64,
   "id": "2851d058",
   "metadata": {},
   "outputs": [
    {
     "name": "stdout",
     "output_type": "stream",
     "text": [
      "0 red\n",
      "1 green\n",
      "2 blue\n"
     ]
    }
   ],
   "source": [
    "for count, color in enumerate(colors):\n",
    "     print(count, color)"
   ]
  },
  {
   "cell_type": "code",
   "execution_count": null,
   "id": "f3ea0318",
   "metadata": {},
   "outputs": [],
   "source": []
  }
 ],
 "metadata": {
  "kernelspec": {
   "display_name": "Python 3 (ipykernel)",
   "language": "python",
   "name": "python3"
  },
  "language_info": {
   "codemirror_mode": {
    "name": "ipython",
    "version": 3
   },
   "file_extension": ".py",
   "mimetype": "text/x-python",
   "name": "python",
   "nbconvert_exporter": "python",
   "pygments_lexer": "ipython3",
   "version": "3.7.3"
  }
 },
 "nbformat": 4,
 "nbformat_minor": 5
}
