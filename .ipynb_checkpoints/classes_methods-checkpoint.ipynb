{
 "cells": [
  {
   "cell_type": "markdown",
   "id": "a491e980",
   "metadata": {},
   "source": [
    "# Write classes"
   ]
  },
  {
   "cell_type": "markdown",
   "id": "6b1488bd",
   "metadata": {},
   "source": [
    "generic structure for a kind (or \"class\") of data. \n",
    "<br>dog class: we expect a name and a size.\n"
   ]
  },
  {
   "cell_type": "code",
   "execution_count": 23,
   "id": "6adc2d94",
   "metadata": {
    "scrolled": true
   },
   "outputs": [
    {
     "name": "stdout",
     "output_type": "stream",
     "text": [
      "jobie is an instance of class dog (i.e.,  jobie  instantiates the class)\n"
     ]
    }
   ],
   "source": [
    "class dog:\n",
    "    def __init__(self, name, size):         \n",
    "        self.name = name\n",
    "        self.size = size\n",
    "\n",
    "doginstance = dog(name = \"jobie\", size = \"medium\")\n",
    "print(doginstance.name, \"is an instance of class dog (i.e., \", jobie.name, \" instantiates the class)\") "
   ]
  },
  {
   "cell_type": "markdown",
   "id": "7ecdd8a5",
   "metadata": {},
   "source": [
    "## `__init__` ; `self` "
   ]
  },
  {
   "cell_type": "markdown",
   "id": "9463ad15",
   "metadata": {},
   "source": [
    "`__init__` is a **special method**\n",
    "- `__init__` defines scope of `name` and `size` attributes as being the instance of the class\n",
    "- `__init__` is a constructor: it initializes new instances of the class \n"
   ]
  },
  {
   "cell_type": "markdown",
   "id": "595a519b",
   "metadata": {},
   "source": [
    "`self`: means \"this instance\". \n",
    "- think of as \"my\": `self.size = size` is like the instance saying \"set my size to the value of size\"\n",
    "- When you define a method (like `__init__`), the first parameter is the object calling the method. This argument is usually called \"self\", but that's arbitrary!\n",
    "\n",
    "Change `self` to `instance`; it's identical:\n"
   ]
  },
  {
   "cell_type": "code",
   "execution_count": 49,
   "id": "06e2927d",
   "metadata": {},
   "outputs": [
    {
     "name": "stdout",
     "output_type": "stream",
     "text": [
      "jobie is an instance of class dog (i.e.,  jobie  instantiates the class)\n"
     ]
    }
   ],
   "source": [
    "class dog:\n",
    "    def __init__(instance, name, size):         \n",
    "        instance.name = name\n",
    "        instance.size = size\n",
    "\n",
    "doginstance = dog(name = \"jobie\", size = \"medium\")\n",
    "print(doginstance.name, \"is an instance of class dog (i.e., \", jobie.name, \" instantiates the class)\") "
   ]
  },
  {
   "cell_type": "markdown",
   "id": "acc540ac",
   "metadata": {},
   "source": [
    "Attributes and methods:"
   ]
  },
  {
   "cell_type": "code",
   "execution_count": 51,
   "id": "65e414ea",
   "metadata": {},
   "outputs": [
    {
     "name": "stdout",
     "output_type": "stream",
     "text": [
      "name\n"
     ]
    },
    {
     "data": {
      "text/plain": [
       "{'name': 'jobie', 'size': 'medium'}"
      ]
     },
     "execution_count": 51,
     "metadata": {},
     "output_type": "execute_result"
    }
   ],
   "source": [
    "print(dir(doginstance)[26])\n",
    "doginstance.__dict__"
   ]
  },
  {
   "cell_type": "markdown",
   "id": "033168ee",
   "metadata": {},
   "source": [
    "If we don't attach attributes to `self`:"
   ]
  },
  {
   "cell_type": "code",
   "execution_count": 63,
   "id": "bb38406a",
   "metadata": {},
   "outputs": [],
   "source": [
    "class dog:\n",
    "    def __init__(self, name, size):\n",
    "        name, size"
   ]
  },
  {
   "cell_type": "code",
   "execution_count": 64,
   "id": "bcd326d8",
   "metadata": {},
   "outputs": [],
   "source": [
    "doginstance = dog(name = \"jobie\", size = \"medium\")"
   ]
  },
  {
   "cell_type": "markdown",
   "id": "5a510dbb",
   "metadata": {},
   "source": [
    "The instance has no attributes, because `name` and `size` were not assigned to the instance:"
   ]
  },
  {
   "cell_type": "code",
   "execution_count": 65,
   "id": "6f51de8a",
   "metadata": {},
   "outputs": [
    {
     "data": {
      "text/plain": [
       "{}"
      ]
     },
     "execution_count": 65,
     "metadata": {},
     "output_type": "execute_result"
    }
   ],
   "source": [
    "doginstance.__dict__ "
   ]
  },
  {
   "cell_type": "markdown",
   "id": "4ef0906c",
   "metadata": {},
   "source": [
    "# Classes allow object composition"
   ]
  },
  {
   "cell_type": "markdown",
   "id": "d46c1f91",
   "metadata": {},
   "source": [
    "Create a class `person`, where all `person`s have an attribute for the `dog` they own, where `dog` is the class we just made."
   ]
  },
  {
   "cell_type": "code",
   "execution_count": 77,
   "id": "b32bce63",
   "metadata": {},
   "outputs": [],
   "source": [
    "class person:\n",
    "    def __init__(self, name, dog):\n",
    "        self.name = name\n",
    "        self.dog = dog(name = \"jobie\", size = \"medium\")"
   ]
  },
  {
   "cell_type": "code",
   "execution_count": 78,
   "id": "0eb1a0eb",
   "metadata": {},
   "outputs": [
    {
     "data": {
      "text/plain": [
       "{'name': 'Liz', 'dog': <__main__.dog at 0x10e755128>}"
      ]
     },
     "execution_count": 78,
     "metadata": {},
     "output_type": "execute_result"
    }
   ],
   "source": [
    "personinstance = person(name = \"Liz\", dog = dog)\n",
    "personinstance.__dict__"
   ]
  },
  {
   "cell_type": "markdown",
   "id": "3287c427",
   "metadata": {},
   "source": [
    "# Methods"
   ]
  },
  {
   "cell_type": "markdown",
   "id": "b8656f82",
   "metadata": {},
   "source": [
    "Add attributes and methods"
   ]
  },
  {
   "cell_type": "code",
   "execution_count": 17,
   "id": "88585233",
   "metadata": {},
   "outputs": [
    {
     "name": "stdout",
     "output_type": "stream",
     "text": [
      "Hello my name is jobie , woowoof\n",
      "jobie\n"
     ]
    }
   ],
   "source": [
    "class dog:\n",
    "    # attributes\n",
    "    def __init__(self, name, bark):         \n",
    "        self.name = name\n",
    "        self.sound = bark\n",
    "    # methods\n",
    "    def dogmethod_speak(self):\n",
    "        print(\"Hello my name is \" + self.name + \" , \" + self.sound)\n",
    "\n",
    "jobie = dog(name = \"jobie\", bark = \"woowoof\")\n",
    "jobie.dogmethod_speak()\n",
    "\n",
    "print(jobie.name)"
   ]
  },
  {
   "cell_type": "markdown",
   "id": "ed97dd35",
   "metadata": {},
   "source": [
    "## Methods and functions sometimes change object, sometimes don't"
   ]
  },
  {
   "cell_type": "markdown",
   "id": "004dcc8e",
   "metadata": {},
   "source": [
    "Calling a method directly changes the object:"
   ]
  },
  {
   "cell_type": "code",
   "execution_count": 2,
   "id": "3aba7fbc",
   "metadata": {},
   "outputs": [
    {
     "name": "stdout",
     "output_type": "stream",
     "text": [
      "['i', 'l', 'z']\n"
     ]
    }
   ],
   "source": [
    "letters=list('liz')\n",
    "letters.sort() \n",
    "print(letters)"
   ]
  },
  {
   "cell_type": "markdown",
   "id": "f1fc0009",
   "metadata": {},
   "source": [
    "Calling a method DOESN'T directly change the object:"
   ]
  },
  {
   "cell_type": "code",
   "execution_count": 4,
   "id": "94ab0c8a",
   "metadata": {},
   "outputs": [
    {
     "name": "stdout",
     "output_type": "stream",
     "text": [
      "string\n"
     ]
    }
   ],
   "source": [
    "string = \"string\"\n",
    "string.capitalize()\n",
    "print(string)"
   ]
  },
  {
   "cell_type": "markdown",
   "id": "cc8f8b16",
   "metadata": {},
   "source": [
    "## Docstring and Assertion"
   ]
  },
  {
   "cell_type": "code",
   "execution_count": 91,
   "id": "a3f1c4bb",
   "metadata": {
    "scrolled": false
   },
   "outputs": [],
   "source": [
    "class Annie2:\n",
    "    \"\"\"An animal.\"\"\"\n",
    "    def __init__(self, species, movementtype):\n",
    "        self.species = species\n",
    "        self.movementtype = movementtype\n",
    "        assert(isinstance(movementtype, str))\n",
    "    def move(self):\n",
    "        print(\"This animal is \" + self.movementtype + \"ing\")"
   ]
  },
  {
   "cell_type": "code",
   "execution_count": null,
   "id": "b2c6d83a",
   "metadata": {},
   "outputs": [],
   "source": []
  },
  {
   "cell_type": "markdown",
   "id": "43ead6d3",
   "metadata": {},
   "source": [
    "## Class attributes\n",
    "https://www.toptal.com/python/python-class-attributes-an-overly-thorough-guide"
   ]
  },
  {
   "cell_type": "code",
   "execution_count": 151,
   "id": "1de5d426",
   "metadata": {},
   "outputs": [],
   "source": [
    "class animal:\n",
    "    life = \"alive\" # set \"life\" attribute, so all animals have life\n",
    "    def sayhi(animal_instance):\n",
    "        print(\"hi\")"
   ]
  },
  {
   "cell_type": "code",
   "execution_count": 153,
   "id": "70ba5508",
   "metadata": {},
   "outputs": [],
   "source": [
    "doe = animal()"
   ]
  },
  {
   "cell_type": "markdown",
   "id": "2200211a",
   "metadata": {},
   "source": [
    "`life` and `sayhi` now both in list of attributes"
   ]
  },
  {
   "cell_type": "code",
   "execution_count": 156,
   "id": "82e4eaa2",
   "metadata": {},
   "outputs": [
    {
     "name": "stdout",
     "output_type": "stream",
     "text": [
      "['__class__', '__delattr__', '__dict__', '__dir__', '__doc__', '__eq__', '__format__', '__ge__', '__getattribute__', '__gt__', '__hash__', '__init__', '__init_subclass__', '__le__', '__lt__', '__module__', '__ne__', '__new__', '__reduce__', '__reduce_ex__', '__repr__', '__setattr__', '__sizeof__', '__str__', '__subclasshook__', '__weakref__', 'life', 'sayhi']\n"
     ]
    }
   ],
   "source": [
    "print(dir(doe))"
   ]
  }
 ],
 "metadata": {
  "kernelspec": {
   "display_name": "Python 3 (ipykernel)",
   "language": "python",
   "name": "python3"
  },
  "language_info": {
   "codemirror_mode": {
    "name": "ipython",
    "version": 3
   },
   "file_extension": ".py",
   "mimetype": "text/x-python",
   "name": "python",
   "nbconvert_exporter": "python",
   "pygments_lexer": "ipython3",
   "version": "3.7.3"
  }
 },
 "nbformat": 4,
 "nbformat_minor": 5
}
