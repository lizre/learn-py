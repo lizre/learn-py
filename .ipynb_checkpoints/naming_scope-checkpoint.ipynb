{
 "cells": [
  {
   "cell_type": "markdown",
   "id": "41595abc",
   "metadata": {},
   "source": [
    "# Setup and get data"
   ]
  },
  {
   "cell_type": "markdown",
   "id": "ed97dd35",
   "metadata": {},
   "source": [
    "# Namespaces are where names reference values"
   ]
  },
  {
   "cell_type": "code",
   "execution_count": 32,
   "id": "d3a633ed",
   "metadata": {},
   "outputs": [],
   "source": [
    "list = [1,2,3]"
   ]
  },
  {
   "cell_type": "markdown",
   "id": "8c869786",
   "metadata": {},
   "source": [
    "Python hosts a dictionary where the keys are names and the values are referenced objects:\n"
   ]
  },
  {
   "cell_type": "code",
   "execution_count": 32,
   "id": "7b01b617",
   "metadata": {},
   "outputs": [
    {
     "data": {
      "text/plain": [
       "{'list': [1, 2, 3]}"
      ]
     },
     "execution_count": 32,
     "metadata": {},
     "output_type": "execute_result"
    }
   ],
   "source": [
    "{'list': [1,2,3]}"
   ]
  },
  {
   "cell_type": "markdown",
   "id": "3beee17c",
   "metadata": {},
   "source": [
    "### **Built-in namespace**: always available"
   ]
  },
  {
   "cell_type": "code",
   "execution_count": 2,
   "id": "4a486b18",
   "metadata": {},
   "outputs": [
    {
     "data": {
      "text/plain": [
       "['RuntimeWarning',\n",
       " 'StopAsyncIteration',\n",
       " 'StopIteration',\n",
       " 'SyntaxError',\n",
       " 'SyntaxWarning']"
      ]
     },
     "execution_count": 2,
     "metadata": {},
     "output_type": "execute_result"
    }
   ],
   "source": [
    "dir(__builtins__)[50:55]"
   ]
  },
  {
   "cell_type": "markdown",
   "id": "57d79678",
   "metadata": {},
   "source": [
    "Stored in the `builtins` module:"
   ]
  },
  {
   "cell_type": "code",
   "execution_count": 3,
   "id": "262bcbed",
   "metadata": {},
   "outputs": [
    {
     "data": {
      "text/plain": [
       "<module 'builtins' (built-in)>"
      ]
     },
     "execution_count": 3,
     "metadata": {},
     "output_type": "execute_result"
    }
   ],
   "source": [
    "__builtins__"
   ]
  },
  {
   "cell_type": "code",
   "execution_count": 4,
   "id": "4ca8f947",
   "metadata": {},
   "outputs": [
    {
     "data": {
      "text/plain": [
       "'builtins'"
      ]
     },
     "execution_count": 4,
     "metadata": {},
     "output_type": "execute_result"
    }
   ],
   "source": [
    "__builtins__.str.__module__"
   ]
  },
  {
   "cell_type": "markdown",
   "id": "71c2e278",
   "metadata": {},
   "source": [
    "### Global namespace"
   ]
  },
  {
   "cell_type": "markdown",
   "id": "6c2668c5",
   "metadata": {},
   "source": [
    "nested inside builtin namespace.\n",
    "<br>Each module or file has a global namespace"
   ]
  },
  {
   "cell_type": "code",
   "execution_count": 5,
   "id": "7720d465",
   "metadata": {},
   "outputs": [
    {
     "data": {
      "text/plain": [
       "builtin_function_or_method"
      ]
     },
     "execution_count": 5,
     "metadata": {},
     "output_type": "execute_result"
    }
   ],
   "source": [
    "type(globals)"
   ]
  },
  {
   "cell_type": "code",
   "execution_count": 45,
   "id": "53d47a8f",
   "metadata": {},
   "outputs": [
    {
     "name": "stdout",
     "output_type": "stream",
     "text": [
      "[1, 2, 3]\n"
     ]
    },
    {
     "data": {
      "text/plain": [
       "100"
      ]
     },
     "execution_count": 45,
     "metadata": {},
     "output_type": "execute_result"
    }
   ],
   "source": [
    "print(globals()['list'])\n",
    "globals()['y'] = 100\n",
    "globals()['y']"
   ]
  },
  {
   "cell_type": "code",
   "execution_count": 41,
   "id": "c69755ac",
   "metadata": {},
   "outputs": [],
   "source": [
    "#Also try:\n",
    "#print(dir(globals()))\n",
    "#print(globals())"
   ]
  },
  {
   "cell_type": "code",
   "execution_count": 46,
   "id": "c3ed0551",
   "metadata": {},
   "outputs": [],
   "source": [
    "import numpy as np"
   ]
  },
  {
   "cell_type": "code",
   "execution_count": 48,
   "id": "2c278279",
   "metadata": {},
   "outputs": [
    {
     "data": {
      "text/plain": [
       "<module 'numpy' from '/Users/lizre/.pyenv/versions/3.7.3/lib/python3.7/site-packages/numpy/__init__.py'>"
      ]
     },
     "execution_count": 48,
     "metadata": {},
     "output_type": "execute_result"
    }
   ],
   "source": [
    "globals()['np']"
   ]
  },
  {
   "cell_type": "code",
   "execution_count": 51,
   "id": "71879a29",
   "metadata": {},
   "outputs": [
    {
     "data": {
      "text/plain": [
       "['conjugate', 'convolve', 'copy', 'copysign', 'copyto']"
      ]
     },
     "execution_count": 51,
     "metadata": {},
     "output_type": "execute_result"
    }
   ],
   "source": [
    "dir(np)[170:175]"
   ]
  },
  {
   "cell_type": "markdown",
   "id": "3ce5b1f6",
   "metadata": {},
   "source": [
    "### local/enclosing namespace"
   ]
  },
  {
   "cell_type": "markdown",
   "id": "a84ba8af",
   "metadata": {},
   "source": [
    "nested inside global namespace\n",
    "<br>whenever a function executes"
   ]
  },
  {
   "cell_type": "markdown",
   "id": "3a62a185",
   "metadata": {},
   "source": [
    "Functions can find globals:"
   ]
  },
  {
   "cell_type": "code",
   "execution_count": 55,
   "id": "f3a33733",
   "metadata": {},
   "outputs": [
    {
     "name": "stdout",
     "output_type": "stream",
     "text": [
      "global\n",
      "{'nested_value': 'Inside Function'}\n"
     ]
    }
   ],
   "source": [
    "global_variable = 'global' \n",
    "def Fun():\n",
    "  nested_value = 'Inside Function'   \n",
    "  print(global_variable)\n",
    "  print(locals()) \n",
    "Fun()"
   ]
  },
  {
   "cell_type": "markdown",
   "id": "47d25b8f",
   "metadata": {},
   "source": [
    "But global cannot find local:"
   ]
  },
  {
   "cell_type": "code",
   "execution_count": 56,
   "id": "7c6b32dc",
   "metadata": {},
   "outputs": [
    {
     "ename": "NameError",
     "evalue": "name 'nested_value' is not defined",
     "output_type": "error",
     "traceback": [
      "\u001b[0;31m---------------------------------------------------------------------------\u001b[0m",
      "\u001b[0;31mNameError\u001b[0m                                 Traceback (most recent call last)",
      "\u001b[0;32m/var/folders/gp/z24fr38j1dn7mrpvbdkwsw180000gn/T/ipykernel_72233/1248328906.py\u001b[0m in \u001b[0;36m<module>\u001b[0;34m\u001b[0m\n\u001b[0;32m----> 1\u001b[0;31m \u001b[0mnested_value\u001b[0m\u001b[0;34m\u001b[0m\u001b[0;34m\u001b[0m\u001b[0m\n\u001b[0m",
      "\u001b[0;31mNameError\u001b[0m: name 'nested_value' is not defined"
     ]
    }
   ],
   "source": [
    "nested_value"
   ]
  },
  {
   "cell_type": "markdown",
   "id": "4846afbf",
   "metadata": {},
   "source": [
    "`variable` is different in global and local:"
   ]
  },
  {
   "cell_type": "code",
   "execution_count": 58,
   "id": "cec64845",
   "metadata": {},
   "outputs": [
    {
     "name": "stdout",
     "output_type": "stream",
     "text": [
      "local\n",
      "global\n"
     ]
    }
   ],
   "source": [
    "variable = 'global' \n",
    "def Fun():\n",
    "  variable = 'local'   \n",
    "  print(variable) \n",
    "Fun()\n",
    "print(variable)"
   ]
  },
  {
   "cell_type": "markdown",
   "id": "28746bd8",
   "metadata": {},
   "source": [
    "# Scope"
   ]
  },
  {
   "cell_type": "markdown",
   "id": "ec66e75d",
   "metadata": {},
   "source": [
    "which namespaces our program will look into (to check names) and in what order"
   ]
  },
  {
   "cell_type": "markdown",
   "id": "f9ffb9d4",
   "metadata": {},
   "source": [
    "Scope of print(x) is global, but x doesn't exist in global:"
   ]
  },
  {
   "cell_type": "code",
   "execution_count": 66,
   "id": "10cb0da8",
   "metadata": {},
   "outputs": [
    {
     "ename": "NameError",
     "evalue": "name 'x' is not defined",
     "output_type": "error",
     "traceback": [
      "\u001b[0;31m---------------------------------------------------------------------------\u001b[0m",
      "\u001b[0;31mNameError\u001b[0m                                 Traceback (most recent call last)",
      "\u001b[0;32m/var/folders/gp/z24fr38j1dn7mrpvbdkwsw180000gn/T/ipykernel_72233/3185589098.py\u001b[0m in \u001b[0;36m<module>\u001b[0;34m\u001b[0m\n\u001b[1;32m      1\u001b[0m \u001b[0;32mdef\u001b[0m \u001b[0mFun\u001b[0m\u001b[0;34m(\u001b[0m\u001b[0;34m)\u001b[0m\u001b[0;34m:\u001b[0m\u001b[0;34m\u001b[0m\u001b[0;34m\u001b[0m\u001b[0m\n\u001b[1;32m      2\u001b[0m   \u001b[0mx\u001b[0m \u001b[0;34m=\u001b[0m \u001b[0;36m100\u001b[0m\u001b[0;34m\u001b[0m\u001b[0;34m\u001b[0m\u001b[0m\n\u001b[0;32m----> 3\u001b[0;31m \u001b[0mprint\u001b[0m\u001b[0;34m(\u001b[0m\u001b[0mx\u001b[0m\u001b[0;34m)\u001b[0m\u001b[0;34m\u001b[0m\u001b[0;34m\u001b[0m\u001b[0m\n\u001b[0m",
      "\u001b[0;31mNameError\u001b[0m: name 'x' is not defined"
     ]
    }
   ],
   "source": [
    "def Fun():\n",
    "  x = 100\n",
    "print(x)"
   ]
  },
  {
   "cell_type": "markdown",
   "id": "4a942054",
   "metadata": {},
   "source": [
    "# Details"
   ]
  },
  {
   "cell_type": "markdown",
   "id": "e36005a5",
   "metadata": {},
   "source": [
    "[more on names](https://nedbatchelder.com/text/names.html)\n",
    "    \n",
    "How naming relates to mutability\n",
    "Mutable means that the value has methods that can change the value in-place. Immutable means that the value can never change, instead when you think you are changing the value, you are really making new values from old ones.\n",
    "- http://radar.oreilly.com/2014/10/python-tuples-immutable-but-potentially-changing.html\n",
    "- http://inventwithpython.com/blog/2018/02/05/python-tuples-are-immutable-except-when-theyre-mutable/\n"
   ]
  }
 ],
 "metadata": {
  "kernelspec": {
   "display_name": "Python 3 (ipykernel)",
   "language": "python",
   "name": "python3"
  },
  "language_info": {
   "codemirror_mode": {
    "name": "ipython",
    "version": 3
   },
   "file_extension": ".py",
   "mimetype": "text/x-python",
   "name": "python",
   "nbconvert_exporter": "python",
   "pygments_lexer": "ipython3",
   "version": "3.7.3"
  }
 },
 "nbformat": 4,
 "nbformat_minor": 5
}
