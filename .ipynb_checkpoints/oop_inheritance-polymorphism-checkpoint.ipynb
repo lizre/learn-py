{
 "cells": [
  {
   "cell_type": "markdown",
   "id": "74dfd26f",
   "metadata": {},
   "source": [
    "# c"
   ]
  },
  {
   "cell_type": "markdown",
   "id": "a1d86e94",
   "metadata": {},
   "source": [
    "### `self` means \"this instance\""
   ]
  },
  {
   "cell_type": "markdown",
   "id": "595a519b",
   "metadata": {},
   "source": [
    "d"
   ]
  },
  {
   "cell_type": "code",
   "execution_count": null,
   "id": "eef3b41a",
   "metadata": {},
   "outputs": [],
   "source": []
  },
  {
   "cell_type": "code",
   "execution_count": null,
   "id": "42225c64",
   "metadata": {},
   "outputs": [],
   "source": []
  },
  {
   "cell_type": "markdown",
   "id": "9530166c",
   "metadata": {},
   "source": [
    "## Inheritance"
   ]
  },
  {
   "cell_type": "code",
   "execution_count": null,
   "id": "dd78712b",
   "metadata": {},
   "outputs": [],
   "source": [
    "class Animal: \n",
    "  def eat(self): \n",
    "    print(\"Nom Nom Nom...eating food!\")"
   ]
  },
  {
   "cell_type": "markdown",
   "id": "038628c8",
   "metadata": {},
   "source": [
    "Now make 2 child classes:"
   ]
  },
  {
   "cell_type": "code",
   "execution_count": null,
   "id": "e5e46763",
   "metadata": {},
   "outputs": [],
   "source": [
    "class Dog(Animal):\n",
    "  def bark(self):\n",
    "    print('Bark!')\n",
    " \n",
    "class Cat(Animal):\n",
    "  def meow(self):\n",
    "    print('Meow!')"
   ]
  },
  {
   "cell_type": "markdown",
   "id": "b063ad29",
   "metadata": {},
   "source": [
    "helps stay DRY by not having to add `eat` method to both Dog and Cat classes."
   ]
  },
  {
   "cell_type": "code",
   "execution_count": null,
   "id": "9f1109f7",
   "metadata": {},
   "outputs": [],
   "source": []
  },
  {
   "cell_type": "code",
   "execution_count": null,
   "id": "e076c418",
   "metadata": {},
   "outputs": [],
   "source": []
  },
  {
   "cell_type": "markdown",
   "id": "b0130726",
   "metadata": {},
   "source": [
    "## super"
   ]
  },
  {
   "cell_type": "markdown",
   "id": "0e84903e",
   "metadata": {},
   "source": [
    "parent class = \"superclass\"\n",
    "https://realpython.com/python-super/"
   ]
  },
  {
   "cell_type": "code",
   "execution_count": null,
   "id": "df6d4207",
   "metadata": {},
   "outputs": [],
   "source": []
  },
  {
   "cell_type": "code",
   "execution_count": null,
   "id": "e778aff1",
   "metadata": {},
   "outputs": [],
   "source": []
  },
  {
   "cell_type": "code",
   "execution_count": null,
   "id": "fdad5f0a",
   "metadata": {},
   "outputs": [],
   "source": []
  }
 ],
 "metadata": {
  "kernelspec": {
   "display_name": "Python 3 (ipykernel)",
   "language": "python",
   "name": "python3"
  },
  "language_info": {
   "codemirror_mode": {
    "name": "ipython",
    "version": 3
   },
   "file_extension": ".py",
   "mimetype": "text/x-python",
   "name": "python",
   "nbconvert_exporter": "python",
   "pygments_lexer": "ipython3",
   "version": "3.7.3"
  }
 },
 "nbformat": 4,
 "nbformat_minor": 5
}
