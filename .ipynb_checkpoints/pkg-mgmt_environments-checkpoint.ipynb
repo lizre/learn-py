{
 "cells": [
  {
   "cell_type": "markdown",
   "metadata": {},
   "source": [
    "# manage packages with pip"
   ]
  },
  {
   "cell_type": "code",
   "execution_count": 13,
   "metadata": {},
   "outputs": [
    {
     "name": "stdout",
     "output_type": "stream",
     "text": [
      "/Users/lizre/.pyenv/versions/3.7.3/bin/pip\r\n"
     ]
    }
   ],
   "source": [
    "!which pip"
   ]
  },
  {
   "cell_type": "markdown",
   "metadata": {},
   "source": [
    "(if you're in a virtual environment, path will include “envs/env-name”)"
   ]
  },
  {
   "cell_type": "markdown",
   "metadata": {},
   "source": [
    "Starts by searching [PyPI](https://pypi.org/): py package index"
   ]
  },
  {
   "cell_type": "code",
   "execution_count": null,
   "metadata": {},
   "outputs": [],
   "source": [
    "!pip install pandas # Will also get dependencies needed for pandas\n",
    "!pip list # Should now include pandas"
   ]
  },
  {
   "cell_type": "markdown",
   "metadata": {},
   "source": [
    "dependencies and dependents:"
   ]
  },
  {
   "cell_type": "code",
   "execution_count": 86,
   "metadata": {},
   "outputs": [],
   "source": [
    "pandas_deps = !pip show pandas "
   ]
  },
  {
   "cell_type": "code",
   "execution_count": 89,
   "metadata": {},
   "outputs": [
    {
     "data": {
      "text/plain": [
       "['Name: pandas',\n",
       " 'Version: 1.3.2',\n",
       " 'Summary: Powerful data structures for data analysis, time series, and statistics',\n",
       " 'Home-page: https://pandas.pydata.org',\n",
       " 'Author: The Pandas Development Team',\n",
       " 'Author-email: pandas-dev@python.org',\n",
       " 'License: BSD-3-Clause',\n",
       " 'Location: /Users/lizre/.pyenv/versions/3.7.3/lib/python3.7/site-packages',\n",
       " 'Requires: numpy, python-dateutil, pytz',\n",
       " 'Required-by: cmdstanpy, mlflow, mlxtend, octopy, pandas-profiling, phik, prophet, researchpy, seaborn, sklearn-pandas, statsmodels, visions']"
      ]
     },
     "execution_count": 89,
     "metadata": {},
     "output_type": "execute_result"
    }
   ],
   "source": [
    "pandas_deps"
   ]
  },
  {
   "cell_type": "markdown",
   "metadata": {},
   "source": [
    "# create requirements.txt \n",
    "\n",
    "In terminal:"
   ]
  },
  {
   "cell_type": "code",
   "execution_count": 8,
   "metadata": {},
   "outputs": [
    {
     "name": "stdout",
     "output_type": "stream",
     "text": [
      "INFO: Successfully saved requirements file in /Users/lizre/Downloads/learn-py/requirements.txt\r\n"
     ]
    }
   ],
   "source": [
    "!pipreqs --force"
   ]
  },
  {
   "cell_type": "markdown",
   "metadata": {},
   "source": [
    "- You'll see requirements.txt appear in src. It will not exactly match everything you `import` because pipreqs only includes ones not in standard library.\n",
    "- Can also use `pip freeze > requirements.txt` but it is [harmful because it includes too many things.](https://medium.com/@tomagee/pip-freeze-requirements-txt-considered-harmful-f0bce66cf895); also [pypi says not to use pip freeze](https://pypi.org/project/pipreqs/).\n",
    "\n"
   ]
  },
  {
   "cell_type": "code",
   "execution_count": 10,
   "metadata": {},
   "outputs": [
    {
     "name": "stdout",
     "output_type": "stream",
     "text": [
      "pandas==1.3.2\r\n"
     ]
    }
   ],
   "source": [
    "!cat requirements.txt"
   ]
  },
  {
   "cell_type": "markdown",
   "metadata": {},
   "source": [
    "To use:"
   ]
  },
  {
   "cell_type": "code",
   "execution_count": 12,
   "metadata": {},
   "outputs": [
    {
     "name": "stdout",
     "output_type": "stream",
     "text": [
      "Requirement already satisfied: pandas==1.3.2 in /Users/lizre/.pyenv/versions/3.7.3/lib/python3.7/site-packages (from -r requirements.txt (line 1)) (1.3.2)\r\n",
      "Requirement already satisfied: numpy>=1.17.3 in /Users/lizre/.pyenv/versions/3.7.3/lib/python3.7/site-packages (from pandas==1.3.2->-r requirements.txt (line 1)) (1.19.5)\r\n",
      "Requirement already satisfied: python-dateutil>=2.7.3 in /Users/lizre/.pyenv/versions/3.7.3/lib/python3.7/site-packages (from pandas==1.3.2->-r requirements.txt (line 1)) (2.8.2)\r\n",
      "Requirement already satisfied: pytz>=2017.3 in /Users/lizre/.pyenv/versions/3.7.3/lib/python3.7/site-packages (from pandas==1.3.2->-r requirements.txt (line 1)) (2021.1)\r\n",
      "Requirement already satisfied: six>=1.5 in /Users/lizre/.pyenv/versions/3.7.3/lib/python3.7/site-packages (from python-dateutil>=2.7.3->pandas==1.3.2->-r requirements.txt (line 1)) (1.15.0)\r\n"
     ]
    }
   ],
   "source": [
    "!pip install -r requirements.txt"
   ]
  },
  {
   "cell_type": "markdown",
   "metadata": {},
   "source": [
    "# Virtual environment"
   ]
  },
  {
   "cell_type": "markdown",
   "metadata": {},
   "source": [
    "### Problem/motivation\n",
    "\n",
    "When you pip install a package, it installs the dependency together with your interpreter. The package ends up in the Scripts folder in the directory where you installed Python. This is your environment: Python 3.7 with all of the installed packages.\n",
    "\n",
    "So each Python project on your computer will install all their dependencies together with every other project."
   ]
  },
  {
   "cell_type": "markdown",
   "metadata": {},
   "source": [
    "See where we have python:"
   ]
  },
  {
   "cell_type": "code",
   "execution_count": 16,
   "metadata": {},
   "outputs": [
    {
     "name": "stdout",
     "output_type": "stream",
     "text": [
      "/Users/lizre/.pyenv/versions/3.7.3/bin/python\r\n"
     ]
    }
   ],
   "source": [
    "!which python"
   ]
  },
  {
   "cell_type": "markdown",
   "metadata": {},
   "source": [
    "Inside that folder are all our packages:"
   ]
  },
  {
   "cell_type": "code",
   "execution_count": 82,
   "metadata": {
    "scrolled": true
   },
   "outputs": [],
   "source": [
    "my_global_python_packages = !cd ~/.pyenv/versions/3.7.3/lib/python3.7/site-packages && ls"
   ]
  },
  {
   "cell_type": "code",
   "execution_count": 73,
   "metadata": {},
   "outputs": [],
   "source": [
    "import pandas as pd\n",
    "my_global_python_packages = pd.Series(my_global_python_packages)"
   ]
  },
  {
   "cell_type": "code",
   "execution_count": 91,
   "metadata": {},
   "outputs": [
    {
     "data": {
      "text/plain": [
       "['itsdangerous',\n",
       " 'itsdangerous-2.0.1.dist-info',\n",
       " 'jedi',\n",
       " 'jedi-0.18.0.dist-info',\n",
       " 'jeepney',\n",
       " 'jeepney-0.6.0.dist-info',\n",
       " 'jinja2',\n",
       " 'jinjasql',\n",
       " 'jinjasql-0.1.8.dist-info',\n",
       " 'jmespath']"
      ]
     },
     "execution_count": 91,
     "metadata": {},
     "output_type": "execute_result"
    }
   ],
   "source": [
    "my_global_python_packages[200:210]"
   ]
  },
  {
   "cell_type": "code",
   "execution_count": 83,
   "metadata": {
    "scrolled": false
   },
   "outputs": [
    {
     "data": {
      "text/plain": [
       "'pandas'"
      ]
     },
     "execution_count": 83,
     "metadata": {},
     "output_type": "execute_result"
    }
   ],
   "source": [
    "my_global_python_packages[303]"
   ]
  },
  {
   "cell_type": "markdown",
   "metadata": {},
   "source": [
    "\n",
    "Becomes problem when you have multiple projects that need different package versions. Each project will be looking at this same list of packages.\n"
   ]
  },
  {
   "cell_type": "markdown",
   "metadata": {},
   "source": [
    "### Solution\n",
    "A **virtual environment** with its own Python interpreter (`lib/python`), pip executable, and `site-packages` directory. Even its own pip.\n",
    "\n",
    "Isolated from the “system” Python shown above. Also isolated from other virtual environments.\n",
    "\n",
    "Also good to share code with someone who might have different packages and versions."
   ]
  },
  {
   "cell_type": "markdown",
   "metadata": {},
   "source": [
    "**Aside: why not docker:**\n",
    "\n",
    "virtualenv only encapsulates Python dependencies. A Docker container encapsulates an entire OS. use docker when large-scale and/or dpeloying to a server."
   ]
  },
  {
   "cell_type": "markdown",
   "metadata": {},
   "source": [
    "## Make an env"
   ]
  },
  {
   "cell_type": "markdown",
   "metadata": {},
   "source": [
    "[Beginners, start with venv.](https://stackoverflow.com/questions/41573587/what-is-the-difference-between-venv-pyvenv-pyenv-virtualenv-virtualenvwrappe). But many people prefer [pipenv](https://medium.com/analytics-vidhya/why-pipenv-over-venv-for-python-projects-a51fb6e4f31e).\n"
   ]
  },
  {
   "cell_type": "code",
   "execution_count": 32,
   "metadata": {},
   "outputs": [],
   "source": [
    "!python3 -m venv my_env"
   ]
  },
  {
   "cell_type": "code",
   "execution_count": 15,
   "metadata": {
    "scrolled": true
   },
   "outputs": [
    {
     "name": "stdout",
     "output_type": "stream",
     "text": [
      "\u001b[34mbin\u001b[m\u001b[m        \u001b[34minclude\u001b[m\u001b[m    \u001b[34mlib\u001b[m\u001b[m        pyvenv.cfg\r\n"
     ]
    }
   ],
   "source": [
    "!cd my_env && ls"
   ]
  },
  {
   "cell_type": "markdown",
   "metadata": {},
   "source": [
    "Env will contain a copy of whatever python interpreter you used to make it. so make it specifically with `python3`."
   ]
  },
  {
   "cell_type": "markdown",
   "metadata": {},
   "source": [
    "creates a folder in the current directory which will contain the Python executable files, and a copy of the pip library which you can use to install other package:"
   ]
  },
  {
   "cell_type": "code",
   "execution_count": null,
   "metadata": {},
   "outputs": [],
   "source": [
    "├── bin\n",
    "│   ├── activate\n",
    "│   ├── activate.csh\n",
    "│   ├── activate.fish\n",
    "│   ├── easy_install\n",
    "│   ├── pip\n",
    "│   ├── pip3\n",
    "│   ├── python -> python3.7\n",
    "│   └── python3.7 -> /Library/Frameworks/Python.framework/Versions/3.5/bin/python3.5\n",
    "├── include\n",
    "├── lib\n",
    "│   └── python3.7\n",
    "│       └── site-packages\n",
    "└── pyvenv.cfg"
   ]
  },
  {
   "cell_type": "markdown",
   "metadata": {},
   "source": [
    "- \"activate\" scripts set up your shell to use the environment’s Python executable and its site-packages by default.\n",
    "- lib: a copy of the Python version. "
   ]
  },
  {
   "cell_type": "markdown",
   "metadata": {},
   "source": [
    "virtualenv --no-site-packages will not include the packages that are installed globally. This can be useful for keeping the package list clean in case it needs to be accessed later. [This is the default behavior for virtualenv 1.7 and later.]"
   ]
  },
  {
   "cell_type": "markdown",
   "metadata": {},
   "source": [
    "Or conda: `!conda create --name example-name python=3.7 --no-default-packages`"
   ]
  },
  {
   "cell_type": "markdown",
   "metadata": {},
   "source": [
    "## Enter/activate env"
   ]
  },
  {
   "cell_type": "markdown",
   "metadata": {},
   "source": [
    "by running an activate script in the virtual environment’s executables directory "
   ]
  },
  {
   "cell_type": "code",
   "execution_count": 19,
   "metadata": {},
   "outputs": [],
   "source": [
    "!source my_env/bin/activate"
   ]
  },
  {
   "cell_type": "markdown",
   "metadata": {},
   "source": [
    "Or conda: `!conda activate example-name`"
   ]
  },
  {
   "cell_type": "markdown",
   "metadata": {},
   "source": [
    "Now prompt has env name:"
   ]
  },
  {
   "cell_type": "markdown",
   "metadata": {},
   "source": [
    "![image](https://user-images.githubusercontent.com/38010821/153217272-690c3c2d-7035-474b-88ee-3ba1238a2d21.png)\n"
   ]
  },
  {
   "cell_type": "markdown",
   "metadata": {},
   "source": [
    "`bin` holds the modules available in our venv:"
   ]
  },
  {
   "cell_type": "code",
   "execution_count": 33,
   "metadata": {
    "scrolled": true
   },
   "outputs": [
    {
     "name": "stdout",
     "output_type": "stream",
     "text": [
      "activate         \u001b[31measy_install\u001b[m\u001b[m     \u001b[31mpip3\u001b[m\u001b[m             \u001b[35mpython3\u001b[m\u001b[m\r\n",
      "activate.csh     \u001b[31measy_install-3.7\u001b[m\u001b[m \u001b[31mpip3.7\u001b[m\u001b[m\r\n",
      "activate.fish    \u001b[31mpip\u001b[m\u001b[m              \u001b[35mpython\u001b[m\u001b[m\r\n"
     ]
    }
   ],
   "source": [
    "!cd my_env/bin && ls"
   ]
  },
  {
   "cell_type": "markdown",
   "metadata": {},
   "source": [
    "`lib` &  `site-packages`: holds dependencies/packages you install in the venv:"
   ]
  },
  {
   "cell_type": "code",
   "execution_count": 34,
   "metadata": {},
   "outputs": [
    {
     "name": "stdout",
     "output_type": "stream",
     "text": [
      "\u001b[34m__pycache__\u001b[m\u001b[m                 \u001b[34mpkg_resources\u001b[m\u001b[m\r\n",
      "easy_install.py             \u001b[34msetuptools\u001b[m\u001b[m\r\n",
      "\u001b[34mpip\u001b[m\u001b[m                         \u001b[34msetuptools-40.8.0.dist-info\u001b[m\u001b[m\r\n",
      "\u001b[34mpip-19.0.3.dist-info\u001b[m\u001b[m\r\n"
     ]
    }
   ],
   "source": [
    "!cd my_env/lib/python3.7/site-packages && ls"
   ]
  },
  {
   "cell_type": "code",
   "execution_count": 35,
   "metadata": {},
   "outputs": [
    {
     "name": "stdout",
     "output_type": "stream",
     "text": [
      "Collecting numpy\n",
      "  Using cached https://files.pythonhosted.org/packages/09/8c/ae037b8643aaa405b666c167f48550c1ce6b7c589fe5540de6d83e5931ca/numpy-1.21.5-cp37-cp37m-macosx_10_9_x86_64.whl\n",
      "Installing collected packages: numpy\n",
      "Successfully installed numpy-1.21.5\n",
      "\u001b[33mYou are using pip version 19.0.3, however version 22.0.3 is available.\n",
      "You should consider upgrading via the 'pip install --upgrade pip' command.\u001b[0m\n"
     ]
    }
   ],
   "source": [
    "!source my_env/bin/activate && pip install numpy"
   ]
  },
  {
   "cell_type": "markdown",
   "metadata": {},
   "source": [
    "Now numpy's there:"
   ]
  },
  {
   "cell_type": "code",
   "execution_count": 36,
   "metadata": {},
   "outputs": [
    {
     "name": "stdout",
     "output_type": "stream",
     "text": [
      "\u001b[34m__pycache__\u001b[m\u001b[m                 \u001b[34mpip-19.0.3.dist-info\u001b[m\u001b[m\r\n",
      "easy_install.py             \u001b[34mpkg_resources\u001b[m\u001b[m\r\n",
      "\u001b[34mnumpy\u001b[m\u001b[m                       \u001b[34msetuptools\u001b[m\u001b[m\r\n",
      "\u001b[34mnumpy-1.21.5.dist-info\u001b[m\u001b[m      \u001b[34msetuptools-40.8.0.dist-info\u001b[m\u001b[m\r\n",
      "\u001b[34mpip\u001b[m\u001b[m\r\n"
     ]
    }
   ],
   "source": [
    "!cd my_env/lib/python3.7/site-packages && ls"
   ]
  },
  {
   "cell_type": "markdown",
   "metadata": {},
   "source": [
    "#### How it works \n",
    "\n",
    "tricks the shell that the only python and pip executables are the ones in the virtual environment\n",
    "\n",
    "When a virtual environment is active (i.e., the virtual environment’s Python interpreter is running), the attributes sys.prefix and sys.exec_prefix point to the base directory of the virtual environment, whereas sys.base_prefix and sys.base_exec_prefix point to the non-virtual environment Python installation which was used to create the virtual environment. If a virtual environment is not active, then sys.prefix is the same as sys.base_prefix and sys.exec_prefix is the same as sys.base_exec_prefix (they all point to a non-virtual environment Python installation).\n",
    "\n",
    "scripts installed into virtual environments have a “shebang” line which points to the virtual environment’s Python interpreter. This means that the script will run with that interpreter regardless of the value of PATH."
   ]
  },
  {
   "cell_type": "markdown",
   "metadata": {},
   "source": [
    "## Exit env"
   ]
  },
  {
   "cell_type": "markdown",
   "metadata": {},
   "source": [
    "Now your prompt will have (example-name) before it"
   ]
  },
  {
   "cell_type": "code",
   "execution_count": null,
   "metadata": {},
   "outputs": [],
   "source": [
    "deactivate\n"
   ]
  },
  {
   "cell_type": "markdown",
   "metadata": {},
   "source": [
    "To delete a virtual environment, just delete its folder."
   ]
  },
  {
   "cell_type": "markdown",
   "metadata": {},
   "source": [
    "more\n",
    "\n",
    "[envs inside jupyter](https://stephen-odaibo.medium.com/docker-containers-python-virtual-environments-virtual-machines-d00aa9b8475)\n",
    "[use cookiecutter](https://www.datacamp.com/community/tutorials/python-developer-set-up) for scaffolding/templating"
   ]
  }
 ],
 "metadata": {
  "kernelspec": {
   "display_name": "Python 3 (ipykernel)",
   "language": "python",
   "name": "python3"
  },
  "language_info": {
   "codemirror_mode": {
    "name": "ipython",
    "version": 3
   },
   "file_extension": ".py",
   "mimetype": "text/x-python",
   "name": "python",
   "nbconvert_exporter": "python",
   "pygments_lexer": "ipython3",
   "version": "3.7.3"
  }
 },
 "nbformat": 4,
 "nbformat_minor": 2
}
