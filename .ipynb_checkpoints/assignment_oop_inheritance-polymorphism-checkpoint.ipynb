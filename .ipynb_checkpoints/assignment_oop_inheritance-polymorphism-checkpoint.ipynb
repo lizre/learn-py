{
 "cells": [
  {
   "cell_type": "code",
   "execution_count": 4,
   "id": "d774a55f",
   "metadata": {},
   "outputs": [],
   "source": [
    "import pandas as pd\n",
    "import numpy as np\n",
    "import sklearn\n",
    "from sklearn import datasets"
   ]
  },
  {
   "cell_type": "markdown",
   "id": "cde56c61",
   "metadata": {},
   "source": [
    "## [Complex class example in sklearn](https://github.com/scikit-learn/scikit-learn/blob/844b4be24/sklearn/tree/_classes.py#L639)"
   ]
  },
  {
   "cell_type": "markdown",
   "id": "e1cda919",
   "metadata": {},
   "source": [
    "# Setup/get data\n"
   ]
  },
  {
   "cell_type": "markdown",
   "id": "9caee062",
   "metadata": {},
   "source": [
    "Get sklearn built in data"
   ]
  },
  {
   "cell_type": "code",
   "execution_count": 5,
   "id": "0a05059c",
   "metadata": {
    "scrolled": true
   },
   "outputs": [],
   "source": [
    "dir(sklearn.datasets)[15:20] # print all \n",
    "iris = sklearn.datasets.load_iris()\n",
    "# convert to pandas df\n",
    "iris = pd.DataFrame(np.concatenate((iris.data, np.array([iris.target]).T), axis=1), columns=iris.feature_names + ['target'])"
   ]
  },
  {
   "cell_type": "markdown",
   "id": "0d88ec52",
   "metadata": {},
   "source": [
    "Clean column names"
   ]
  },
  {
   "cell_type": "code",
   "execution_count": 6,
   "id": "ac31a000",
   "metadata": {},
   "outputs": [],
   "source": [
    "iris.columns = [c.replace(' ', '_') for c in iris.columns]\n",
    "iris.rename(columns={'sepal_length_(cm)': 'sepal_length', \n",
    "                     'sepal_width_(cm)': 'sepal_width', \n",
    "                     'petal_length_(cm)':  'petal_length',\n",
    "                     'petal_width_(cm)': 'petal_width'}, inplace=True)"
   ]
  },
  {
   "cell_type": "markdown",
   "id": "5ad7a0ae",
   "metadata": {},
   "source": [
    "## Chained assignment"
   ]
  },
  {
   "cell_type": "code",
   "execution_count": 7,
   "id": "24e56e0a",
   "metadata": {},
   "outputs": [],
   "source": [
    "pd.options.mode.chained_assignment = \"warn\"  # None to disable chained assignments, otherwise \"warn\" is default\n",
    "\n",
    "iris['sepal_width'] = iris['sepal_width'].astype(str)\n",
    "\n",
    "# https://np.reddit.com/r/learnpython/comments/lcmb88/why_am_i_getting_a_settingwithcopywarning_on_this/gm2lgkv/\n",
    "# This will not have an effect on on the original df since there's an intermediate frame created and then modified, but that is not your original df.\n",
    "# modifications do not propagate back to the original data \n",
    "\n"
   ]
  },
  {
   "cell_type": "markdown",
   "id": "28746bd8",
   "metadata": {},
   "source": [
    "### Chained assignment"
   ]
  },
  {
   "cell_type": "code",
   "execution_count": 2,
   "id": "26bb0965",
   "metadata": {},
   "outputs": [
    {
     "name": "stdout",
     "output_type": "stream",
     "text": [
      "[3, 4]\n"
     ]
    }
   ],
   "source": [
    "x = [3, 4]; y = x; print(y)"
   ]
  },
  {
   "cell_type": "code",
   "execution_count": 3,
   "id": "f815f227",
   "metadata": {},
   "outputs": [],
   "source": [
    "del(x[0])"
   ]
  },
  {
   "cell_type": "code",
   "execution_count": 6,
   "id": "b2b6261d",
   "metadata": {},
   "outputs": [
    {
     "name": "stdout",
     "output_type": "stream",
     "text": [
      "[4]\n",
      "[4]\n"
     ]
    }
   ],
   "source": [
    "print(x); print(y)"
   ]
  },
  {
   "cell_type": "markdown",
   "id": "12f8a233",
   "metadata": {},
   "source": [
    "Because x and y arent the list per se, they are references to the list."
   ]
  },
  {
   "cell_type": "markdown",
   "id": "7c6b5d7d",
   "metadata": {},
   "source": [
    "### settingwithcopywarning\n"
   ]
  },
  {
   "cell_type": "code",
   "execution_count": 7,
   "id": "83cdc277",
   "metadata": {},
   "outputs": [
    {
     "ename": "NameError",
     "evalue": "name 'pd' is not defined",
     "output_type": "error",
     "traceback": [
      "\u001b[0;31m---------------------------------------------------------------------------\u001b[0m",
      "\u001b[0;31mNameError\u001b[0m                                 Traceback (most recent call last)",
      "\u001b[0;32m/var/folders/gp/z24fr38j1dn7mrpvbdkwsw180000gn/T/ipykernel_53400/3973960161.py\u001b[0m in \u001b[0;36m<module>\u001b[0;34m\u001b[0m\n\u001b[0;32m----> 1\u001b[0;31m \u001b[0mpd\u001b[0m\u001b[0;34m.\u001b[0m\u001b[0moptions\u001b[0m\u001b[0;34m.\u001b[0m\u001b[0mmode\u001b[0m\u001b[0;34m.\u001b[0m\u001b[0mchained_assignment\u001b[0m \u001b[0;34m=\u001b[0m \u001b[0;34m\"warn\"\u001b[0m  \u001b[0;31m# None to disable chained assignments, otherwise \"warn\" is default\u001b[0m\u001b[0;34m\u001b[0m\u001b[0;34m\u001b[0m\u001b[0m\n\u001b[0m\u001b[1;32m      2\u001b[0m \u001b[0;34m\u001b[0m\u001b[0m\n\u001b[1;32m      3\u001b[0m \u001b[0mtrain_set\u001b[0m\u001b[0;34m[\u001b[0m\u001b[0;34m'created_at'\u001b[0m\u001b[0;34m]\u001b[0m \u001b[0;34m=\u001b[0m \u001b[0mtrain_set\u001b[0m\u001b[0;34m[\u001b[0m\u001b[0;34m'created_at'\u001b[0m\u001b[0;34m]\u001b[0m\u001b[0;34m.\u001b[0m\u001b[0mastype\u001b[0m\u001b[0;34m(\u001b[0m\u001b[0mstr\u001b[0m\u001b[0;34m)\u001b[0m\u001b[0;34m\u001b[0m\u001b[0;34m\u001b[0m\u001b[0m\n\u001b[1;32m      4\u001b[0m \u001b[0;34m\u001b[0m\u001b[0m\n\u001b[1;32m      5\u001b[0m \u001b[0;31m# https://np.reddit.com/r/learnpython/comments/lcmb88/why_am_i_getting_a_settingwithcopywarning_on_this/gm2lgkv/\u001b[0m\u001b[0;34m\u001b[0m\u001b[0;34m\u001b[0m\u001b[0;34m\u001b[0m\u001b[0m\n",
      "\u001b[0;31mNameError\u001b[0m: name 'pd' is not defined"
     ]
    }
   ],
   "source": [
    "pd.options.mode.chained_assignment = \"warn\"  # None to disable chained assignments, otherwise \"warn\" is default\n",
    "\n",
    "train_set['created_at'] = train_set['created_at'].astype(str)\n",
    "\n",
    "# https://np.reddit.com/r/learnpython/comments/lcmb88/why_am_i_getting_a_settingwithcopywarning_on_this/gm2lgkv/\n",
    "# This will not have an effect on on the original df since there's an intermediate frame created and then modified, but that is not your original df.\n",
    "# modifications do not propagate back to the original data \n"
   ]
  },
  {
   "cell_type": "markdown",
   "id": "e2c5047c",
   "metadata": {},
   "source": [
    "\n",
    "\n",
    "## Subclasses *inherit* methods from their superclass"
   ]
  },
  {
   "cell_type": "code",
   "execution_count": 11,
   "id": "6b91d6db",
   "metadata": {},
   "outputs": [],
   "source": [
    "class Animal: \n",
    "  def speak(self): \n",
    "    print(\"grr!\")"
   ]
  },
  {
   "cell_type": "markdown",
   "id": "4080c179",
   "metadata": {},
   "source": [
    "Now make 2 child classes:"
   ]
  },
  {
   "cell_type": "code",
   "execution_count": 12,
   "id": "71ae33e3",
   "metadata": {},
   "outputs": [],
   "source": [
    "class Dog(Animal):\n",
    "  def bark(self):\n",
    "    print('Bark!')\n",
    " \n",
    "class Cat(Animal):\n",
    "  pass # Use `pass` to make a child class without methods:"
   ]
  },
  {
   "cell_type": "markdown",
   "id": "8a6f935f",
   "metadata": {},
   "source": [
    "helps stay DRY by not having to add `eat` method to both Dog and Cat classes."
   ]
  },
  {
   "cell_type": "code",
   "execution_count": 13,
   "id": "bcfa2263",
   "metadata": {},
   "outputs": [],
   "source": [
    "doe = Cat()\n",
    "jobie = Dog"
   ]
  },
  {
   "cell_type": "markdown",
   "id": "55f72a3e",
   "metadata": {},
   "source": [
    "Now instances of the child classes have access to parent's `eat` method:"
   ]
  },
  {
   "cell_type": "code",
   "execution_count": 15,
   "id": "06dbeb71",
   "metadata": {},
   "outputs": [
    {
     "name": "stdout",
     "output_type": "stream",
     "text": [
      "grr!\n"
     ]
    }
   ],
   "source": [
    "doe.speak()"
   ]
  },
  {
   "cell_type": "markdown",
   "id": "9ab895f9",
   "metadata": {},
   "source": [
    "## Polymorphic methods have identical names, but different behavior on different classes"
   ]
  },
  {
   "cell_type": "code",
   "execution_count": 21,
   "id": "5b881052",
   "metadata": {},
   "outputs": [],
   "source": [
    "class Robot:\n",
    "  def speak(self):\n",
    "        print(\"beep!\")"
   ]
  },
  {
   "cell_type": "code",
   "execution_count": 22,
   "id": "463afb78",
   "metadata": {},
   "outputs": [],
   "source": [
    "iphone = Robot()"
   ]
  },
  {
   "cell_type": "code",
   "execution_count": 23,
   "id": "cf2e75f5",
   "metadata": {},
   "outputs": [
    {
     "name": "stdout",
     "output_type": "stream",
     "text": [
      "beep!\n"
     ]
    }
   ],
   "source": [
    "iphone.speak()"
   ]
  },
  {
   "cell_type": "code",
   "execution_count": 15,
   "id": "b4bb7502",
   "metadata": {},
   "outputs": [
    {
     "name": "stdout",
     "output_type": "stream",
     "text": [
      "grr!\n"
     ]
    }
   ],
   "source": [
    "doe.speak()"
   ]
  },
  {
   "cell_type": "code",
   "execution_count": null,
   "id": "2e1185cf",
   "metadata": {},
   "outputs": [],
   "source": []
  },
  {
   "cell_type": "markdown",
   "id": "614ca778",
   "metadata": {},
   "source": [
    "Other examples:\n",
    "<br>the constructor `__init__()`\n",
    "<br> + (ie, operator overloading):"
   ]
  },
  {
   "cell_type": "code",
   "execution_count": 25,
   "id": "df89860e",
   "metadata": {},
   "outputs": [
    {
     "name": "stdout",
     "output_type": "stream",
     "text": [
      "6\n"
     ]
    },
    {
     "data": {
      "text/plain": [
       "'add'"
      ]
     },
     "execution_count": 25,
     "metadata": {},
     "output_type": "execute_result"
    }
   ],
   "source": [
    "print(2 + 4)\n",
    "\"a\" + \"dd\" "
   ]
  },
  {
   "cell_type": "markdown",
   "id": "8c69bef5",
   "metadata": {},
   "source": [
    "These are dunder methods (Double UNDERscores).\n",
    "<br>Every defined class in Python has access to a group of them\n",
    "<br>make your own by surrounding method name with `__`\n",
    "s:"
   ]
  },
  {
   "cell_type": "code",
   "execution_count": 29,
   "id": "3c48b5af",
   "metadata": {},
   "outputs": [
    {
     "data": {
      "text/plain": [
       "'HorsePenguin'"
      ]
     },
     "execution_count": 29,
     "metadata": {},
     "output_type": "execute_result"
    }
   ],
   "source": [
    "class Animal:\n",
    "  def __init__(self, name):\n",
    "    self.name = name\n",
    " \n",
    "  def __add__(self, another_animal):\n",
    "    return Animal(self.name + another_animal.name)\n",
    " \n",
    "a1 = Animal(\"Horse\")\n",
    "a2 = Animal(\"Penguin\")\n",
    "a3 = a1 + a2\n",
    "a3.name"
   ]
  },
  {
   "cell_type": "code",
   "execution_count": null,
   "id": "abdd0138",
   "metadata": {},
   "outputs": [],
   "source": []
  },
  {
   "cell_type": "code",
   "execution_count": null,
   "id": "0a8aef8f",
   "metadata": {},
   "outputs": [],
   "source": []
  },
  {
   "cell_type": "code",
   "execution_count": null,
   "id": "e3295fad",
   "metadata": {},
   "outputs": [],
   "source": []
  },
  {
   "cell_type": "markdown",
   "id": "b0130726",
   "metadata": {},
   "source": [
    "## super"
   ]
  },
  {
   "cell_type": "markdown",
   "id": "0e84903e",
   "metadata": {},
   "source": [
    "https://realpython.com/python-super/"
   ]
  },
  {
   "cell_type": "code",
   "execution_count": null,
   "id": "0397726f",
   "metadata": {},
   "outputs": [],
   "source": []
  },
  {
   "cell_type": "code",
   "execution_count": null,
   "id": "b6029573",
   "metadata": {},
   "outputs": [],
   "source": []
  },
  {
   "cell_type": "code",
   "execution_count": null,
   "id": "5dafdce4",
   "metadata": {},
   "outputs": [],
   "source": []
  }
 ],
 "metadata": {
  "kernelspec": {
   "display_name": "Python 3 (ipykernel)",
   "language": "python",
   "name": "python3"
  },
  "language_info": {
   "codemirror_mode": {
    "name": "ipython",
    "version": 3
   },
   "file_extension": ".py",
   "mimetype": "text/x-python",
   "name": "python",
   "nbconvert_exporter": "python",
   "pygments_lexer": "ipython3",
   "version": "3.7.3"
  }
 },
 "nbformat": 4,
 "nbformat_minor": 5
}
