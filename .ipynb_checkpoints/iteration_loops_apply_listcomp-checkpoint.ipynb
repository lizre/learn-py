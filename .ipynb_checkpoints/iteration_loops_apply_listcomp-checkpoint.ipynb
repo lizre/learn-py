{
 "cells": [
  {
   "cell_type": "markdown",
   "id": "869e6653",
   "metadata": {},
   "source": [
    "# Setup and get data"
   ]
  },
  {
   "cell_type": "code",
   "execution_count": 12,
   "id": "2a046825",
   "metadata": {},
   "outputs": [],
   "source": [
    "import pandas as pd\n",
    "import numpy as np\n",
    "import sklearn\n",
    "from sklearn import datasets\n",
    "\n",
    "iris = sklearn.datasets.load_iris()\n",
    "# convert to pandas df\n",
    "iris = pd.DataFrame(np.concatenate((iris.data, np.array([iris.target]).T), axis=1), \n",
    "                    columns=iris.feature_names + ['target'])\n",
    "# clean col names\n",
    "iris.columns = [c.replace(' ', '_') for c in iris.columns]\n",
    "iris.rename(columns={'sepal_length_(cm)': 'sepal_length', \n",
    "                     'sepal_width_(cm)': 'sepal_width', \n",
    "                     'petal_length_(cm)':  'petal_length',\n",
    "                     'petal_width_(cm)': 'petal_width'}, inplace=True)"
   ]
  },
  {
   "cell_type": "markdown",
   "id": "72c9dc6b",
   "metadata": {},
   "source": [
    "### Iterables: \n",
    "any object with an iter() method. \n",
    "<br>lists, strings, range objects, dicts. \n",
    "\n",
    "Applying `iter()` to an `iterable` creates an `iterator`:"
   ]
  },
  {
   "cell_type": "code",
   "execution_count": 41,
   "id": "4aa0414b",
   "metadata": {},
   "outputs": [
    {
     "data": {
      "text/plain": [
       "<list_iterator at 0x160d18e48>"
      ]
     },
     "execution_count": 41,
     "metadata": {},
     "output_type": "execute_result"
    }
   ],
   "source": [
    "iterable = [\"a\",\"b\",\"c\"]\n",
    "iterator = iter(iterable)\n",
    "iterator"
   ]
  },
  {
   "cell_type": "markdown",
   "id": "bd1b2a5c",
   "metadata": {},
   "source": [
    "### Iterator:\n",
    "keeps state and returns next values. \n",
    "<br>any object with a next() method"
   ]
  },
  {
   "cell_type": "code",
   "execution_count": 30,
   "id": "1dcb500b",
   "metadata": {},
   "outputs": [
    {
     "name": "stdout",
     "output_type": "stream",
     "text": [
      "a\n",
      "b\n",
      "c\n"
     ]
    },
    {
     "ename": "StopIteration",
     "evalue": "",
     "output_type": "error",
     "traceback": [
      "\u001b[0;31m---------------------------------------------------------------------------\u001b[0m",
      "\u001b[0;31mStopIteration\u001b[0m                             Traceback (most recent call last)",
      "\u001b[0;32m/var/folders/gp/z24fr38j1dn7mrpvbdkwsw180000gn/T/ipykernel_29103/2758032817.py\u001b[0m in \u001b[0;36m<module>\u001b[0;34m\u001b[0m\n\u001b[1;32m      2\u001b[0m \u001b[0mprint\u001b[0m\u001b[0;34m(\u001b[0m\u001b[0mnext\u001b[0m\u001b[0;34m(\u001b[0m\u001b[0miterator\u001b[0m\u001b[0;34m)\u001b[0m\u001b[0;34m)\u001b[0m\u001b[0;34m\u001b[0m\u001b[0;34m\u001b[0m\u001b[0m\n\u001b[1;32m      3\u001b[0m \u001b[0mprint\u001b[0m\u001b[0;34m(\u001b[0m\u001b[0mnext\u001b[0m\u001b[0;34m(\u001b[0m\u001b[0miterator\u001b[0m\u001b[0;34m)\u001b[0m\u001b[0;34m)\u001b[0m\u001b[0;34m\u001b[0m\u001b[0;34m\u001b[0m\u001b[0m\n\u001b[0;32m----> 4\u001b[0;31m \u001b[0mnext\u001b[0m\u001b[0;34m(\u001b[0m\u001b[0miterator\u001b[0m\u001b[0;34m)\u001b[0m\u001b[0;34m\u001b[0m\u001b[0;34m\u001b[0m\u001b[0m\n\u001b[0m",
      "\u001b[0;31mStopIteration\u001b[0m: "
     ]
    }
   ],
   "source": [
    "print(next(iterator))\n",
    "print(next(iterator))\n",
    "print(next(iterator))\n",
    "next(iterator)"
   ]
  },
  {
   "cell_type": "markdown",
   "id": "3eb746c1",
   "metadata": {},
   "source": [
    "All elements of an iterator:"
   ]
  },
  {
   "cell_type": "code",
   "execution_count": 42,
   "id": "775bd45c",
   "metadata": {},
   "outputs": [
    {
     "name": "stdout",
     "output_type": "stream",
     "text": [
      "a b c\n"
     ]
    }
   ],
   "source": [
    "print(*iterator)"
   ]
  },
  {
   "cell_type": "code",
   "execution_count": 40,
   "id": "c39dec1f",
   "metadata": {},
   "outputs": [
    {
     "name": "stdout",
     "output_type": "stream",
     "text": [
      "a b c\n"
     ]
    }
   ],
   "source": [
    "print(*iterable)"
   ]
  },
  {
   "cell_type": "markdown",
   "id": "5a7eedf3",
   "metadata": {},
   "source": [
    "# Loops"
   ]
  },
  {
   "cell_type": "code",
   "execution_count": 73,
   "id": "27ff9a1d",
   "metadata": {},
   "outputs": [
    {
     "name": "stdout",
     "output_type": "stream",
     "text": [
      "1\n",
      "2\n",
      "3\n"
     ]
    }
   ],
   "source": [
    "for number in [1,2,3]:\n",
    "    print(number)"
   ]
  },
  {
   "cell_type": "markdown",
   "id": "730e888e",
   "metadata": {},
   "source": [
    "With assignment:"
   ]
  },
  {
   "cell_type": "code",
   "execution_count": 97,
   "id": "984b73e3",
   "metadata": {},
   "outputs": [],
   "source": [
    "numbers = [1,2,3]\n",
    "new = []"
   ]
  },
  {
   "cell_type": "code",
   "execution_count": 98,
   "id": "8b6742c7",
   "metadata": {},
   "outputs": [
    {
     "data": {
      "text/plain": [
       "[2, 3, 4]"
      ]
     },
     "execution_count": 98,
     "metadata": {},
     "output_type": "execute_result"
    }
   ],
   "source": [
    "for number in numbers:\n",
    "    new.append(number+1)\n",
    "new"
   ]
  },
  {
   "cell_type": "markdown",
   "id": "43881324",
   "metadata": {},
   "source": [
    "Not pythonic:"
   ]
  },
  {
   "cell_type": "code",
   "execution_count": 72,
   "id": "a7bd4022",
   "metadata": {},
   "outputs": [
    {
     "name": "stdout",
     "output_type": "stream",
     "text": [
      "1\n",
      "2\n",
      "3\n"
     ]
    }
   ],
   "source": [
    "numbers = [1,2,3]\n",
    "for number in range(len(numbers)):\n",
    "    print(numbers[number])    "
   ]
  },
  {
   "cell_type": "markdown",
   "id": "7c048c2a",
   "metadata": {},
   "source": [
    "### Accumulator/counter\n",
    "\n",
    "Counter: a counter is a variable that is incremented every time a given event is verified"
   ]
  },
  {
   "cell_type": "code",
   "execution_count": 34,
   "id": "f4968765",
   "metadata": {},
   "outputs": [
    {
     "name": "stdout",
     "output_type": "stream",
     "text": [
      "4\n"
     ]
    }
   ],
   "source": [
    "count = 0 \n",
    "for num in range(4):\n",
    "    count = count + 1  \n",
    "print(count)"
   ]
  },
  {
   "cell_type": "markdown",
   "id": "8a6a20c0",
   "metadata": {},
   "source": [
    "## [Enumerate](https://realpython.com/python-enumerate/): count without a counter variable\n"
   ]
  },
  {
   "cell_type": "code",
   "execution_count": 69,
   "id": "8488238e",
   "metadata": {},
   "outputs": [],
   "source": [
    "colors=['red', 'green', 'blue']"
   ]
  },
  {
   "cell_type": "markdown",
   "id": "b72378b1",
   "metadata": {},
   "source": [
    "As for loop:"
   ]
  },
  {
   "cell_type": "code",
   "execution_count": 50,
   "id": "0c838f29",
   "metadata": {},
   "outputs": [
    {
     "name": "stdout",
     "output_type": "stream",
     "text": [
      "red\n",
      "green\n",
      "blue\n"
     ]
    }
   ],
   "source": [
    "for color in colors:\n",
    "    print(color)"
   ]
  },
  {
   "cell_type": "markdown",
   "id": "4ab969e5",
   "metadata": {},
   "source": [
    "As enumerate:"
   ]
  },
  {
   "cell_type": "code",
   "execution_count": 66,
   "id": "fef4d6fc",
   "metadata": {
    "scrolled": true
   },
   "outputs": [
    {
     "name": "stdout",
     "output_type": "stream",
     "text": [
      "0 red\n",
      "1 green\n",
      "2 blue\n"
     ]
    }
   ],
   "source": [
    "for index, color in enumerate(colors):\n",
    "     print(index, color)"
   ]
  },
  {
   "cell_type": "markdown",
   "id": "9d162513",
   "metadata": {},
   "source": [
    "An **enumerate object** has each element + their index"
   ]
  },
  {
   "cell_type": "code",
   "execution_count": 54,
   "id": "b8bf7a8a",
   "metadata": {},
   "outputs": [
    {
     "name": "stdout",
     "output_type": "stream",
     "text": [
      "<enumerate object at 0x160d190d8>\n"
     ]
    }
   ],
   "source": [
    "enumerate(colors)"
   ]
  },
  {
   "cell_type": "markdown",
   "id": "1c95bdc3",
   "metadata": {},
   "source": [
    "## `zip`: use any # of iterables "
   ]
  },
  {
   "cell_type": "code",
   "execution_count": 7,
   "id": "a65a7d2f",
   "metadata": {},
   "outputs": [],
   "source": [
    "colors=['red', 'green', 'blue']\n",
    "animals=['cat', 'cow', 'dog']\n",
    "verbs=['runs','sleeps', 'flies']"
   ]
  },
  {
   "cell_type": "markdown",
   "id": "baa0c8a3",
   "metadata": {},
   "source": [
    "zip(colors, animals, verbs) is an iterator of tuples:"
   ]
  },
  {
   "cell_type": "code",
   "execution_count": 6,
   "id": "9dc73e8c",
   "metadata": {},
   "outputs": [
    {
     "data": {
      "text/plain": [
       "<zip at 0x107acb508>"
      ]
     },
     "execution_count": 6,
     "metadata": {},
     "output_type": "execute_result"
    }
   ],
   "source": [
    "zip(colors, animals, verbs)"
   ]
  },
  {
   "cell_type": "markdown",
   "id": "f94c3c40",
   "metadata": {},
   "source": [
    "one tuple:"
   ]
  },
  {
   "cell_type": "code",
   "execution_count": 85,
   "id": "2f96ea21",
   "metadata": {},
   "outputs": [],
   "source": [
    "tuple = next(zip(colors, animals, verbs))"
   ]
  },
  {
   "cell_type": "code",
   "execution_count": 86,
   "id": "41ca7e51",
   "metadata": {
    "scrolled": true
   },
   "outputs": [
    {
     "data": {
      "text/plain": [
       "('red', 'cat', 'runs')"
      ]
     },
     "execution_count": 86,
     "metadata": {},
     "output_type": "execute_result"
    }
   ],
   "source": [
    "tuple"
   ]
  },
  {
   "cell_type": "markdown",
   "id": "ca287dae",
   "metadata": {},
   "source": [
    "stops when either list is exhausted. izip_longest stops when both foo and bar are exhausted. see itertools. ([SO](https://stackoverflow.com/questions/1663807/how-to-iterate-through-two-lists-in-parallel))\n"
   ]
  },
  {
   "cell_type": "markdown",
   "id": "00e4492a",
   "metadata": {},
   "source": [
    "### Get all the tuples:"
   ]
  },
  {
   "cell_type": "markdown",
   "id": "eeeae8ce",
   "metadata": {},
   "source": [
    "List the zip object:"
   ]
  },
  {
   "cell_type": "code",
   "execution_count": 3,
   "id": "312498a6",
   "metadata": {
    "scrolled": false
   },
   "outputs": [
    {
     "data": {
      "text/plain": [
       "[(0, 'red'), (1, 'green'), (2, 'blue')]"
      ]
     },
     "execution_count": 3,
     "metadata": {},
     "output_type": "execute_result"
    }
   ],
   "source": [
    "list(zip(range(len(colors)), colors))  "
   ]
  },
  {
   "cell_type": "markdown",
   "id": "7562f65f",
   "metadata": {},
   "source": [
    "Use a for loop:"
   ]
  },
  {
   "cell_type": "code",
   "execution_count": 88,
   "id": "24c8d518",
   "metadata": {},
   "outputs": [
    {
     "name": "stdout",
     "output_type": "stream",
     "text": [
      "red cat runs\n",
      "green cow sleeps\n",
      "blue dog flies\n"
     ]
    }
   ],
   "source": [
    "for color, animal, verb in zip(colors, animals, verbs):\n",
    "    print(color, animal, verb) "
   ]
  },
  {
   "cell_type": "markdown",
   "id": "0ca4f1f1",
   "metadata": {},
   "source": [
    "Or star/splat operator:"
   ]
  },
  {
   "cell_type": "code",
   "execution_count": 89,
   "id": "1b96e44e",
   "metadata": {},
   "outputs": [
    {
     "name": "stdout",
     "output_type": "stream",
     "text": [
      "('red', 'cat', 'runs') ('green', 'cow', 'sleeps') ('blue', 'dog', 'flies')\n"
     ]
    }
   ],
   "source": [
    "print(*zip(colors, animals, verbs))"
   ]
  },
  {
   "cell_type": "markdown",
   "id": "baca2a78",
   "metadata": {},
   "source": [
    "### Enumerate on zipped iterables to get indexed list of tuples"
   ]
  },
  {
   "cell_type": "markdown",
   "id": "757cf897",
   "metadata": {},
   "source": [
    "Enumerate on zipped iterables:"
   ]
  },
  {
   "cell_type": "code",
   "execution_count": 14,
   "id": "4287d31d",
   "metadata": {},
   "outputs": [
    {
     "data": {
      "text/plain": [
       "[(0, ('red', 'cat')), (1, ('green', 'cow')), (2, ('blue', 'dog'))]"
      ]
     },
     "execution_count": 14,
     "metadata": {},
     "output_type": "execute_result"
    }
   ],
   "source": [
    "enumerated_lists = list(enumerate(zip(colors, animals)) )"
   ]
  },
  {
   "cell_type": "markdown",
   "id": "ea74661a",
   "metadata": {},
   "source": [
    "To get indexed list of tuples:"
   ]
  },
  {
   "cell_type": "code",
   "execution_count": 22,
   "id": "07d9101a",
   "metadata": {},
   "outputs": [
    {
     "data": {
      "text/plain": [
       "[(0, ('red', 'cat')), (1, ('green', 'cow')), (2, ('blue', 'dog'))]"
      ]
     },
     "execution_count": 22,
     "metadata": {},
     "output_type": "execute_result"
    }
   ],
   "source": [
    "enumerated_lists"
   ]
  },
  {
   "cell_type": "markdown",
   "id": "e2f256fc",
   "metadata": {},
   "source": [
    "Access tuples and indices:"
   ]
  },
  {
   "cell_type": "code",
   "execution_count": 15,
   "id": "119add15",
   "metadata": {},
   "outputs": [
    {
     "data": {
      "text/plain": [
       "(0, ('red', 'cat'))"
      ]
     },
     "execution_count": 15,
     "metadata": {},
     "output_type": "execute_result"
    }
   ],
   "source": [
    "enumerated_lists[0]"
   ]
  },
  {
   "cell_type": "code",
   "execution_count": 19,
   "id": "162422cf",
   "metadata": {
    "scrolled": true
   },
   "outputs": [
    {
     "data": {
      "text/plain": [
       "0"
      ]
     },
     "execution_count": 19,
     "metadata": {},
     "output_type": "execute_result"
    }
   ],
   "source": [
    "enumerated_lists[0][0]"
   ]
  },
  {
   "cell_type": "code",
   "execution_count": 21,
   "id": "57c7f7b7",
   "metadata": {},
   "outputs": [
    {
     "name": "stdout",
     "output_type": "stream",
     "text": [
      "On iteration 0 , we added ' red ' and now have 3  letters\n",
      "On iteration 1 , we added ' green ' and now have 6  letters\n",
      "On iteration 2 , we added ' blue ' and now have 9  letters\n"
     ]
    }
   ],
   "source": [
    "letter_counter = 0\n",
    "colors=['red', 'green', 'blue']\n",
    "for index,color in zip(enumerate(colors), colors):  # zip lets us use 2 lists. \n",
    "    letter_counter = letter_counter+len(word)\n",
    "    print(\"On iteration\", index[0], \", we added '\", color, \"' and now have\", letter_counter, \" letters\") \n"
   ]
  },
  {
   "cell_type": "markdown",
   "id": "490a97db",
   "metadata": {},
   "source": [
    "- for this to work, 'colors' has to allow access to its items using integer indices. \n",
    "- **Sequences** are the only type of iterable that allows this. \n",
    "- The other type of iteratable is a **generator**.\n",
    "- If you use numeric indexing[2] on a non-sequence, you get a TypeError."
   ]
  },
  {
   "cell_type": "markdown",
   "id": "3d327793",
   "metadata": {},
   "source": [
    "# Map"
   ]
  },
  {
   "cell_type": "markdown",
   "id": "cdd08033",
   "metadata": {},
   "source": [
    "functional programming way to transform iteratable without a loop\n",
    "<br>[List comprehensions are preferred over map](https://stackoverflow.com/questions/1247486/list-comprehension-vs-map)\n",
    "\n",
    "<br> `map (function, list)`\n"
   ]
  },
  {
   "cell_type": "markdown",
   "id": "3ac72d57",
   "metadata": {},
   "source": [
    "As list comprehension:"
   ]
  },
  {
   "cell_type": "code",
   "execution_count": 3,
   "id": "c81582b3",
   "metadata": {},
   "outputs": [
    {
     "data": {
      "text/plain": [
       "[2, 3, 4]"
      ]
     },
     "execution_count": 3,
     "metadata": {},
     "output_type": "execute_result"
    }
   ],
   "source": [
    "[n+1 for n in [1,2,3]]"
   ]
  },
  {
   "cell_type": "markdown",
   "id": "94d95267",
   "metadata": {},
   "source": [
    "As map:"
   ]
  },
  {
   "cell_type": "code",
   "execution_count": 8,
   "id": "58df0a8d",
   "metadata": {},
   "outputs": [
    {
     "data": {
      "text/plain": [
       "<map at 0x102ed7470>"
      ]
     },
     "execution_count": 8,
     "metadata": {},
     "output_type": "execute_result"
    }
   ],
   "source": [
    "map(lambda x:x+1, [1,2,3])"
   ]
  },
  {
   "cell_type": "code",
   "execution_count": 9,
   "id": "4f94f2ea",
   "metadata": {},
   "outputs": [
    {
     "data": {
      "text/plain": [
       "[2, 3, 4]"
      ]
     },
     "execution_count": 9,
     "metadata": {},
     "output_type": "execute_result"
    }
   ],
   "source": [
    "list(map(lambda x:x+1, [1,2,3]))"
   ]
  },
  {
   "cell_type": "markdown",
   "id": "e66fc5d0",
   "metadata": {},
   "source": [
    "# List comprehensions:\n",
    "Compact, SQL-like loop replacements\n",
    "<br>The standard iteration in Python"
   ]
  },
  {
   "cell_type": "markdown",
   "id": "b78b935a",
   "metadata": {},
   "source": [
    "Regular loop doesn't preserve list format:"
   ]
  },
  {
   "cell_type": "code",
   "execution_count": 136,
   "id": "f370f00e",
   "metadata": {},
   "outputs": [
    {
     "name": "stdout",
     "output_type": "stream",
     "text": [
      "2\n",
      "3\n",
      "4\n"
     ]
    }
   ],
   "source": [
    "for number in [1,2,3]:\n",
    "    print(number+1)"
   ]
  },
  {
   "cell_type": "markdown",
   "id": "f53f5342",
   "metadata": {},
   "source": [
    "To have as list, must make empty list and append:"
   ]
  },
  {
   "cell_type": "code",
   "execution_count": 137,
   "id": "75d7b121",
   "metadata": {},
   "outputs": [
    {
     "data": {
      "text/plain": [
       "[1, 2, 3]"
      ]
     },
     "execution_count": 137,
     "metadata": {},
     "output_type": "execute_result"
    }
   ],
   "source": [
    "newlist = []\n",
    "for number in [1,2,3]:\n",
    "    newlist.append(number)\n",
    "newlist"
   ]
  },
  {
   "cell_type": "code",
   "execution_count": 109,
   "id": "52522e03",
   "metadata": {},
   "outputs": [],
   "source": [
    "data = [500, 200, 1400]"
   ]
  },
  {
   "cell_type": "code",
   "execution_count": 124,
   "id": "c3bfb627",
   "metadata": {
    "scrolled": true
   },
   "outputs": [
    {
     "name": "stdout",
     "output_type": "stream",
     "text": [
      "600\n",
      "1500\n"
     ]
    }
   ],
   "source": [
    "for datum in data:\n",
    "    if datum > 300:\n",
    "        print(datum + 100)"
   ]
  },
  {
   "cell_type": "markdown",
   "id": "bd4c7591",
   "metadata": {},
   "source": [
    "**List comprehension:**"
   ]
  },
  {
   "cell_type": "markdown",
   "id": "85c3dc1f",
   "metadata": {},
   "source": [
    "[expression for item in iterable if condition == True]"
   ]
  },
  {
   "cell_type": "markdown",
   "id": "9d2e8f24",
   "metadata": {},
   "source": [
    "Does preserve list format:"
   ]
  },
  {
   "cell_type": "code",
   "execution_count": 101,
   "id": "487c4416",
   "metadata": {},
   "outputs": [
    {
     "data": {
      "text/plain": [
       "[2, 3, 4]"
      ]
     },
     "execution_count": 101,
     "metadata": {},
     "output_type": "execute_result"
    }
   ],
   "source": [
    "[n+1 for n in numbers]"
   ]
  },
  {
   "cell_type": "code",
   "execution_count": 127,
   "id": "836e0621",
   "metadata": {},
   "outputs": [
    {
     "data": {
      "text/plain": [
       "[500, 1400]"
      ]
     },
     "execution_count": 127,
     "metadata": {},
     "output_type": "execute_result"
    }
   ],
   "source": [
    "[datum for datum in data if datum > 300]"
   ]
  },
  {
   "cell_type": "code",
   "execution_count": 102,
   "id": "b68e05a0",
   "metadata": {},
   "outputs": [
    {
     "data": {
      "text/plain": [
       "[4]"
      ]
     },
     "execution_count": 102,
     "metadata": {},
     "output_type": "execute_result"
    }
   ],
   "source": [
    "[n+1 for n in numbers if n > 2]"
   ]
  },
  {
   "cell_type": "markdown",
   "id": "537cbcb9",
   "metadata": {},
   "source": [
    "**If long, format like SQL:**\n",
    "<br>    SELECT\n",
    "<br>    FROM\n",
    "<br>    WHERE"
   ]
  },
  {
   "cell_type": "code",
   "execution_count": null,
   "id": "1e3fd44b",
   "metadata": {},
   "outputs": [],
   "source": [
    "[n+1 \n",
    " for n in numbers \n",
    " if n > 2]"
   ]
  },
  {
   "cell_type": "code",
   "execution_count": null,
   "id": "b4c4a877",
   "metadata": {},
   "outputs": [],
   "source": []
  },
  {
   "cell_type": "code",
   "execution_count": null,
   "id": "1c0f84c8",
   "metadata": {},
   "outputs": [],
   "source": []
  },
  {
   "cell_type": "markdown",
   "id": "bf28bdf2",
   "metadata": {},
   "source": [
    "\n",
    "# Apply"
   ]
  },
  {
   "cell_type": "code",
   "execution_count": 39,
   "id": "c847aae0",
   "metadata": {},
   "outputs": [
    {
     "name": "stdout",
     "output_type": "stream",
     "text": [
      "across rows:\n",
      "\n",
      "0    10.2\n",
      "1     9.5\n",
      "2     9.4\n",
      "dtype: float64\n",
      "\n",
      "across cols:\n"
     ]
    },
    {
     "data": {
      "text/plain": [
       "sepal_length    876.5\n",
       "sepal_width     458.6\n",
       "petal_length    563.7\n",
       "petal_width     179.9\n",
       "target          150.0\n",
       "dtype: float64"
      ]
     },
     "execution_count": 39,
     "metadata": {},
     "output_type": "execute_result"
    }
   ],
   "source": [
    "print(\"across rows:\")\n",
    "print(\"\")\n",
    "print(iris.apply(sum, axis =1)[0:3])\n",
    "print(\"\")\n",
    "print(\"across cols:\")\n",
    "iris.apply(sum, axis =0)"
   ]
  },
  {
   "cell_type": "markdown",
   "id": "740b85d2",
   "metadata": {},
   "source": [
    "### with a user defined function"
   ]
  },
  {
   "cell_type": "code",
   "execution_count": 42,
   "id": "55497f7c",
   "metadata": {},
   "outputs": [
    {
     "data": {
      "text/plain": [
       "0    25.2\n",
       "1    24.5\n",
       "2    24.4\n",
       "dtype: float64"
      ]
     },
     "execution_count": 42,
     "metadata": {},
     "output_type": "execute_result"
    }
   ],
   "source": [
    "def my_calc(x):\n",
    "    return x.sum()+15\n",
    "\n",
    "iris.apply(my_calc, axis =1)[0:3]"
   ]
  },
  {
   "cell_type": "markdown",
   "id": "5ea4f7b1",
   "metadata": {},
   "source": [
    "### with a lambda/anonymous function:"
   ]
  },
  {
   "cell_type": "code",
   "execution_count": 44,
   "id": "6869d1be",
   "metadata": {},
   "outputs": [
    {
     "name": "stdout",
     "output_type": "stream",
     "text": [
      "sepal_length    891.5\n",
      "sepal_width     473.6\n",
      "petal_length    578.7\n",
      "petal_width     194.9\n",
      "target          165.0\n",
      "dtype: float64\n"
     ]
    }
   ],
   "source": [
    "print(iris.apply(lambda x: x.sum()+15,\n",
    "                 axis=0))"
   ]
  }
 ],
 "metadata": {
  "kernelspec": {
   "display_name": "Python 3 (ipykernel)",
   "language": "python",
   "name": "python3"
  },
  "language_info": {
   "codemirror_mode": {
    "name": "ipython",
    "version": 3
   },
   "file_extension": ".py",
   "mimetype": "text/x-python",
   "name": "python",
   "nbconvert_exporter": "python",
   "pygments_lexer": "ipython3",
   "version": "3.7.3"
  }
 },
 "nbformat": 4,
 "nbformat_minor": 5
}
