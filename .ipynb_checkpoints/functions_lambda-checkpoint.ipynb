{
 "cells": [
  {
   "cell_type": "markdown",
   "id": "41595abc",
   "metadata": {},
   "source": [
    "# Setup and get data"
   ]
  },
  {
   "cell_type": "code",
   "execution_count": 10,
   "id": "394f3e66",
   "metadata": {},
   "outputs": [],
   "source": [
    "import pandas as pd\n",
    "import numpy as np\n",
    "import sklearn\n",
    "from sklearn import datasets\n",
    "\n",
    "iris = sklearn.datasets.load_iris()\n",
    "# convert to pandas df\n",
    "iris = pd.DataFrame(np.concatenate((iris.data, np.array([iris.target]).T), axis=1), \n",
    "                    columns=iris.feature_names + ['target'])\n",
    "# clean col names\n",
    "iris.columns = [c.replace(' ', '_') for c in iris.columns]\n",
    "iris.rename(columns={'sepal_length_(cm)': 'sepal_length', \n",
    "                     'sepal_width_(cm)': 'sepal_width', \n",
    "                     'petal_length_(cm)':  'petal_length',\n",
    "                     'petal_width_(cm)': 'petal_width'}, inplace=True)"
   ]
  },
  {
   "cell_type": "markdown",
   "id": "ed97dd35",
   "metadata": {},
   "source": [
    "## Methods and functions sometimes change object, sometimes don't"
   ]
  },
  {
   "cell_type": "markdown",
   "id": "628bbc98",
   "metadata": {},
   "source": [
    "Calling a function does not change the object:"
   ]
  },
  {
   "cell_type": "code",
   "execution_count": 32,
   "id": "d8b94346",
   "metadata": {},
   "outputs": [
    {
     "name": "stdout",
     "output_type": "stream",
     "text": [
      "['l', 'i', 'z', 'z']\n"
     ]
    }
   ],
   "source": [
    "letters=list('liz')\n",
    "sorted(letters) #this version of sorting has to be saved as a result\n",
    "print(letters)"
   ]
  },
  {
   "cell_type": "markdown",
   "id": "f2070067",
   "metadata": {},
   "source": [
    "# Write function"
   ]
  },
  {
   "cell_type": "code",
   "execution_count": 52,
   "id": "52e5dfcd",
   "metadata": {},
   "outputs": [],
   "source": [
    "def add_three(input):\n",
    "  return input + 3"
   ]
  },
  {
   "cell_type": "code",
   "execution_count": 53,
   "id": "cd1c2cb9",
   "metadata": {
    "scrolled": true
   },
   "outputs": [
    {
     "data": {
      "text/plain": [
       "8"
      ]
     },
     "execution_count": 53,
     "metadata": {},
     "output_type": "execute_result"
    }
   ],
   "source": [
    "add_three(5)"
   ]
  },
  {
   "cell_type": "markdown",
   "id": "416b6563",
   "metadata": {},
   "source": [
    "### View properties of a function:"
   ]
  },
  {
   "cell_type": "code",
   "execution_count": 54,
   "id": "731b46b7",
   "metadata": {},
   "outputs": [
    {
     "data": {
      "text/plain": [
       "['__annotations__',\n",
       " '__call__',\n",
       " '__class__',\n",
       " '__closure__',\n",
       " '__code__',\n",
       " '__defaults__',\n",
       " '__delattr__',\n",
       " '__dict__',\n",
       " '__dir__',\n",
       " '__doc__',\n",
       " '__eq__',\n",
       " '__format__',\n",
       " '__ge__',\n",
       " '__get__',\n",
       " '__getattribute__',\n",
       " '__globals__',\n",
       " '__gt__',\n",
       " '__hash__',\n",
       " '__init__',\n",
       " '__init_subclass__',\n",
       " '__kwdefaults__',\n",
       " '__le__',\n",
       " '__lt__',\n",
       " '__module__',\n",
       " '__name__',\n",
       " '__ne__',\n",
       " '__new__',\n",
       " '__qualname__',\n",
       " '__reduce__',\n",
       " '__reduce_ex__',\n",
       " '__repr__',\n",
       " '__setattr__',\n",
       " '__sizeof__',\n",
       " '__str__',\n",
       " '__subclasshook__']"
      ]
     },
     "execution_count": 54,
     "metadata": {},
     "output_type": "execute_result"
    }
   ],
   "source": [
    "dir(add_three)"
   ]
  },
  {
   "cell_type": "markdown",
   "id": "2e4f9bf5",
   "metadata": {},
   "source": [
    "# Docstring"
   ]
  },
  {
   "cell_type": "code",
   "execution_count": 68,
   "id": "480e39cd",
   "metadata": {},
   "outputs": [],
   "source": [
    "%run -i functions.py"
   ]
  },
  {
   "cell_type": "markdown",
   "id": "f7ffb667",
   "metadata": {},
   "source": [
    "In functions.py:"
   ]
  },
  {
   "cell_type": "code",
   "execution_count": 39,
   "id": "0d98d00c",
   "metadata": {},
   "outputs": [],
   "source": [
    "def add_two(number):\n",
    "    \"\"\"one-line summary: add 2 to any number!\n",
    "\n",
    "    further elaboration would go here\n",
    "    this is how addition works\n",
    "    \"\"\"\n",
    "    \n",
    "    return number+2"
   ]
  },
  {
   "cell_type": "markdown",
   "id": "c1d7cee2",
   "metadata": {},
   "source": [
    "When view properties of add_two, ['__doc__'] dunder means it has a docstring:"
   ]
  },
  {
   "cell_type": "code",
   "execution_count": 69,
   "id": "a5b8ddd8",
   "metadata": {},
   "outputs": [
    {
     "data": {
      "text/plain": [
       "['__defaults__', '__delattr__', '__dict__', '__dir__', '__doc__']"
      ]
     },
     "execution_count": 69,
     "metadata": {},
     "output_type": "execute_result"
    }
   ],
   "source": [
    "dir(add_two)[5:10]"
   ]
  },
  {
   "cell_type": "code",
   "execution_count": 70,
   "id": "baff7c77",
   "metadata": {},
   "outputs": [
    {
     "name": "stdout",
     "output_type": "stream",
     "text": [
      "one-line summary: add 2 to any number!\n",
      "\n",
      "    further elaboration would go here\n",
      "    this is how addition works\n",
      "    \n"
     ]
    }
   ],
   "source": [
    "print(add_two.__doc__)"
   ]
  },
  {
   "cell_type": "code",
   "execution_count": 71,
   "id": "43386f5e",
   "metadata": {},
   "outputs": [
    {
     "name": "stdout",
     "output_type": "stream",
     "text": [
      "Help on function add_two in module __main__:\n",
      "\n",
      "add_two(number)\n",
      "    one-line summary: add 2 to any number!\n",
      "    \n",
      "    further elaboration would go here\n",
      "    this is how addition works\n",
      "\n"
     ]
    }
   ],
   "source": [
    "help(add_two)"
   ]
  },
  {
   "cell_type": "code",
   "execution_count": null,
   "id": "6cdb4e21",
   "metadata": {},
   "outputs": [],
   "source": []
  },
  {
   "cell_type": "markdown",
   "id": "67832dde",
   "metadata": {},
   "source": [
    "## lambda functions"
   ]
  },
  {
   "cell_type": "markdown",
   "id": "d7bac770",
   "metadata": {},
   "source": [
    "- single use, single line\n",
    "- named or anonymous"
   ]
  },
  {
   "cell_type": "code",
   "execution_count": null,
   "id": "a3d09ed8",
   "metadata": {},
   "outputs": [],
   "source": []
  },
  {
   "cell_type": "code",
   "execution_count": 31,
   "id": "d436ade2",
   "metadata": {},
   "outputs": [
    {
     "name": "stdout",
     "output_type": "stream",
     "text": [
      "2\n",
      "3\n",
      "4\n",
      "2\n",
      "3\n",
      "4\n"
     ]
    },
    {
     "data": {
      "text/plain": [
       "[(0, (1, 1)), (1, (2, 2)), (2, (3, 3))]"
      ]
     },
     "execution_count": 31,
     "metadata": {},
     "output_type": "execute_result"
    }
   ],
   "source": [
    "# Use list comprehension\n",
    "    # The standard iteration in Python; preserves list format\n",
    "[n+1 for n in [1,2,3]]\n",
    "\n",
    "# instead of for loop\n",
    "for number in [1,2,3]:\n",
    "    print(number+1)\n",
    "\n",
    "# Add enumerate if you need an index\n",
    "list(enumerate([1,2,3]))\n",
    "for index, number in enumerate([1,2,3]):\n",
    "     print(number+1) # index not needed here\n",
    "\n",
    "#  prefer list comp to map\n",
    "map(lambda x:x+1, [1,2,3])\n",
    "\n",
    "# map vs list comp with existing function\n",
    "def add1(x):x+1\n",
    "map(add1, [1,2,3]) \n",
    "[add1(n) for n in [1,2,3]]\n",
    "\n",
    "# apply with lambda\n",
    "numbers=[1,2,3]\n",
    "numbers=pd.Series(numbers)\n",
    "numbers.apply(lambda x:x+1)\n",
    "\n",
    "# zip\n",
    "list(enumerate(zip([1,2,3],[1,2,3])))\n",
    "\n"
   ]
  },
  {
   "cell_type": "code",
   "execution_count": null,
   "id": "b2a3a1d5",
   "metadata": {},
   "outputs": [],
   "source": []
  },
  {
   "cell_type": "code",
   "execution_count": null,
   "id": "1174e578",
   "metadata": {},
   "outputs": [],
   "source": []
  },
  {
   "cell_type": "code",
   "execution_count": null,
   "id": "1ff62b62",
   "metadata": {},
   "outputs": [],
   "source": []
  },
  {
   "cell_type": "markdown",
   "id": "3bc1d81c",
   "metadata": {},
   "source": [
    "### **General form**"
   ]
  },
  {
   "cell_type": "markdown",
   "id": "daf86a6a",
   "metadata": {},
   "source": [
    "`lambda arguments: expression`"
   ]
  },
  {
   "cell_type": "code",
   "execution_count": 1,
   "id": "d2f26924",
   "metadata": {
    "scrolled": true
   },
   "outputs": [
    {
     "data": {
      "text/plain": [
       "<function __main__.<lambda>(input)>"
      ]
     },
     "execution_count": 1,
     "metadata": {},
     "output_type": "execute_result"
    }
   ],
   "source": [
    "lambda input: input + 2"
   ]
  },
  {
   "cell_type": "markdown",
   "id": "a11b0287",
   "metadata": {},
   "source": [
    "### **WithOUT lambda:** long but get a reusable get_first function"
   ]
  },
  {
   "cell_type": "code",
   "execution_count": 24,
   "id": "9fc5a402",
   "metadata": {},
   "outputs": [],
   "source": [
    "dict = [(37,1,3),(2,5,7),(10,2,14)]"
   ]
  },
  {
   "cell_type": "code",
   "execution_count": 27,
   "id": "15789728",
   "metadata": {},
   "outputs": [
    {
     "data": {
      "text/plain": [
       "[(2, 5, 7), (10, 2, 14), (37, 1, 3)]"
      ]
     },
     "execution_count": 27,
     "metadata": {},
     "output_type": "execute_result"
    }
   ],
   "source": [
    "def get_first(x):  # return 1st element of a list or tuple\n",
    "    return x[0]\n",
    "dict.sort(key = get_first) # explicit, but hard to read: have to look elsewhere to know what get_first is\n",
    "dict"
   ]
  },
  {
   "cell_type": "markdown",
   "id": "3ce5b1f6",
   "metadata": {},
   "source": [
    "### **With lambda:** short but no reusable function"
   ]
  },
  {
   "cell_type": "markdown",
   "id": "a84ba8af",
   "metadata": {},
   "source": [
    "basically don't need **def** or **return**"
   ]
  },
  {
   "cell_type": "code",
   "execution_count": 26,
   "id": "71c83f57",
   "metadata": {},
   "outputs": [
    {
     "data": {
      "text/plain": [
       "[(2, 5, 7), (10, 2, 14), (37, 1, 3)]"
      ]
     },
     "execution_count": 26,
     "metadata": {},
     "output_type": "execute_result"
    }
   ],
   "source": [
    "dict.sort(key = lambda x: x[0])\n",
    "dict"
   ]
  },
  {
   "cell_type": "markdown",
   "id": "28746bd8",
   "metadata": {},
   "source": [
    "### **Named lambda**"
   ]
  },
  {
   "cell_type": "code",
   "execution_count": 28,
   "id": "26bb0965",
   "metadata": {},
   "outputs": [
    {
     "data": {
      "text/plain": [
       "[(2, 5, 7), (10, 2, 14), (37, 1, 3)]"
      ]
     },
     "execution_count": 28,
     "metadata": {},
     "output_type": "execute_result"
    }
   ],
   "source": [
    "get_first = lambda x: x[0]\n",
    "dict.sort(key = get_first)\n",
    "dict"
   ]
  },
  {
   "cell_type": "markdown",
   "id": "8511991a",
   "metadata": {},
   "source": [
    "### Use inside other functions like **apply**, **map**"
   ]
  },
  {
   "cell_type": "code",
   "execution_count": 36,
   "id": "4d8351e3",
   "metadata": {},
   "outputs": [
    {
     "data": {
      "text/html": [
       "<div>\n",
       "<style scoped>\n",
       "    .dataframe tbody tr th:only-of-type {\n",
       "        vertical-align: middle;\n",
       "    }\n",
       "\n",
       "    .dataframe tbody tr th {\n",
       "        vertical-align: top;\n",
       "    }\n",
       "\n",
       "    .dataframe thead th {\n",
       "        text-align: right;\n",
       "    }\n",
       "</style>\n",
       "<table border=\"1\" class=\"dataframe\">\n",
       "  <thead>\n",
       "    <tr style=\"text-align: right;\">\n",
       "      <th></th>\n",
       "      <th>sepal_length</th>\n",
       "      <th>sepal_width</th>\n",
       "      <th>petal_length</th>\n",
       "      <th>petal_width</th>\n",
       "      <th>target</th>\n",
       "      <th>size</th>\n",
       "    </tr>\n",
       "  </thead>\n",
       "  <tbody>\n",
       "    <tr>\n",
       "      <th>0</th>\n",
       "      <td>5.1</td>\n",
       "      <td>3.5</td>\n",
       "      <td>1.4</td>\n",
       "      <td>0.2</td>\n",
       "      <td>0.0</td>\n",
       "      <td>big</td>\n",
       "    </tr>\n",
       "    <tr>\n",
       "      <th>1</th>\n",
       "      <td>4.9</td>\n",
       "      <td>3.0</td>\n",
       "      <td>1.4</td>\n",
       "      <td>0.2</td>\n",
       "      <td>0.0</td>\n",
       "      <td>None</td>\n",
       "    </tr>\n",
       "    <tr>\n",
       "      <th>2</th>\n",
       "      <td>4.7</td>\n",
       "      <td>3.2</td>\n",
       "      <td>1.3</td>\n",
       "      <td>0.2</td>\n",
       "      <td>0.0</td>\n",
       "      <td>None</td>\n",
       "    </tr>\n",
       "  </tbody>\n",
       "</table>\n",
       "</div>"
      ],
      "text/plain": [
       "   sepal_length  sepal_width  petal_length  petal_width  target  size\n",
       "0           5.1          3.5           1.4          0.2     0.0   big\n",
       "1           4.9          3.0           1.4          0.2     0.0  None\n",
       "2           4.7          3.2           1.3          0.2     0.0  None"
      ]
     },
     "execution_count": 36,
     "metadata": {},
     "output_type": "execute_result"
    }
   ],
   "source": [
    "def size(sepal_length):\n",
    "    if sepal_length > 5:\n",
    "        return \"big\"\n",
    "    \n",
    "iris['size'] = iris.apply(lambda x: size(x['sepal_length']),axis=1)\n",
    "iris[0:3]"
   ]
  },
  {
   "cell_type": "markdown",
   "id": "6f7cb7be",
   "metadata": {},
   "source": [
    "Multiple conditions:"
   ]
  },
  {
   "cell_type": "code",
   "execution_count": 33,
   "id": "df0c65a8",
   "metadata": {},
   "outputs": [
    {
     "data": {
      "text/html": [
       "<div>\n",
       "<style scoped>\n",
       "    .dataframe tbody tr th:only-of-type {\n",
       "        vertical-align: middle;\n",
       "    }\n",
       "\n",
       "    .dataframe tbody tr th {\n",
       "        vertical-align: top;\n",
       "    }\n",
       "\n",
       "    .dataframe thead th {\n",
       "        text-align: right;\n",
       "    }\n",
       "</style>\n",
       "<table border=\"1\" class=\"dataframe\">\n",
       "  <thead>\n",
       "    <tr style=\"text-align: right;\">\n",
       "      <th></th>\n",
       "      <th>sepal_length</th>\n",
       "      <th>sepal_width</th>\n",
       "      <th>petal_length</th>\n",
       "      <th>petal_width</th>\n",
       "      <th>target</th>\n",
       "      <th>size</th>\n",
       "    </tr>\n",
       "  </thead>\n",
       "  <tbody>\n",
       "    <tr>\n",
       "      <th>0</th>\n",
       "      <td>5.1</td>\n",
       "      <td>3.5</td>\n",
       "      <td>1.4</td>\n",
       "      <td>0.2</td>\n",
       "      <td>0.0</td>\n",
       "      <td>big</td>\n",
       "    </tr>\n",
       "    <tr>\n",
       "      <th>1</th>\n",
       "      <td>4.9</td>\n",
       "      <td>3.0</td>\n",
       "      <td>1.4</td>\n",
       "      <td>0.2</td>\n",
       "      <td>0.0</td>\n",
       "      <td>small</td>\n",
       "    </tr>\n",
       "    <tr>\n",
       "      <th>2</th>\n",
       "      <td>4.7</td>\n",
       "      <td>3.2</td>\n",
       "      <td>1.3</td>\n",
       "      <td>0.2</td>\n",
       "      <td>0.0</td>\n",
       "      <td>big</td>\n",
       "    </tr>\n",
       "  </tbody>\n",
       "</table>\n",
       "</div>"
      ],
      "text/plain": [
       "   sepal_length  sepal_width  petal_length  petal_width  target   size\n",
       "0           5.1          3.5           1.4          0.2     0.0    big\n",
       "1           4.9          3.0           1.4          0.2     0.0  small\n",
       "2           4.7          3.2           1.3          0.2     0.0    big"
      ]
     },
     "execution_count": 33,
     "metadata": {},
     "output_type": "execute_result"
    }
   ],
   "source": [
    "def size(sepal_length,sepal_width):\n",
    "    if sepal_length > 4 and sepal_width > 3:\n",
    "        return \"big\"\n",
    "    else:\n",
    "        return \"small\"\n",
    "    \n",
    "iris['size'] = iris.apply(lambda x: size(x['sepal_length'],x['sepal_width']),axis=1)\n",
    "iris[0:3]"
   ]
  },
  {
   "cell_type": "code",
   "execution_count": null,
   "id": "afab87bb",
   "metadata": {},
   "outputs": [],
   "source": []
  },
  {
   "cell_type": "code",
   "execution_count": null,
   "id": "65ae7ceb",
   "metadata": {},
   "outputs": [],
   "source": []
  },
  {
   "cell_type": "markdown",
   "id": "2deffc32",
   "metadata": {},
   "source": [
    "## `*args` and `**kwargs`\n"
   ]
  },
  {
   "cell_type": "markdown",
   "id": "76e0a585",
   "metadata": {},
   "source": [
    "https://realpython.com/python-kwargs-and-args/\n",
    "<br>let your functions take an arbitrary number of keyword arguments (\"kwargs\" means \"keyword arguments\")"
   ]
  },
  {
   "cell_type": "markdown",
   "id": "514ebfb2",
   "metadata": {},
   "source": [
    "`*args`"
   ]
  },
  {
   "cell_type": "code",
   "execution_count": 69,
   "id": "da04b6dd",
   "metadata": {},
   "outputs": [
    {
     "name": "stdout",
     "output_type": "stream",
     "text": [
      "first normal arg: 1\n",
      "another arg through *arglist: 3\n",
      "another arg through *arglist: hi\n"
     ]
    }
   ],
   "source": [
    "def myFun(normal_arg, *arglist):\n",
    "    print(\"first normal arg:\", normal_arg)\n",
    "    for arg in arglist:\n",
    "        print(\"another arg through *arglist:\", arg)\n",
    "\n",
    "myFun('1', 3, 'hi')"
   ]
  },
  {
   "cell_type": "markdown",
   "id": "eb40313f",
   "metadata": {},
   "source": [
    "`*` \"unpacks\" the passed tuple (NOT a list)."
   ]
  },
  {
   "cell_type": "markdown",
   "id": "b729e83a",
   "metadata": {},
   "source": [
    "`**kwargs`"
   ]
  },
  {
   "cell_type": "code",
   "execution_count": 71,
   "id": "199b3535",
   "metadata": {},
   "outputs": [
    {
     "name": "stdout",
     "output_type": "stream",
     "text": [
      "('first', 'li')\n",
      "('mid', 're')\n",
      "('now', 5)\n"
     ]
    }
   ],
   "source": [
    "def myFun(**kwargs):\n",
    "    for key, value in kwargs.items():\n",
    "        print ((key, value))\n",
    " \n",
    "myFun(first ='li', mid ='re', now = 5)   "
   ]
  },
  {
   "cell_type": "markdown",
   "id": "a8dca990",
   "metadata": {},
   "source": [
    "Why?\n",
    "<br>https://stackoverflow.com/questions/1769403/what-is-the-purpose-and-use-of-kwargs\n",
    "<br>because ** unpacks dictionaries:\n"
   ]
  },
  {
   "cell_type": "markdown",
   "id": "ebb49ac3",
   "metadata": {},
   "source": [
    "the `myFun(first ='li', mid ='re', now = 5)` above\n",
    "<br> is the same as"
   ]
  },
  {
   "cell_type": "code",
   "execution_count": 74,
   "id": "8285179e",
   "metadata": {},
   "outputs": [
    {
     "name": "stdout",
     "output_type": "stream",
     "text": [
      "('first', 'li')\n",
      "('mid', 're')\n",
      "('now', 5)\n"
     ]
    }
   ],
   "source": [
    "args = {'first': 'li', 'mid': 're', 'now': 5}\n",
    "myFun(**args)"
   ]
  },
  {
   "cell_type": "markdown",
   "id": "ef21fa7b",
   "metadata": {},
   "source": [
    "## try"
   ]
  },
  {
   "cell_type": "code",
   "execution_count": null,
   "id": "73d63791",
   "metadata": {},
   "outputs": [],
   "source": [
    "import logging\n",
    "logger = logging.getLogger('Training')\n",
    "#logger.setLevel(LEVELS['DEBUG'])\n"
   ]
  },
  {
   "cell_type": "code",
   "execution_count": null,
   "id": "2dcb6c4f",
   "metadata": {},
   "outputs": [],
   "source": [
    " try:\n",
    "            logger.info(f'Initializing the configuration for {kwargs[\"workspace\"]} feature retrieval...')\n",
    "        except Exception as e:\n",
    "            #error\n",
    "            logger.info(e)\n",
    "            raise e"
   ]
  },
  {
   "cell_type": "code",
   "execution_count": null,
   "id": "b0ef0812",
   "metadata": {},
   "outputs": [],
   "source": [
    "class Feature():\n",
    "    def __init__(self, **kwargs):\n",
    "\n",
    "         try:\n",
    "            if not kwargs['num_months']:\n",
    "                num_months = params['range']['num_months']\n",
    "                if num_months < MIN_MONTHS | num_months > MAX_MONTHS:\n",
    "                    raise RuntimeError(f'Invalid num_months specified {num_months} in config, the value'\n",
    "                                        'should be between {MIN_MONTHS} & {MAX_MONTHS}')\n",
    "            else:\n",
    "                num_months = kwargs['num_months']\n",
    "                params['range']['num_months'] = kwargs['num_months']\n",
    "\n",
    "        except Exception as e:\n",
    "            #error\n",
    "            logger.exception(f'Error occurred :- {e}')\n",
    "            raise e"
   ]
  },
  {
   "cell_type": "markdown",
   "id": "4a942054",
   "metadata": {},
   "source": [
    "# Decorator function"
   ]
  },
  {
   "cell_type": "markdown",
   "id": "e36005a5",
   "metadata": {},
   "source": [
    "https://towardsdatascience.com/five-advanced-python-features-169c96682350\n",
    "    \n",
    "allow us to modify the behavior of a function without explicitly modifying our function."
   ]
  },
  {
   "cell_type": "code",
   "execution_count": null,
   "id": "9c92924c",
   "metadata": {},
   "outputs": [],
   "source": []
  }
 ],
 "metadata": {
  "kernelspec": {
   "display_name": "Python 3 (ipykernel)",
   "language": "python",
   "name": "python3"
  },
  "language_info": {
   "codemirror_mode": {
    "name": "ipython",
    "version": 3
   },
   "file_extension": ".py",
   "mimetype": "text/x-python",
   "name": "python",
   "nbconvert_exporter": "python",
   "pygments_lexer": "ipython3",
   "version": "3.7.3"
  }
 },
 "nbformat": 4,
 "nbformat_minor": 5
}
