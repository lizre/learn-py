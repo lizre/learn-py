{
 "cells": [
  {
   "cell_type": "markdown",
   "id": "869e6653",
   "metadata": {},
   "source": [
    "# Setup and get data"
   ]
  },
  {
   "cell_type": "code",
   "execution_count": 37,
   "id": "2a046825",
   "metadata": {},
   "outputs": [],
   "source": [
    "import pandas as pd\n",
    "import numpy as np\n",
    "import sklearn\n",
    "from sklearn import datasets\n",
    "import math\n",
    "iris = sklearn.datasets.load_iris()\n",
    "# convert to pandas df\n",
    "iris = pd.DataFrame(np.concatenate((iris.data, np.array([iris.target]).T), axis=1), \n",
    "                    columns=iris.feature_names + ['target'])\n",
    "# clean col names\n",
    "iris.columns = [c.replace(' ', '_') for c in iris.columns]\n",
    "iris.rename(columns={'sepal_length_(cm)': 'sepal_length', \n",
    "                     'sepal_width_(cm)': 'sepal_width', \n",
    "                     'petal_length_(cm)':  'petal_length',\n",
    "                     'petal_width_(cm)': 'petal_width'}, inplace=True)"
   ]
  },
  {
   "cell_type": "markdown",
   "id": "3b73dc2e",
   "metadata": {},
   "source": [
    "# Naming"
   ]
  },
  {
   "cell_type": "code",
   "execution_count": null,
   "id": "271c6813",
   "metadata": {},
   "outputs": [],
   "source": [
    "def my_function():\n",
    "\n",
    "my_variable\n",
    "\n",
    "CONSTANT = 3\n",
    "\n",
    "class CamelCase():\n",
    "    \n",
    "mypackage"
   ]
  },
  {
   "cell_type": "markdown",
   "id": "9f69fd99",
   "metadata": {},
   "source": [
    "## Whitespace"
   ]
  },
  {
   "cell_type": "markdown",
   "id": "91a4b284",
   "metadata": {},
   "source": [
    "Dont mix tabs and spaces. \n",
    "\n",
    "Use whitespace around binary operators (“x = 5”) unless:\n",
    "- setting default value in function ( “function(x=5)”)\n",
    "- Multiple operators: x = y*2 + x*3"
   ]
  },
  {
   "cell_type": "markdown",
   "id": "77c2dade",
   "metadata": {},
   "source": [
    "## Linting"
   ]
  },
  {
   "cell_type": "markdown",
   "id": "ab34d8b3",
   "metadata": {},
   "source": [
    "#### pycodestyle"
   ]
  },
  {
   "cell_type": "markdown",
   "id": "e8a23e83",
   "metadata": {},
   "source": [
    "Save script.py as:\n",
    "\n",
    "x = 5\n",
    "<br>print(x+  10)"
   ]
  },
  {
   "cell_type": "markdown",
   "id": "735c5519",
   "metadata": {},
   "source": [
    "Lizs-MacBook-Pro:learn-py lizre$ pycodestyle script.py\n",
    "<br>script.py:2:8: E225 missing whitespace around operator"
   ]
  },
  {
   "cell_type": "markdown",
   "id": "1aea5549",
   "metadata": {},
   "source": [
    "#### Flake8 \n",
    "also shows errors :\n",
    "    \n",
    "x = 5\n",
    "<br>print(y+  10)"
   ]
  },
  {
   "cell_type": "markdown",
   "id": "117d80e5",
   "metadata": {},
   "source": [
    "Lizs-MacBook-Pro:learn-py lizre$ flake8 script.py\n",
    "<br>script.py:2:7: F821 undefined name 'y'\n",
    "<br>script.py:2:8: E225 missing whitespace around operator"
   ]
  },
  {
   "cell_type": "markdown",
   "id": "0f21a5c1",
   "metadata": {},
   "source": [
    "#### formatter: black"
   ]
  },
  {
   "cell_type": "markdown",
   "id": "2e092820",
   "metadata": {},
   "source": [
    "pip install black\n",
    "<br>Lizs-MacBook-Pro:learn-py lizre$ black script.py\n",
    "<br>**reformatted script.py**\n",
    "<br>**All done! ✨ 🍰 ✨**\n",
    "<br>**1 file reformatted.**"
   ]
  },
  {
   "cell_type": "markdown",
   "id": "d7c03525",
   "metadata": {},
   "source": [
    "## True and False vs Truthy and Falsy\n"
   ]
  },
  {
   "cell_type": "markdown",
   "id": "8e6e4e47",
   "metadata": {},
   "source": [
    "https://stackoverflow.com/questions/39983695/what-is-truthy-and-falsy-how-is-it-different-from-true-and-false"
   ]
  },
  {
   "cell_type": "markdown",
   "id": "4b171e25",
   "metadata": {},
   "source": [
    "**Truthy values:** values where bool(value) evaluates to True"
   ]
  },
  {
   "cell_type": "code",
   "execution_count": 2,
   "id": "3739746d",
   "metadata": {},
   "outputs": [
    {
     "data": {
      "text/plain": [
       "True"
      ]
     },
     "execution_count": 2,
     "metadata": {},
     "output_type": "execute_result"
    }
   ],
   "source": [
    "bool(5 > 3)"
   ]
  },
  {
   "cell_type": "code",
   "execution_count": 24,
   "id": "54ec0e41",
   "metadata": {},
   "outputs": [
    {
     "data": {
      "text/plain": [
       "True"
      ]
     },
     "execution_count": 24,
     "metadata": {},
     "output_type": "execute_result"
    }
   ],
   "source": [
    "bool(100)"
   ]
  },
  {
   "cell_type": "code",
   "execution_count": 43,
   "id": "79e619d7",
   "metadata": {},
   "outputs": [
    {
     "name": "stdout",
     "output_type": "stream",
     "text": [
      "value is truthy: evaluates to true\n"
     ]
    }
   ],
   "source": [
    "value = 11 > 3\n",
    "if value:\n",
    "    print(\"value is truthy: evaluates to true\")\n",
    "else:\n",
    "    print(\"not truthy\")"
   ]
  },
  {
   "cell_type": "code",
   "execution_count": 31,
   "id": "ad1cf29b",
   "metadata": {},
   "outputs": [],
   "source": [
    "x = bool(1)"
   ]
  },
  {
   "cell_type": "code",
   "execution_count": 42,
   "id": "9bef230d",
   "metadata": {},
   "outputs": [
    {
     "name": "stdout",
     "output_type": "stream",
     "text": [
      "True is truthy: evaluates to true\n"
     ]
    }
   ],
   "source": [
    "if x == True:\n",
    "    print(value, \"is truthy: evaluates to true\")\n",
    "else:\n",
    "    print(\"not\")"
   ]
  },
  {
   "cell_type": "markdown",
   "id": "c7d28724",
   "metadata": {},
   "source": [
    "**Falsy values**"
   ]
  },
  {
   "cell_type": "code",
   "execution_count": 25,
   "id": "75a094a3",
   "metadata": {},
   "outputs": [
    {
     "data": {
      "text/plain": [
       "False"
      ]
     },
     "execution_count": 25,
     "metadata": {},
     "output_type": "execute_result"
    }
   ],
   "source": [
    "bool(0)"
   ]
  },
  {
   "cell_type": "markdown",
   "id": "695e4534",
   "metadata": {},
   "source": [
    "Empty stuff are falsy:"
   ]
  },
  {
   "cell_type": "code",
   "execution_count": 49,
   "id": "0779e386",
   "metadata": {},
   "outputs": [
    {
     "name": "stdout",
     "output_type": "stream",
     "text": [
      "False\n"
     ]
    },
    {
     "data": {
      "text/plain": [
       "False"
      ]
     },
     "execution_count": 49,
     "metadata": {},
     "output_type": "execute_result"
    }
   ],
   "source": [
    "print(bool([])); bool(\"\")"
   ]
  },
  {
   "cell_type": "code",
   "execution_count": 50,
   "id": "a862bcc0",
   "metadata": {},
   "outputs": [
    {
     "data": {
      "text/plain": [
       "False"
      ]
     },
     "execution_count": 50,
     "metadata": {},
     "output_type": "execute_result"
    }
   ],
   "source": [
    "bool(None)"
   ]
  },
  {
   "cell_type": "code",
   "execution_count": null,
   "id": "9b362918",
   "metadata": {},
   "outputs": [],
   "source": []
  },
  {
   "cell_type": "code",
   "execution_count": null,
   "id": "f504dd13",
   "metadata": {},
   "outputs": [],
   "source": []
  },
  {
   "cell_type": "code",
   "execution_count": null,
   "id": "5ccb40a2",
   "metadata": {},
   "outputs": [],
   "source": []
  }
 ],
 "metadata": {
  "kernelspec": {
   "display_name": "Python 3 (ipykernel)",
   "language": "python",
   "name": "python3"
  },
  "language_info": {
   "codemirror_mode": {
    "name": "ipython",
    "version": 3
   },
   "file_extension": ".py",
   "mimetype": "text/x-python",
   "name": "python",
   "nbconvert_exporter": "python",
   "pygments_lexer": "ipython3",
   "version": "3.7.3"
  }
 },
 "nbformat": 4,
 "nbformat_minor": 5
}
