{
 "cells": [
  {
   "cell_type": "markdown",
   "id": "869e6653",
   "metadata": {},
   "source": [
    "# Gotchas"
   ]
  },
  {
   "cell_type": "markdown",
   "id": "e15b93d9",
   "metadata": {},
   "source": [
    "## Results don't match between packages or other languages (like R)\n",
    "May be using different formulas or rounding, even for very simple things like SD.\n",
    "[example](https://twitter.com/lennybronner/status/1487940488699252744): #rstats standard deviation function uses the Bessel corrected estimate while #numpy does not.\n",
    "\n",
    "## int is not an int\n",
    "- There are Two Int types\n",
    "- fbprophet/pystan expect little-i int64, throws a a really annoying \"this datatype is not an integer or float\" error for big-I Int64\n",
    "- \"int64\" and \"Int64\" are different dtypes in pandas and many libraries don't like one of them \n",
    "- azure pythonlibrary had different default dtypes based on whether you use it in a notebook or a script!!!! The one with the capital I is the bad one, it's a custom \"nullable integer\" type\n"
   ]
  }
 ],
 "metadata": {
  "kernelspec": {
   "display_name": "Python 3 (ipykernel)",
   "language": "python",
   "name": "python3"
  },
  "language_info": {
   "codemirror_mode": {
    "name": "ipython",
    "version": 3
   },
   "file_extension": ".py",
   "mimetype": "text/x-python",
   "name": "python",
   "nbconvert_exporter": "python",
   "pygments_lexer": "ipython3",
   "version": "3.7.3"
  }
 },
 "nbformat": 4,
 "nbformat_minor": 5
}
