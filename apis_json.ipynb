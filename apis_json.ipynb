{
 "cells": [
  {
   "cell_type": "markdown",
   "id": "869e6653",
   "metadata": {},
   "source": [
    "# APIs"
   ]
  },
  {
   "cell_type": "markdown",
   "id": "8ed5a505",
   "metadata": {},
   "source": [
    "### Getting responses"
   ]
  },
  {
   "cell_type": "code",
   "execution_count": 57,
   "id": "57993171",
   "metadata": {
    "scrolled": true
   },
   "outputs": [],
   "source": [
    "import requests\n",
    "\n",
    "response = requests.get(url = \"https://api.github.com/users/lizre\")\n"
   ]
  },
  {
   "cell_type": "code",
   "execution_count": 58,
   "id": "7c62e828",
   "metadata": {},
   "outputs": [
    {
     "data": {
      "text/plain": [
       "200"
      ]
     },
     "execution_count": 58,
     "metadata": {},
     "output_type": "execute_result"
    }
   ],
   "source": [
    "response.status_code"
   ]
  },
  {
   "cell_type": "markdown",
   "id": "32d4873c",
   "metadata": {},
   "source": [
    "for no good reason, the developers of the \"requests\" package chose to make this only return the status code:"
   ]
  },
  {
   "cell_type": "code",
   "execution_count": 14,
   "id": "00219211",
   "metadata": {},
   "outputs": [
    {
     "data": {
      "text/plain": [
       "<Response [200]>"
      ]
     },
     "execution_count": 14,
     "metadata": {},
     "output_type": "execute_result"
    }
   ],
   "source": [
    "response"
   ]
  },
  {
   "cell_type": "markdown",
   "id": "fb2f8dbb",
   "metadata": {},
   "source": [
    "headers are metadata about the response, such as its content type, length, encoding."
   ]
  },
  {
   "cell_type": "code",
   "execution_count": 37,
   "id": "a8115ae0",
   "metadata": {
    "scrolled": true
   },
   "outputs": [
    {
     "data": {
      "text/plain": [
       "{'Server': 'GitHub.com', 'Date': 'Wed, 06 Dec 2023 16:57:35 GMT', 'Content-Type': 'application/json; charset=utf-8', 'Cache-Control': 'public, max-age=60, s-maxage=60', 'Vary': 'Accept, Accept-Encoding, Accept, X-Requested-With', 'ETag': 'W/\"27d0f2222894dffe34909cbb2adad2e816c6539cb30c355c2de3077360e970da\"', 'Last-Modified': 'Thu, 09 Nov 2023 20:16:03 GMT', 'X-GitHub-Media-Type': 'github.v3; format=json', 'x-github-api-version-selected': '2022-11-28', 'Access-Control-Expose-Headers': 'ETag, Link, Location, Retry-After, X-GitHub-OTP, X-RateLimit-Limit, X-RateLimit-Remaining, X-RateLimit-Used, X-RateLimit-Resource, X-RateLimit-Reset, X-OAuth-Scopes, X-Accepted-OAuth-Scopes, X-Poll-Interval, X-GitHub-Media-Type, X-GitHub-SSO, X-GitHub-Request-Id, Deprecation, Sunset', 'Access-Control-Allow-Origin': '*', 'Strict-Transport-Security': 'max-age=31536000; includeSubdomains; preload', 'X-Frame-Options': 'deny', 'X-Content-Type-Options': 'nosniff', 'X-XSS-Protection': '0', 'Referrer-Policy': 'origin-when-cross-origin, strict-origin-when-cross-origin', 'Content-Security-Policy': \"default-src 'none'\", 'Content-Encoding': 'gzip', 'X-RateLimit-Limit': '60', 'X-RateLimit-Remaining': '48', 'X-RateLimit-Reset': '1701884710', 'X-RateLimit-Resource': 'core', 'X-RateLimit-Used': '12', 'Accept-Ranges': 'bytes', 'Content-Length': '490', 'X-GitHub-Request-Id': 'FAC5:5791:4700FE:494EE4:6570A7FF'}"
      ]
     },
     "execution_count": 37,
     "metadata": {},
     "output_type": "execute_result"
    }
   ],
   "source": [
    "response.headers"
   ]
  },
  {
   "cell_type": "markdown",
   "id": "d8a47d19",
   "metadata": {},
   "source": [
    "### `requests` methods: `get` vs `post`"
   ]
  },
  {
   "cell_type": "markdown",
   "id": "1d467b27",
   "metadata": {},
   "source": [
    "- request.get to request/read data\n",
    "- request.post to send data "
   ]
  },
  {
   "cell_type": "markdown",
   "id": "47ebb360",
   "metadata": {},
   "source": [
    "But doesn't our requests.get(url = \"https://api.github.com/users/lizre\") send data?: the url?\n",
    "\n",
    "Yes, but _only_ in the url.\n",
    "\n",
    "For post, there's a `data` argument."
   ]
  },
  {
   "cell_type": "code",
   "execution_count": 70,
   "id": "4b775147",
   "metadata": {},
   "outputs": [
    {
     "data": {
      "text/plain": [
       "{'args': {},\n",
       " 'data': '',\n",
       " 'files': {},\n",
       " 'form': {'email': 'me@example.com', 'name': 'me'},\n",
       " 'headers': {'Accept': '*/*',\n",
       "  'Accept-Encoding': 'gzip, deflate',\n",
       "  'Content-Length': '30',\n",
       "  'Content-Type': 'application/x-www-form-urlencoded',\n",
       "  'Host': 'httpbin.org',\n",
       "  'User-Agent': 'python-requests/2.31.0',\n",
       "  'X-Amzn-Trace-Id': 'Root=1-6570bd5d-73247020284d1fd367c6798a'},\n",
       " 'json': None,\n",
       " 'origin': '73.170.199.50',\n",
       " 'url': 'https://httpbin.org/post'}"
      ]
     },
     "execution_count": 70,
     "metadata": {},
     "output_type": "execute_result"
    }
   ],
   "source": [
    "\n",
    "response = requests.post(\n",
    "                        \"https://httpbin.org/post\" # A simple HTTP Request & Response Service.\n",
    "                        , data = {'name': 'me', 'email': 'me@example.com'}\n",
    "                        )\n",
    "\n",
    "response.json()"
   ]
  },
  {
   "cell_type": "markdown",
   "id": "d21f6704",
   "metadata": {},
   "source": [
    "### Status codes"
   ]
  },
  {
   "cell_type": "markdown",
   "id": "b0646cc5",
   "metadata": {},
   "source": [
    "- `200`: OK. The request was successful.\n",
    "- `201`: Created. The request was successful and a resource was created as a result. This is typically the response sent after POST requests.\n",
    "- `204`: No Content. The request was successful, but there's no representation to return (i.e. the response is empty).\n",
    "- `400`: Bad Request. The request could not be understood or was missing required parameters.\n",
    "- `401`: Unauthorized. Authentication failed or was not provided.\n",
    "- `403`: Forbidden. Authentication succeeded but the authenticated user does not have access to the requested resource.\n",
    "- `404`: Not Found. The requested resource could not be found.\n",
    "- `405`: Method Not Allowed. The method or verb used by the request is not allowed.\n",
    "- `500`: Internal Server Error. An error occurred in the server."
   ]
  },
  {
   "cell_type": "markdown",
   "id": "481b5795",
   "metadata": {},
   "source": [
    "### `requests` exceptions"
   ]
  },
  {
   "cell_type": "markdown",
   "id": "7016b7b3",
   "metadata": {},
   "source": [
    "requests.exceptions.RequestException: This is the base exception class for requests. All other requests exceptions inherit from this one. It's a catch-all exception for when something goes wrong.\n",
    "\n",
    "requests.exceptions.ConnectionError: Raised when a network problem occurs, like a DNS resolution failure, refused connection, etc.\n",
    "\n",
    "requests.exceptions.HTTPError: Raised when an HTTP error occurs. You can call Response.raise_for_status() to throw this error if the HTTP request returned an unsuccessful status code.\n",
    "\n",
    "requests.exceptions.Timeout: Raised when a request times out.\n",
    "\n",
    "requests.exceptions.TooManyRedirects: Raised when a request exceeds the configured number of maximum redirections."
   ]
  },
  {
   "cell_type": "markdown",
   "id": "625ceb3f",
   "metadata": {},
   "source": [
    "# What is json"
   ]
  },
  {
   "cell_type": "markdown",
   "id": "806c9da5",
   "metadata": {},
   "source": [
    "- JavaScript Object Notation\n",
    "- language independent\n",
    "- use https://jsonlint.com/ to validate format\n"
   ]
  },
  {
   "cell_type": "markdown",
   "id": "e113cf58",
   "metadata": {},
   "source": [
    "# JSON string vs native JSON object"
   ]
  },
  {
   "cell_type": "markdown",
   "id": "01323b92",
   "metadata": {},
   "source": [
    "### JSON string\n",
    "a string representation of a JSON object, formatted according to the JSON (JavaScript Object Notation) standard.\n",
    "\n",
    "See the quotes (`'`) around it?"
   ]
  },
  {
   "cell_type": "code",
   "execution_count": 28,
   "id": "83bb9859",
   "metadata": {
    "scrolled": true
   },
   "outputs": [
    {
     "data": {
      "text/plain": [
       "'{\"login\":\"lizre\",\"id\":38010821,\"node_id\":\"MDQ6VXNlcjM4MDEwODIx\",\"avatar_url\":\"https://avatars.githubusercontent.com/u/38010821?v=4\",\"gravatar_id\":\"\",\"url\":\"https://api.github.com/users/lizre\",\"html_url\":\"https://github.com/lizre\",\"followers_url\":\"https://api.github.com/users/lizre/followers\",\"following_url\":\"https://api.github.com/users/lizre/following{/other_user}\",\"gists_url\":\"https://api.github.com/users/lizre/gists{/gist_id}\",\"starred_url\":\"https://api.github.com/users/lizre/starred{/owner}{/repo}\",\"subscriptions_url\":\"https://api.github.com/users/lizre/subscriptions\",\"organizations_url\":\"https://api.github.com/users/lizre/orgs\",\"repos_url\":\"https://api.github.com/users/lizre/repos\",\"events_url\":\"https://api.github.com/users/lizre/events{/privacy}\",\"received_events_url\":\"https://api.github.com/users/lizre/received_events\",\"type\":\"User\",\"site_admin\":true,\"name\":\"lizzie redford\",\"company\":null,\"blog\":\"lizredford.weebly.com\",\"location\":\"Florida, USA\",\"email\":null,\"hireable\":null,\"bio\":null,\"twitter_username\":null,\"public_repos\":18,\"public_gists\":0,\"followers\":17,\"following\":23,\"created_at\":\"2018-04-02T15:50:27Z\",\"updated_at\":\"2023-11-09T20:16:03Z\"}'"
      ]
     },
     "execution_count": 28,
     "metadata": {},
     "output_type": "execute_result"
    }
   ],
   "source": [
    "response.text"
   ]
  },
  {
   "cell_type": "code",
   "execution_count": 33,
   "id": "34b23f9b",
   "metadata": {},
   "outputs": [
    {
     "data": {
      "text/plain": [
       "str"
      ]
     },
     "execution_count": 33,
     "metadata": {},
     "output_type": "execute_result"
    }
   ],
   "source": [
    "type(response.text)"
   ]
  },
  {
   "cell_type": "markdown",
   "id": "4fc9c32b",
   "metadata": {},
   "source": [
    "### Native JavaScript object\n",
    "- an instance of the Object data type in JavaScript.\n",
    "- a collection of properties, where each property is a key-value pair. \n",
    "- Keys are always strings, and values can be any data type."
   ]
  },
  {
   "cell_type": "code",
   "execution_count": 30,
   "id": "f44a5937",
   "metadata": {},
   "outputs": [
    {
     "data": {
      "text/plain": [
       "{'login': 'lizre',\n",
       " 'id': 38010821,\n",
       " 'node_id': 'MDQ6VXNlcjM4MDEwODIx',\n",
       " 'avatar_url': 'https://avatars.githubusercontent.com/u/38010821?v=4',\n",
       " 'gravatar_id': '',\n",
       " 'url': 'https://api.github.com/users/lizre',\n",
       " 'html_url': 'https://github.com/lizre',\n",
       " 'followers_url': 'https://api.github.com/users/lizre/followers',\n",
       " 'following_url': 'https://api.github.com/users/lizre/following{/other_user}',\n",
       " 'gists_url': 'https://api.github.com/users/lizre/gists{/gist_id}',\n",
       " 'starred_url': 'https://api.github.com/users/lizre/starred{/owner}{/repo}',\n",
       " 'subscriptions_url': 'https://api.github.com/users/lizre/subscriptions',\n",
       " 'organizations_url': 'https://api.github.com/users/lizre/orgs',\n",
       " 'repos_url': 'https://api.github.com/users/lizre/repos',\n",
       " 'events_url': 'https://api.github.com/users/lizre/events{/privacy}',\n",
       " 'received_events_url': 'https://api.github.com/users/lizre/received_events',\n",
       " 'type': 'User',\n",
       " 'site_admin': True,\n",
       " 'name': 'lizzie redford',\n",
       " 'company': None,\n",
       " 'blog': 'lizredford.weebly.com',\n",
       " 'location': 'Florida, USA',\n",
       " 'email': None,\n",
       " 'hireable': None,\n",
       " 'bio': None,\n",
       " 'twitter_username': None,\n",
       " 'public_repos': 18,\n",
       " 'public_gists': 0,\n",
       " 'followers': 17,\n",
       " 'following': 23,\n",
       " 'created_at': '2018-04-02T15:50:27Z',\n",
       " 'updated_at': '2023-11-09T20:16:03Z'}"
      ]
     },
     "execution_count": 30,
     "metadata": {},
     "output_type": "execute_result"
    }
   ],
   "source": [
    "response.json()"
   ]
  },
  {
   "cell_type": "markdown",
   "id": "a11fff45",
   "metadata": {},
   "source": [
    "### Wait, isnt that just a dictionary?"
   ]
  },
  {
   "cell_type": "markdown",
   "id": "dc5e6bee",
   "metadata": {},
   "source": [
    "Yes!"
   ]
  },
  {
   "cell_type": "code",
   "execution_count": 32,
   "id": "dc335fb9",
   "metadata": {},
   "outputs": [
    {
     "data": {
      "text/plain": [
       "dict"
      ]
     },
     "execution_count": 32,
     "metadata": {},
     "output_type": "execute_result"
    }
   ],
   "source": [
    "type(response.json())"
   ]
  },
  {
   "cell_type": "markdown",
   "id": "9f003c5b",
   "metadata": {},
   "source": [
    "`response.json()` method in `requests` library parses the response and converts it into a Python data structure, typically a dictionary (or a list if the JSON data is an array.\n"
   ]
  },
  {
   "cell_type": "code",
   "execution_count": null,
   "id": "df011ed1",
   "metadata": {},
   "outputs": [],
   "source": []
  },
  {
   "cell_type": "markdown",
   "id": "e1250e3b",
   "metadata": {},
   "source": [
    "### JSON is the only format you can actually work with / access pieces of.\n",
    "\n",
    "#### In two ways:"
   ]
  },
  {
   "cell_type": "code",
   "execution_count": 23,
   "id": "3d01696a",
   "metadata": {},
   "outputs": [
    {
     "data": {
      "text/plain": [
       "'application/json; charset=utf-8'"
      ]
     },
     "execution_count": 23,
     "metadata": {},
     "output_type": "execute_result"
    }
   ],
   "source": [
    "response.headers['Content-Type']"
   ]
  },
  {
   "cell_type": "markdown",
   "id": "3e39bbfb",
   "metadata": {},
   "source": [
    "will raise a KeyError if the 'Content-Type' header is not present in the response."
   ]
  },
  {
   "cell_type": "code",
   "execution_count": 24,
   "id": "5e011a85",
   "metadata": {},
   "outputs": [
    {
     "data": {
      "text/plain": [
       "'application/json; charset=utf-8'"
      ]
     },
     "execution_count": 24,
     "metadata": {},
     "output_type": "execute_result"
    }
   ],
   "source": [
    "response.headers.get('Content-Type')"
   ]
  },
  {
   "cell_type": "markdown",
   "id": "722039ea",
   "metadata": {},
   "source": [
    "will return None if the 'Content-Type' header is not present. "
   ]
  },
  {
   "cell_type": "markdown",
   "id": "f4789f80",
   "metadata": {},
   "source": [
    "#### You can't access parts of it when it's a string:"
   ]
  },
  {
   "cell_type": "code",
   "execution_count": 35,
   "id": "6bf44210",
   "metadata": {
    "scrolled": true
   },
   "outputs": [
    {
     "ename": "AttributeError",
     "evalue": "'str' object has no attribute 'get'",
     "output_type": "error",
     "traceback": [
      "\u001b[0;31m---------------------------------------------------------------------------\u001b[0m",
      "\u001b[0;31mAttributeError\u001b[0m                            Traceback (most recent call last)",
      "Cell \u001b[0;32mIn[35], line 1\u001b[0m\n\u001b[0;32m----> 1\u001b[0m \u001b[43mresponse\u001b[49m\u001b[38;5;241;43m.\u001b[39;49m\u001b[43mtext\u001b[49m\u001b[38;5;241;43m.\u001b[39;49m\u001b[43mget\u001b[49m(\u001b[38;5;124m'\u001b[39m\u001b[38;5;124mlogin\u001b[39m\u001b[38;5;124m'\u001b[39m)\n",
      "\u001b[0;31mAttributeError\u001b[0m: 'str' object has no attribute 'get'"
     ]
    }
   ],
   "source": [
    "response.text.get('login')"
   ]
  },
  {
   "cell_type": "code",
   "execution_count": 36,
   "id": "20c9242d",
   "metadata": {},
   "outputs": [
    {
     "ename": "TypeError",
     "evalue": "string indices must be integers, not 'str'",
     "output_type": "error",
     "traceback": [
      "\u001b[0;31m---------------------------------------------------------------------------\u001b[0m",
      "\u001b[0;31mTypeError\u001b[0m                                 Traceback (most recent call last)",
      "Cell \u001b[0;32mIn[36], line 1\u001b[0m\n\u001b[0;32m----> 1\u001b[0m \u001b[43mresponse\u001b[49m\u001b[38;5;241;43m.\u001b[39;49m\u001b[43mtext\u001b[49m\u001b[43m[\u001b[49m\u001b[38;5;124;43m'\u001b[39;49m\u001b[38;5;124;43mlogin\u001b[39;49m\u001b[38;5;124;43m'\u001b[39;49m\u001b[43m]\u001b[49m\n",
      "\u001b[0;31mTypeError\u001b[0m: string indices must be integers, not 'str'"
     ]
    }
   ],
   "source": [
    "response.text['login']"
   ]
  },
  {
   "cell_type": "markdown",
   "id": "4a108d68",
   "metadata": {},
   "source": [
    "### If can't access pieces of string, why use string at all?\n",
    "\n",
    "the reason is so it can be transmitted across the network in a http request.\n",
    "- APIs can only transmit a byte representation of a string. \n",
    "- this is because bytes are universal, efficient, simple and compatible. json is not. also non-text (like images) can only be as bytes.\n"
   ]
  },
  {
   "cell_type": "markdown",
   "id": "85ee7993",
   "metadata": {},
   "source": [
    "That's why you also get the response as _bytes_:"
   ]
  },
  {
   "cell_type": "code",
   "execution_count": 39,
   "id": "10e5a781",
   "metadata": {
    "scrolled": false
   },
   "outputs": [
    {
     "data": {
      "text/plain": [
       "b'{\"login\":\"lizre\",\"id\":38010821,\"node_id\":\"MDQ6VXNlcjM4MDEwODIx\",\"avatar_url\":\"https://avatars.githubusercontent.com/u/38010821?v=4\",\"gravatar_id\":\"\",\"url\":\"https://api.github.com/users/lizre\",\"html_url\":\"https://github.com/lizre\",\"followers_url\":\"https://api.github.com/users/lizre/followers\",\"following_url\":\"https://api.github.com/users/lizre/following{/other_user}\",\"gists_url\":\"https://api.github.com/users/lizre/gists{/gist_id}\",\"starred_url\":\"https://api.github.com/users/lizre/starred{/owner}{/repo}\",\"subscriptions_url\":\"https://api.github.com/users/lizre/subscriptions\",\"organizations_url\":\"https://api.github.com/users/lizre/orgs\",\"repos_url\":\"https://api.github.com/users/lizre/repos\",\"events_url\":\"https://api.github.com/users/lizre/events{/privacy}\",\"received_events_url\":\"https://api.github.com/users/lizre/received_events\",\"type\":\"User\",\"site_admin\":true,\"name\":\"lizzie redford\",\"company\":null,\"blog\":\"lizredford.weebly.com\",\"location\":\"Florida, USA\",\"email\":null,\"hireable\":null,\"bio\":null,\"twitter_username\":null,\"public_repos\":18,\"public_gists\":0,\"followers\":17,\"following\":23,\"created_at\":\"2018-04-02T15:50:27Z\",\"updated_at\":\"2023-11-09T20:16:03Z\"}'"
      ]
     },
     "execution_count": 39,
     "metadata": {},
     "output_type": "execute_result"
    }
   ],
   "source": [
    "response.content"
   ]
  },
  {
   "cell_type": "markdown",
   "id": "c76ed40f",
   "metadata": {},
   "source": [
    "### You need to work with byte format if you _stream_"
   ]
  },
  {
   "cell_type": "markdown",
   "id": "b803eaa7",
   "metadata": {},
   "source": [
    "- If you _stream_ an http response, you will _only_ get bytes, not string or json. \n",
    "- You would stream if you want _chunks_ as they become available, instead of waiting for the complete response."
   ]
  },
  {
   "cell_type": "code",
   "execution_count": 60,
   "id": "f4bece4c",
   "metadata": {},
   "outputs": [
    {
     "data": {
      "text/plain": [
       "<Response [200]>"
      ]
     },
     "execution_count": 60,
     "metadata": {},
     "output_type": "execute_result"
    }
   ],
   "source": [
    "response = requests.get(url = \"https://api.github.com/users/lizre\", stream = True)\n",
    "response"
   ]
  },
  {
   "cell_type": "markdown",
   "id": "9a5ffcfe",
   "metadata": {},
   "source": [
    "#### How to get chunks, formatted as bytes, back to string? \n",
    "\n",
    "utf-8 (Unicode Transformation Format - 8-bit) translates between characters and bytes:\n"
   ]
  },
  {
   "cell_type": "code",
   "execution_count": 52,
   "id": "c44db9d1",
   "metadata": {},
   "outputs": [
    {
     "data": {
      "text/plain": [
       "'{\"login\":\"lizre\",\"id\":38010821,\"node_id\":\"MDQ6VXNlcjM4MDEwODIx\",\"avatar_url\":\"https://avatars.githubusercontent.com/u/38010821?v=4\",\"gravatar_id\":\"\",\"url\":\"https://api.github.com/users/lizre\",\"html_url\":\"https://github.com/lizre\",\"followers_url\":\"https://api.github.com/users/lizre/followers\",\"following_url\":\"https://api.github.com/users/lizre/following{/other_user}\",\"gists_url\":\"https://api.github.com/users/lizre/gists{/gist_id}\",\"starred_url\":\"https://api.github.com/users/lizre/starred{/owner}{/repo}\",\"subscriptions_url\":\"https://api.github.com/users/lizre/subscriptions\",\"organizations_url\":\"https://api.github.com/users/lizre/orgs\",\"repos_url\":\"https://api.github.com/users/lizre/repos\",\"events_url\":\"https://api.github.com/users/lizre/events{/privacy}\",\"received_events_url\":\"https://api.github.com/users/lizre/received_events\",\"type\":\"User\",\"site_admin\":true,\"name\":\"lizzie redford\",\"company\":null,\"blog\":\"lizredford.weebly.com\",\"location\":\"Florida, USA\",\"email\":null,\"hireable\":null,\"bio\":null,\"twitter_username\":null,\"public_repos\":18,\"public_gists\":0,\"followers\":17,\"following\":23,\"created_at\":\"2018-04-02T15:50:27Z\",\"updated_at\":\"2023-11-09T20:16:03Z\"}'"
      ]
     },
     "execution_count": 52,
     "metadata": {},
     "output_type": "execute_result"
    }
   ],
   "source": [
    "response.content.decode(\"utf-8\")"
   ]
  },
  {
   "cell_type": "markdown",
   "id": "453684ec",
   "metadata": {},
   "source": [
    "# So strings are for transmission, JSON is for using and accessing values, and bytes are for streaming. How to converting between them?\n"
   ]
  },
  {
   "cell_type": "markdown",
   "id": "d9d32cb0",
   "metadata": {},
   "source": [
    "String to a native object: deserialization\n",
    "\n",
    "JSON string to a dictionary using json.loads()."
   ]
  },
  {
   "cell_type": "code",
   "execution_count": null,
   "id": "9e4ccc8e",
   "metadata": {},
   "outputs": [],
   "source": []
  },
  {
   "cell_type": "markdown",
   "id": "d34c1ba5",
   "metadata": {},
   "source": [
    "Native object to a string: serialization or stringification."
   ]
  },
  {
   "cell_type": "code",
   "execution_count": null,
   "id": "bd73f129",
   "metadata": {},
   "outputs": [],
   "source": [
    "json.dumps()"
   ]
  },
  {
   "cell_type": "markdown",
   "id": "3ca050b1",
   "metadata": {},
   "source": [
    "when converting to json you can get `Jsondecodeerror`"
   ]
  },
  {
   "cell_type": "code",
   "execution_count": null,
   "id": "3a0554ca",
   "metadata": {},
   "outputs": [],
   "source": [
    "Jsondecodeerror: Expecting value: line 1 column 2 (chaar 2) is when json decoder is excpecting a value for a key but not finding it.but usually means you dont actually have json.\n",
    "Like “[DONE]” will throw, even tho no key, not just no value.\n",
    " Json dumps vs loads and get and response.text\n",
    "Response.content is as bytes, like for images\n"
   ]
  },
  {
   "cell_type": "code",
   "execution_count": null,
   "id": "06987de5",
   "metadata": {},
   "outputs": [],
   "source": []
  },
  {
   "cell_type": "code",
   "execution_count": null,
   "id": "d8817502",
   "metadata": {},
   "outputs": [],
   "source": []
  },
  {
   "cell_type": "markdown",
   "id": "e5b8f6e7",
   "metadata": {},
   "source": [
    "# Misc"
   ]
  },
  {
   "cell_type": "code",
   "execution_count": null,
   "id": "38ee44b7",
   "metadata": {},
   "outputs": [],
   "source": [
    "\n",
    "lines = response.text.splitlines()\n",
    "\n",
    "for line in lines:\n",
    "    if line.startswith('data: ') and \"[DONE]\" not in line and \"finish_reason\" in line:\n",
    "        json_str = line[5:]  # Remove 'data: ' prefix; its irrelevant and cant be parsed as json\n",
    "        json_obj = json.loads(json_str) # make the string be json\n",
    "        finish_reason = choice.get(\"finish_reason\", \"\")\n",
    "        print(finish_reason)\n",
    "\n",
    "\n",
    "\n"
   ]
  },
  {
   "cell_type": "code",
   "execution_count": null,
   "id": "9e3a17b9",
   "metadata": {},
   "outputs": [],
   "source": []
  },
  {
   "cell_type": "code",
   "execution_count": null,
   "id": "57b25f06",
   "metadata": {},
   "outputs": [],
   "source": []
  },
  {
   "cell_type": "code",
   "execution_count": null,
   "id": "9c1bef63",
   "metadata": {},
   "outputs": [],
   "source": []
  },
  {
   "cell_type": "code",
   "execution_count": null,
   "id": "0f89a30b",
   "metadata": {},
   "outputs": [],
   "source": []
  },
  {
   "cell_type": "code",
   "execution_count": null,
   "id": "6f0922fe",
   "metadata": {},
   "outputs": [],
   "source": []
  }
 ],
 "metadata": {
  "kernelspec": {
   "display_name": "Python 3 (ipykernel)",
   "language": "python",
   "name": "python3"
  },
  "language_info": {
   "codemirror_mode": {
    "name": "ipython",
    "version": 3
   },
   "file_extension": ".py",
   "mimetype": "text/x-python",
   "name": "python",
   "nbconvert_exporter": "python",
   "pygments_lexer": "ipython3",
   "version": "3.11.3"
  }
 },
 "nbformat": 4,
 "nbformat_minor": 5
}
