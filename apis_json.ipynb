{
 "cells": [
  {
   "cell_type": "markdown",
   "id": "869e6653",
   "metadata": {},
   "source": [
    "# APIs"
   ]
  },
  {
   "cell_type": "code",
   "execution_count": 13,
   "id": "58d5c1aa",
   "metadata": {
    "scrolled": true
   },
   "outputs": [],
   "source": [
    "import requests\n",
    "\n",
    "response = requests.get(\"https://api.github.com/users/lizre\")\n"
   ]
  },
  {
   "cell_type": "markdown",
   "id": "0d7a2425",
   "metadata": {},
   "source": [
    "# All the things you get back"
   ]
  },
  {
   "cell_type": "code",
   "execution_count": 17,
   "id": "eb61b67d",
   "metadata": {},
   "outputs": [
    {
     "data": {
      "text/plain": [
       "200"
      ]
     },
     "execution_count": 17,
     "metadata": {},
     "output_type": "execute_result"
    }
   ],
   "source": [
    "response.status_code"
   ]
  },
  {
   "cell_type": "markdown",
   "id": "56e3df8e",
   "metadata": {},
   "source": [
    "for no good reason, the developers of the \"requests\" package chose to make this only return the status code:"
   ]
  },
  {
   "cell_type": "code",
   "execution_count": 14,
   "id": "7f5ef874",
   "metadata": {},
   "outputs": [
    {
     "data": {
      "text/plain": [
       "<Response [200]>"
      ]
     },
     "execution_count": 14,
     "metadata": {},
     "output_type": "execute_result"
    }
   ],
   "source": [
    "response"
   ]
  },
  {
   "cell_type": "markdown",
   "id": "fcc8f167",
   "metadata": {},
   "source": [
    "headers are metadata about the response, such as its content type, length, encoding."
   ]
  },
  {
   "cell_type": "code",
   "execution_count": null,
   "id": "6a645399",
   "metadata": {},
   "outputs": [],
   "source": [
    "response.headers"
   ]
  },
  {
   "cell_type": "markdown",
   "id": "e7ac44b7",
   "metadata": {},
   "source": [
    "response content as bytes (useful if its images)"
   ]
  },
  {
   "cell_type": "code",
   "execution_count": 16,
   "id": "d73122ee",
   "metadata": {
    "scrolled": false
   },
   "outputs": [
    {
     "data": {
      "text/plain": [
       "b'{\"login\":\"lizre\",\"id\":38010821,\"node_id\":\"MDQ6VXNlcjM4MDEwODIx\",\"avatar_url\":\"https://avatars.githubusercontent.com/u/38010821?v=4\",\"gravatar_id\":\"\",\"url\":\"https://api.github.com/users/lizre\",\"html_url\":\"https://github.com/lizre\",\"followers_url\":\"https://api.github.com/users/lizre/followers\",\"following_url\":\"https://api.github.com/users/lizre/following{/other_user}\",\"gists_url\":\"https://api.github.com/users/lizre/gists{/gist_id}\",\"starred_url\":\"https://api.github.com/users/lizre/starred{/owner}{/repo}\",\"subscriptions_url\":\"https://api.github.com/users/lizre/subscriptions\",\"organizations_url\":\"https://api.github.com/users/lizre/orgs\",\"repos_url\":\"https://api.github.com/users/lizre/repos\",\"events_url\":\"https://api.github.com/users/lizre/events{/privacy}\",\"received_events_url\":\"https://api.github.com/users/lizre/received_events\",\"type\":\"User\",\"site_admin\":true,\"name\":\"lizzie redford\",\"company\":null,\"blog\":\"lizredford.weebly.com\",\"location\":\"Florida, USA\",\"email\":null,\"hireable\":null,\"bio\":null,\"twitter_username\":null,\"public_repos\":18,\"public_gists\":0,\"followers\":17,\"following\":23,\"created_at\":\"2018-04-02T15:50:27Z\",\"updated_at\":\"2023-11-09T20:16:03Z\"}'"
      ]
     },
     "execution_count": 16,
     "metadata": {},
     "output_type": "execute_result"
    }
   ],
   "source": [
    "response.content\n"
   ]
  },
  {
   "cell_type": "markdown",
   "id": "7b98db80",
   "metadata": {},
   "source": [
    "response content as a string"
   ]
  },
  {
   "cell_type": "code",
   "execution_count": 27,
   "id": "d2ee5cce",
   "metadata": {
    "scrolled": true
   },
   "outputs": [
    {
     "data": {
      "text/plain": [
       "'{\"login\":\"lizre\",\"id\":38010821,\"node_id\":\"MDQ6VXNlcjM4MDEwODIx\",\"avatar_url\":\"https://avatars.githubusercontent.com/u/38010821?v=4\",\"gravatar_id\":\"\",\"url\":\"https://api.github.com/users/lizre\",\"html_url\":\"https://github.com/lizre\",\"followers_url\":\"https://api.github.com/users/lizre/followers\",\"following_url\":\"https://api.github.com/users/lizre/following{/other_user}\",\"gists_url\":\"https://api.github.com/users/lizre/gists{/gist_id}\",\"starred_url\":\"https://api.github.com/users/lizre/starred{/owner}{/repo}\",\"subscriptions_url\":\"https://api.github.com/users/lizre/subscriptions\",\"organizations_url\":\"https://api.github.com/users/lizre/orgs\",\"repos_url\":\"https://api.github.com/users/lizre/repos\",\"events_url\":\"https://api.github.com/users/lizre/events{/privacy}\",\"received_events_url\":\"https://api.github.com/users/lizre/received_events\",\"type\":\"User\",\"site_admin\":true,\"name\":\"lizzie redford\",\"company\":null,\"blog\":\"lizredford.weebly.com\",\"location\":\"Florida, USA\",\"email\":null,\"hireable\":null,\"bio\":null,\"twitter_username\":null,\"public_repos\":18,\"public_gists\":0,\"followers\":17,\"following\":23,\"created_at\":\"2018-04-02T15:50:27Z\",\"updated_at\":\"2023-11-09T20:16:03Z\"}'"
      ]
     },
     "execution_count": 27,
     "metadata": {},
     "output_type": "execute_result"
    }
   ],
   "source": [
    "response.text"
   ]
  },
  {
   "cell_type": "markdown",
   "id": "c56553f2",
   "metadata": {},
   "source": [
    "# What is json"
   ]
  },
  {
   "cell_type": "code",
   "execution_count": null,
   "id": "6cf5542d",
   "metadata": {},
   "outputs": [],
   "source": [
    "https://developer.mozilla.org/en-US/docs/Learn/JavaScript/Objects/JSON"
   ]
  },
  {
   "cell_type": "markdown",
   "id": "07c13223",
   "metadata": {},
   "source": [
    "JavaScript Object Notation\n"
   ]
  },
  {
   "cell_type": "markdown",
   "id": "37cc89d0",
   "metadata": {},
   "source": [
    "# JSON string vs native JSON object"
   ]
  },
  {
   "cell_type": "markdown",
   "id": "17d38ba6",
   "metadata": {},
   "source": [
    "A JSON string is a string representation of a JSON object, formatted according to the JSON (JavaScript Object Notation) standard.\n",
    "\n",
    "See the quotes (`'`) around it?"
   ]
  },
  {
   "cell_type": "code",
   "execution_count": 28,
   "id": "85b38e93",
   "metadata": {
    "scrolled": true
   },
   "outputs": [
    {
     "data": {
      "text/plain": [
       "'{\"login\":\"lizre\",\"id\":38010821,\"node_id\":\"MDQ6VXNlcjM4MDEwODIx\",\"avatar_url\":\"https://avatars.githubusercontent.com/u/38010821?v=4\",\"gravatar_id\":\"\",\"url\":\"https://api.github.com/users/lizre\",\"html_url\":\"https://github.com/lizre\",\"followers_url\":\"https://api.github.com/users/lizre/followers\",\"following_url\":\"https://api.github.com/users/lizre/following{/other_user}\",\"gists_url\":\"https://api.github.com/users/lizre/gists{/gist_id}\",\"starred_url\":\"https://api.github.com/users/lizre/starred{/owner}{/repo}\",\"subscriptions_url\":\"https://api.github.com/users/lizre/subscriptions\",\"organizations_url\":\"https://api.github.com/users/lizre/orgs\",\"repos_url\":\"https://api.github.com/users/lizre/repos\",\"events_url\":\"https://api.github.com/users/lizre/events{/privacy}\",\"received_events_url\":\"https://api.github.com/users/lizre/received_events\",\"type\":\"User\",\"site_admin\":true,\"name\":\"lizzie redford\",\"company\":null,\"blog\":\"lizredford.weebly.com\",\"location\":\"Florida, USA\",\"email\":null,\"hireable\":null,\"bio\":null,\"twitter_username\":null,\"public_repos\":18,\"public_gists\":0,\"followers\":17,\"following\":23,\"created_at\":\"2018-04-02T15:50:27Z\",\"updated_at\":\"2023-11-09T20:16:03Z\"}'"
      ]
     },
     "execution_count": 28,
     "metadata": {},
     "output_type": "execute_result"
    }
   ],
   "source": [
    "response.text"
   ]
  },
  {
   "cell_type": "code",
   "execution_count": null,
   "id": "8a1e6d2a",
   "metadata": {},
   "outputs": [],
   "source": [
    "A native JavaScript object, on the other hand, is an instance of the Object data type in JavaScript. It's a collection of properties, where each property is a key-value pair. Keys are always strings, and values can be any data type.\n",
    "\n"
   ]
  },
  {
   "cell_type": "code",
   "execution_count": null,
   "id": "25315556",
   "metadata": {},
   "outputs": [],
   "source": [
    "response.json()"
   ]
  },
  {
   "cell_type": "code",
   "execution_count": null,
   "id": "12521dc6",
   "metadata": {},
   "outputs": [],
   "source": [
    "Converting a string to a native object is called deserialization, while converting a native object to a string so it can be transmitted across the network is called serialization."
   ]
  },
  {
   "cell_type": "markdown",
   "id": "63cbd6b4",
   "metadata": {},
   "source": [
    "# vs dictionary?"
   ]
  },
  {
   "cell_type": "code",
   "execution_count": null,
   "id": "67f3e854",
   "metadata": {},
   "outputs": [],
   "source": []
  },
  {
   "cell_type": "markdown",
   "id": "b767ed8d",
   "metadata": {},
   "source": [
    "# Using pieces of that stuff"
   ]
  },
  {
   "cell_type": "markdown",
   "id": "f5fea34c",
   "metadata": {},
   "source": [
    "### Two ways"
   ]
  },
  {
   "cell_type": "markdown",
   "id": "e99ca636",
   "metadata": {},
   "source": [
    "will raise a KeyError if the 'Content-Type' header is not present in the response."
   ]
  },
  {
   "cell_type": "code",
   "execution_count": 23,
   "id": "bde94715",
   "metadata": {},
   "outputs": [
    {
     "data": {
      "text/plain": [
       "'application/json; charset=utf-8'"
      ]
     },
     "execution_count": 23,
     "metadata": {},
     "output_type": "execute_result"
    }
   ],
   "source": [
    "response.headers['Content-Type']"
   ]
  },
  {
   "cell_type": "markdown",
   "id": "a1ee9783",
   "metadata": {},
   "source": [
    "will return None if the 'Content-Type' header is not present. "
   ]
  },
  {
   "cell_type": "code",
   "execution_count": 24,
   "id": "77fb5fb1",
   "metadata": {},
   "outputs": [
    {
     "data": {
      "text/plain": [
       "'application/json; charset=utf-8'"
      ]
     },
     "execution_count": 24,
     "metadata": {},
     "output_type": "execute_result"
    }
   ],
   "source": [
    "response.headers.get('Content-Type')"
   ]
  },
  {
   "cell_type": "code",
   "execution_count": null,
   "id": "9bfb8d67",
   "metadata": {},
   "outputs": [],
   "source": []
  },
  {
   "cell_type": "code",
   "execution_count": null,
   "id": "ca0142ed",
   "metadata": {},
   "outputs": [],
   "source": []
  },
  {
   "cell_type": "code",
   "execution_count": null,
   "id": "7ce512d4",
   "metadata": {},
   "outputs": [],
   "source": []
  },
  {
   "cell_type": "code",
   "execution_count": 25,
   "id": "85b1bcfb",
   "metadata": {},
   "outputs": [
    {
     "ename": "AttributeError",
     "evalue": "'str' object has no attribute 'get'",
     "output_type": "error",
     "traceback": [
      "\u001b[0;31m---------------------------------------------------------------------------\u001b[0m",
      "\u001b[0;31mAttributeError\u001b[0m                            Traceback (most recent call last)",
      "Cell \u001b[0;32mIn[25], line 1\u001b[0m\n\u001b[0;32m----> 1\u001b[0m \u001b[43mresponse\u001b[49m\u001b[38;5;241;43m.\u001b[39;49m\u001b[43mtext\u001b[49m\u001b[38;5;241;43m.\u001b[39;49m\u001b[43mget\u001b[49m(\u001b[38;5;124m'\u001b[39m\u001b[38;5;124mlogin\u001b[39m\u001b[38;5;124m'\u001b[39m)\n",
      "\u001b[0;31mAttributeError\u001b[0m: 'str' object has no attribute 'get'"
     ]
    }
   ],
   "source": [
    "response.text.get('login')"
   ]
  },
  {
   "cell_type": "code",
   "execution_count": 26,
   "id": "11c2eba3",
   "metadata": {},
   "outputs": [
    {
     "data": {
      "text/plain": [
       "'lizre'"
      ]
     },
     "execution_count": 26,
     "metadata": {},
     "output_type": "execute_result"
    }
   ],
   "source": [
    "response.json().get('login')\n",
    "\n",
    "\n"
   ]
  },
  {
   "cell_type": "code",
   "execution_count": null,
   "id": "0de0b138",
   "metadata": {},
   "outputs": [],
   "source": []
  },
  {
   "cell_type": "code",
   "execution_count": null,
   "id": "7dba07fa",
   "metadata": {},
   "outputs": [],
   "source": []
  },
  {
   "cell_type": "code",
   "execution_count": null,
   "id": "0493c39d",
   "metadata": {},
   "outputs": [],
   "source": []
  },
  {
   "cell_type": "markdown",
   "id": "66ff5489",
   "metadata": {},
   "source": [
    "# Formats: lists, dicts, strings"
   ]
  },
  {
   "cell_type": "code",
   "execution_count": null,
   "id": "d937d7f1",
   "metadata": {},
   "outputs": [],
   "source": []
  },
  {
   "cell_type": "code",
   "execution_count": null,
   "id": "3361571e",
   "metadata": {},
   "outputs": [],
   "source": [
    "\n",
    "lines = response.text.splitlines()\n",
    "\n",
    "for line in lines:\n",
    "    if line.startswith('data: ') and \"[DONE]\" not in line and \"finish_reason\" in line:\n",
    "        json_str = line[5:]  # Remove 'data: ' prefix; its irrelevant and cant be parsed as json\n",
    "        json_obj = json.loads(json_str) # make the string be json\n",
    "        finish_reason = choice.get(\"finish_reason\", \"\")\n",
    "        print(finish_reason)\n",
    "\n",
    "\n",
    "\n"
   ]
  },
  {
   "cell_type": "code",
   "execution_count": null,
   "id": "b3fbd723",
   "metadata": {},
   "outputs": [],
   "source": [
    "Jsondecodeerror: Expecting value: line 1 column 2 (chaar 2) is when json decoder is excpecting a value for a key but not finding it.but usually means you dont actually have json.\n",
    "Like “[DONE]” will throw, even tho no key, not just no value.\n",
    " Json dumps vs loads and get and response.text\n",
    "Response.content is as bytes, like for images\n"
   ]
  },
  {
   "cell_type": "code",
   "execution_count": null,
   "id": "dbcd38f0",
   "metadata": {},
   "outputs": [],
   "source": [
    "response.text\n",
    "    \n",
    "\n",
    "    # 'application/json'"
   ]
  },
  {
   "cell_type": "code",
   "execution_count": null,
   "id": "a801e9c1",
   "metadata": {},
   "outputs": [],
   "source": []
  },
  {
   "cell_type": "code",
   "execution_count": null,
   "id": "d6e1c1df",
   "metadata": {},
   "outputs": [],
   "source": []
  }
 ],
 "metadata": {
  "kernelspec": {
   "display_name": "Python 3 (ipykernel)",
   "language": "python",
   "name": "python3"
  },
  "language_info": {
   "codemirror_mode": {
    "name": "ipython",
    "version": 3
   },
   "file_extension": ".py",
   "mimetype": "text/x-python",
   "name": "python",
   "nbconvert_exporter": "python",
   "pygments_lexer": "ipython3",
   "version": "3.11.3"
  }
 },
 "nbformat": 4,
 "nbformat_minor": 5
}
