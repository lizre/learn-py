{
 "cells": [
  {
   "cell_type": "markdown",
   "id": "869e6653",
   "metadata": {},
   "source": [
    "# Strong typing"
   ]
  },
  {
   "cell_type": "markdown",
   "id": "65d235ca",
   "metadata": {},
   "source": [
    "```\n",
    "int i = 3; string s = \"4\"\n",
    "s + n;          <-- Type error.\n",
    "```"
   ]
  },
  {
   "cell_type": "markdown",
   "id": "6505516c",
   "metadata": {},
   "source": [
    "- each col has a type, and restricts the operations on which two variables \n",
    "of a different type can be performed\n",
    "- no implicit type conversion\n",
    "- so strongness is determined by how its primitives and library functions respond to different types. E.g., in python `+` is overloaded so that it works on two numbers or two strings, but not a string and an number. \n",
    "- Less flex, but always explicit and produce expected results.\n",
    "\n",
    "### strong static\n",
    " in static typed, have to declare types before assigning:\n",
    " ```\n",
    "int x; // declare step\n",
    "x = 4; // assign step\n",
    "```\n",
    "- ie, variables have a type.\n",
    "- SQL is strongly, statically typed.\n",
    "\n",
    "### strong dynamic\n",
    "interpreter does not assign a type to the _variable_ per se because the type can change (\"dynamic\" = \"changing\"). So variables don't have a type, but the objects/values they're assigned to do.\n",
    "\n"
   ]
  },
  {
   "cell_type": "code",
   "execution_count": 15,
   "id": "db4f1bc9",
   "metadata": {},
   "outputs": [
    {
     "name": "stdout",
     "output_type": "stream",
     "text": [
      "<class 'int'>\n"
     ]
    },
    {
     "data": {
      "text/plain": [
       "str"
      ]
     },
     "execution_count": 15,
     "metadata": {},
     "output_type": "execute_result"
    }
   ],
   "source": [
    "x = 12\n",
    "print(type(x)) # x points to an int\n",
    "x = \"str\"\n",
    "type(x) # now x points to a string"
   ]
  },
  {
   "cell_type": "markdown",
   "id": "1e80277c",
   "metadata": {},
   "source": [
    "- Python is strongly, dynamically typed.)"
   ]
  },
  {
   "cell_type": "markdown",
   "id": "02dd395c",
   "metadata": {},
   "source": [
    "\n",
    "\n",
    "# Weak typing\n",
    "\n",
    "### Less strong\n",
    "\n",
    "```\n",
    "int i = 3; string s = \"4\"\n",
    "s + (string)n;  <-- allowed with explicit type conversion\n",
    "```\n",
    "\n",
    "### Weak\n",
    "\n",
    "- Types are inferred. Using as i+s may will 7 if inferred as int, or 34 if inferred as string.\n",
    "- More flex, but can produce unexpected results.\n",
    "\n",
    "```\n",
    "int i = 3; string s = \"4\"\n",
    "s + n;  <-- allowed with implicit type conversion\n",
    "```\n",
    "\n",
    "\n",
    "# Type hinting\n"
   ]
  },
  {
   "cell_type": "code",
   "execution_count": 13,
   "id": "dc616e81",
   "metadata": {},
   "outputs": [
    {
     "name": "stdout",
     "output_type": "stream",
     "text": [
      "Test\n",
      "----\n"
     ]
    },
    {
     "data": {
      "text/plain": [
       "str"
      ]
     },
     "execution_count": 13,
     "metadata": {},
     "output_type": "execute_result"
    }
   ],
   "source": [
    "def text_format(text: str) -> str:\n",
    "    return f\"{text.title()}\\n{'-' * len(text)}\"\n",
    "print(text_format(\"test\"))\n",
    "type(text_format(\"test\"))"
   ]
  },
  {
   "cell_type": "markdown",
   "id": "b8002435",
   "metadata": {},
   "source": [
    "Type hints have no runtime effect: they are only hints and are not enforced:"
   ]
  },
  {
   "cell_type": "code",
   "execution_count": 11,
   "id": "6a5b1447",
   "metadata": {},
   "outputs": [
    {
     "name": "stdout",
     "output_type": "stream",
     "text": [
      "test\n"
     ]
    },
    {
     "data": {
      "text/plain": [
       "NoneType"
      ]
     },
     "execution_count": 11,
     "metadata": {},
     "output_type": "execute_result"
    }
   ],
   "source": [
    "def text_format(text: int) -> int:\n",
    "    print(text)\n",
    "type(text_format(\"test\"))"
   ]
  },
  {
   "cell_type": "markdown",
   "id": "6acfe8c8",
   "metadata": {},
   "source": [
    "# Strict typing with mypy"
   ]
  },
  {
   "cell_type": "code",
   "execution_count": 18,
   "id": "95eab8a0",
   "metadata": {},
   "outputs": [],
   "source": [
    "import mypy"
   ]
  },
  {
   "cell_type": "code",
   "execution_count": 26,
   "id": "72db630c",
   "metadata": {},
   "outputs": [],
   "source": [
    "!echo 12+\"str\" > mypy_test.py"
   ]
  },
  {
   "cell_type": "markdown",
   "id": "816614c6",
   "metadata": {},
   "source": [
    "mypy says not to use `+` with int and str:"
   ]
  },
  {
   "cell_type": "code",
   "execution_count": 27,
   "id": "ee4895cb",
   "metadata": {},
   "outputs": [
    {
     "name": "stdout",
     "output_type": "stream",
     "text": [
      "mypy_test.py:1: \u001b[1m\u001b[31merror:\u001b[m Unsupported operand types for + (\u001b[m\u001b[1m\"int\"\u001b[m and \u001b[m\u001b[1m\"Type[str]\"\u001b[m)\u001b[m\r\n",
      "\u001b[1m\u001b[31mFound 1 error in 1 file (checked 1 source file)\u001b[m\r\n"
     ]
    }
   ],
   "source": [
    "!mypy mypy_test.py"
   ]
  },
  {
   "cell_type": "markdown",
   "id": "10d827bc",
   "metadata": {},
   "source": [
    "\n",
    "\n",
    "\n",
    "\n",
    "\n",
    "\n",
    "# Resources\n",
    "[1](https://stackoverflow.com/questions/805168/what-is-a-strictly-typed-language#:~:text=Strictly%20typed%20languages%20enforce%20typing,methods%20that%20work%20with%20integers), [2](https://dev.to/icncsx/python-is-strongly-dynamically-typed-what-does-that-mean-5810), [3](https://stackoverflow.com/questions/11328920/is-python-strongly-typed), [4](https://realpython.com/python-type-checking/)"
   ]
  }
 ],
 "metadata": {
  "kernelspec": {
   "display_name": "Python 3 (ipykernel)",
   "language": "python",
   "name": "python3"
  },
  "language_info": {
   "codemirror_mode": {
    "name": "ipython",
    "version": 3
   },
   "file_extension": ".py",
   "mimetype": "text/x-python",
   "name": "python",
   "nbconvert_exporter": "python",
   "pygments_lexer": "ipython3",
   "version": "3.7.3"
  }
 },
 "nbformat": 4,
 "nbformat_minor": 5
}
