{
 "cells": [
  {
   "cell_type": "code",
   "execution_count": null,
   "id": "a1458a65",
   "metadata": {},
   "outputs": [],
   "source": [
    "# in a non-interactive env like azure ml, if you dont set this, itll kick off an endless interactive loop\n",
    "rpy2.robjects.r('options(repos = c(CRAN = \"https://cloud.r-project.org/\"))')\n",
    "\n",
    "import pandas as pd\n",
    "import rpy2\n",
    "import rpy2.robjects as robjects\n",
    "from rpy2.robjects.packages import importr, data\n",
    "\n",
    "utils = importr('utils') # importr is like \"library()\"\n",
    "base = importr('base')\n",
    "\n",
    "utils.install_packages('stats')\n",
    "stats = importr('stats')\n",
    "\n",
    "utils.install_packages('krippendorffsalpha')\n",
    "krippendorffsalpha = importr('krippendorffsalpha')\n",
    "\n",
    "utils.install_packages('dplyr')\n",
    "dplyr = importr('dplyr')\n",
    "\n",
    "\n",
    "#utils.install_packages('magrittr')\n",
    "jsonlite = importr('magrittr')"
   ]
  },
  {
   "cell_type": "code",
   "execution_count": null,
   "id": "1ad87593",
   "metadata": {},
   "outputs": [],
   "source": [
    "# any df you convert has to be only numeric, with no list or array elements\n",
    "\n",
    "import pandas as pd\n",
    "\n",
    "# Create a small DataFrame\n",
    "df = pd.DataFrame({\n",
    "    'A': [1, 2, 3],\n",
    "    'B': ['a', 'b', 'c'],\n",
    "    'C': [4.0, 5.0, 6.0]\n",
    "})\n",
    "\n",
    "print(df)\n",
    "\n",
    "from rpy2.robjects import pandas2ri\n",
    "\n",
    "# Assign the pandas DataFrame to a variable in the R environment\n",
    "pandas2ri.activate()\n",
    "robjects.globalenv['df'] = df\n"
   ]
  },
  {
   "cell_type": "code",
   "execution_count": null,
   "id": "a64cb4e1",
   "metadata": {},
   "outputs": [],
   "source": [
    "\n",
    "r_script = \"\"\"\n",
    "r_df <- as.data.frame(df_from_pipeline)\n",
    "mean(as.numeric(r_df$df_from_pipeline))\n",
    "\n",
    "\"\"\"\n",
    "r = robjects.r(r_script)\n",
    "print(r)"
   ]
  },
  {
   "cell_type": "code",
   "execution_count": null,
   "id": "149eb33b",
   "metadata": {},
   "outputs": [],
   "source": []
  }
 ],
 "metadata": {
  "kernelspec": {
   "display_name": "Python 3 (ipykernel)",
   "language": "python",
   "name": "python3"
  },
  "language_info": {
   "codemirror_mode": {
    "name": "ipython",
    "version": 3
   },
   "file_extension": ".py",
   "mimetype": "text/x-python",
   "name": "python",
   "nbconvert_exporter": "python",
   "pygments_lexer": "ipython3",
   "version": "3.11.3"
  }
 },
 "nbformat": 4,
 "nbformat_minor": 5
}
