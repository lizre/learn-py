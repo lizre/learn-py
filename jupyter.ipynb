{
 "cells": [
  {
   "cell_type": "markdown",
   "id": "869e6653",
   "metadata": {},
   "source": [
    "# Setup and get data"
   ]
  },
  {
   "cell_type": "code",
   "execution_count": 37,
   "id": "2a046825",
   "metadata": {},
   "outputs": [],
   "source": [
    "import pandas as pd\n",
    "import numpy as np\n",
    "import sklearn\n",
    "from sklearn import datasets\n",
    "import math\n",
    "iris = sklearn.datasets.load_iris()\n",
    "# convert to pandas df\n",
    "iris = pd.DataFrame(np.concatenate((iris.data, np.array([iris.target]).T), axis=1), \n",
    "                    columns=iris.feature_names + ['target'])\n",
    "# clean col names\n",
    "iris.columns = [c.replace(' ', '_') for c in iris.columns]\n",
    "iris.rename(columns={'sepal_length_(cm)': 'sepal_length', \n",
    "                     'sepal_width_(cm)': 'sepal_width', \n",
    "                     'petal_length_(cm)':  'petal_length',\n",
    "                     'petal_width_(cm)': 'petal_width'}, inplace=True)"
   ]
  },
  {
   "cell_type": "markdown",
   "id": "3b73dc2e",
   "metadata": {},
   "source": [
    "# Cell formatting"
   ]
  },
  {
   "cell_type": "markdown",
   "id": "0f13f55e",
   "metadata": {},
   "source": [
    "## Suppress scientific notation"
   ]
  },
  {
   "cell_type": "code",
   "execution_count": 38,
   "id": "1b7a2485",
   "metadata": {},
   "outputs": [
    {
     "name": "stdout",
     "output_type": "stream",
     "text": [
      "1.234879892321999e+17\n",
      "123487989999999991808.000\n"
     ]
    },
    {
     "data": {
      "text/plain": [
       "'123487989232199904.000'"
      ]
     },
     "execution_count": 38,
     "metadata": {},
     "output_type": "execute_result"
    }
   ],
   "source": [
    "num = 1234879892321999/.01\n",
    "print(num)\n",
    "print('{:.3f}'.format(1234879899999999999/.01))\n",
    "f'{num:.3f}'"
   ]
  },
  {
   "cell_type": "markdown",
   "id": "479ab1f8",
   "metadata": {},
   "source": [
    "When it's a pandas Series, use:"
   ]
  },
  {
   "cell_type": "code",
   "execution_count": 45,
   "id": "4cd477c5",
   "metadata": {},
   "outputs": [
    {
     "data": {
      "text/plain": [
       "0   0.00051\n",
       "1   0.00049\n",
       "2   0.00047\n",
       "Name: sepal_length, dtype: float64"
      ]
     },
     "execution_count": 45,
     "metadata": {},
     "output_type": "execute_result"
    }
   ],
   "source": [
    "pd.options.display.float_format = '{:.5f}'.format\n",
    "(iris['sepal_length']/10000)[0:3]"
   ]
  },
  {
   "cell_type": "code",
   "execution_count": 46,
   "id": "fb8bada5",
   "metadata": {},
   "outputs": [
    {
     "data": {
      "text/plain": [
       "0   0.00\n",
       "1   0.00\n",
       "2   0.00\n",
       "Name: sepal_length, dtype: float64"
      ]
     },
     "execution_count": 46,
     "metadata": {},
     "output_type": "execute_result"
    }
   ],
   "source": [
    "pd.set_option('display.float_format', lambda x: '%.2f' % x) # no scientific notation\n",
    "(iris['sepal_length']/10000)[0:3]\n"
   ]
  }
 ],
 "metadata": {
  "kernelspec": {
   "display_name": "Python 3 (ipykernel)",
   "language": "python",
   "name": "python3"
  },
  "language_info": {
   "codemirror_mode": {
    "name": "ipython",
    "version": 3
   },
   "file_extension": ".py",
   "mimetype": "text/x-python",
   "name": "python",
   "nbconvert_exporter": "python",
   "pygments_lexer": "ipython3",
   "version": "3.7.3"
  }
 },
 "nbformat": 4,
 "nbformat_minor": 5
}
