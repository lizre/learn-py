{
 "cells": [
  {
   "cell_type": "markdown",
   "id": "869e6653",
   "metadata": {},
   "source": [
    "# Setup and get data"
   ]
  },
  {
   "cell_type": "code",
   "execution_count": 37,
   "id": "2a046825",
   "metadata": {},
   "outputs": [],
   "source": [
    "import pandas as pd\n",
    "import numpy as np\n",
    "import sklearn\n",
    "from sklearn import datasets\n",
    "import math\n",
    "iris = sklearn.datasets.load_iris()\n",
    "# convert to pandas df\n",
    "iris = pd.DataFrame(np.concatenate((iris.data, np.array([iris.target]).T), axis=1), \n",
    "                    columns=iris.feature_names + ['target'])\n",
    "# clean col names\n",
    "iris.columns = [c.replace(' ', '_') for c in iris.columns]\n",
    "iris.rename(columns={'sepal_length_(cm)': 'sepal_length', \n",
    "                     'sepal_width_(cm)': 'sepal_width', \n",
    "                     'petal_length_(cm)':  'petal_length',\n",
    "                     'petal_width_(cm)': 'petal_width'}, inplace=True)"
   ]
  },
  {
   "cell_type": "markdown",
   "id": "3b73dc2e",
   "metadata": {},
   "source": [
    "# Cell formatting"
   ]
  },
  {
   "cell_type": "markdown",
   "id": "0f13f55e",
   "metadata": {},
   "source": [
    "## Suppress scientific notation"
   ]
  },
  {
   "cell_type": "code",
   "execution_count": 38,
   "id": "1b7a2485",
   "metadata": {},
   "outputs": [
    {
     "name": "stdout",
     "output_type": "stream",
     "text": [
      "1.234879892321999e+17\n",
      "123487989999999991808.000\n"
     ]
    },
    {
     "data": {
      "text/plain": [
       "'123487989232199904.000'"
      ]
     },
     "execution_count": 38,
     "metadata": {},
     "output_type": "execute_result"
    }
   ],
   "source": [
    "num = 1234879892321999/.01\n",
    "print(num)\n",
    "print('{:.3f}'.format(1234879899999999999/.01))\n",
    "f'{num:.3f}'"
   ]
  },
  {
   "cell_type": "markdown",
   "id": "479ab1f8",
   "metadata": {},
   "source": [
    "When it's a pandas Series, use:"
   ]
  },
  {
   "cell_type": "code",
   "execution_count": 45,
   "id": "4cd477c5",
   "metadata": {},
   "outputs": [
    {
     "data": {
      "text/plain": [
       "0   0.00051\n",
       "1   0.00049\n",
       "2   0.00047\n",
       "Name: sepal_length, dtype: float64"
      ]
     },
     "execution_count": 45,
     "metadata": {},
     "output_type": "execute_result"
    }
   ],
   "source": [
    "pd.options.display.float_format = '{:.5f}'.format\n",
    "(iris['sepal_length']/10000)[0:3]"
   ]
  },
  {
   "cell_type": "code",
   "execution_count": 46,
   "id": "fb8bada5",
   "metadata": {},
   "outputs": [
    {
     "data": {
      "text/plain": [
       "0   0.00\n",
       "1   0.00\n",
       "2   0.00\n",
       "Name: sepal_length, dtype: float64"
      ]
     },
     "execution_count": 46,
     "metadata": {},
     "output_type": "execute_result"
    }
   ],
   "source": [
    "pd.set_option('display.float_format', lambda x: '%.2f' % x) # no scientific notation\n",
    "(iris['sepal_length']/10000)[0:3]\n"
   ]
  },
  {
   "cell_type": "markdown",
   "id": "6e1d25a2",
   "metadata": {},
   "source": [
    "# Load magic functions"
   ]
  },
  {
   "cell_type": "code",
   "execution_count": 2,
   "id": "5e9f990a",
   "metadata": {},
   "outputs": [],
   "source": [
    "def add_three(input):\n",
    "    return input + 3"
   ]
  },
  {
   "cell_type": "markdown",
   "id": "4181d8f9",
   "metadata": {},
   "source": [
    "Let's run line profiler:"
   ]
  },
  {
   "cell_type": "code",
   "execution_count": 1,
   "id": "d3f198e3",
   "metadata": {},
   "outputs": [
    {
     "name": "stderr",
     "output_type": "stream",
     "text": [
      "UsageError: Line magic function `%lprun` not found.\n"
     ]
    }
   ],
   "source": [
    "%lprun -f add_three add_three(4)"
   ]
  },
  {
   "cell_type": "markdown",
   "id": "e15b93d9",
   "metadata": {},
   "source": [
    "For it to work, need to activate it:"
   ]
  },
  {
   "cell_type": "code",
   "execution_count": 3,
   "id": "834ac375",
   "metadata": {},
   "outputs": [],
   "source": [
    "%load_ext line_profiler"
   ]
  },
  {
   "cell_type": "code",
   "execution_count": 4,
   "id": "daf93f83",
   "metadata": {},
   "outputs": [],
   "source": [
    "%lprun -f add_three add_three(4)"
   ]
  }
 ],
 "metadata": {
  "kernelspec": {
   "display_name": "Python 3 (ipykernel)",
   "language": "python",
   "name": "python3"
  },
  "language_info": {
   "codemirror_mode": {
    "name": "ipython",
    "version": 3
   },
   "file_extension": ".py",
   "mimetype": "text/x-python",
   "name": "python",
   "nbconvert_exporter": "python",
   "pygments_lexer": "ipython3",
   "version": "3.7.3"
  }
 },
 "nbformat": 4,
 "nbformat_minor": 5
}
